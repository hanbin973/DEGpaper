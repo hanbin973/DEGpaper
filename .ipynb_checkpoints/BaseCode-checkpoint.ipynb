{
 "cells": [
  {
   "cell_type": "code",
   "execution_count": 498,
   "id": "efe3e613",
   "metadata": {},
   "outputs": [
    {
     "name": "stdout",
     "output_type": "stream",
     "text": [
      "The rpy2.ipython extension is already loaded. To reload it, use:\n",
      "  %reload_ext rpy2.ipython\n"
     ]
    }
   ],
   "source": [
    "# Load python packages\n",
    "import warnings\n",
    "\n",
    "warnings.filterwarnings(\"ignore\")\n",
    "\n",
    "import matplotlib.pyplot as plt\n",
    "import scanpy as sc\n",
    "import pandas as pd\n",
    "import numpy as np\n",
    "\n",
    "import rpy2.rinterface_lib.callbacks\n",
    "import anndata2ri\n",
    "import logging\n",
    "\n",
    "from rpy2.robjects import pandas2ri\n",
    "from rpy2.robjects import r\n",
    "\n",
    "sc.settings.verbosity = 0\n",
    "rpy2.rinterface_lib.callbacks.logger.setLevel(logging.ERROR)\n",
    "\n",
    "pandas2ri.activate()\n",
    "anndata2ri.activate()\n",
    "\n",
    "%load_ext rpy2.ipython"
   ]
  },
  {
   "cell_type": "code",
   "execution_count": 499,
   "id": "cc63580d",
   "metadata": {},
   "outputs": [],
   "source": [
    "%%R\n",
    "# Load R packages\n",
    "library(edgeR)\n",
    "library(DESeq2)\n",
    "library(limma)\n",
    "library(glmGamPoi)\n",
    "library(glmmTMB)\n",
    "library(nebula)\n",
    "library(fixest)"
   ]
  },
  {
   "cell_type": "code",
   "execution_count": 500,
   "id": "5d7db699",
   "metadata": {},
   "outputs": [
    {
     "data": {
      "text/html": [
       "<div>\n",
       "<style scoped>\n",
       "    .dataframe tbody tr th:only-of-type {\n",
       "        vertical-align: middle;\n",
       "    }\n",
       "\n",
       "    .dataframe tbody tr th {\n",
       "        vertical-align: top;\n",
       "    }\n",
       "\n",
       "    .dataframe thead th {\n",
       "        text-align: right;\n",
       "    }\n",
       "</style>\n",
       "<table border=\"1\" class=\"dataframe\">\n",
       "  <thead>\n",
       "    <tr style=\"text-align: right;\">\n",
       "      <th></th>\n",
       "      <th>n_genes</th>\n",
       "      <th>n_counts</th>\n",
       "      <th>orig_ident</th>\n",
       "      <th>stim</th>\n",
       "      <th>cluster</th>\n",
       "      <th>Donor</th>\n",
       "    </tr>\n",
       "    <tr>\n",
       "      <th>index</th>\n",
       "      <th></th>\n",
       "      <th></th>\n",
       "      <th></th>\n",
       "      <th></th>\n",
       "      <th></th>\n",
       "      <th></th>\n",
       "    </tr>\n",
       "  </thead>\n",
       "  <tbody>\n",
       "    <tr>\n",
       "      <th>CTRL_AAACATACATTTCC.1</th>\n",
       "      <td>878.0</td>\n",
       "      <td>3018.0</td>\n",
       "      <td>CTRL</td>\n",
       "      <td>CTRL</td>\n",
       "      <td>CD14 Mono</td>\n",
       "      <td>SNG-1016</td>\n",
       "    </tr>\n",
       "    <tr>\n",
       "      <th>CTRL_AAACATACCAGAAA.1</th>\n",
       "      <td>713.0</td>\n",
       "      <td>2481.0</td>\n",
       "      <td>CTRL</td>\n",
       "      <td>CTRL</td>\n",
       "      <td>CD14 Mono</td>\n",
       "      <td>SNG-1256</td>\n",
       "    </tr>\n",
       "    <tr>\n",
       "      <th>CTRL_AAACATACCTCGCT.1</th>\n",
       "      <td>850.0</td>\n",
       "      <td>3420.0</td>\n",
       "      <td>CTRL</td>\n",
       "      <td>CTRL</td>\n",
       "      <td>CD14 Mono</td>\n",
       "      <td>SNG-1256</td>\n",
       "    </tr>\n",
       "    <tr>\n",
       "      <th>CTRL_AAACATACGGCATT.1</th>\n",
       "      <td>558.0</td>\n",
       "      <td>1582.0</td>\n",
       "      <td>CTRL</td>\n",
       "      <td>CTRL</td>\n",
       "      <td>CD14 Mono</td>\n",
       "      <td>SNG-1015</td>\n",
       "    </tr>\n",
       "    <tr>\n",
       "      <th>CTRL_AAACATTGCTTCGC.1</th>\n",
       "      <td>669.0</td>\n",
       "      <td>2536.0</td>\n",
       "      <td>CTRL</td>\n",
       "      <td>CTRL</td>\n",
       "      <td>CD14 Mono</td>\n",
       "      <td>SNG-1256</td>\n",
       "    </tr>\n",
       "    <tr>\n",
       "      <th>...</th>\n",
       "      <td>...</td>\n",
       "      <td>...</td>\n",
       "      <td>...</td>\n",
       "      <td>...</td>\n",
       "      <td>...</td>\n",
       "      <td>...</td>\n",
       "    </tr>\n",
       "    <tr>\n",
       "      <th>STIM_TCCCGAACTTCGTT.1</th>\n",
       "      <td>702.0</td>\n",
       "      <td>4222.0</td>\n",
       "      <td>STIM</td>\n",
       "      <td>STIM</td>\n",
       "      <td>Eryth</td>\n",
       "      <td>SNG-1015</td>\n",
       "    </tr>\n",
       "    <tr>\n",
       "      <th>STIM_TCGGACCTATCAGC.1</th>\n",
       "      <td>502.0</td>\n",
       "      <td>2050.0</td>\n",
       "      <td>STIM</td>\n",
       "      <td>STIM</td>\n",
       "      <td>Eryth</td>\n",
       "      <td>SNG-101</td>\n",
       "    </tr>\n",
       "    <tr>\n",
       "      <th>STIM_TGACGCCTCTTGTT.1</th>\n",
       "      <td>899.0</td>\n",
       "      <td>7168.0</td>\n",
       "      <td>STIM</td>\n",
       "      <td>STIM</td>\n",
       "      <td>Eryth</td>\n",
       "      <td>SNG-1015</td>\n",
       "    </tr>\n",
       "    <tr>\n",
       "      <th>STIM_TGGTCAGACAAGCT.1</th>\n",
       "      <td>550.0</td>\n",
       "      <td>4225.0</td>\n",
       "      <td>STIM</td>\n",
       "      <td>STIM</td>\n",
       "      <td>Eryth</td>\n",
       "      <td>SNG-1039</td>\n",
       "    </tr>\n",
       "    <tr>\n",
       "      <th>STIM_TGTGAGTGTCTTAC.1</th>\n",
       "      <td>607.0</td>\n",
       "      <td>2804.0</td>\n",
       "      <td>STIM</td>\n",
       "      <td>STIM</td>\n",
       "      <td>Eryth</td>\n",
       "      <td>SNG-1256</td>\n",
       "    </tr>\n",
       "  </tbody>\n",
       "</table>\n",
       "<p>13836 rows × 6 columns</p>\n",
       "</div>"
      ],
      "text/plain": [
       "                       n_genes  n_counts orig_ident  stim    cluster     Donor\n",
       "index                                                                         \n",
       "CTRL_AAACATACATTTCC.1    878.0    3018.0       CTRL  CTRL  CD14 Mono  SNG-1016\n",
       "CTRL_AAACATACCAGAAA.1    713.0    2481.0       CTRL  CTRL  CD14 Mono  SNG-1256\n",
       "CTRL_AAACATACCTCGCT.1    850.0    3420.0       CTRL  CTRL  CD14 Mono  SNG-1256\n",
       "CTRL_AAACATACGGCATT.1    558.0    1582.0       CTRL  CTRL  CD14 Mono  SNG-1015\n",
       "CTRL_AAACATTGCTTCGC.1    669.0    2536.0       CTRL  CTRL  CD14 Mono  SNG-1256\n",
       "...                        ...       ...        ...   ...        ...       ...\n",
       "STIM_TCCCGAACTTCGTT.1    702.0    4222.0       STIM  STIM      Eryth  SNG-1015\n",
       "STIM_TCGGACCTATCAGC.1    502.0    2050.0       STIM  STIM      Eryth   SNG-101\n",
       "STIM_TGACGCCTCTTGTT.1    899.0    7168.0       STIM  STIM      Eryth  SNG-1015\n",
       "STIM_TGGTCAGACAAGCT.1    550.0    4225.0       STIM  STIM      Eryth  SNG-1039\n",
       "STIM_TGTGAGTGTCTTAC.1    607.0    2804.0       STIM  STIM      Eryth  SNG-1256\n",
       "\n",
       "[13836 rows x 6 columns]"
      ]
     },
     "execution_count": 500,
     "metadata": {},
     "output_type": "execute_result"
    }
   ],
   "source": [
    "# Load data\n",
    "adata = sc.read_h5ad('../fastde_dev/datasets/ifnb2/pbmc.h5ad')\n",
    "adata.obs"
   ]
  },
  {
   "cell_type": "code",
   "execution_count": 501,
   "id": "796709c2",
   "metadata": {},
   "outputs": [
    {
     "data": {
      "text/html": [
       "<div>\n",
       "<style scoped>\n",
       "    .dataframe tbody tr th:only-of-type {\n",
       "        vertical-align: middle;\n",
       "    }\n",
       "\n",
       "    .dataframe tbody tr th {\n",
       "        vertical-align: top;\n",
       "    }\n",
       "\n",
       "    .dataframe thead th {\n",
       "        text-align: right;\n",
       "    }\n",
       "</style>\n",
       "<table border=\"1\" class=\"dataframe\">\n",
       "  <thead>\n",
       "    <tr style=\"text-align: right;\">\n",
       "      <th></th>\n",
       "      <th>n_genes</th>\n",
       "      <th>n_counts</th>\n",
       "      <th>orig_ident</th>\n",
       "      <th>stim</th>\n",
       "      <th>cluster</th>\n",
       "      <th>Donor</th>\n",
       "      <th>donor_stim</th>\n",
       "      <th>stim_int</th>\n",
       "    </tr>\n",
       "    <tr>\n",
       "      <th>index</th>\n",
       "      <th></th>\n",
       "      <th></th>\n",
       "      <th></th>\n",
       "      <th></th>\n",
       "      <th></th>\n",
       "      <th></th>\n",
       "      <th></th>\n",
       "      <th></th>\n",
       "    </tr>\n",
       "  </thead>\n",
       "  <tbody>\n",
       "    <tr>\n",
       "      <th>CTRL_AAACATACATTTCC.1</th>\n",
       "      <td>878.0</td>\n",
       "      <td>3018.0</td>\n",
       "      <td>CTRL</td>\n",
       "      <td>CTRL</td>\n",
       "      <td>CD14 Mono</td>\n",
       "      <td>SNG-1016</td>\n",
       "      <td>SNG-1016_CTRL</td>\n",
       "      <td>0</td>\n",
       "    </tr>\n",
       "    <tr>\n",
       "      <th>CTRL_AAACATACCAGAAA.1</th>\n",
       "      <td>713.0</td>\n",
       "      <td>2481.0</td>\n",
       "      <td>CTRL</td>\n",
       "      <td>CTRL</td>\n",
       "      <td>CD14 Mono</td>\n",
       "      <td>SNG-1256</td>\n",
       "      <td>SNG-1256_CTRL</td>\n",
       "      <td>0</td>\n",
       "    </tr>\n",
       "    <tr>\n",
       "      <th>CTRL_AAACATACCTCGCT.1</th>\n",
       "      <td>850.0</td>\n",
       "      <td>3420.0</td>\n",
       "      <td>CTRL</td>\n",
       "      <td>CTRL</td>\n",
       "      <td>CD14 Mono</td>\n",
       "      <td>SNG-1256</td>\n",
       "      <td>SNG-1256_CTRL</td>\n",
       "      <td>0</td>\n",
       "    </tr>\n",
       "    <tr>\n",
       "      <th>CTRL_AAACATACGGCATT.1</th>\n",
       "      <td>558.0</td>\n",
       "      <td>1582.0</td>\n",
       "      <td>CTRL</td>\n",
       "      <td>CTRL</td>\n",
       "      <td>CD14 Mono</td>\n",
       "      <td>SNG-1015</td>\n",
       "      <td>SNG-1015_CTRL</td>\n",
       "      <td>0</td>\n",
       "    </tr>\n",
       "    <tr>\n",
       "      <th>CTRL_AAACATTGCTTCGC.1</th>\n",
       "      <td>669.0</td>\n",
       "      <td>2536.0</td>\n",
       "      <td>CTRL</td>\n",
       "      <td>CTRL</td>\n",
       "      <td>CD14 Mono</td>\n",
       "      <td>SNG-1256</td>\n",
       "      <td>SNG-1256_CTRL</td>\n",
       "      <td>0</td>\n",
       "    </tr>\n",
       "    <tr>\n",
       "      <th>...</th>\n",
       "      <td>...</td>\n",
       "      <td>...</td>\n",
       "      <td>...</td>\n",
       "      <td>...</td>\n",
       "      <td>...</td>\n",
       "      <td>...</td>\n",
       "      <td>...</td>\n",
       "      <td>...</td>\n",
       "    </tr>\n",
       "    <tr>\n",
       "      <th>STIM_TCCCGAACTTCGTT.1</th>\n",
       "      <td>702.0</td>\n",
       "      <td>4222.0</td>\n",
       "      <td>STIM</td>\n",
       "      <td>STIM</td>\n",
       "      <td>Eryth</td>\n",
       "      <td>SNG-1015</td>\n",
       "      <td>SNG-1015_STIM</td>\n",
       "      <td>1</td>\n",
       "    </tr>\n",
       "    <tr>\n",
       "      <th>STIM_TCGGACCTATCAGC.1</th>\n",
       "      <td>502.0</td>\n",
       "      <td>2050.0</td>\n",
       "      <td>STIM</td>\n",
       "      <td>STIM</td>\n",
       "      <td>Eryth</td>\n",
       "      <td>SNG-101</td>\n",
       "      <td>SNG-101_STIM</td>\n",
       "      <td>1</td>\n",
       "    </tr>\n",
       "    <tr>\n",
       "      <th>STIM_TGACGCCTCTTGTT.1</th>\n",
       "      <td>899.0</td>\n",
       "      <td>7168.0</td>\n",
       "      <td>STIM</td>\n",
       "      <td>STIM</td>\n",
       "      <td>Eryth</td>\n",
       "      <td>SNG-1015</td>\n",
       "      <td>SNG-1015_STIM</td>\n",
       "      <td>1</td>\n",
       "    </tr>\n",
       "    <tr>\n",
       "      <th>STIM_TGGTCAGACAAGCT.1</th>\n",
       "      <td>550.0</td>\n",
       "      <td>4225.0</td>\n",
       "      <td>STIM</td>\n",
       "      <td>STIM</td>\n",
       "      <td>Eryth</td>\n",
       "      <td>SNG-1039</td>\n",
       "      <td>SNG-1039_STIM</td>\n",
       "      <td>1</td>\n",
       "    </tr>\n",
       "    <tr>\n",
       "      <th>STIM_TGTGAGTGTCTTAC.1</th>\n",
       "      <td>607.0</td>\n",
       "      <td>2804.0</td>\n",
       "      <td>STIM</td>\n",
       "      <td>STIM</td>\n",
       "      <td>Eryth</td>\n",
       "      <td>SNG-1256</td>\n",
       "      <td>SNG-1256_STIM</td>\n",
       "      <td>1</td>\n",
       "    </tr>\n",
       "  </tbody>\n",
       "</table>\n",
       "<p>13836 rows × 8 columns</p>\n",
       "</div>"
      ],
      "text/plain": [
       "                       n_genes  n_counts orig_ident  stim    cluster  \\\n",
       "index                                                                  \n",
       "CTRL_AAACATACATTTCC.1    878.0    3018.0       CTRL  CTRL  CD14 Mono   \n",
       "CTRL_AAACATACCAGAAA.1    713.0    2481.0       CTRL  CTRL  CD14 Mono   \n",
       "CTRL_AAACATACCTCGCT.1    850.0    3420.0       CTRL  CTRL  CD14 Mono   \n",
       "CTRL_AAACATACGGCATT.1    558.0    1582.0       CTRL  CTRL  CD14 Mono   \n",
       "CTRL_AAACATTGCTTCGC.1    669.0    2536.0       CTRL  CTRL  CD14 Mono   \n",
       "...                        ...       ...        ...   ...        ...   \n",
       "STIM_TCCCGAACTTCGTT.1    702.0    4222.0       STIM  STIM      Eryth   \n",
       "STIM_TCGGACCTATCAGC.1    502.0    2050.0       STIM  STIM      Eryth   \n",
       "STIM_TGACGCCTCTTGTT.1    899.0    7168.0       STIM  STIM      Eryth   \n",
       "STIM_TGGTCAGACAAGCT.1    550.0    4225.0       STIM  STIM      Eryth   \n",
       "STIM_TGTGAGTGTCTTAC.1    607.0    2804.0       STIM  STIM      Eryth   \n",
       "\n",
       "                          Donor     donor_stim  stim_int  \n",
       "index                                                     \n",
       "CTRL_AAACATACATTTCC.1  SNG-1016  SNG-1016_CTRL         0  \n",
       "CTRL_AAACATACCAGAAA.1  SNG-1256  SNG-1256_CTRL         0  \n",
       "CTRL_AAACATACCTCGCT.1  SNG-1256  SNG-1256_CTRL         0  \n",
       "CTRL_AAACATACGGCATT.1  SNG-1015  SNG-1015_CTRL         0  \n",
       "CTRL_AAACATTGCTTCGC.1  SNG-1256  SNG-1256_CTRL         0  \n",
       "...                         ...            ...       ...  \n",
       "STIM_TCCCGAACTTCGTT.1  SNG-1015  SNG-1015_STIM         1  \n",
       "STIM_TCGGACCTATCAGC.1   SNG-101   SNG-101_STIM         1  \n",
       "STIM_TGACGCCTCTTGTT.1  SNG-1015  SNG-1015_STIM         1  \n",
       "STIM_TGGTCAGACAAGCT.1  SNG-1039  SNG-1039_STIM         1  \n",
       "STIM_TGTGAGTGTCTTAC.1  SNG-1256  SNG-1256_STIM         1  \n",
       "\n",
       "[13836 rows x 8 columns]"
      ]
     },
     "execution_count": 501,
     "metadata": {},
     "output_type": "execute_result"
    }
   ],
   "source": [
    "adata.obs.loc[:,'donor_stim'] = [donor+'_'+stim for donor, stim in zip(adata.obs['Donor'], adata.obs['stim'])]\n",
    "adata.obs.loc[:,'stim_int'] = pd.factorize(adata.obs['stim'])[0]\n",
    "adata.obs"
   ]
  },
  {
   "cell_type": "markdown",
   "id": "8a0391a3",
   "metadata": {},
   "source": [
    "# Type 1 Error calibration"
   ]
  },
  {
   "cell_type": "code",
   "execution_count": 644,
   "id": "ebc8da2d",
   "metadata": {},
   "outputs": [],
   "source": [
    "# Assign random treatment status\n",
    "adata.obs.loc[:, 'random_treat'] = np.random.binomial(n=1, p=0.5, size=adata.shape[0])\n",
    "adata.obs.loc[:,'random_donor_stim'] = [str(stim)+'_'+donor for donor, stim in zip(adata.obs['Donor'], adata.obs['random_treat'])]"
   ]
  },
  {
   "cell_type": "code",
   "execution_count": 677,
   "id": "1e3e4a49",
   "metadata": {},
   "outputs": [],
   "source": [
    "# function returns test results taking adata as input\n",
    "def prcse_adata(adata, rep_var, treat_var, gene_bool, rep_fe = False):\n",
    "    # basic variables\n",
    "    n_cell, n_gene = adata.shape\n",
    "    n_rep = adata.obs[rep_var].unique().shape[0]\n",
    "    rep_int, rep_str = pd.factorize(adata.obs[rep_var])\n",
    "    \n",
    "    # check genes present in all donors\n",
    "    sp_data, sp_indices, sp_indptr = np.ones(n_cell), rep_int, np.arange(n_cell+1)\n",
    "    sp_shape = (n_rep, n_cell)\n",
    "    pb_spmatrix = sparse.csc_matrix(\n",
    "        (sp_data, sp_indices, sp_indptr),\n",
    "        shape=sp_shape\n",
    "    )\n",
    "    \n",
    "    # endog/exog\n",
    "    endog = adata.raw.X\n",
    "    if rep_fe == True:\n",
    "        exog = np.column_stack(\n",
    "            (\n",
    "                np.ones(n_cell),\n",
    "                adata.obs[treat_var].values, # multiple arms -> get dummy\n",
    "                pd.get_dummies(rep_int, drop_first=True).values\n",
    "            )\n",
    "        )\n",
    "    else:\n",
    "        exog = np.column_stack(\n",
    "            (\n",
    "                np.ones(n_cell),\n",
    "                adata.obs[treat_var].values\n",
    "            )\n",
    "        )\n",
    "      \n",
    "    for igene, gene in enumerate(adata.var.index):\n",
    "        endog_gene = endog[:,igene].toarray()\n",
    "        # check gene is present in all donors\n",
    "        check = pb_spmatrix.dot(endog_gene)\n",
    "        if np.all(check > 0) and gene_bool[igene]:\n",
    "            fit = sm.GLM(\n",
    "                endog = endog_gene.ravel(),\n",
    "                exog = exog,\n",
    "                family = sm.families.Poisson()\n",
    "            ).fit(\n",
    "                cov_type='HC0',\n",
    "                #cov_kwds={'groups':rep_int}\n",
    "            )\n",
    "            # multiple treatment => F-test?\n",
    "            adata.var.loc[gene,['b', 'bse', 'pval']] = [fit.params[1], fit.bse[1], fit.pvalues[1]]\n",
    "        else:\n",
    "            adata.var.loc[gene,['b', 'bse', 'pval']] = [0, 0, 1]"
   ]
  },
  {
   "cell_type": "code",
   "execution_count": 678,
   "id": "4f0e7e20",
   "metadata": {},
   "outputs": [],
   "source": [
    "prcse_adata(adata_celltype_list[0], 'Donor', 'random_treat', np.repeat(True, adata_test.shape[1]), False)"
   ]
  },
  {
   "cell_type": "code",
   "execution_count": 679,
   "id": "463b38ff",
   "metadata": {},
   "outputs": [],
   "source": [
    "df3 = adata_celltype_list[0].var"
   ]
  },
  {
   "cell_type": "code",
   "execution_count": null,
   "id": "b650efb8",
   "metadata": {},
   "outputs": [],
   "source": [
    "fig, ax = plt.subplots(figsize=(5,5))\n",
    "\n",
    "# figure\n",
    "ax.scatter(np.sort(-np.log(np.random.uniform(size=df3.pval.shape))), np.sort(-np.log(df.pval)),s=1)\n",
    "ax.plot([-1, 10], [-1,10], ls='--', c='red')\n",
    "\n",
    "# figure limit\n",
    "#ax.set_xlim([-50, 750])\n",
    "#ax.set_ylim([-50, 750])\n",
    "\n",
    "# legend\n",
    "ax.set_xlabel(r'Analytic $-\\log P$-value', fontsize=15)\n",
    "ax.set_ylabel(r'Bootstrap $-\\log P$-value', fontsize=15)\n",
    "\n",
    "plt.show()"
   ]
  },
  {
   "cell_type": "code",
   "execution_count": 629,
   "id": "ac3dc59a",
   "metadata": {},
   "outputs": [
    {
     "data": {
      "image/png": "[encoded data removed]",
      "text/plain": [
       "<Figure size 500x500 with 1 Axes>"
      ]
     },
     "metadata": {},
     "output_type": "display_data"
    }
   ],
   "source": [
    "fig, ax = plt.subplots(figsize=(5,5))\n",
    "\n",
    "# figure\n",
    "ax.scatter(np.sort(-np.log(np.random.uniform(size=df2.pval.shape))), np.sort(-np.log(df.pval)),s=1)\n",
    "ax.plot([-1, 10], [-1,10], ls='--', c='red')\n",
    "\n",
    "# figure limit\n",
    "#ax.set_xlim([-50, 750])\n",
    "#ax.set_ylim([-50, 750])\n",
    "\n",
    "# legend\n",
    "ax.set_xlabel(r'Analytic $-\\log P$-value', fontsize=15)\n",
    "ax.set_ylabel(r'Bootstrap $-\\log P$-value', fontsize=15)\n",
    "\n",
    "plt.show()"
   ]
  },
  {
   "cell_type": "code",
   "execution_count": 632,
   "id": "e00a3e00",
   "metadata": {},
   "outputs": [
    {
     "data": {
      "text/plain": [
       "[<matplotlib.lines.Line2D at 0x7f25f1baa830>]"
      ]
     },
     "execution_count": 632,
     "metadata": {},
     "output_type": "execute_result"
    },
    {
     "data": {
      "image/png": "[encoded data removed]",
      "text/plain": [
       "<Figure size 500x500 with 1 Axes>"
      ]
     },
     "metadata": {},
     "output_type": "display_data"
    }
   ],
   "source": [
    "fig, ax = plt.subplots(figsize=(5,5))\n",
    "\n",
    "# figure\n",
    "ax.scatter( np.sort(-np.log(df.pval)), np.sort(-np.log(df2.pval)),s=1)\n",
    "ax.plot([-1, 70], [-1,70], ls='--', c='red')"
   ]
  },
  {
   "cell_type": "code",
   "execution_count": 618,
   "id": "51d032a1",
   "metadata": {},
   "outputs": [
    {
     "data": {
      "image/png": "[encoded data removed]",
      "text/plain": [
       "<Figure size 500x500 with 1 Axes>"
      ]
     },
     "metadata": {},
     "output_type": "display_data"
    }
   ],
   "source": [
    "fig, ax = plt.subplots(figsize=(5,5))\n",
    "\n",
    "# figure\n",
    "ax.scatter(np.sort(-np.log(np.random.uniform(size=df.pval.shape))), np.sort(-np.log(df.pval)),s=1)\n",
    "ax.plot([-1, 10], [-1,10], ls='--', c='red')\n",
    "\n",
    "# figure limit\n",
    "#ax.set_xlim([-50, 750])\n",
    "#ax.set_ylim([-50, 750])\n",
    "\n",
    "# legend\n",
    "ax.set_xlabel(r'Analytic $-\\log P$-value', fontsize=15)\n",
    "ax.set_ylabel(r'Bootstrap $-\\log P$-value', fontsize=15)\n",
    "\n",
    "plt.show()"
   ]
  },
  {
   "cell_type": "code",
   "execution_count": 676,
   "id": "1276eca9",
   "metadata": {},
   "outputs": [
    {
     "data": {
      "image/png": "[encoded data removed]",
      "text/plain": [
       "<Figure size 500x500 with 1 Axes>"
      ]
     },
     "metadata": {},
     "output_type": "display_data"
    }
   ],
   "source": [
    "fig, ax = plt.subplots(figsize=(5,5))\n",
    "\n",
    "# figure\n",
    "ax.scatter(np.sort(-np.log(np.random.uniform(size=pval_glmgp.shape))), np.sort(-np.log(pval_glmgp)),s=1)\n",
    "ax.plot([-1, 10], [-1,10], ls='--', c='red')\n",
    "\n",
    "# figure limit\n",
    "#ax.set_xlim([-50, 750])\n",
    "#ax.set_ylim([-50, 750])\n",
    "\n",
    "# legend\n",
    "ax.set_xlabel(r'Analytic $-\\log P$-value', fontsize=15)\n",
    "ax.set_ylabel(r'Bootstrap $-\\log P$-value', fontsize=15)\n",
    "\n",
    "plt.show()"
   ]
  },
  {
   "cell_type": "markdown",
   "id": "22c7cf36",
   "metadata": {},
   "source": [
    "## Pseudobulk generation"
   ]
  },
  {
   "cell_type": "code",
   "execution_count": 645,
   "id": "71913e54",
   "metadata": {},
   "outputs": [],
   "source": [
    "# Pseudobulk generation - step 1 \n",
    "# divide data according to cluster\n",
    "celltype_var = 'cluster'\n",
    "adata_celltype_list = []\n",
    "celltype_list = []\n",
    "for celltype in adata.obs[celltype_var].unique():\n",
    "    adata_celltype_list.append(adata[adata.obs[celltype_var]==celltype,:])\n",
    "    celltype_list.append(celltype)"
   ]
  },
  {
   "cell_type": "code",
   "execution_count": 663,
   "id": "ffdad02d",
   "metadata": {},
   "outputs": [],
   "source": [
    "# Pseudobulk generation - step 2\n",
    "# generate mean expression per gene\n",
    "# this can be done by using a sparse matrix\n",
    "import scipy.sparse as sparse\n",
    "\n",
    "# the function returns peudobulk data matrix, row names, col names\n",
    "def adata_to_pb(adata, rep_var, mean=False):\n",
    "    n_cell, n_gene = adata.shape\n",
    "    n_rep = adata.obs[rep_var].unique().shape[0]\n",
    "    rep_int, rep_str = pd.factorize(adata.obs[rep_var])\n",
    "    \n",
    "    sp_data = np.ones(n_cell)\n",
    "    sp_indices = rep_int\n",
    "    sp_indptr = np.arange(n_cell+1)\n",
    "    sp_shape = (n_rep, n_cell)\n",
    "    pb_spmatrix = sparse.csc_matrix((sp_data, sp_indices, sp_indptr), shape=sp_shape)\n",
    "    \n",
    "    pb_out = pb_spmatrix.dot(adata.raw.X).toarray()\n",
    "    if mean == True:\n",
    "        rep_ncell = np.asarray(pb_spmatrix.sum(axis=1))\n",
    "        pb_out = pb_out / rep_ncell\n",
    "    \n",
    "    return pb_out, rep_str, adata.var.index\n",
    "\n",
    "rep_var = 'random_donor_stim'\n",
    "pb_df_list = []\n",
    "for adata_celltype, celltype in zip(adata_celltype_list, celltype_list):\n",
    "    pb_dat, pb_row, pb_col = adata_to_pb(adata_celltype, rep_var, True)\n",
    "    pb_df = pd.DataFrame(pb_dat, index=pb_row, columns=pb_col)\n",
    "    pb_df_list.append((pb_df,celltype))\n"
   ]
  },
  {
   "cell_type": "code",
   "execution_count": 664,
   "id": "e78bab2e",
   "metadata": {},
   "outputs": [
    {
     "name": "stdout",
     "output_type": "stream",
     "text": [
      "# reps: 16, celltype: CD14 Mono\n",
      "# reps: 16, celltype: pDC\n",
      "# reps: 16, celltype: CD4 Memory T\n",
      "# reps: 16, celltype: T activated\n",
      "# reps: 16, celltype: CD4 Naive T\n",
      "# reps: 16, celltype: CD8 T\n",
      "# reps: 16, celltype: Mk\n",
      "# reps: 16, celltype: B activated\n",
      "# reps: 16, celltype: B\n",
      "# reps: 16, celltype: DC\n",
      "# reps: 16, celltype: CD16 Mono\n",
      "# reps: 16, celltype: NK\n"
     ]
    }
   ],
   "source": [
    "# Pseudobulk generation - step 3\n",
    "# We discard celltypes where not all 16 replicates are present\n",
    "pb_df_list = [(pb_df,celltype) for pb_df,celltype in pb_df_list if pb_df.shape[0] == 16]\n",
    "for i in pb_df_list:\n",
    "    print('# reps: %d, celltype: %s' % (i[0].shape[0], i[1]))"
   ]
  },
  {
   "cell_type": "code",
   "execution_count": 670,
   "id": "a079f0dd",
   "metadata": {},
   "outputs": [
    {
     "data": {
      "text/plain": [
       "Index(['1_SNG-1016', '1_SNG-1256', '1_SNG-1015', '0_SNG-1256', '0_SNG-1016',\n",
       "       '1_SNG-101', '1_SNG-1488', '0_SNG-1488', '0_SNG-1015', '1_SNG-1244',\n",
       "       '0_SNG-1039', '1_SNG-107', '0_SNG-101', '0_SNG-1244', '1_SNG-1039',\n",
       "       '0_SNG-107'],\n",
       "      dtype='object')"
      ]
     },
     "execution_count": 670,
     "metadata": {},
     "output_type": "execute_result"
    }
   ],
   "source": [
    "pb_df_list[0][0].index"
   ]
  },
  {
   "cell_type": "code",
   "execution_count": 672,
   "id": "cd5f04bd",
   "metadata": {},
   "outputs": [
    {
     "data": {
      "text/plain": [
       "array([[1., 1.],\n",
       "       [1., 1.],\n",
       "       [1., 1.],\n",
       "       [1., 0.],\n",
       "       [1., 0.],\n",
       "       [1., 1.],\n",
       "       [1., 1.],\n",
       "       [1., 0.],\n",
       "       [1., 0.],\n",
       "       [1., 1.],\n",
       "       [1., 0.],\n",
       "       [1., 1.],\n",
       "       [1., 0.],\n",
       "       [1., 0.],\n",
       "       [1., 1.],\n",
       "       [1., 0.]])"
      ]
     },
     "execution_count": 672,
     "metadata": {},
     "output_type": "execute_result"
    }
   ],
   "source": [
    "# Pseudobulk feature generation\n",
    "# Manual process per dataset, sorry\n",
    "# The design matrix has the following columns : intercept, treatment status and donors (dummies)\n",
    "donor = [rep.split('_')[0] for rep in pd.factorize(adata.obs[rep_var])[1]]\n",
    "donor_dummy = pd.get_dummies(donor, drop_first=True)\n",
    "#treat_status = np.repeat((0,1),8)\n",
    "treat_status = np.array([x.split('_')[0] for x in pb_df_list[0][0].index]).astype(int)\n",
    "const = np.ones(16)\n",
    "\n",
    "exog_pb = np.column_stack((const, treat_status))\n",
    "# exog_pb = np.column_stack((const, treat_status, donor_dummy))\n",
    "exog_pb"
   ]
  },
  {
   "cell_type": "markdown",
   "id": "3a6096d5",
   "metadata": {},
   "source": [
    "## Poisson regression with robust standard error"
   ]
  },
  {
   "cell_type": "code",
   "execution_count": null,
   "id": "129f40b8",
   "metadata": {},
   "outputs": [],
   "source": []
  },
  {
   "cell_type": "code",
   "execution_count": 506,
   "id": "44a690c9",
   "metadata": {},
   "outputs": [],
   "source": [
    "# function returns test results taking adata as input\n",
    "def prcse_adata(adata, rep_var, treat_var, gene_bool, rep_fe = False):\n",
    "    # basic variables\n",
    "    n_cell, n_gene = adata.shape\n",
    "    n_rep = adata.obs[rep_var].unique().shape[0]\n",
    "    rep_int, rep_str = pd.factorize(adata.obs[rep_var])\n",
    "    \n",
    "    # check genes present in all donors\n",
    "    sp_data, sp_indices, sp_indptr = np.ones(n_cell), rep_int, np.arange(n_cell+1)\n",
    "    sp_shape = (n_rep, n_cell)\n",
    "    pb_spmatrix = sparse.csc_matrix(\n",
    "        (sp_data, sp_indices, sp_indptr),\n",
    "        shape=sp_shape\n",
    "    )\n",
    "    \n",
    "    # endog/exog\n",
    "    endog = adata.raw.X\n",
    "    if rep_fe == True:\n",
    "        exog = np.column_stack(\n",
    "            (\n",
    "                np.ones(n_cell),\n",
    "                adata.obs[treat_var].values, # multiple arms -> get dummy\n",
    "                pd.get_dummies(rep_int, drop_first=True).values\n",
    "            )\n",
    "        )\n",
    "    else:\n",
    "        exog = np.column_stack(\n",
    "            (\n",
    "                np.ones(n_cell),\n",
    "                adata.obs[treat_var].values\n",
    "            )\n",
    "        )\n",
    "      \n",
    "    for igene, gene in enumerate(adata.var.index):\n",
    "        endog_gene = endog[:,igene].toarray()\n",
    "        # check gene is present in all donors\n",
    "        check = pb_spmatrix.dot(endog_gene)\n",
    "        if np.all(check > 0) and gene_bool[igene]:\n",
    "            fit = sm.GLM(\n",
    "                endog = endog_gene.ravel(),\n",
    "                exog = exog,\n",
    "                family = sm.families.Poisson()\n",
    "            ).fit(\n",
    "                cov_type='cluster',\n",
    "                cov_kwds={'groups':rep_int}\n",
    "            )\n",
    "            # multiple treatment => F-test?\n",
    "            adata.var.loc[gene,['b', 'bse', 'pval']] = [fit.params[1], fit.bse[1], fit.pvalues[1]]\n",
    "        else:\n",
    "            adata.var.loc[gene,['b', 'bse', 'pval']] = [0, 0, 1]\n",
    "            \n",
    "    return np.all(pb_spmatrix.dot(endog).toarray() > 0, axis=0)"
   ]
  },
  {
   "cell_type": "code",
   "execution_count": 507,
   "id": "1ba6d3a5",
   "metadata": {},
   "outputs": [],
   "source": [
    "def adata_block_bootstrap(adata, rep_var):\n",
    "    # block sample replicate\n",
    "    rep = adata.obs[rep_var].unique()\n",
    "    rep_bootstrap = np.random.choice(\n",
    "        rep,\n",
    "        size = rep.shape[0],\n",
    "        replace=True\n",
    "    )\n",
    "    cell_index_bootstrap = np.empty(0, dtype=str)\n",
    "    cell_rep_bootstrap = np.empty(0, dtype=int)\n",
    "    irep = 0\n",
    "    for rep in rep_bootstrap:\n",
    "        bool_rep = (adata.obs[rep_var] == rep)\n",
    "        cell_index_rep = adata.obs.index[bool_rep].values\n",
    "        cell_index_bootstrap = np.hstack((cell_index_bootstrap, cell_index_rep))\n",
    "        cell_rep_bootstrap = np.hstack((cell_rep_bootstrap, np.repeat(irep, bool_rep.sum())))\n",
    "        irep += 1\n",
    "    \n",
    "    adata_bootstrap = adata[cell_index_bootstrap,:].copy()\n",
    "    adata_bootstrap.obs[rep_var] = cell_rep_bootstrap     \n",
    "    \n",
    "    return adata_bootstrap"
   ]
  },
  {
   "cell_type": "code",
   "execution_count": 508,
   "id": "509bd872",
   "metadata": {},
   "outputs": [],
   "source": [
    "# adata to bootstrap standard error\n",
    "def prcse_adata_block_bootstrap(adata, rep_var, treat_var, gene_bool, n_boot=500, rep_fe = False):\n",
    "    \n",
    "    df_b_prcse = pd.DataFrame(columns=adata.var.index)\n",
    "    for i_boot in range(n_boot):\n",
    "        adata_bootstrap = adata_block_bootstrap(adata, rep_var)\n",
    "        prcse_adata(adata_bootstrap, rep_var, treat_var, gene_bool, rep_fe)\n",
    "        df_b_prcse.loc[i_boot,:] = adata_bootstrap.var['b'].values\n",
    "        \n",
    "    bse = np.sqrt(df_b_prcse.var(axis=0))\n",
    "    adata.var.loc[:,'bse_bootstrap'] = bse.values    \n",
    "        "
   ]
  },
  {
   "cell_type": "code",
   "execution_count": null,
   "id": "50fdeb82",
   "metadata": {},
   "outputs": [],
   "source": [
    "for adata_test in adata_celltype_list[:1]:\n",
    "    gene_bool = prcse_adata(adata_test, 'Donor', 'stim_int', np.repeat(True, adata_test.shape[1]), False)\n",
    "    prcse_adata_block_bootstrap(adata_test, 'Donor', 'stim_int', gene_bool, 500, False)"
   ]
  },
  {
   "cell_type": "code",
   "execution_count": 571,
   "id": "ff12bb6c",
   "metadata": {},
   "outputs": [
    {
     "data": {
      "image/png": "[encoded data removed]",
      "text/plain": [
       "<Figure size 500x500 with 1 Axes>"
      ]
     },
     "metadata": {},
     "output_type": "display_data"
    }
   ],
   "source": [
    "result = adata_test.var[~np.isnan(adata_test.var.bse) & (adata_test.var.bse > 0)]\n",
    "fig, ax = plt.subplots(figsize=(5,5))\n",
    "\n",
    "# figure\n",
    "ax.scatter((-np.log(scipy.stats.norm.sf(np.abs(result.b/result.bse)))), (-np.log(scipy.stats.norm.sf(np.abs(result.b/result.bse_bootstrap)))), s=2)\n",
    "ax.plot([-50, 750], [-50,750], ls='--', c='red')\n",
    "\n",
    "# figure limit\n",
    "ax.set_xlim([-50, 750])\n",
    "ax.set_ylim([-50, 750])\n",
    "\n",
    "# legend\n",
    "ax.set_xlabel(r'Analytic $-\\log P$-value', fontsize=15)\n",
    "ax.set_ylabel(r'Bootstrap $-\\log P$-value', fontsize=15)\n",
    "\n",
    "plt.show()"
   ]
  },
  {
   "cell_type": "markdown",
   "id": "bc45f8a3",
   "metadata": {},
   "source": [
    "## Pseudobulk DE - glmGamPoi\n",
    "\n",
    "See [link](https://github.com/const-ae/glmGamPoi/blob/master/R/test_pseudobulk.R#L66)."
   ]
  },
  {
   "cell_type": "code",
   "execution_count": 673,
   "id": "4cbcd4ec",
   "metadata": {},
   "outputs": [],
   "source": [
    "endog_pb = pb_df_list[0][0].values.T"
   ]
  },
  {
   "cell_type": "code",
   "execution_count": 674,
   "id": "9bc7ad6a",
   "metadata": {},
   "outputs": [],
   "source": [
    "%%R -i endog_pb -i exog_pb\n",
    "fit <- glm_gp(endog_pb, exog_pb, on_disk = FALSE)"
   ]
  },
  {
   "cell_type": "code",
   "execution_count": 675,
   "id": "1a469739",
   "metadata": {},
   "outputs": [],
   "source": [
    "%%R -o pval_glmgp\n",
    "test <- test_de(fit, contrast=`Coef_2`)\n",
    "pval_glmgp <- test$pval"
   ]
  },
  {
   "cell_type": "code",
   "execution_count": 587,
   "id": "06b52bbc",
   "metadata": {},
   "outputs": [],
   "source": [
    "%%R -o betas\n",
    "betas = summary(fit)$Beta[,2]"
   ]
  },
  {
   "cell_type": "code",
   "execution_count": 591,
   "id": "6926273a",
   "metadata": {},
   "outputs": [
    {
     "data": {
      "text/plain": [
       "(-10.0, 10.0)"
      ]
     },
     "execution_count": 591,
     "metadata": {},
     "output_type": "execute_result"
    },
    {
     "data": {
      "image/png": "[encoded data removed]",
      "text/plain": [
       "<Figure size 640x480 with 1 Axes>"
      ]
     },
     "metadata": {},
     "output_type": "display_data"
    }
   ],
   "source": [
    "plt.scatter(betas, adata_test.var.b, s=2)\n",
    "plt.xlim([-10,10])\n",
    "plt.ylim([-10,10])"
   ]
  },
  {
   "cell_type": "code",
   "execution_count": 581,
   "id": "e6fdfb52",
   "metadata": {},
   "outputs": [
    {
     "data": {
      "image/png": "[encoded data removed]",
      "text/plain": [
       "<Figure size 500x500 with 1 Axes>"
      ]
     },
     "metadata": {},
     "output_type": "display_data"
    }
   ],
   "source": [
    "result = adata_test.var[~np.isnan(adata_test.var.bse) & (adata_test.var.bse > 0)]\n",
    "fig, ax = plt.subplots(figsize=(5,5))\n",
    "pval_glmgp_subset = pval_glmgp[~np.isnan(adata_test.var.bse) & (adata_test.var.bse > 0)]\n",
    "\n",
    "# figure\n",
    "ax.scatter((-np.log(scipy.stats.norm.sf(np.abs(result.b/result.bse)))), (-np.log(pval_glmgp_subset)), s=2)\n",
    "#ax.plot([-50, 750], [-50,750], ls='--', c='red')\n",
    "\n",
    "# figure limit\n",
    "#ax.set_xlim([-50, 750])\n",
    "#ax.set_ylim([-50, 750])\n",
    "\n",
    "# legend\n",
    "ax.set_xlabel(r'Analytic $-\\log P$-value', fontsize=15)\n",
    "ax.set_ylabel(r'Bootstrap $-\\log P$-value', fontsize=15)\n",
    "\n",
    "plt.show()"
   ]
  },
  {
   "cell_type": "code",
   "execution_count": 578,
   "id": "c048c108",
   "metadata": {},
   "outputs": [
    {
     "data": {
      "text/plain": [
       "array([1.        , 0.99999983, 0.99999999, ..., 1.        , 0.99999983,\n",
       "       0.99999983])"
      ]
     },
     "execution_count": 578,
     "metadata": {},
     "output_type": "execute_result"
    }
   ],
   "source": []
  },
  {
   "cell_type": "markdown",
   "id": "c140e4be",
   "metadata": {},
   "source": [
    "## Pseudobulk DE - edgeR"
   ]
  },
  {
   "cell_type": "code",
   "execution_count": 13,
   "id": "42749f71",
   "metadata": {},
   "outputs": [
    {
     "data": {
      "text/plain": [
       "array([[  3.09608541,   1.43037975,   1.62068966,   0.38068182,\n",
       "          0.30729167,   0.40251572,   1.8989899 ,   0.27586207,\n",
       "        101.44978166,  98.87007874, 140.08520179, 124.21777778,\n",
       "        143.20643939, 130.76375405, 129.25      , 156.11111111]])"
      ]
     },
     "execution_count": 13,
     "metadata": {},
     "output_type": "execute_result"
    }
   ],
   "source": [
    "y = pb_df_list[0][0].loc[:,'ISG15'].values[None,:]\n",
    "y"
   ]
  },
  {
   "cell_type": "code",
   "execution_count": 22,
   "id": "68b22b76",
   "metadata": {
    "scrolled": true
   },
   "outputs": [],
   "source": [
    "%%R -i y -i design_matrix\n",
    "y <- DGEList(y)\n",
    "y <- estimateDisp(y, design = design_matrix)\n",
    "fit <- glmQLFit(y, design_matrix)\n",
    "qlf <- glmQLFTest(fit, coef=2)"
   ]
  },
  {
   "cell_type": "code",
   "execution_count": 23,
   "id": "05c89f1b",
   "metadata": {},
   "outputs": [
    {
     "name": "stdout",
     "output_type": "stream",
     "text": [
      "An object of class \"DGEGLM\"\n",
      "$coefficients\n",
      "         [,1]         [,2]          [,3]        [,4]         [,5]          [,6]\n",
      "1 -0.00192982 9.618907e-17 -5.533615e-16 3.54912e-18 9.790697e-17 -1.954477e-16\n",
      "           [,7]         [,8]          [,9]\n",
      "1 -5.576255e-16 9.239806e-17 -4.445173e-16\n",
      "\n",
      "$fitted.values\n",
      "   Sample1 Sample2 Sample3   Sample4   Sample5   Sample6 Sample7   Sample8\n",
      "1 3.096085 1.43038 1.62069 0.3806818 0.3072917 0.4025157 1.89899 0.2758621\n",
      "   Sample9 Sample10 Sample11 Sample12 Sample13 Sample14 Sample15 Sample16\n",
      "1 101.4498 98.87008 140.0852 124.2178 143.2064 130.7638   129.25 156.1111\n",
      "\n",
      "$deviance\n",
      "[1] 1.175488e-14\n",
      "\n",
      "$iter\n",
      "[1] 1\n",
      "\n",
      "$failed\n",
      "[1] FALSE\n",
      "\n",
      "$method\n",
      "[1] \"levenberg\"\n",
      "\n",
      "$counts\n",
      "   Sample1 Sample2 Sample3   Sample4   Sample5   Sample6 Sample7   Sample8\n",
      "1 3.096085 1.43038 1.62069 0.3806818 0.3072917 0.4025157 1.89899 0.2758621\n",
      "   Sample9 Sample10 Sample11 Sample12 Sample13 Sample14 Sample15 Sample16\n",
      "1 101.4498 98.87008 140.0852 124.2178 143.2064 130.7638   129.25 156.1111\n",
      "\n",
      "$unshrunk.coefficients\n",
      "           [,1]         [,2]          [,3]         [,4]         [,5]\n",
      "1 -2.855165e-17 3.910645e-16 -3.353535e-16 1.413802e-16 7.850946e-17\n",
      "           [,6]          [,7]        [,8]          [,9]\n",
      "1 -1.401274e-16 -3.424306e-16 7.53845e-17 -3.681737e-16\n",
      "\n",
      "$df.residual\n",
      "[1] 7\n",
      "\n",
      "$design\n",
      "     [,1] [,2] [,3] [,4] [,5] [,6] [,7] [,8] [,9]\n",
      "[1,]    1    0    0    1    0    0    0    0    0\n",
      "[2,]    1    0    0    0    0    0    0    1    0\n",
      "[3,]    1    0    1    0    0    0    0    0    0\n",
      "[4,]    1    0    0    0    0    0    0    0    0\n",
      "[5,]    1    0    0    0    0    0    0    0    1\n",
      "11 more rows ...\n",
      "\n",
      "$offset\n",
      "         [,1]    [,2]      [,3]       [,4]      [,5]       [,6]      [,7]\n",
      "[1,] 1.130139 0.35794 0.4828518 -0.9657914 -1.179958 -0.9100211 0.6413221\n",
      "          [,8]     [,9]    [,10]    [,11]    [,12]    [,13]    [,14]    [,15]\n",
      "[1,] -1.287854 4.619564 4.593807 4.942251 4.822036 4.964287 4.873392 4.861749\n",
      "        [,16]\n",
      "[1,] 5.050568\n",
      "attr(,\"class\")\n",
      "[1] \"CompressedMatrix\"\n",
      "attr(,\"Dims\")\n",
      "[1]  1 16\n",
      "attr(,\"repeat.row\")\n",
      "[1] TRUE\n",
      "attr(,\"repeat.col\")\n",
      "[1] FALSE\n",
      "\n",
      "$dispersion\n",
      "[1] 9.765625e-05\n",
      "\n",
      "$prior.count\n",
      "[1] 0.125\n",
      "\n",
      "$AveLogCPM\n",
      "[1] 19.88887\n",
      "\n",
      "$df.residual.zeros\n",
      "[1] 7\n",
      "\n",
      "$df.prior\n",
      "[1] 0\n",
      "\n",
      "$var.post\n",
      "[1] 1.679269e-15\n",
      "\n",
      "$var.prior\n",
      "[1] 1.679269e-15\n",
      "\n",
      "$samples\n",
      "        group  lib.size norm.factors\n",
      "Sample1     1 3.0960854            1\n",
      "Sample2     1 1.4303797            1\n",
      "Sample3     1 1.6206897            1\n",
      "Sample4     1 0.3806818            1\n",
      "Sample5     1 0.3072917            1\n",
      "11 more rows ...\n",
      "\n"
     ]
    }
   ],
   "source": [
    "%%R\n",
    "fit"
   ]
  },
  {
   "cell_type": "code",
   "execution_count": 25,
   "id": "f45e07df",
   "metadata": {},
   "outputs": [],
   "source": [
    "%%R\n",
    "tt <- topTags(qlf, n = Inf)\n",
    "tt <- tt$table"
   ]
  },
  {
   "cell_type": "code",
   "execution_count": 26,
   "id": "2543e836",
   "metadata": {},
   "outputs": [
    {
     "data": {
      "text/html": [
       "<div>\n",
       "<style scoped>\n",
       "    .dataframe tbody tr th:only-of-type {\n",
       "        vertical-align: middle;\n",
       "    }\n",
       "\n",
       "    .dataframe tbody tr th {\n",
       "        vertical-align: top;\n",
       "    }\n",
       "\n",
       "    .dataframe thead th {\n",
       "        text-align: right;\n",
       "    }\n",
       "</style>\n",
       "<table border=\"1\" class=\"dataframe\">\n",
       "  <thead>\n",
       "    <tr style=\"text-align: right;\">\n",
       "      <th></th>\n",
       "      <th>logFC</th>\n",
       "      <th>logCPM</th>\n",
       "      <th>F</th>\n",
       "      <th>PValue</th>\n",
       "      <th>FDR</th>\n",
       "    </tr>\n",
       "  </thead>\n",
       "  <tbody>\n",
       "    <tr>\n",
       "      <th>1</th>\n",
       "      <td>1.387715e-16</td>\n",
       "      <td>19.888873</td>\n",
       "      <td>-10.217623</td>\n",
       "      <td>1.0</td>\n",
       "      <td>1.0</td>\n",
       "    </tr>\n",
       "  </tbody>\n",
       "</table>\n",
       "</div>"
      ],
      "text/plain": [
       "          logFC     logCPM          F  PValue  FDR\n",
       "1  1.387715e-16  19.888873 -10.217623     1.0  1.0"
      ]
     },
     "execution_count": 26,
     "metadata": {},
     "output_type": "execute_result"
    }
   ],
   "source": [
    "%R tt"
   ]
  },
  {
   "cell_type": "code",
   "execution_count": 30,
   "id": "e702fb33",
   "metadata": {},
   "outputs": [
    {
     "data": {
      "text/plain": [
       "(array([0, 1, 1, ..., 2, 6, 1]),\n",
       " CategoricalIndex(['SNG-1016', 'SNG-1256', 'SNG-1015', 'SNG-101', 'SNG-1488',\n",
       "                   'SNG-1244', 'SNG-1039', 'SNG-107'],\n",
       "                  categories=['SNG-1016', 'SNG-1256', 'SNG-1488', 'SNG-1039', 'SNG-1015', 'SNG-107', 'SNG-1244', 'SNG-101'], ordered=False, dtype='category'))"
      ]
     },
     "execution_count": 30,
     "metadata": {},
     "output_type": "execute_result"
    }
   ],
   "source": [
    "pd.factorize(adata.obs['Donor'])"
   ]
  },
  {
   "cell_type": "code",
   "execution_count": 35,
   "id": "e77c331d",
   "metadata": {},
   "outputs": [
    {
     "name": "stdout",
     "output_type": "stream",
     "text": [
      "[[ 535.]\n",
      " [ 625.]\n",
      " [1166.]\n",
      " [ 405.]\n",
      " [ 417.]\n",
      " [ 541.]\n",
      " [ 227.]\n",
      " [ 309.]]\n"
     ]
    }
   ],
   "source": [
    "x = adata_to_pb(adata_celltype_list[0], 'Donor')"
   ]
  },
  {
   "cell_type": "code",
   "execution_count": null,
   "id": "b431beee",
   "metadata": {},
   "outputs": [],
   "source": []
  },
  {
   "cell_type": "code",
   "execution_count": null,
   "id": "9777fd73",
   "metadata": {},
   "outputs": [],
   "source": [
    "for adata_celltype in adata_celltype_list:\n",
    "    \n",
    "    sp_data = np.ones()\n",
    "    pb_spmatrix = sparse.csr_matrix(\n",
    "        \n",
    "        )"
   ]
  },
  {
   "cell_type": "code",
   "execution_count": null,
   "id": "1fe9ce8a",
   "metadata": {},
   "outputs": [],
   "source": []
  },
  {
   "cell_type": "code",
   "execution_count": null,
   "id": "87946152",
   "metadata": {},
   "outputs": [],
   "source": []
  },
  {
   "cell_type": "code",
   "execution_count": null,
   "id": "ccd05c98",
   "metadata": {},
   "outputs": [],
   "source": []
  },
  {
   "cell_type": "code",
   "execution_count": null,
   "id": "6493edcc",
   "metadata": {},
   "outputs": [],
   "source": []
  },
  {
   "cell_type": "code",
   "execution_count": null,
   "id": "9c6a78b9",
   "metadata": {},
   "outputs": [],
   "source": []
  },
  {
   "cell_type": "code",
   "execution_count": null,
   "id": "20a00a35",
   "metadata": {},
   "outputs": [],
   "source": []
  },
  {
   "cell_type": "code",
   "execution_count": null,
   "id": "63471351",
   "metadata": {},
   "outputs": [],
   "source": []
  },
  {
   "cell_type": "code",
   "execution_count": null,
   "id": "a6dfb4f8",
   "metadata": {},
   "outputs": [],
   "source": []
  },
  {
   "cell_type": "code",
   "execution_count": null,
   "id": "529df137",
   "metadata": {},
   "outputs": [],
   "source": []
  },
  {
   "cell_type": "code",
   "execution_count": null,
   "id": "a21d6bbc",
   "metadata": {},
   "outputs": [],
   "source": []
  }
 ],
 "metadata": {
  "kernelspec": {
   "display_name": "Python 3 (ipykernel)",
   "language": "python",
   "name": "python3"
  },
  "language_info": {
   "codemirror_mode": {
    "name": "ipython",
    "version": 3
   },
   "file_extension": ".py",
   "mimetype": "text/x-python",
   "name": "python",
   "nbconvert_exporter": "python",
   "pygments_lexer": "ipython3",
   "version": "3.10.8"
  }
 },
 "nbformat": 4,
 "nbformat_minor": 5
}
