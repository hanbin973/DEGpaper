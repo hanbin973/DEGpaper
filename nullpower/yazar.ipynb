{
 "cells": [
  {
   "cell_type": "code",
   "execution_count": 1,
   "id": "07593be5-bdf6-41b4-8726-098273aeb9f1",
   "metadata": {
    "scrolled": true
   },
   "outputs": [
    {
     "name": "stderr",
     "output_type": "stream",
     "text": [
      "Loading required package: SummarizedExperiment\n",
      "\n",
      "Loading required package: MatrixGenerics\n",
      "\n",
      "Loading required package: matrixStats\n",
      "\n",
      "\n",
      "Attaching package: ‘MatrixGenerics’\n",
      "\n",
      "\n",
      "The following objects are masked from ‘package:matrixStats’:\n",
      "\n",
      "    colAlls, colAnyNAs, colAnys, colAvgsPerRowSet, colCollapse,\n",
      "    colCounts, colCummaxs, colCummins, colCumprods, colCumsums,\n",
      "    colDiffs, colIQRDiffs, colIQRs, colLogSumExps, colMadDiffs,\n",
      "    colMads, colMaxs, colMeans2, colMedians, colMins, colOrderStats,\n",
      "    colProds, colQuantiles, colRanges, colRanks, colSdDiffs, colSds,\n",
      "    colSums2, colTabulates, colVarDiffs, colVars, colWeightedMads,\n",
      "    colWeightedMeans, colWeightedMedians, colWeightedSds,\n",
      "    colWeightedVars, rowAlls, rowAnyNAs, rowAnys, rowAvgsPerColSet,\n",
      "    rowCollapse, rowCounts, rowCummaxs, rowCummins, rowCumprods,\n",
      "    rowCumsums, rowDiffs, rowIQRDiffs, rowIQRs, rowLogSumExps,\n",
      "    rowMadDiffs, rowMads, rowMaxs, rowMeans2, rowMedians, rowMins,\n",
      "    rowOrderStats, rowProds, rowQuantiles, rowRanges, rowRanks,\n",
      "    rowSdDiffs, rowSds, rowSums2, rowTabulates, rowVarDiffs, rowVars,\n",
      "    rowWeightedMads, rowWeightedMeans, rowWeightedMedians,\n",
      "    rowWeightedSds, rowWeightedVars\n",
      "\n",
      "\n",
      "Loading required package: GenomicRanges\n",
      "\n",
      "Loading required package: stats4\n",
      "\n",
      "Loading required package: BiocGenerics\n",
      "\n",
      "\n",
      "Attaching package: ‘BiocGenerics’\n",
      "\n",
      "\n",
      "The following objects are masked from ‘package:stats’:\n",
      "\n",
      "    IQR, mad, sd, var, xtabs\n",
      "\n",
      "\n",
      "The following objects are masked from ‘package:base’:\n",
      "\n",
      "    anyDuplicated, aperm, append, as.data.frame, basename, cbind,\n",
      "    colnames, dirname, do.call, duplicated, eval, evalq, Filter, Find,\n",
      "    get, grep, grepl, intersect, is.unsorted, lapply, Map, mapply,\n",
      "    match, mget, order, paste, pmax, pmax.int, pmin, pmin.int,\n",
      "    Position, rank, rbind, Reduce, rownames, sapply, setdiff, sort,\n",
      "    table, tapply, union, unique, unsplit, which.max, which.min\n",
      "\n",
      "\n",
      "Loading required package: S4Vectors\n",
      "\n",
      "\n",
      "Attaching package: ‘S4Vectors’\n",
      "\n",
      "\n",
      "The following objects are masked from ‘package:data.table’:\n",
      "\n",
      "    first, second\n",
      "\n",
      "\n",
      "The following objects are masked from ‘package:Matrix’:\n",
      "\n",
      "    expand, unname\n",
      "\n",
      "\n",
      "The following object is masked from ‘package:utils’:\n",
      "\n",
      "    findMatches\n",
      "\n",
      "\n",
      "The following objects are masked from ‘package:base’:\n",
      "\n",
      "    expand.grid, I, unname\n",
      "\n",
      "\n",
      "Loading required package: IRanges\n",
      "\n",
      "\n",
      "Attaching package: ‘IRanges’\n",
      "\n",
      "\n",
      "The following object is masked from ‘package:data.table’:\n",
      "\n",
      "    shift\n",
      "\n",
      "\n",
      "Loading required package: GenomeInfoDb\n",
      "\n",
      "Loading required package: Biobase\n",
      "\n",
      "Welcome to Bioconductor\n",
      "\n",
      "    Vignettes contain introductory material; view with\n",
      "    'browseVignettes()'. To cite Bioconductor, see\n",
      "    'citation(\"Biobase\")', and for packages 'citation(\"pkgname\")'.\n",
      "\n",
      "\n",
      "\n",
      "Attaching package: ‘Biobase’\n",
      "\n",
      "\n",
      "The following object is masked from ‘package:MatrixGenerics’:\n",
      "\n",
      "    rowMedians\n",
      "\n",
      "\n",
      "The following objects are masked from ‘package:matrixStats’:\n",
      "\n",
      "    anyMissing, rowMedians\n",
      "\n",
      "\n",
      "Loading required package: limma\n",
      "\n",
      "\n",
      "Attaching package: ‘limma’\n",
      "\n",
      "\n",
      "The following object is masked from ‘package:BiocGenerics’:\n",
      "\n",
      "    plotMA\n",
      "\n",
      "\n",
      "\n",
      "Attaching package: ‘edgeR’\n",
      "\n",
      "\n",
      "The following object is masked from ‘package:SingleCellExperiment’:\n",
      "\n",
      "    cpm\n",
      "\n",
      "\n",
      "Attaching SeuratObject\n",
      "\n",
      "\n",
      "Attaching package: ‘Seurat’\n",
      "\n",
      "\n",
      "The following object is masked from ‘package:SummarizedExperiment’:\n",
      "\n",
      "    Assays\n",
      "\n",
      "\n",
      "\n",
      "Attaching package: ‘dplyr’\n",
      "\n",
      "\n",
      "The following object is masked from ‘package:glmGamPoi’:\n",
      "\n",
      "    vars\n",
      "\n",
      "\n",
      "The following object is masked from ‘package:Biobase’:\n",
      "\n",
      "    combine\n",
      "\n",
      "\n",
      "The following objects are masked from ‘package:GenomicRanges’:\n",
      "\n",
      "    intersect, setdiff, union\n",
      "\n",
      "\n",
      "The following object is masked from ‘package:GenomeInfoDb’:\n",
      "\n",
      "    intersect\n",
      "\n",
      "\n",
      "The following objects are masked from ‘package:IRanges’:\n",
      "\n",
      "    collapse, desc, intersect, setdiff, slice, union\n",
      "\n",
      "\n",
      "The following objects are masked from ‘package:S4Vectors’:\n",
      "\n",
      "    first, intersect, rename, setdiff, setequal, union\n",
      "\n",
      "\n",
      "The following objects are masked from ‘package:BiocGenerics’:\n",
      "\n",
      "    combine, intersect, setdiff, union\n",
      "\n",
      "\n",
      "The following object is masked from ‘package:matrixStats’:\n",
      "\n",
      "    count\n",
      "\n",
      "\n",
      "The following objects are masked from ‘package:data.table’:\n",
      "\n",
      "    between, first, last\n",
      "\n",
      "\n",
      "The following objects are masked from ‘package:stats’:\n",
      "\n",
      "    filter, lag\n",
      "\n",
      "\n",
      "The following objects are masked from ‘package:base’:\n",
      "\n",
      "    intersect, setdiff, setequal, union\n",
      "\n",
      "\n",
      "\n",
      "Attaching package: ‘tidyr’\n",
      "\n",
      "\n",
      "The following object is masked from ‘package:S4Vectors’:\n",
      "\n",
      "    expand\n",
      "\n",
      "\n",
      "The following objects are masked from ‘package:Matrix’:\n",
      "\n",
      "    expand, pack, unpack\n",
      "\n",
      "\n"
     ]
    },
    {
     "name": "stdout",
     "output_type": "stream",
     "text": [
      "Remove  0  genes having low expression.\n",
      "Analyzing  10  genes with  30  subjects and  6176  cells.\n"
     ]
    },
    {
     "name": "stderr",
     "output_type": "stream",
     "text": [
      "Loading required package: foreach\n",
      "\n",
      "Loading required package: future\n",
      "\n",
      "Loading required package: rngtools\n",
      "\n"
     ]
    }
   ],
   "source": [
    "library(Matrix)\n",
    "library(data.table)\n",
    "\n",
    "library(SingleCellExperiment)\n",
    "library(glmGamPoi)\n",
    "library(edgeR)\n",
    "\n",
    "library(Seurat)\n",
    "library(nebula)\n",
    "\n",
    "library(fixest)\n",
    "\n",
    "library(dplyr)\n",
    "library(tidyr)\n",
    "\n",
    "library(limma)\n",
    "library(Rcpp)\n",
    "\n",
    "data(sample_data)\n",
    "df = model.matrix(~X1+X2+cc, data=sample_data$pred)\n",
    "re = nebula(sample_data$count,sample_data$sid,pred=df,ncore=1)\n",
    "\n",
    "offset.mult <- function(formula, count, df){\n",
    "    sce.obj <- SingleCellExperiment::SingleCellExperiment(\n",
    "        list(counts=count),\n",
    "        colData=df\n",
    "        )\n",
    "    sce.pb <- glmGamPoi::pseudobulk(\n",
    "        sce.obj,\n",
    "        group_by=vars(id, tx_cell),\n",
    "        n=n(),\n",
    "        verbose=FALSE\n",
    "        )\n",
    "\n",
    "    fit <- glmGamPoi::glm_gp(sce.pb, design=~1+tx_cell, size_factors=FALSE, offset=log(colData(sce.pb)$n))\n",
    "    test <- glmGamPoi::test_de(fit, reduced_design=~1)\n",
    "    \n",
    "    beta <- fit$Beta[,'tx_cell']\n",
    "    pval <- test$pval\n",
    "    tval <- qnorm(1-pval/2) * sign(beta)\n",
    "    se <- beta/tval\n",
    "    result <- cbind(beta, se, tval, pval)\n",
    "    colnames(result) <- c('Estimate', 'Std. Error', 't value', 'Pr(>|t|)')\n",
    "    return(result)\n",
    "    }"
   ]
  },
  {
   "cell_type": "code",
   "execution_count": 2,
   "id": "84d7fb5e-d42c-4268-95a7-6d0d54a05cc1",
   "metadata": {},
   "outputs": [],
   "source": [
    "selectCol <- function(mat, j.col){    \n",
    "    x.col.dense <- rep(0,nrow(mat))\n",
    "    p.begin <- mat@p[j.col]+1\n",
    "    p.end <- mat@p[j.col+1]\n",
    "    i.col <- mat@i[p.begin:p.end]+1 # i counts from 0\n",
    "    x.col <- mat@x[p.begin:p.end]\n",
    "    x.col.dense[i.col] <- x.col\n",
    "    return(x.col.dense)\n",
    "    }\n",
    "\n",
    "selectCols <- function(mat, j.cols){    \n",
    "    return(sapply(j.cols, selectCol, mat=mat))\n",
    "    }\n",
    "\n",
    "fixest.mult <- function(formula, count, df){\n",
    "    df.result <- data.frame(matrix(nrow=0, ncol=4))\n",
    "    colnames(df.result) <- c('Estimate', 'Std. Error', 't value', 'Pr(>|t|)')\n",
    "    for (j in 1:ncol(count)){\n",
    "        df$y <- count[,j]\n",
    "        fit <- fixest::fepois(formula, vcov='hetero', data=df, fixef.rm='none')\n",
    "        df.result[j,] <- coeftable(fit)['tx_cell',] # fixed effect o/x 에 따라 다르게 들어가야함\n",
    "        } \n",
    "    return(df.result)\n",
    "    }\n",
    "\n",
    "nebula.mult <- function(formula, count, df){\n",
    "    pred <- model.matrix(formula, data=df)\n",
    "    sid <- df$id\n",
    "    fit.nebula <- nebula::nebula(\n",
    "        count,\n",
    "        sid,\n",
    "        pred=pred,\n",
    "        cpc=0,\n",
    "        mincp=0\n",
    "        )\n",
    "    fit.result <- fit.nebula$summary\n",
    "    rownames(fit.result) <- fit.result$gene\n",
    "    return(\n",
    "            fit.result %>%\n",
    "            mutate(\n",
    "                Estimate=logFC_tx_cell,\n",
    "                'Std. Error'=se_tx_cell,\n",
    "                't value'=logFC_tx_cell/se_tx_cell,\n",
    "                'Pr(>|t|)'=p_tx_cell\n",
    "                ) %>%\n",
    "            select(Estimate, 'Std. Error', 't value', 'Pr(>|t|)')\n",
    "        )\n",
    "    }\n",
    "\n",
    "glmgp.mult <- function(formula, count, df){\n",
    "    sce.obj <- SingleCellExperiment::SingleCellExperiment(list(counts=count), colData=df)\n",
    "    sce.pb <- glmGamPoi::pseudobulk(\n",
    "        sce.obj,\n",
    "        group_by=vars(id, tx_cell),\n",
    "        verbose=FALSE\n",
    "        )\n",
    "\n",
    "    fit <- glmGamPoi::glm_gp(sce.pb, design=~1+tx_cell)\n",
    "    test <- glmGamPoi::test_de(fit, reduced_design=~1)\n",
    "    \n",
    "    beta <- fit$Beta[,'tx_cell']\n",
    "    pval <- test$pval\n",
    "    tval <- qnorm(1-pval/2) * sign(beta)\n",
    "    se <- beta/tval\n",
    "    result <- cbind(beta, se, tval, pval)\n",
    "    colnames(result) <- c('Estimate', 'Std. Error', 't value', 'Pr(>|t|)')\n",
    "    return(result)\n",
    "    }\n",
    "\n",
    "glmgp.cell.mult <- function(formula, count, df){\n",
    "    sce.obj <- SingleCellExperiment::SingleCellExperiment(list(counts=count), colData=df)\n",
    "    fit <- glmGamPoi::glm_gp(sce.obj, design=~1+tx_cell, on_disk=FALSE, size_factors=FALSE)\n",
    "    test <- glmGamPoi::test_de(fit, reduced_design=~1)\n",
    "    \n",
    "    beta <- fit$Beta[,'tx_cell']\n",
    "    pval <- test$pval\n",
    "    tval <- qnorm(1-pval/2) * sign(beta)\n",
    "    se <- beta/tval\n",
    "    result <- cbind(beta, se, tval, pval)\n",
    "    colnames(result) <- c('Estimate', 'Std. Error', 't value', 'Pr(>|t|)')\n",
    "    return(result)\n",
    "    }\n",
    "\n",
    "edger.mult <- function(formula, count, df){\n",
    "    sce.obj <- SingleCellExperiment::SingleCellExperiment(list(counts=count), colData=df)\n",
    "    sce.pb <- glmGamPoi::pseudobulk(\n",
    "        sce.obj,\n",
    "        group_by=vars(id, tx_cell),\n",
    "        verbose=FALSE\n",
    "        )\n",
    "\n",
    "    design <- model.matrix(~1+tx_cell, data=colData(sce.pb))\n",
    "    edger.obj <- edgeR::DGEList(counts(sce.pb))\n",
    "    edger.obj <- edgeR::estimateDisp(edger.obj, design)\n",
    "    fit <- edgeR::glmQLFit(y=edger.obj, design=design)\n",
    "    test <- edgeR::glmTreat(fit, coef=2)\n",
    "\n",
    "    beta <- test$coefficients[,'tx_cell']\n",
    "    pval <- test$table[,'PValue']\n",
    "    tval <- qnorm(1-pval/2) * sign(beta)\n",
    "    se <- beta/tval\n",
    "\n",
    "    result <- cbind(beta, se, tval, pval)\n",
    "    colnames(result) <- c('Estimate', 'Std. Error', 't value', 'Pr(>|t|)')\n",
    "    \n",
    "    return(result)\n",
    "    }\n",
    "\n",
    "limma.mult <- function(formula, count, df){\n",
    "    sce.obj <- SingleCellExperiment::SingleCellExperiment(list(counts=count), colData=df)\n",
    "    sce.pb <- glmGamPoi::pseudobulk(\n",
    "        sce.obj,\n",
    "        group_by=vars(id, tx_cell),\n",
    "        verbose=FALSE\n",
    "        )\n",
    "\n",
    "    design <- model.matrix(~1+tx_cell, data=colData(sce.pb))\n",
    "    edger.obj <- edgeR::DGEList(counts(sce.pb))\n",
    "    v <- limma::voom(edger.obj, design)\n",
    "    vfit <- limma::lmFit(v, design)\n",
    "    efit <- limma::eBayes(vfit)\n",
    "    \n",
    "    beta <- efit$coefficients[,'tx_cell'] * log(2)\n",
    "    pval <- efit$p.value[,'tx_cell']\n",
    "    tval <- qnorm(1-pval/2) * sign(beta)\n",
    "    se <- beta/tval\n",
    "\n",
    "    result <- cbind(beta, se, tval, pval)\n",
    "    colnames(result) <- c('Estimate', 'Std. Error', 't value', 'Pr(>|t|)')\n",
    "    \n",
    "    return(result)\n",
    "    }\n",
    "\n",
    "src <-\n",
    "\"\n",
    "#include <Rcpp.h>\n",
    "\n",
    "// [[Rcpp::export]]\n",
    "void vec_down_sample(\n",
    "    Rcpp::NumericVector data,\n",
    "    const Rcpp::LogicalVector which,\n",
    "    int begin,\n",
    "    int end,\n",
    "    double prob\n",
    "    ){\n",
    "    for(int i=begin; i<end; i++){\n",
    "        if(which[i]){\n",
    "            data[i] = R::rbinom(data[i], prob);\n",
    "            }\n",
    "        }\n",
    "    }\n",
    "\"\n",
    "sourceCpp(code = src)\n",
    "\n",
    "downCells <- function(spmat, i.rows, j.cols, p){\n",
    "    data <- spmat@x\n",
    "    i.bool <- spmat@i %in% (i.rows-1) # spmat@i begins from 0, i.rows begins from 1\n",
    "    for (j.col in j.cols){\n",
    "        begin <- spmat@p[j.col]\n",
    "        end <- spmat@p[j.col+1]\n",
    "        vec_down_sample(data, i.bool, begin, end, p)\n",
    "        }\n",
    "    }    \n",
    "\n",
    "list.func <- list(\n",
    "    glmgp.mult,\n",
    "    edger.mult,\n",
    "    limma.mult,\n",
    "    glmgp.cell.mult,\n",
    "    fixest.mult,\n",
    "    nebula.mult\n",
    "    )"
   ]
  },
  {
   "cell_type": "code",
   "execution_count": 3,
   "id": "5dd748dd-9a99-4c60-9f12-8ab7f43a745e",
   "metadata": {},
   "outputs": [],
   "source": [
    "seurat.obj <- readRDS('datasets/yazar.seurat.rds')"
   ]
  },
  {
   "cell_type": "code",
   "execution_count": 4,
   "id": "11c5ab96-1d1e-4f41-8324-2a9f1c76f321",
   "metadata": {},
   "outputs": [
    {
     "data": {
      "text/html": [
       "<table class=\"dataframe\">\n",
       "<caption>A data.frame: 6 × 3</caption>\n",
       "<thead>\n",
       "\t<tr><th></th><th scope=col>donor_id</th><th scope=col>cell_type</th><th scope=col>cell_id</th></tr>\n",
       "\t<tr><th></th><th scope=col>&lt;fct&gt;</th><th scope=col>&lt;fct&gt;</th><th scope=col>&lt;chr&gt;</th></tr>\n",
       "</thead>\n",
       "<tbody>\n",
       "\t<tr><th scope=row>AAACCTGAGAATGTTG-1</th><td>691_692</td><td>central memory CD4-positive, alpha-beta T cell      </td><td>AAACCTGAGAATGTTG-1</td></tr>\n",
       "\t<tr><th scope=row>AAACCTGAGAGAACAG-1</th><td>693_694</td><td>natural killer cell                                 </td><td>AAACCTGAGAGAACAG-1</td></tr>\n",
       "\t<tr><th scope=row>AAACCTGAGCATGGCA-1</th><td>688_689</td><td>naive thymus-derived CD4-positive, alpha-beta T cell</td><td>AAACCTGAGCATGGCA-1</td></tr>\n",
       "\t<tr><th scope=row>AAACCTGAGTATTGGA-1</th><td>683_684</td><td>effector memory CD8-positive, alpha-beta T cell     </td><td>AAACCTGAGTATTGGA-1</td></tr>\n",
       "\t<tr><th scope=row>AAACCTGAGTGTCCCG-1</th><td>684_685</td><td>effector memory CD8-positive, alpha-beta T cell     </td><td>AAACCTGAGTGTCCCG-1</td></tr>\n",
       "\t<tr><th scope=row>AAACCTGCAAATTGCC-1</th><td>688_689</td><td>naive thymus-derived CD4-positive, alpha-beta T cell</td><td>AAACCTGCAAATTGCC-1</td></tr>\n",
       "</tbody>\n",
       "</table>\n"
      ],
      "text/latex": [
       "A data.frame: 6 × 3\n",
       "\\begin{tabular}{r|lll}\n",
       "  & donor\\_id & cell\\_type & cell\\_id\\\\\n",
       "  & <fct> & <fct> & <chr>\\\\\n",
       "\\hline\n",
       "\tAAACCTGAGAATGTTG-1 & 691\\_692 & central memory CD4-positive, alpha-beta T cell       & AAACCTGAGAATGTTG-1\\\\\n",
       "\tAAACCTGAGAGAACAG-1 & 693\\_694 & natural killer cell                                  & AAACCTGAGAGAACAG-1\\\\\n",
       "\tAAACCTGAGCATGGCA-1 & 688\\_689 & naive thymus-derived CD4-positive, alpha-beta T cell & AAACCTGAGCATGGCA-1\\\\\n",
       "\tAAACCTGAGTATTGGA-1 & 683\\_684 & effector memory CD8-positive, alpha-beta T cell      & AAACCTGAGTATTGGA-1\\\\\n",
       "\tAAACCTGAGTGTCCCG-1 & 684\\_685 & effector memory CD8-positive, alpha-beta T cell      & AAACCTGAGTGTCCCG-1\\\\\n",
       "\tAAACCTGCAAATTGCC-1 & 688\\_689 & naive thymus-derived CD4-positive, alpha-beta T cell & AAACCTGCAAATTGCC-1\\\\\n",
       "\\end{tabular}\n"
      ],
      "text/markdown": [
       "\n",
       "A data.frame: 6 × 3\n",
       "\n",
       "| <!--/--> | donor_id &lt;fct&gt; | cell_type &lt;fct&gt; | cell_id &lt;chr&gt; |\n",
       "|---|---|---|---|\n",
       "| AAACCTGAGAATGTTG-1 | 691_692 | central memory CD4-positive, alpha-beta T cell       | AAACCTGAGAATGTTG-1 |\n",
       "| AAACCTGAGAGAACAG-1 | 693_694 | natural killer cell                                  | AAACCTGAGAGAACAG-1 |\n",
       "| AAACCTGAGCATGGCA-1 | 688_689 | naive thymus-derived CD4-positive, alpha-beta T cell | AAACCTGAGCATGGCA-1 |\n",
       "| AAACCTGAGTATTGGA-1 | 683_684 | effector memory CD8-positive, alpha-beta T cell      | AAACCTGAGTATTGGA-1 |\n",
       "| AAACCTGAGTGTCCCG-1 | 684_685 | effector memory CD8-positive, alpha-beta T cell      | AAACCTGAGTGTCCCG-1 |\n",
       "| AAACCTGCAAATTGCC-1 | 688_689 | naive thymus-derived CD4-positive, alpha-beta T cell | AAACCTGCAAATTGCC-1 |\n",
       "\n"
      ],
      "text/plain": [
       "                   donor_id\n",
       "AAACCTGAGAATGTTG-1 691_692 \n",
       "AAACCTGAGAGAACAG-1 693_694 \n",
       "AAACCTGAGCATGGCA-1 688_689 \n",
       "AAACCTGAGTATTGGA-1 683_684 \n",
       "AAACCTGAGTGTCCCG-1 684_685 \n",
       "AAACCTGCAAATTGCC-1 688_689 \n",
       "                   cell_type                                           \n",
       "AAACCTGAGAATGTTG-1 central memory CD4-positive, alpha-beta T cell      \n",
       "AAACCTGAGAGAACAG-1 natural killer cell                                 \n",
       "AAACCTGAGCATGGCA-1 naive thymus-derived CD4-positive, alpha-beta T cell\n",
       "AAACCTGAGTATTGGA-1 effector memory CD8-positive, alpha-beta T cell     \n",
       "AAACCTGAGTGTCCCG-1 effector memory CD8-positive, alpha-beta T cell     \n",
       "AAACCTGCAAATTGCC-1 naive thymus-derived CD4-positive, alpha-beta T cell\n",
       "                   cell_id           \n",
       "AAACCTGAGAATGTTG-1 AAACCTGAGAATGTTG-1\n",
       "AAACCTGAGAGAACAG-1 AAACCTGAGAGAACAG-1\n",
       "AAACCTGAGCATGGCA-1 AAACCTGAGCATGGCA-1\n",
       "AAACCTGAGTATTGGA-1 AAACCTGAGTATTGGA-1\n",
       "AAACCTGAGTGTCCCG-1 AAACCTGAGTGTCCCG-1\n",
       "AAACCTGCAAATTGCC-1 AAACCTGCAAATTGCC-1"
      ]
     },
     "metadata": {},
     "output_type": "display_data"
    }
   ],
   "source": [
    "# https://satijalab.org/seurat/articles/essential_commands.html\n",
    "# prepare data\n",
    "cols <- c('donor_id', 'cell_type') \n",
    "col.data <- seurat.obj[[cols]]\n",
    "col.data$cell_id <- rownames(col.data)\n",
    "cnt <- GetAssayData(object = seurat.obj, slot = \"data\")\n",
    "head(col.data)"
   ]
  },
  {
   "cell_type": "code",
   "execution_count": 5,
   "id": "665e9ca9-ce91-41ff-9187-e1fccb437dbc",
   "metadata": {},
   "outputs": [
    {
     "name": "stderr",
     "output_type": "stream",
     "text": [
      "\u001b[1m\u001b[22mSelecting by n\n",
      "\u001b[1m\u001b[22m`summarise()` has grouped output by 'donor_id'. You can override using the `.groups` argument.\n",
      "Warning message:\n",
      "“\u001b[1m\u001b[22mUsing an external vector in selections was deprecated in tidyselect 1.1.0.\n",
      "\u001b[36mℹ\u001b[39m Please use `all_of()` or `any_of()` instead.\n",
      "  # Was:\n",
      "  data %>% select(ct.used)\n",
      "\n",
      "  # Now:\n",
      "  data %>% select(all_of(ct.used))\n",
      "\n",
      "See <https://tidyselect.r-lib.org/reference/faq-external-vector.html>.”\n",
      "\u001b[1m\u001b[22mAdding missing grouping variables: `donor_id`\n",
      "\u001b[1m\u001b[22mSelecting by n\n"
     ]
    },
    {
     "data": {
      "text/html": [
       "<table class=\"dataframe\">\n",
       "<caption>A tibble: 6 × 2</caption>\n",
       "<thead>\n",
       "\t<tr><th scope=col>cell_type</th><th scope=col>n</th></tr>\n",
       "\t<tr><th scope=col>&lt;fct&gt;</th><th scope=col>&lt;int&gt;</th></tr>\n",
       "</thead>\n",
       "<tbody>\n",
       "\t<tr><td>central memory CD4-positive, alpha-beta T cell      </td><td>289000</td></tr>\n",
       "\t<tr><td>naive thymus-derived CD4-positive, alpha-beta T cell</td><td>259012</td></tr>\n",
       "\t<tr><td>natural killer cell                                 </td><td>164933</td></tr>\n",
       "\t<tr><td>effector memory CD8-positive, alpha-beta T cell     </td><td>161051</td></tr>\n",
       "\t<tr><td>naive B cell                                        </td><td> 65702</td></tr>\n",
       "\t<tr><td>naive thymus-derived CD8-positive, alpha-beta T cell</td><td> 52538</td></tr>\n",
       "</tbody>\n",
       "</table>\n"
      ],
      "text/latex": [
       "A tibble: 6 × 2\n",
       "\\begin{tabular}{ll}\n",
       " cell\\_type & n\\\\\n",
       " <fct> & <int>\\\\\n",
       "\\hline\n",
       "\t central memory CD4-positive, alpha-beta T cell       & 289000\\\\\n",
       "\t naive thymus-derived CD4-positive, alpha-beta T cell & 259012\\\\\n",
       "\t natural killer cell                                  & 164933\\\\\n",
       "\t effector memory CD8-positive, alpha-beta T cell      & 161051\\\\\n",
       "\t naive B cell                                         &  65702\\\\\n",
       "\t naive thymus-derived CD8-positive, alpha-beta T cell &  52538\\\\\n",
       "\\end{tabular}\n"
      ],
      "text/markdown": [
       "\n",
       "A tibble: 6 × 2\n",
       "\n",
       "| cell_type &lt;fct&gt; | n &lt;int&gt; |\n",
       "|---|---|\n",
       "| central memory CD4-positive, alpha-beta T cell       | 289000 |\n",
       "| naive thymus-derived CD4-positive, alpha-beta T cell | 259012 |\n",
       "| natural killer cell                                  | 164933 |\n",
       "| effector memory CD8-positive, alpha-beta T cell      | 161051 |\n",
       "| naive B cell                                         |  65702 |\n",
       "| naive thymus-derived CD8-positive, alpha-beta T cell |  52538 |\n",
       "\n"
      ],
      "text/plain": [
       "  cell_type                                            n     \n",
       "1 central memory CD4-positive, alpha-beta T cell       289000\n",
       "2 naive thymus-derived CD4-positive, alpha-beta T cell 259012\n",
       "3 natural killer cell                                  164933\n",
       "4 effector memory CD8-positive, alpha-beta T cell      161051\n",
       "5 naive B cell                                          65702\n",
       "6 naive thymus-derived CD8-positive, alpha-beta T cell  52538"
      ]
     },
     "metadata": {},
     "output_type": "display_data"
    }
   ],
   "source": [
    "# sort cell type by numbers, select top 6\n",
    "ct.used <- col.data %>% \n",
    "    group_by(cell_type) %>%\n",
    "    summarise(n=n()) %>%\n",
    "    arrange(desc(n)) %>%\n",
    "    top_n(6) %>%\n",
    "    pull(cell_type)\n",
    "\n",
    "# select donors with more than 100 cells per selected cell types\n",
    "donor.used <- col.data %>%\n",
    "    group_by(donor_id, cell_type, .drop=FALSE) %>%\n",
    "    summarise(n=n()) %>%\n",
    "    pivot_wider(names_from=cell_type, values_from=n) %>%\n",
    "    select(ct.used) %>%\n",
    "    filter(if_all(ct.used,~.>50)) %>% # ~>.10 is purrr style lambda function\n",
    "    pull(donor_id) \n",
    "col.data %>% \n",
    "    group_by(cell_type) %>%\n",
    "    summarise(n=n()) %>%\n",
    "    arrange(desc(n)) %>%\n",
    "    top_n(6)"
   ]
  },
  {
   "cell_type": "code",
   "execution_count": 34,
   "id": "a7ded08e-c4f7-4129-ac53-3c819e3de803",
   "metadata": {},
   "outputs": [],
   "source": [
    "cell.used <- col.data$donor_id %in% donor.used\n",
    "cnt.used <- cnt[rowMeans(cnt) > 0.01, cell.used]\n",
    "col.data.used <- col.data[cell.used,]"
   ]
  },
  {
   "cell_type": "code",
   "execution_count": 356,
   "id": "42d6d658-1781-425d-a9a1-e9b147c43e17",
   "metadata": {
    "scrolled": true
   },
   "outputs": [
    {
     "name": "stderr",
     "output_type": "stream",
     "text": [
      "\u001b[1m\u001b[22m`summarise()` has grouped output by 'id'. You can override using the `.groups` argument.\n",
      "start regression\n",
      "\n"
     ]
    },
    {
     "name": "stdout",
     "output_type": "stream",
     "text": [
      "Remove  0  genes having low expression.\n",
      "Analyzing  100  genes with  10  subjects and  1727  cells.\n"
     ]
    },
    {
     "name": "stderr",
     "output_type": "stream",
     "text": [
      "\u001b[1m\u001b[22m`summarise()` has grouped output by 'id'. You can override using the `.groups` argument.\n",
      "start regression\n",
      "\n"
     ]
    },
    {
     "name": "stdout",
     "output_type": "stream",
     "text": [
      "Remove  0  genes having low expression.\n",
      "Analyzing  100  genes with  10  subjects and  1755  cells.\n"
     ]
    },
    {
     "name": "stderr",
     "output_type": "stream",
     "text": [
      "\u001b[1m\u001b[22m`summarise()` has grouped output by 'id'. You can override using the `.groups` argument.\n",
      "start regression\n",
      "\n"
     ]
    },
    {
     "name": "stdout",
     "output_type": "stream",
     "text": [
      "Remove  0  genes having low expression.\n",
      "Analyzing  100  genes with  10  subjects and  1695  cells.\n"
     ]
    },
    {
     "name": "stderr",
     "output_type": "stream",
     "text": [
      "\u001b[1m\u001b[22m`summarise()` has grouped output by 'id'. You can override using the `.groups` argument.\n",
      "start regression\n",
      "\n"
     ]
    },
    {
     "name": "stdout",
     "output_type": "stream",
     "text": [
      "Remove  0  genes having low expression.\n",
      "Analyzing  100  genes with  10  subjects and  1894  cells.\n"
     ]
    },
    {
     "name": "stderr",
     "output_type": "stream",
     "text": [
      "\u001b[1m\u001b[22m`summarise()` has grouped output by 'id'. You can override using the `.groups` argument.\n",
      "start regression\n",
      "\n"
     ]
    },
    {
     "name": "stdout",
     "output_type": "stream",
     "text": [
      "Remove  0  genes having low expression.\n",
      "Analyzing  100  genes with  10  subjects and  1677  cells.\n"
     ]
    },
    {
     "name": "stderr",
     "output_type": "stream",
     "text": [
      "\u001b[1m\u001b[22m`summarise()` has grouped output by 'id'. You can override using the `.groups` argument.\n",
      "start regression\n",
      "\n"
     ]
    },
    {
     "name": "stdout",
     "output_type": "stream",
     "text": [
      "Remove  0  genes having low expression.\n",
      "Analyzing  100  genes with  10  subjects and  2008  cells.\n"
     ]
    },
    {
     "name": "stderr",
     "output_type": "stream",
     "text": [
      "\u001b[1m\u001b[22m`summarise()` has grouped output by 'id'. You can override using the `.groups` argument.\n",
      "start regression\n",
      "\n"
     ]
    },
    {
     "name": "stdout",
     "output_type": "stream",
     "text": [
      "Remove  0  genes having low expression.\n",
      "Analyzing  100  genes with  10  subjects and  1849  cells.\n"
     ]
    },
    {
     "name": "stderr",
     "output_type": "stream",
     "text": [
      "\u001b[1m\u001b[22m`summarise()` has grouped output by 'id'. You can override using the `.groups` argument.\n",
      "start regression\n",
      "\n"
     ]
    },
    {
     "name": "stdout",
     "output_type": "stream",
     "text": [
      "Remove  0  genes having low expression.\n",
      "Analyzing  100  genes with  10  subjects and  1641  cells.\n"
     ]
    },
    {
     "name": "stderr",
     "output_type": "stream",
     "text": [
      "\u001b[1m\u001b[22m`summarise()` has grouped output by 'id'. You can override using the `.groups` argument.\n",
      "start regression\n",
      "\n"
     ]
    },
    {
     "name": "stdout",
     "output_type": "stream",
     "text": [
      "Remove  0  genes having low expression.\n",
      "Analyzing  100  genes with  10  subjects and  1661  cells.\n"
     ]
    },
    {
     "name": "stderr",
     "output_type": "stream",
     "text": [
      "\u001b[1m\u001b[22m`summarise()` has grouped output by 'id'. You can override using the `.groups` argument.\n",
      "start regression\n",
      "\n"
     ]
    },
    {
     "name": "stdout",
     "output_type": "stream",
     "text": [
      "Remove  0  genes having low expression.\n",
      "Analyzing  100  genes with  10  subjects and  1492  cells.\n"
     ]
    },
    {
     "name": "stderr",
     "output_type": "stream",
     "text": [
      "\u001b[1m\u001b[22m`summarise()` has grouped output by 'id'. You can override using the `.groups` argument.\n",
      "start regression\n",
      "\n"
     ]
    },
    {
     "name": "stdout",
     "output_type": "stream",
     "text": [
      "Remove  0  genes having low expression.\n",
      "Analyzing  100  genes with  10  subjects and  1657  cells.\n"
     ]
    },
    {
     "name": "stderr",
     "output_type": "stream",
     "text": [
      "\u001b[1m\u001b[22m`summarise()` has grouped output by 'id'. You can override using the `.groups` argument.\n",
      "start regression\n",
      "\n"
     ]
    },
    {
     "name": "stdout",
     "output_type": "stream",
     "text": [
      "Remove  0  genes having low expression.\n",
      "Analyzing  100  genes with  10  subjects and  1898  cells.\n"
     ]
    },
    {
     "name": "stderr",
     "output_type": "stream",
     "text": [
      "\u001b[1m\u001b[22m`summarise()` has grouped output by 'id'. You can override using the `.groups` argument.\n",
      "start regression\n",
      "\n"
     ]
    },
    {
     "name": "stdout",
     "output_type": "stream",
     "text": [
      "Remove  0  genes having low expression.\n",
      "Analyzing  100  genes with  10  subjects and  1598  cells.\n"
     ]
    },
    {
     "name": "stderr",
     "output_type": "stream",
     "text": [
      "\u001b[1m\u001b[22m`summarise()` has grouped output by 'id'. You can override using the `.groups` argument.\n",
      "start regression\n",
      "\n"
     ]
    },
    {
     "name": "stdout",
     "output_type": "stream",
     "text": [
      "Remove  0  genes having low expression.\n",
      "Analyzing  100  genes with  10  subjects and  1678  cells.\n"
     ]
    },
    {
     "name": "stderr",
     "output_type": "stream",
     "text": [
      "\u001b[1m\u001b[22m`summarise()` has grouped output by 'id'. You can override using the `.groups` argument.\n",
      "start regression\n",
      "\n"
     ]
    },
    {
     "name": "stdout",
     "output_type": "stream",
     "text": [
      "Remove  0  genes having low expression.\n",
      "Analyzing  100  genes with  10  subjects and  1367  cells.\n"
     ]
    },
    {
     "name": "stderr",
     "output_type": "stream",
     "text": [
      "\u001b[1m\u001b[22m`summarise()` has grouped output by 'id'. You can override using the `.groups` argument.\n",
      "start regression\n",
      "\n"
     ]
    },
    {
     "name": "stdout",
     "output_type": "stream",
     "text": [
      "Remove  0  genes having low expression.\n",
      "Analyzing  100  genes with  10  subjects and  1835  cells.\n"
     ]
    },
    {
     "name": "stderr",
     "output_type": "stream",
     "text": [
      "\u001b[1m\u001b[22m`summarise()` has grouped output by 'id'. You can override using the `.groups` argument.\n",
      "start regression\n",
      "\n"
     ]
    },
    {
     "name": "stdout",
     "output_type": "stream",
     "text": [
      "Remove  0  genes having low expression.\n",
      "Analyzing  100  genes with  10  subjects and  1940  cells.\n"
     ]
    },
    {
     "name": "stderr",
     "output_type": "stream",
     "text": [
      "\u001b[1m\u001b[22m`summarise()` has grouped output by 'id'. You can override using the `.groups` argument.\n",
      "start regression\n",
      "\n"
     ]
    },
    {
     "name": "stdout",
     "output_type": "stream",
     "text": [
      "Remove  0  genes having low expression.\n",
      "Analyzing  100  genes with  10  subjects and  1757  cells.\n"
     ]
    },
    {
     "name": "stderr",
     "output_type": "stream",
     "text": [
      "\u001b[1m\u001b[22m`summarise()` has grouped output by 'id'. You can override using the `.groups` argument.\n",
      "start regression\n",
      "\n"
     ]
    },
    {
     "name": "stdout",
     "output_type": "stream",
     "text": [
      "Remove  0  genes having low expression.\n",
      "Analyzing  100  genes with  10  subjects and  1660  cells.\n"
     ]
    },
    {
     "name": "stderr",
     "output_type": "stream",
     "text": [
      "\u001b[1m\u001b[22m`summarise()` has grouped output by 'id'. You can override using the `.groups` argument.\n",
      "start regression\n",
      "\n"
     ]
    },
    {
     "name": "stdout",
     "output_type": "stream",
     "text": [
      "Remove  0  genes having low expression.\n",
      "Analyzing  100  genes with  10  subjects and  1979  cells.\n"
     ]
    },
    {
     "name": "stderr",
     "output_type": "stream",
     "text": [
      "\u001b[1m\u001b[22m`summarise()` has grouped output by 'id'. You can override using the `.groups` argument.\n",
      "start regression\n",
      "\n"
     ]
    },
    {
     "name": "stdout",
     "output_type": "stream",
     "text": [
      "Remove  0  genes having low expression.\n",
      "Analyzing  100  genes with  10  subjects and  679  cells.\n"
     ]
    },
    {
     "name": "stderr",
     "output_type": "stream",
     "text": [
      "\u001b[1m\u001b[22m`summarise()` has grouped output by 'id'. You can override using the `.groups` argument.\n",
      "start regression\n",
      "\n"
     ]
    },
    {
     "name": "stdout",
     "output_type": "stream",
     "text": [
      "Remove  0  genes having low expression.\n",
      "Analyzing  100  genes with  10  subjects and  704  cells.\n"
     ]
    },
    {
     "name": "stderr",
     "output_type": "stream",
     "text": [
      "\u001b[1m\u001b[22m`summarise()` has grouped output by 'id'. You can override using the `.groups` argument.\n",
      "start regression\n",
      "\n"
     ]
    },
    {
     "name": "stdout",
     "output_type": "stream",
     "text": [
      "Remove  0  genes having low expression.\n",
      "Analyzing  100  genes with  10  subjects and  1048  cells.\n"
     ]
    },
    {
     "name": "stderr",
     "output_type": "stream",
     "text": [
      "\u001b[1m\u001b[22m`summarise()` has grouped output by 'id'. You can override using the `.groups` argument.\n",
      "start regression\n",
      "\n"
     ]
    },
    {
     "name": "stdout",
     "output_type": "stream",
     "text": [
      "Remove  0  genes having low expression.\n",
      "Analyzing  100  genes with  10  subjects and  687  cells.\n"
     ]
    },
    {
     "name": "stderr",
     "output_type": "stream",
     "text": [
      "\u001b[1m\u001b[22m`summarise()` has grouped output by 'id'. You can override using the `.groups` argument.\n",
      "start regression\n",
      "\n"
     ]
    },
    {
     "name": "stdout",
     "output_type": "stream",
     "text": [
      "Remove  0  genes having low expression.\n",
      "Analyzing  100  genes with  10  subjects and  714  cells.\n"
     ]
    },
    {
     "name": "stderr",
     "output_type": "stream",
     "text": [
      "\u001b[1m\u001b[22m`summarise()` has grouped output by 'id'. You can override using the `.groups` argument.\n",
      "start regression\n",
      "\n"
     ]
    },
    {
     "name": "stdout",
     "output_type": "stream",
     "text": [
      "Remove  0  genes having low expression.\n",
      "Analyzing  100  genes with  10  subjects and  927  cells.\n"
     ]
    },
    {
     "name": "stderr",
     "output_type": "stream",
     "text": [
      "\u001b[1m\u001b[22m`summarise()` has grouped output by 'id'. You can override using the `.groups` argument.\n",
      "start regression\n",
      "\n"
     ]
    },
    {
     "name": "stdout",
     "output_type": "stream",
     "text": [
      "Remove  0  genes having low expression.\n",
      "Analyzing  100  genes with  10  subjects and  919  cells.\n"
     ]
    },
    {
     "name": "stderr",
     "output_type": "stream",
     "text": [
      "\u001b[1m\u001b[22m`summarise()` has grouped output by 'id'. You can override using the `.groups` argument.\n",
      "start regression\n",
      "\n"
     ]
    },
    {
     "name": "stdout",
     "output_type": "stream",
     "text": [
      "Remove  0  genes having low expression.\n",
      "Analyzing  100  genes with  10  subjects and  850  cells.\n"
     ]
    },
    {
     "name": "stderr",
     "output_type": "stream",
     "text": [
      "\u001b[1m\u001b[22m`summarise()` has grouped output by 'id'. You can override using the `.groups` argument.\n",
      "start regression\n",
      "\n"
     ]
    },
    {
     "name": "stdout",
     "output_type": "stream",
     "text": [
      "Remove  0  genes having low expression.\n",
      "Analyzing  100  genes with  10  subjects and  992  cells.\n"
     ]
    },
    {
     "name": "stderr",
     "output_type": "stream",
     "text": [
      "\u001b[1m\u001b[22m`summarise()` has grouped output by 'id'. You can override using the `.groups` argument.\n",
      "start regression\n",
      "\n"
     ]
    },
    {
     "name": "stdout",
     "output_type": "stream",
     "text": [
      "Remove  0  genes having low expression.\n",
      "Analyzing  100  genes with  10  subjects and  891  cells.\n"
     ]
    },
    {
     "name": "stderr",
     "output_type": "stream",
     "text": [
      "\u001b[1m\u001b[22m`summarise()` has grouped output by 'id'. You can override using the `.groups` argument.\n",
      "start regression\n",
      "\n"
     ]
    },
    {
     "name": "stdout",
     "output_type": "stream",
     "text": [
      "Remove  0  genes having low expression.\n",
      "Analyzing  100  genes with  10  subjects and  907  cells.\n"
     ]
    },
    {
     "name": "stderr",
     "output_type": "stream",
     "text": [
      "\u001b[1m\u001b[22m`summarise()` has grouped output by 'id'. You can override using the `.groups` argument.\n",
      "start regression\n",
      "\n"
     ]
    },
    {
     "name": "stdout",
     "output_type": "stream",
     "text": [
      "Remove  0  genes having low expression.\n",
      "Analyzing  100  genes with  10  subjects and  630  cells.\n"
     ]
    },
    {
     "name": "stderr",
     "output_type": "stream",
     "text": [
      "\u001b[1m\u001b[22m`summarise()` has grouped output by 'id'. You can override using the `.groups` argument.\n",
      "start regression\n",
      "\n"
     ]
    },
    {
     "name": "stdout",
     "output_type": "stream",
     "text": [
      "Remove  0  genes having low expression.\n",
      "Analyzing  100  genes with  10  subjects and  816  cells.\n"
     ]
    },
    {
     "name": "stderr",
     "output_type": "stream",
     "text": [
      "\u001b[1m\u001b[22m`summarise()` has grouped output by 'id'. You can override using the `.groups` argument.\n",
      "start regression\n",
      "\n"
     ]
    },
    {
     "name": "stdout",
     "output_type": "stream",
     "text": [
      "Remove  0  genes having low expression.\n",
      "Analyzing  100  genes with  10  subjects and  1230  cells.\n"
     ]
    },
    {
     "name": "stderr",
     "output_type": "stream",
     "text": [
      "\u001b[1m\u001b[22m`summarise()` has grouped output by 'id'. You can override using the `.groups` argument.\n",
      "start regression\n",
      "\n"
     ]
    },
    {
     "name": "stdout",
     "output_type": "stream",
     "text": [
      "Remove  0  genes having low expression.\n",
      "Analyzing  100  genes with  10  subjects and  650  cells.\n"
     ]
    },
    {
     "name": "stderr",
     "output_type": "stream",
     "text": [
      "\u001b[1m\u001b[22m`summarise()` has grouped output by 'id'. You can override using the `.groups` argument.\n",
      "start regression\n",
      "\n"
     ]
    },
    {
     "name": "stdout",
     "output_type": "stream",
     "text": [
      "Remove  0  genes having low expression.\n",
      "Analyzing  100  genes with  10  subjects and  800  cells.\n"
     ]
    },
    {
     "name": "stderr",
     "output_type": "stream",
     "text": [
      "\u001b[1m\u001b[22m`summarise()` has grouped output by 'id'. You can override using the `.groups` argument.\n",
      "start regression\n",
      "\n"
     ]
    },
    {
     "name": "stdout",
     "output_type": "stream",
     "text": [
      "Remove  0  genes having low expression.\n",
      "Analyzing  100  genes with  10  subjects and  632  cells.\n"
     ]
    },
    {
     "name": "stderr",
     "output_type": "stream",
     "text": [
      "\u001b[1m\u001b[22m`summarise()` has grouped output by 'id'. You can override using the `.groups` argument.\n",
      "start regression\n",
      "\n"
     ]
    },
    {
     "name": "stdout",
     "output_type": "stream",
     "text": [
      "Remove  0  genes having low expression.\n",
      "Analyzing  100  genes with  10  subjects and  969  cells.\n"
     ]
    },
    {
     "name": "stderr",
     "output_type": "stream",
     "text": [
      "\u001b[1m\u001b[22m`summarise()` has grouped output by 'id'. You can override using the `.groups` argument.\n",
      "start regression\n",
      "\n"
     ]
    },
    {
     "name": "stdout",
     "output_type": "stream",
     "text": [
      "Remove  0  genes having low expression.\n",
      "Analyzing  100  genes with  10  subjects and  741  cells.\n"
     ]
    },
    {
     "name": "stderr",
     "output_type": "stream",
     "text": [
      "\u001b[1m\u001b[22m`summarise()` has grouped output by 'id'. You can override using the `.groups` argument.\n",
      "start regression\n",
      "\n"
     ]
    },
    {
     "name": "stdout",
     "output_type": "stream",
     "text": [
      "Remove  0  genes having low expression.\n",
      "Analyzing  100  genes with  10  subjects and  923  cells.\n"
     ]
    },
    {
     "name": "stderr",
     "output_type": "stream",
     "text": [
      "\u001b[1m\u001b[22m`summarise()` has grouped output by 'id'. You can override using the `.groups` argument.\n",
      "start regression\n",
      "\n"
     ]
    },
    {
     "name": "stdout",
     "output_type": "stream",
     "text": [
      "Remove  0  genes having low expression.\n",
      "Analyzing  100  genes with  10  subjects and  539  cells.\n"
     ]
    },
    {
     "name": "stderr",
     "output_type": "stream",
     "text": [
      "\u001b[1m\u001b[22m`summarise()` has grouped output by 'id'. You can override using the `.groups` argument.\n",
      "start regression\n",
      "\n"
     ]
    },
    {
     "name": "stdout",
     "output_type": "stream",
     "text": [
      "Remove  0  genes having low expression.\n",
      "Analyzing  100  genes with  10  subjects and  508  cells.\n"
     ]
    },
    {
     "name": "stderr",
     "output_type": "stream",
     "text": [
      "\u001b[1m\u001b[22m`summarise()` has grouped output by 'id'. You can override using the `.groups` argument.\n",
      "start regression\n",
      "\n"
     ]
    },
    {
     "name": "stdout",
     "output_type": "stream",
     "text": [
      "Remove  0  genes having low expression.\n",
      "Analyzing  100  genes with  10  subjects and  497  cells.\n"
     ]
    },
    {
     "name": "stderr",
     "output_type": "stream",
     "text": [
      "\u001b[1m\u001b[22m`summarise()` has grouped output by 'id'. You can override using the `.groups` argument.\n",
      "start regression\n",
      "\n"
     ]
    },
    {
     "name": "stdout",
     "output_type": "stream",
     "text": [
      "Remove  0  genes having low expression.\n",
      "Analyzing  100  genes with  10  subjects and  464  cells.\n"
     ]
    },
    {
     "name": "stderr",
     "output_type": "stream",
     "text": [
      "\u001b[1m\u001b[22m`summarise()` has grouped output by 'id'. You can override using the `.groups` argument.\n",
      "start regression\n",
      "\n"
     ]
    },
    {
     "name": "stdout",
     "output_type": "stream",
     "text": [
      "Remove  0  genes having low expression.\n",
      "Analyzing  100  genes with  10  subjects and  489  cells.\n"
     ]
    },
    {
     "name": "stderr",
     "output_type": "stream",
     "text": [
      "\u001b[1m\u001b[22m`summarise()` has grouped output by 'id'. You can override using the `.groups` argument.\n",
      "start regression\n",
      "\n"
     ]
    },
    {
     "name": "stdout",
     "output_type": "stream",
     "text": [
      "Remove  0  genes having low expression.\n",
      "Analyzing  100  genes with  10  subjects and  419  cells.\n"
     ]
    },
    {
     "name": "stderr",
     "output_type": "stream",
     "text": [
      "\u001b[1m\u001b[22m`summarise()` has grouped output by 'id'. You can override using the `.groups` argument.\n",
      "start regression\n",
      "\n"
     ]
    },
    {
     "name": "stdout",
     "output_type": "stream",
     "text": [
      "Remove  0  genes having low expression.\n",
      "Analyzing  100  genes with  10  subjects and  371  cells.\n"
     ]
    },
    {
     "name": "stderr",
     "output_type": "stream",
     "text": [
      "\u001b[1m\u001b[22m`summarise()` has grouped output by 'id'. You can override using the `.groups` argument.\n",
      "start regression\n",
      "\n"
     ]
    },
    {
     "name": "stdout",
     "output_type": "stream",
     "text": [
      "Remove  0  genes having low expression.\n",
      "Analyzing  100  genes with  10  subjects and  675  cells.\n"
     ]
    },
    {
     "name": "stderr",
     "output_type": "stream",
     "text": [
      "\u001b[1m\u001b[22m`summarise()` has grouped output by 'id'. You can override using the `.groups` argument.\n",
      "start regression\n",
      "\n"
     ]
    },
    {
     "name": "stdout",
     "output_type": "stream",
     "text": [
      "Remove  0  genes having low expression.\n",
      "Analyzing  100  genes with  10  subjects and  515  cells.\n"
     ]
    },
    {
     "name": "stderr",
     "output_type": "stream",
     "text": [
      "\u001b[1m\u001b[22m`summarise()` has grouped output by 'id'. You can override using the `.groups` argument.\n",
      "start regression\n",
      "\n"
     ]
    },
    {
     "name": "stdout",
     "output_type": "stream",
     "text": [
      "Remove  0  genes having low expression.\n",
      "Analyzing  100  genes with  10  subjects and  387  cells.\n"
     ]
    },
    {
     "name": "stderr",
     "output_type": "stream",
     "text": [
      "\u001b[1m\u001b[22m`summarise()` has grouped output by 'id'. You can override using the `.groups` argument.\n",
      "start regression\n",
      "\n"
     ]
    },
    {
     "name": "stdout",
     "output_type": "stream",
     "text": [
      "Remove  0  genes having low expression.\n",
      "Analyzing  100  genes with  10  subjects and  814  cells.\n"
     ]
    },
    {
     "name": "stderr",
     "output_type": "stream",
     "text": [
      "\u001b[1m\u001b[22m`summarise()` has grouped output by 'id'. You can override using the `.groups` argument.\n",
      "start regression\n",
      "\n"
     ]
    },
    {
     "name": "stdout",
     "output_type": "stream",
     "text": [
      "Remove  0  genes having low expression.\n",
      "Analyzing  100  genes with  10  subjects and  470  cells.\n"
     ]
    },
    {
     "name": "stderr",
     "output_type": "stream",
     "text": [
      "\u001b[1m\u001b[22m`summarise()` has grouped output by 'id'. You can override using the `.groups` argument.\n",
      "start regression\n",
      "\n"
     ]
    },
    {
     "name": "stdout",
     "output_type": "stream",
     "text": [
      "Remove  0  genes having low expression.\n",
      "Analyzing  100  genes with  10  subjects and  700  cells.\n"
     ]
    },
    {
     "name": "stderr",
     "output_type": "stream",
     "text": [
      "\u001b[1m\u001b[22m`summarise()` has grouped output by 'id'. You can override using the `.groups` argument.\n",
      "start regression\n",
      "\n"
     ]
    },
    {
     "name": "stdout",
     "output_type": "stream",
     "text": [
      "Remove  0  genes having low expression.\n",
      "Analyzing  100  genes with  10  subjects and  429  cells.\n"
     ]
    },
    {
     "name": "stderr",
     "output_type": "stream",
     "text": [
      "\u001b[1m\u001b[22m`summarise()` has grouped output by 'id'. You can override using the `.groups` argument.\n",
      "start regression\n",
      "\n"
     ]
    },
    {
     "name": "stdout",
     "output_type": "stream",
     "text": [
      "Remove  0  genes having low expression.\n",
      "Analyzing  100  genes with  10  subjects and  843  cells.\n"
     ]
    },
    {
     "name": "stderr",
     "output_type": "stream",
     "text": [
      "\u001b[1m\u001b[22m`summarise()` has grouped output by 'id'. You can override using the `.groups` argument.\n",
      "start regression\n",
      "\n"
     ]
    },
    {
     "name": "stdout",
     "output_type": "stream",
     "text": [
      "Remove  0  genes having low expression.\n",
      "Analyzing  100  genes with  10  subjects and  616  cells.\n"
     ]
    },
    {
     "name": "stderr",
     "output_type": "stream",
     "text": [
      "\u001b[1m\u001b[22m`summarise()` has grouped output by 'id'. You can override using the `.groups` argument.\n",
      "start regression\n",
      "\n"
     ]
    },
    {
     "name": "stdout",
     "output_type": "stream",
     "text": [
      "Remove  0  genes having low expression.\n",
      "Analyzing  100  genes with  10  subjects and  489  cells.\n"
     ]
    },
    {
     "name": "stderr",
     "output_type": "stream",
     "text": [
      "\u001b[1m\u001b[22m`summarise()` has grouped output by 'id'. You can override using the `.groups` argument.\n",
      "start regression\n",
      "\n"
     ]
    },
    {
     "name": "stdout",
     "output_type": "stream",
     "text": [
      "Remove  0  genes having low expression.\n",
      "Analyzing  100  genes with  10  subjects and  602  cells.\n"
     ]
    },
    {
     "name": "stderr",
     "output_type": "stream",
     "text": [
      "\u001b[1m\u001b[22m`summarise()` has grouped output by 'id'. You can override using the `.groups` argument.\n",
      "start regression\n",
      "\n"
     ]
    },
    {
     "name": "stdout",
     "output_type": "stream",
     "text": [
      "Remove  0  genes having low expression.\n",
      "Analyzing  100  genes with  10  subjects and  533  cells.\n"
     ]
    },
    {
     "name": "stderr",
     "output_type": "stream",
     "text": [
      "\u001b[1m\u001b[22m`summarise()` has grouped output by 'id'. You can override using the `.groups` argument.\n",
      "start regression\n",
      "\n"
     ]
    },
    {
     "name": "stdout",
     "output_type": "stream",
     "text": [
      "Remove  0  genes having low expression.\n",
      "Analyzing  100  genes with  10  subjects and  592  cells.\n"
     ]
    },
    {
     "data": {
      "text/plain": [
       "Time difference of 40.02938 mins"
      ]
     },
     "metadata": {},
     "output_type": "display_data"
    }
   ],
   "source": [
    "author <- 'yazar'\n",
    "n.sample <- 10\n",
    "exp.cut <- 0.5\n",
    "n.gene <- 100\n",
    "n.sim <- 10\n",
    "samp.prob <- 0.5\n",
    "is.pb <- FALSE\n",
    "t1 <- Sys.time()\n",
    "for (int.ct in 1:length(ct.used)){ #\n",
    "    # select celltype\n",
    "    cell.type <- ct.used[[int.ct]]\n",
    "    bool.ct <- col.data.used$cell_type == cell.type\n",
    "    col.data.ct <- col.data.used[bool.ct,]\n",
    "\n",
    "    # select genes with sufficient mean (nblmm doesn't work for small mean)\n",
    "    cnt.ct <- cnt.used[,bool.ct]\n",
    "    cnt.ct.bm <- cnt.ct[rowMeans2(cnt.ct) > 0.1,]\n",
    "    cnt.ct.bm <- cnt.ct.bm[sample(1:nrow(cnt.ct.bm), n.gene),]\n",
    "    \n",
    "    # boolean index of cells\n",
    "    bool.cell.donor <- lapply(\n",
    "        unique(col.data.ct$donor_id),\n",
    "        function(id.donor){\n",
    "            return(col.data.ct$donor_id == id.donor)\n",
    "            }\n",
    "        )\n",
    "    col.data.donor <- lapply(\n",
    "        bool.cell.donor,\n",
    "        function(bool.donor){\n",
    "            return(col.data.ct[bool.donor,])\n",
    "            }\n",
    "        )\n",
    "    cnt.donor <- lapply(\n",
    "        bool.cell.donor,\n",
    "        function(bool.donor){\n",
    "            return(cnt.ct.bm[,bool.donor])\n",
    "            }\n",
    "        )\n",
    "\n",
    "    list.result.null <- list()\n",
    "    list.result.pow <- list()\n",
    "    for (i.iter in 1:n.sim){\n",
    "        \n",
    "        # sample individuals\n",
    "        ind.select <- sample.int(\n",
    "            n=length(unique(col.data.ct$donor_id)), \n",
    "            size=n.sample,\n",
    "            replace=TRUE\n",
    "            )\n",
    "    \n",
    "        # construct col.data & cnt matrix\n",
    "        col.data.select <- data.table::rbindlist(col.data.donor[ind.select], idcol=\"id\")\n",
    "        cnt.select <- do.call(cbind, cnt.donor[ind.select])\n",
    "        colnames(cnt.select) <- rownames(col.data.select)\n",
    "                   \n",
    "        # select cells randomly\n",
    "        n.per.donor <- col.data.select %>% group_by(id, donor_id) %>% summarise(n=n()) %>% pull(n)\n",
    "        cell.select <- as.logical(unlist(sapply(n.per.donor, rbinom, size=1, p=samp.prob)))\n",
    "        col.data.select <- col.data.select[cell.select,]\n",
    "        cnt.select <- cnt.select[,cell.select]\n",
    "\n",
    "        # assign treatment\n",
    "        col.data.select$tx_cell <- rbinom(n=nrow(col.data.select), size=1, p=0.5)\n",
    "        if (is.pb){ \n",
    "            # assign treatment label\n",
    "            n.tx <- as.integer(n.sample/2)\n",
    "            urn <- c(rep(1,n.tx), rep(0,n.sample-n.tx))\n",
    "            tx.ind <- sample(x=urn, size=n.sample, replace=FALSE)\n",
    "        \n",
    "            # assign tx to cells\n",
    "            cell.per.ind <- col.data.select %>%\n",
    "                group_by(id) %>%\n",
    "                summarise(n=n())\n",
    "            col.data.select$tx_cell <- rep(tx.ind, times=cell.per.ind$n)\n",
    "        }\n",
    "    \n",
    "        # for power simulation, cut expression to half (+ force int)\n",
    "        idx.de <- 1:5\n",
    "        idx.tx <- which(col.data.select$tx_cell == 1)\n",
    "        downCells(cnt.select, idx.de, idx.tx, exp.cut)\n",
    "        cnt.select.t <- t(cnt.select)\n",
    "        \n",
    "        # run tests\n",
    "        message('start regression')\n",
    "        list.formula <- list(\n",
    "            as.formula('~tx_cell'),\n",
    "            as.formula('~tx_cell'),\n",
    "            as.formula('~tx_cell'),\n",
    "            as.formula('~tx_cell'),\n",
    "            as.formula(ifelse(is.pb, 'y~tx_cell', 'y~tx_cell | id')),\n",
    "            as.formula('~tx_cell')\n",
    "            )\n",
    "        list.data <- list(\n",
    "            cnt.select,\n",
    "            cnt.select,\n",
    "            cnt.select,\n",
    "            cnt.select,\n",
    "            cnt.select.t,\n",
    "            cnt.select\n",
    "            )\n",
    "        list.result.method <- list()\n",
    "        for (int.test in 1:length(list.func)){\n",
    "            list.result.method[[int.test]] <- list.func[[int.test]](\n",
    "                list.formula[[int.test]],\n",
    "                list.data[[int.test]],\n",
    "                col.data.select\n",
    "                )[,4] \n",
    "            }\n",
    "        df.result <- do.call(rbind, list.result.method)\n",
    "        rownames(df.result) <- c('glmGamPoi (Pb)', 'edgeR (Pb)', 'limma (Pb)', 'glmGamPoi (cell)', 'robust GLM (cell)', 'NB GLMM')\n",
    "        list.result.null[[i.iter]] <- t(df.result)[6:n.gene,]\n",
    "        list.result.pow[[i.iter]] <- t(df.result)[1:5,]\n",
    "        }\n",
    "\n",
    "    \n",
    "    \n",
    "    # results\n",
    "    df.null <- do.call(rbind, list.result.null)\n",
    "    df.pow <- do.call(rbind, list.result.pow)\n",
    "    \n",
    "    # save name\n",
    "    path.tail <- paste(author,'n',n.sample,'ct',int.ct,'fc',exp.cut,'csv',sep='.')\n",
    "    path.pow.head <- ifelse(is.pb, 'pow_subject/', 'pow_cell/')\n",
    "    path.null.head <- ifelse(is.pb, 'null_subject/', 'null_cell/')\n",
    "    \n",
    "    write.csv(df.null, paste0(path.null.head, path.tail))\n",
    "    write.csv(df.pow, paste0(path.pow.head, path.tail))\n",
    "    \n",
    "    }\n",
    "t2 <- Sys.time()\n",
    "t2-t1"
   ]
  },
  {
   "cell_type": "code",
   "execution_count": 355,
   "id": "64061762-2086-42f8-a5d6-f8e2c1375d20",
   "metadata": {
    "scrolled": true
   },
   "outputs": [
    {
     "name": "stderr",
     "output_type": "stream",
     "text": [
      "\u001b[1m\u001b[22m`summarise()` has grouped output by 'id'. You can override using the `.groups` argument.\n",
      "start regression\n",
      "\n"
     ]
    },
    {
     "name": "stdout",
     "output_type": "stream",
     "text": [
      "Remove  0  genes having low expression.\n",
      "Analyzing  100  genes with  10  subjects and  1546  cells.\n"
     ]
    },
    {
     "name": "stderr",
     "output_type": "stream",
     "text": [
      "\u001b[1m\u001b[22m`summarise()` has grouped output by 'id'. You can override using the `.groups` argument.\n",
      "start regression\n",
      "\n"
     ]
    },
    {
     "name": "stdout",
     "output_type": "stream",
     "text": [
      "Remove  0  genes having low expression.\n",
      "Analyzing  100  genes with  10  subjects and  1439  cells.\n"
     ]
    },
    {
     "name": "stderr",
     "output_type": "stream",
     "text": [
      "\u001b[1m\u001b[22m`summarise()` has grouped output by 'id'. You can override using the `.groups` argument.\n",
      "start regression\n",
      "\n"
     ]
    },
    {
     "name": "stdout",
     "output_type": "stream",
     "text": [
      "Remove  0  genes having low expression.\n",
      "Analyzing  100  genes with  10  subjects and  1773  cells.\n"
     ]
    },
    {
     "name": "stderr",
     "output_type": "stream",
     "text": [
      "\u001b[1m\u001b[22m`summarise()` has grouped output by 'id'. You can override using the `.groups` argument.\n",
      "start regression\n",
      "\n"
     ]
    },
    {
     "name": "stdout",
     "output_type": "stream",
     "text": [
      "Remove  0  genes having low expression.\n",
      "Analyzing  100  genes with  10  subjects and  1804  cells.\n"
     ]
    },
    {
     "name": "stderr",
     "output_type": "stream",
     "text": [
      "\u001b[1m\u001b[22m`summarise()` has grouped output by 'id'. You can override using the `.groups` argument.\n",
      "start regression\n",
      "\n"
     ]
    },
    {
     "name": "stdout",
     "output_type": "stream",
     "text": [
      "Remove  0  genes having low expression.\n",
      "Analyzing  100  genes with  10  subjects and  1374  cells.\n"
     ]
    },
    {
     "name": "stderr",
     "output_type": "stream",
     "text": [
      "\u001b[1m\u001b[22m`summarise()` has grouped output by 'id'. You can override using the `.groups` argument.\n",
      "start regression\n",
      "\n"
     ]
    },
    {
     "name": "stdout",
     "output_type": "stream",
     "text": [
      "Remove  0  genes having low expression.\n",
      "Analyzing  100  genes with  10  subjects and  1746  cells.\n"
     ]
    },
    {
     "name": "stderr",
     "output_type": "stream",
     "text": [
      "\u001b[1m\u001b[22m`summarise()` has grouped output by 'id'. You can override using the `.groups` argument.\n",
      "start regression\n",
      "\n"
     ]
    },
    {
     "name": "stdout",
     "output_type": "stream",
     "text": [
      "Remove  0  genes having low expression.\n",
      "Analyzing  100  genes with  10  subjects and  2046  cells.\n"
     ]
    },
    {
     "name": "stderr",
     "output_type": "stream",
     "text": [
      "\u001b[1m\u001b[22m`summarise()` has grouped output by 'id'. You can override using the `.groups` argument.\n",
      "start regression\n",
      "\n"
     ]
    },
    {
     "name": "stdout",
     "output_type": "stream",
     "text": [
      "Remove  0  genes having low expression.\n",
      "Analyzing  100  genes with  10  subjects and  1770  cells.\n"
     ]
    },
    {
     "name": "stderr",
     "output_type": "stream",
     "text": [
      "\u001b[1m\u001b[22m`summarise()` has grouped output by 'id'. You can override using the `.groups` argument.\n",
      "start regression\n",
      "\n"
     ]
    },
    {
     "name": "stdout",
     "output_type": "stream",
     "text": [
      "Remove  0  genes having low expression.\n",
      "Analyzing  100  genes with  10  subjects and  1704  cells.\n"
     ]
    },
    {
     "name": "stderr",
     "output_type": "stream",
     "text": [
      "\u001b[1m\u001b[22m`summarise()` has grouped output by 'id'. You can override using the `.groups` argument.\n",
      "start regression\n",
      "\n"
     ]
    },
    {
     "name": "stdout",
     "output_type": "stream",
     "text": [
      "Remove  0  genes having low expression.\n",
      "Analyzing  100  genes with  10  subjects and  2141  cells.\n"
     ]
    },
    {
     "name": "stderr",
     "output_type": "stream",
     "text": [
      "\u001b[1m\u001b[22m`summarise()` has grouped output by 'id'. You can override using the `.groups` argument.\n",
      "start regression\n",
      "\n"
     ]
    },
    {
     "name": "stdout",
     "output_type": "stream",
     "text": [
      "Remove  0  genes having low expression.\n",
      "Analyzing  100  genes with  10  subjects and  1622  cells.\n"
     ]
    },
    {
     "name": "stderr",
     "output_type": "stream",
     "text": [
      "\u001b[1m\u001b[22m`summarise()` has grouped output by 'id'. You can override using the `.groups` argument.\n",
      "start regression\n",
      "\n"
     ]
    },
    {
     "name": "stdout",
     "output_type": "stream",
     "text": [
      "Remove  0  genes having low expression.\n",
      "Analyzing  100  genes with  10  subjects and  1773  cells.\n"
     ]
    },
    {
     "name": "stderr",
     "output_type": "stream",
     "text": [
      "\u001b[1m\u001b[22m`summarise()` has grouped output by 'id'. You can override using the `.groups` argument.\n",
      "start regression\n",
      "\n"
     ]
    },
    {
     "name": "stdout",
     "output_type": "stream",
     "text": [
      "Remove  0  genes having low expression.\n",
      "Analyzing  100  genes with  10  subjects and  1402  cells.\n"
     ]
    },
    {
     "name": "stderr",
     "output_type": "stream",
     "text": [
      "\u001b[1m\u001b[22m`summarise()` has grouped output by 'id'. You can override using the `.groups` argument.\n",
      "start regression\n",
      "\n"
     ]
    },
    {
     "name": "stdout",
     "output_type": "stream",
     "text": [
      "Remove  0  genes having low expression.\n",
      "Analyzing  100  genes with  10  subjects and  1886  cells.\n"
     ]
    },
    {
     "name": "stderr",
     "output_type": "stream",
     "text": [
      "\u001b[1m\u001b[22m`summarise()` has grouped output by 'id'. You can override using the `.groups` argument.\n",
      "start regression\n",
      "\n"
     ]
    },
    {
     "name": "stdout",
     "output_type": "stream",
     "text": [
      "Remove  0  genes having low expression.\n",
      "Analyzing  100  genes with  10  subjects and  1432  cells.\n"
     ]
    },
    {
     "name": "stderr",
     "output_type": "stream",
     "text": [
      "\u001b[1m\u001b[22m`summarise()` has grouped output by 'id'. You can override using the `.groups` argument.\n",
      "start regression\n",
      "\n"
     ]
    },
    {
     "name": "stdout",
     "output_type": "stream",
     "text": [
      "Remove  0  genes having low expression.\n",
      "Analyzing  100  genes with  10  subjects and  1914  cells.\n"
     ]
    },
    {
     "name": "stderr",
     "output_type": "stream",
     "text": [
      "\u001b[1m\u001b[22m`summarise()` has grouped output by 'id'. You can override using the `.groups` argument.\n",
      "start regression\n",
      "\n"
     ]
    },
    {
     "name": "stdout",
     "output_type": "stream",
     "text": [
      "Remove  0  genes having low expression.\n",
      "Analyzing  100  genes with  10  subjects and  1779  cells.\n"
     ]
    },
    {
     "name": "stderr",
     "output_type": "stream",
     "text": [
      "\u001b[1m\u001b[22m`summarise()` has grouped output by 'id'. You can override using the `.groups` argument.\n",
      "start regression\n",
      "\n"
     ]
    },
    {
     "name": "stdout",
     "output_type": "stream",
     "text": [
      "Remove  0  genes having low expression.\n",
      "Analyzing  100  genes with  10  subjects and  1954  cells.\n"
     ]
    },
    {
     "name": "stderr",
     "output_type": "stream",
     "text": [
      "\u001b[1m\u001b[22m`summarise()` has grouped output by 'id'. You can override using the `.groups` argument.\n",
      "start regression\n",
      "\n"
     ]
    },
    {
     "name": "stdout",
     "output_type": "stream",
     "text": [
      "Remove  0  genes having low expression.\n",
      "Analyzing  100  genes with  10  subjects and  1575  cells.\n"
     ]
    },
    {
     "name": "stderr",
     "output_type": "stream",
     "text": [
      "\u001b[1m\u001b[22m`summarise()` has grouped output by 'id'. You can override using the `.groups` argument.\n",
      "start regression\n",
      "\n"
     ]
    },
    {
     "name": "stdout",
     "output_type": "stream",
     "text": [
      "Remove  0  genes having low expression.\n",
      "Analyzing  100  genes with  10  subjects and  1803  cells.\n"
     ]
    },
    {
     "name": "stderr",
     "output_type": "stream",
     "text": [
      "\u001b[1m\u001b[22m`summarise()` has grouped output by 'id'. You can override using the `.groups` argument.\n",
      "start regression\n",
      "\n"
     ]
    },
    {
     "name": "stdout",
     "output_type": "stream",
     "text": [
      "Remove  0  genes having low expression.\n",
      "Analyzing  100  genes with  10  subjects and  932  cells.\n"
     ]
    },
    {
     "name": "stderr",
     "output_type": "stream",
     "text": [
      "\u001b[1m\u001b[22m`summarise()` has grouped output by 'id'. You can override using the `.groups` argument.\n",
      "start regression\n",
      "\n"
     ]
    },
    {
     "name": "stdout",
     "output_type": "stream",
     "text": [
      "Remove  0  genes having low expression.\n",
      "Analyzing  100  genes with  10  subjects and  1322  cells.\n"
     ]
    },
    {
     "name": "stderr",
     "output_type": "stream",
     "text": [
      "\u001b[1m\u001b[22m`summarise()` has grouped output by 'id'. You can override using the `.groups` argument.\n",
      "start regression\n",
      "\n"
     ]
    },
    {
     "name": "stdout",
     "output_type": "stream",
     "text": [
      "Remove  0  genes having low expression.\n",
      "Analyzing  100  genes with  10  subjects and  745  cells.\n"
     ]
    },
    {
     "name": "stderr",
     "output_type": "stream",
     "text": [
      "\u001b[1m\u001b[22m`summarise()` has grouped output by 'id'. You can override using the `.groups` argument.\n",
      "start regression\n",
      "\n"
     ]
    },
    {
     "name": "stdout",
     "output_type": "stream",
     "text": [
      "Remove  0  genes having low expression.\n",
      "Analyzing  100  genes with  10  subjects and  736  cells.\n"
     ]
    },
    {
     "name": "stderr",
     "output_type": "stream",
     "text": [
      "\u001b[1m\u001b[22m`summarise()` has grouped output by 'id'. You can override using the `.groups` argument.\n",
      "start regression\n",
      "\n"
     ]
    },
    {
     "name": "stdout",
     "output_type": "stream",
     "text": [
      "Remove  0  genes having low expression.\n",
      "Analyzing  100  genes with  10  subjects and  1123  cells.\n"
     ]
    },
    {
     "name": "stderr",
     "output_type": "stream",
     "text": [
      "\u001b[1m\u001b[22m`summarise()` has grouped output by 'id'. You can override using the `.groups` argument.\n",
      "start regression\n",
      "\n"
     ]
    },
    {
     "name": "stdout",
     "output_type": "stream",
     "text": [
      "Remove  0  genes having low expression.\n",
      "Analyzing  100  genes with  10  subjects and  1022  cells.\n"
     ]
    },
    {
     "name": "stderr",
     "output_type": "stream",
     "text": [
      "\u001b[1m\u001b[22m`summarise()` has grouped output by 'id'. You can override using the `.groups` argument.\n",
      "start regression\n",
      "\n"
     ]
    },
    {
     "name": "stdout",
     "output_type": "stream",
     "text": [
      "Remove  0  genes having low expression.\n",
      "Analyzing  100  genes with  10  subjects and  763  cells.\n"
     ]
    },
    {
     "name": "stderr",
     "output_type": "stream",
     "text": [
      "\u001b[1m\u001b[22m`summarise()` has grouped output by 'id'. You can override using the `.groups` argument.\n",
      "start regression\n",
      "\n"
     ]
    },
    {
     "name": "stdout",
     "output_type": "stream",
     "text": [
      "Remove  0  genes having low expression.\n",
      "Analyzing  100  genes with  10  subjects and  1029  cells.\n"
     ]
    },
    {
     "name": "stderr",
     "output_type": "stream",
     "text": [
      "\u001b[1m\u001b[22m`summarise()` has grouped output by 'id'. You can override using the `.groups` argument.\n",
      "start regression\n",
      "\n"
     ]
    },
    {
     "name": "stdout",
     "output_type": "stream",
     "text": [
      "Remove  0  genes having low expression.\n",
      "Analyzing  100  genes with  10  subjects and  899  cells.\n"
     ]
    },
    {
     "name": "stderr",
     "output_type": "stream",
     "text": [
      "\u001b[1m\u001b[22m`summarise()` has grouped output by 'id'. You can override using the `.groups` argument.\n",
      "start regression\n",
      "\n"
     ]
    },
    {
     "name": "stdout",
     "output_type": "stream",
     "text": [
      "Remove  0  genes having low expression.\n",
      "Analyzing  100  genes with  10  subjects and  830  cells.\n"
     ]
    },
    {
     "name": "stderr",
     "output_type": "stream",
     "text": [
      "\u001b[1m\u001b[22m`summarise()` has grouped output by 'id'. You can override using the `.groups` argument.\n",
      "start regression\n",
      "\n"
     ]
    },
    {
     "name": "stdout",
     "output_type": "stream",
     "text": [
      "Remove  0  genes having low expression.\n",
      "Analyzing  100  genes with  10  subjects and  1065  cells.\n"
     ]
    },
    {
     "name": "stderr",
     "output_type": "stream",
     "text": [
      "\u001b[1m\u001b[22m`summarise()` has grouped output by 'id'. You can override using the `.groups` argument.\n",
      "start regression\n",
      "\n"
     ]
    },
    {
     "name": "stdout",
     "output_type": "stream",
     "text": [
      "Remove  0  genes having low expression.\n",
      "Analyzing  100  genes with  10  subjects and  967  cells.\n"
     ]
    },
    {
     "name": "stderr",
     "output_type": "stream",
     "text": [
      "\u001b[1m\u001b[22m`summarise()` has grouped output by 'id'. You can override using the `.groups` argument.\n",
      "start regression\n",
      "\n"
     ]
    },
    {
     "name": "stdout",
     "output_type": "stream",
     "text": [
      "Remove  0  genes having low expression.\n",
      "Analyzing  100  genes with  10  subjects and  760  cells.\n"
     ]
    },
    {
     "name": "stderr",
     "output_type": "stream",
     "text": [
      "\u001b[1m\u001b[22m`summarise()` has grouped output by 'id'. You can override using the `.groups` argument.\n",
      "start regression\n",
      "\n"
     ]
    },
    {
     "name": "stdout",
     "output_type": "stream",
     "text": [
      "Remove  0  genes having low expression.\n",
      "Analyzing  100  genes with  10  subjects and  520  cells.\n"
     ]
    },
    {
     "name": "stderr",
     "output_type": "stream",
     "text": [
      "\u001b[1m\u001b[22m`summarise()` has grouped output by 'id'. You can override using the `.groups` argument.\n",
      "start regression\n",
      "\n"
     ]
    },
    {
     "name": "stdout",
     "output_type": "stream",
     "text": [
      "Remove  0  genes having low expression.\n",
      "Analyzing  100  genes with  10  subjects and  826  cells.\n"
     ]
    },
    {
     "name": "stderr",
     "output_type": "stream",
     "text": [
      "\u001b[1m\u001b[22m`summarise()` has grouped output by 'id'. You can override using the `.groups` argument.\n",
      "start regression\n",
      "\n"
     ]
    },
    {
     "name": "stdout",
     "output_type": "stream",
     "text": [
      "Remove  0  genes having low expression.\n",
      "Analyzing  100  genes with  10  subjects and  844  cells.\n"
     ]
    },
    {
     "name": "stderr",
     "output_type": "stream",
     "text": [
      "\u001b[1m\u001b[22m`summarise()` has grouped output by 'id'. You can override using the `.groups` argument.\n",
      "start regression\n",
      "\n"
     ]
    },
    {
     "name": "stdout",
     "output_type": "stream",
     "text": [
      "Remove  0  genes having low expression.\n",
      "Analyzing  100  genes with  10  subjects and  610  cells.\n"
     ]
    },
    {
     "name": "stderr",
     "output_type": "stream",
     "text": [
      "\u001b[1m\u001b[22m`summarise()` has grouped output by 'id'. You can override using the `.groups` argument.\n",
      "start regression\n",
      "\n"
     ]
    },
    {
     "name": "stdout",
     "output_type": "stream",
     "text": [
      "Remove  0  genes having low expression.\n",
      "Analyzing  100  genes with  10  subjects and  798  cells.\n"
     ]
    },
    {
     "name": "stderr",
     "output_type": "stream",
     "text": [
      "\u001b[1m\u001b[22m`summarise()` has grouped output by 'id'. You can override using the `.groups` argument.\n",
      "start regression\n",
      "\n"
     ]
    },
    {
     "name": "stdout",
     "output_type": "stream",
     "text": [
      "Remove  0  genes having low expression.\n",
      "Analyzing  100  genes with  10  subjects and  513  cells.\n"
     ]
    },
    {
     "name": "stderr",
     "output_type": "stream",
     "text": [
      "\u001b[1m\u001b[22m`summarise()` has grouped output by 'id'. You can override using the `.groups` argument.\n",
      "start regression\n",
      "\n"
     ]
    },
    {
     "name": "stdout",
     "output_type": "stream",
     "text": [
      "Remove  0  genes having low expression.\n",
      "Analyzing  100  genes with  10  subjects and  824  cells.\n"
     ]
    },
    {
     "name": "stderr",
     "output_type": "stream",
     "text": [
      "\u001b[1m\u001b[22m`summarise()` has grouped output by 'id'. You can override using the `.groups` argument.\n",
      "start regression\n",
      "\n"
     ]
    },
    {
     "name": "stdout",
     "output_type": "stream",
     "text": [
      "Remove  0  genes having low expression.\n",
      "Analyzing  100  genes with  10  subjects and  692  cells.\n"
     ]
    },
    {
     "name": "stderr",
     "output_type": "stream",
     "text": [
      "\u001b[1m\u001b[22m`summarise()` has grouped output by 'id'. You can override using the `.groups` argument.\n",
      "start regression\n",
      "\n"
     ]
    },
    {
     "name": "stdout",
     "output_type": "stream",
     "text": [
      "Remove  0  genes having low expression.\n",
      "Analyzing  100  genes with  10  subjects and  425  cells.\n"
     ]
    },
    {
     "name": "stderr",
     "output_type": "stream",
     "text": [
      "\u001b[1m\u001b[22m`summarise()` has grouped output by 'id'. You can override using the `.groups` argument.\n",
      "start regression\n",
      "\n"
     ]
    },
    {
     "name": "stdout",
     "output_type": "stream",
     "text": [
      "Remove  0  genes having low expression.\n",
      "Analyzing  100  genes with  10  subjects and  487  cells.\n"
     ]
    },
    {
     "name": "stderr",
     "output_type": "stream",
     "text": [
      "\u001b[1m\u001b[22m`summarise()` has grouped output by 'id'. You can override using the `.groups` argument.\n",
      "start regression\n",
      "\n"
     ]
    },
    {
     "name": "stdout",
     "output_type": "stream",
     "text": [
      "Remove  0  genes having low expression.\n",
      "Analyzing  100  genes with  10  subjects and  664  cells.\n"
     ]
    },
    {
     "name": "stderr",
     "output_type": "stream",
     "text": [
      "\u001b[1m\u001b[22m`summarise()` has grouped output by 'id'. You can override using the `.groups` argument.\n",
      "start regression\n",
      "\n"
     ]
    },
    {
     "name": "stdout",
     "output_type": "stream",
     "text": [
      "Remove  0  genes having low expression.\n",
      "Analyzing  100  genes with  10  subjects and  453  cells.\n"
     ]
    },
    {
     "name": "stderr",
     "output_type": "stream",
     "text": [
      "\u001b[1m\u001b[22m`summarise()` has grouped output by 'id'. You can override using the `.groups` argument.\n",
      "start regression\n",
      "\n"
     ]
    },
    {
     "name": "stdout",
     "output_type": "stream",
     "text": [
      "Remove  0  genes having low expression.\n",
      "Analyzing  100  genes with  10  subjects and  723  cells.\n"
     ]
    },
    {
     "name": "stderr",
     "output_type": "stream",
     "text": [
      "\u001b[1m\u001b[22m`summarise()` has grouped output by 'id'. You can override using the `.groups` argument.\n",
      "start regression\n",
      "\n"
     ]
    },
    {
     "name": "stdout",
     "output_type": "stream",
     "text": [
      "Remove  0  genes having low expression.\n",
      "Analyzing  100  genes with  10  subjects and  535  cells.\n"
     ]
    },
    {
     "name": "stderr",
     "output_type": "stream",
     "text": [
      "\u001b[1m\u001b[22m`summarise()` has grouped output by 'id'. You can override using the `.groups` argument.\n",
      "start regression\n",
      "\n"
     ]
    },
    {
     "name": "stdout",
     "output_type": "stream",
     "text": [
      "Remove  0  genes having low expression.\n",
      "Analyzing  100  genes with  10  subjects and  493  cells.\n"
     ]
    },
    {
     "name": "stderr",
     "output_type": "stream",
     "text": [
      "\u001b[1m\u001b[22m`summarise()` has grouped output by 'id'. You can override using the `.groups` argument.\n",
      "start regression\n",
      "\n"
     ]
    },
    {
     "name": "stdout",
     "output_type": "stream",
     "text": [
      "Remove  0  genes having low expression.\n",
      "Analyzing  100  genes with  10  subjects and  417  cells.\n"
     ]
    },
    {
     "name": "stderr",
     "output_type": "stream",
     "text": [
      "\u001b[1m\u001b[22m`summarise()` has grouped output by 'id'. You can override using the `.groups` argument.\n",
      "start regression\n",
      "\n"
     ]
    },
    {
     "name": "stdout",
     "output_type": "stream",
     "text": [
      "Remove  0  genes having low expression.\n",
      "Analyzing  100  genes with  10  subjects and  498  cells.\n"
     ]
    },
    {
     "name": "stderr",
     "output_type": "stream",
     "text": [
      "\u001b[1m\u001b[22m`summarise()` has grouped output by 'id'. You can override using the `.groups` argument.\n",
      "start regression\n",
      "\n"
     ]
    },
    {
     "name": "stdout",
     "output_type": "stream",
     "text": [
      "Remove  0  genes having low expression.\n",
      "Analyzing  100  genes with  10  subjects and  501  cells.\n"
     ]
    },
    {
     "name": "stderr",
     "output_type": "stream",
     "text": [
      "\u001b[1m\u001b[22m`summarise()` has grouped output by 'id'. You can override using the `.groups` argument.\n",
      "start regression\n",
      "\n"
     ]
    },
    {
     "name": "stdout",
     "output_type": "stream",
     "text": [
      "Remove  0  genes having low expression.\n",
      "Analyzing  100  genes with  10  subjects and  937  cells.\n"
     ]
    },
    {
     "name": "stderr",
     "output_type": "stream",
     "text": [
      "\u001b[1m\u001b[22m`summarise()` has grouped output by 'id'. You can override using the `.groups` argument.\n",
      "start regression\n",
      "\n"
     ]
    },
    {
     "name": "stdout",
     "output_type": "stream",
     "text": [
      "Remove  0  genes having low expression.\n",
      "Analyzing  100  genes with  10  subjects and  463  cells.\n"
     ]
    },
    {
     "name": "stderr",
     "output_type": "stream",
     "text": [
      "\u001b[1m\u001b[22m`summarise()` has grouped output by 'id'. You can override using the `.groups` argument.\n",
      "start regression\n",
      "\n"
     ]
    },
    {
     "name": "stdout",
     "output_type": "stream",
     "text": [
      "Remove  0  genes having low expression.\n",
      "Analyzing  100  genes with  10  subjects and  536  cells.\n"
     ]
    },
    {
     "name": "stderr",
     "output_type": "stream",
     "text": [
      "\u001b[1m\u001b[22m`summarise()` has grouped output by 'id'. You can override using the `.groups` argument.\n",
      "start regression\n",
      "\n"
     ]
    },
    {
     "name": "stdout",
     "output_type": "stream",
     "text": [
      "Remove  0  genes having low expression.\n",
      "Analyzing  100  genes with  10  subjects and  563  cells.\n"
     ]
    },
    {
     "name": "stderr",
     "output_type": "stream",
     "text": [
      "\u001b[1m\u001b[22m`summarise()` has grouped output by 'id'. You can override using the `.groups` argument.\n",
      "start regression\n",
      "\n"
     ]
    },
    {
     "name": "stdout",
     "output_type": "stream",
     "text": [
      "Remove  0  genes having low expression.\n",
      "Analyzing  100  genes with  10  subjects and  595  cells.\n"
     ]
    },
    {
     "name": "stderr",
     "output_type": "stream",
     "text": [
      "\u001b[1m\u001b[22m`summarise()` has grouped output by 'id'. You can override using the `.groups` argument.\n",
      "start regression\n",
      "\n"
     ]
    },
    {
     "name": "stdout",
     "output_type": "stream",
     "text": [
      "Remove  0  genes having low expression.\n",
      "Analyzing  100  genes with  10  subjects and  535  cells.\n"
     ]
    },
    {
     "name": "stderr",
     "output_type": "stream",
     "text": [
      "\u001b[1m\u001b[22m`summarise()` has grouped output by 'id'. You can override using the `.groups` argument.\n",
      "start regression\n",
      "\n"
     ]
    },
    {
     "name": "stdout",
     "output_type": "stream",
     "text": [
      "Remove  0  genes having low expression.\n",
      "Analyzing  100  genes with  10  subjects and  437  cells.\n"
     ]
    },
    {
     "name": "stderr",
     "output_type": "stream",
     "text": [
      "\u001b[1m\u001b[22m`summarise()` has grouped output by 'id'. You can override using the `.groups` argument.\n",
      "start regression\n",
      "\n"
     ]
    },
    {
     "name": "stdout",
     "output_type": "stream",
     "text": [
      "Remove  0  genes having low expression.\n",
      "Analyzing  100  genes with  10  subjects and  768  cells.\n"
     ]
    },
    {
     "name": "stderr",
     "output_type": "stream",
     "text": [
      "\u001b[1m\u001b[22m`summarise()` has grouped output by 'id'. You can override using the `.groups` argument.\n",
      "start regression\n",
      "\n"
     ]
    },
    {
     "name": "stdout",
     "output_type": "stream",
     "text": [
      "Remove  0  genes having low expression.\n",
      "Analyzing  100  genes with  10  subjects and  1085  cells.\n"
     ]
    },
    {
     "data": {
      "text/plain": [
       "Time difference of 36.2205 mins"
      ]
     },
     "metadata": {},
     "output_type": "display_data"
    }
   ],
   "source": [
    "author <- 'yazar'\n",
    "n.sample <- 10\n",
    "exp.cut <- 0.5\n",
    "n.gene <- 100\n",
    "n.sim <- 10\n",
    "samp.prob <- 0.5\n",
    "is.pb <- TRUE\n",
    "t1 <- Sys.time()\n",
    "for (int.ct in 1:length(ct.used)){ #\n",
    "    # select celltype\n",
    "    cell.type <- ct.used[[int.ct]]\n",
    "    bool.ct <- col.data.used$cell_type == cell.type\n",
    "    col.data.ct <- col.data.used[bool.ct,]\n",
    "\n",
    "    # select genes with sufficient mean (nblmm doesn't work for small mean)\n",
    "    cnt.ct <- cnt.used[,bool.ct]\n",
    "    cnt.ct.bm <- cnt.ct[rowMeans2(cnt.ct) > 0.1,]\n",
    "    cnt.ct.bm <- cnt.ct.bm[sample(1:nrow(cnt.ct.bm), n.gene),]\n",
    "    \n",
    "    # boolean index of cells\n",
    "    bool.cell.donor <- lapply(\n",
    "        unique(col.data.ct$donor_id),\n",
    "        function(id.donor){\n",
    "            return(col.data.ct$donor_id == id.donor)\n",
    "            }\n",
    "        )\n",
    "    col.data.donor <- lapply(\n",
    "        bool.cell.donor,\n",
    "        function(bool.donor){\n",
    "            return(col.data.ct[bool.donor,])\n",
    "            }\n",
    "        )\n",
    "    cnt.donor <- lapply(\n",
    "        bool.cell.donor,\n",
    "        function(bool.donor){\n",
    "            return(cnt.ct.bm[,bool.donor])\n",
    "            }\n",
    "        )\n",
    "\n",
    "    list.result.null <- list()\n",
    "    list.result.pow <- list()\n",
    "    for (i.iter in 1:n.sim){\n",
    "        \n",
    "        # sample individuals\n",
    "        ind.select <- sample.int(\n",
    "            n=length(unique(col.data.ct$donor_id)), \n",
    "            size=n.sample,\n",
    "            replace=TRUE\n",
    "            )\n",
    "    \n",
    "        # construct col.data & cnt matrix\n",
    "        col.data.select <- data.table::rbindlist(col.data.donor[ind.select], idcol=\"id\")\n",
    "        cnt.select <- do.call(cbind, cnt.donor[ind.select])\n",
    "        colnames(cnt.select) <- rownames(col.data.select)\n",
    "                   \n",
    "        # select cells randomly\n",
    "        n.per.donor <- col.data.select %>% group_by(id, donor_id) %>% summarise(n=n()) %>% pull(n)\n",
    "        cell.select <- as.logical(unlist(sapply(n.per.donor, rbinom, size=1, p=samp.prob)))\n",
    "        col.data.select <- col.data.select[cell.select,]\n",
    "        cnt.select <- cnt.select[,cell.select]\n",
    "\n",
    "        # assign treatment\n",
    "        col.data.select$tx_cell <- rbinom(n=nrow(col.data.select), size=1, p=0.5)\n",
    "        if (is.pb){ \n",
    "            # assign treatment label\n",
    "            n.tx <- as.integer(n.sample/2)\n",
    "            urn <- c(rep(1,n.tx), rep(0,n.sample-n.tx))\n",
    "            tx.ind <- sample(x=urn, size=n.sample, replace=FALSE)\n",
    "        \n",
    "            # assign tx to cells\n",
    "            cell.per.ind <- col.data.select %>%\n",
    "                group_by(id) %>%\n",
    "                summarise(n=n())\n",
    "            col.data.select$tx_cell <- rep(tx.ind, times=cell.per.ind$n)\n",
    "        }\n",
    "    \n",
    "        # for power simulation, cut expression to half (+ force int)\n",
    "        idx.de <- 1:5\n",
    "        idx.tx <- which(col.data.select$tx_cell == 1)\n",
    "        downCells(cnt.select, idx.de, idx.tx, exp.cut)\n",
    "        cnt.select.t <- t(cnt.select)\n",
    "        \n",
    "        # run tests\n",
    "        message('start regression')\n",
    "        list.formula <- list(\n",
    "            as.formula('~tx_cell'),\n",
    "            as.formula('~tx_cell'),\n",
    "            as.formula('~tx_cell'),\n",
    "            as.formula('~tx_cell'),\n",
    "            as.formula(ifelse(is.pb, 'y~tx_cell', 'y~tx_cell | id')),\n",
    "            as.formula('~tx_cell')\n",
    "            )\n",
    "        list.data <- list(\n",
    "            cnt.select,\n",
    "            cnt.select,\n",
    "            cnt.select,\n",
    "            cnt.select,\n",
    "            cnt.select.t,\n",
    "            cnt.select\n",
    "            )\n",
    "        list.result.method <- list()\n",
    "        for (int.test in 1:length(list.func)){\n",
    "            list.result.method[[int.test]] <- list.func[[int.test]](\n",
    "                list.formula[[int.test]],\n",
    "                list.data[[int.test]],\n",
    "                col.data.select\n",
    "                )[,4] \n",
    "            }\n",
    "        df.result <- do.call(rbind, list.result.method)\n",
    "        rownames(df.result) <- c('glmGamPoi (Pb)', 'edgeR (Pb)', 'limma (Pb)', 'glmGamPoi (cell)', 'robust GLM (cell)', 'NB GLMM')\n",
    "        list.result.null[[i.iter]] <- t(df.result)[6:n.gene,]\n",
    "        list.result.pow[[i.iter]] <- t(df.result)[1:5,]\n",
    "        }\n",
    "\n",
    "    \n",
    "    \n",
    "    # results\n",
    "    df.null <- do.call(rbind, list.result.null)\n",
    "    df.pow <- do.call(rbind, list.result.pow)\n",
    "    \n",
    "    # save name\n",
    "    path.tail <- paste(author,'n',n.sample,'ct',int.ct,'fc',exp.cut,'csv',sep='.')\n",
    "    path.pow.head <- ifelse(is.pb, 'pow_subject/', 'pow_cell/')\n",
    "    path.null.head <- ifelse(is.pb, 'null_subject/', 'null_cell/')\n",
    "    \n",
    "    write.csv(df.null, paste0(path.null.head, path.tail))\n",
    "    write.csv(df.pow, paste0(path.pow.head, path.tail))\n",
    "    \n",
    "    }\n",
    "t2 <- Sys.time()\n",
    "t2-t1"
   ]
  },
  {
   "cell_type": "code",
   "execution_count": 353,
   "id": "d3a78127-f4e8-4886-a7d0-1295bad144d6",
   "metadata": {
    "scrolled": true
   },
   "outputs": [
    {
     "name": "stderr",
     "output_type": "stream",
     "text": [
      "\u001b[1m\u001b[22m`summarise()` has grouped output by 'id'. You can override using the `.groups` argument.\n",
      "start regression\n",
      "\n"
     ]
    },
    {
     "name": "stdout",
     "output_type": "stream",
     "text": [
      "Remove  0  genes having low expression.\n",
      "Analyzing  100  genes with  50  subjects and  9391  cells.\n"
     ]
    },
    {
     "name": "stderr",
     "output_type": "stream",
     "text": [
      "\u001b[1m\u001b[22m`summarise()` has grouped output by 'id'. You can override using the `.groups` argument.\n",
      "start regression\n",
      "\n"
     ]
    },
    {
     "name": "stdout",
     "output_type": "stream",
     "text": [
      "Remove  0  genes having low expression.\n",
      "Analyzing  100  genes with  50  subjects and  8175  cells.\n"
     ]
    },
    {
     "name": "stderr",
     "output_type": "stream",
     "text": [
      "\u001b[1m\u001b[22m`summarise()` has grouped output by 'id'. You can override using the `.groups` argument.\n",
      "start regression\n",
      "\n"
     ]
    },
    {
     "name": "stdout",
     "output_type": "stream",
     "text": [
      "Remove  0  genes having low expression.\n",
      "Analyzing  100  genes with  50  subjects and  9325  cells.\n"
     ]
    },
    {
     "name": "stderr",
     "output_type": "stream",
     "text": [
      "\u001b[1m\u001b[22m`summarise()` has grouped output by 'id'. You can override using the `.groups` argument.\n",
      "start regression\n",
      "\n"
     ]
    },
    {
     "name": "stdout",
     "output_type": "stream",
     "text": [
      "Remove  0  genes having low expression.\n",
      "Analyzing  100  genes with  50  subjects and  8236  cells.\n"
     ]
    },
    {
     "name": "stderr",
     "output_type": "stream",
     "text": [
      "\u001b[1m\u001b[22m`summarise()` has grouped output by 'id'. You can override using the `.groups` argument.\n",
      "start regression\n",
      "\n"
     ]
    },
    {
     "name": "stdout",
     "output_type": "stream",
     "text": [
      "Remove  0  genes having low expression.\n",
      "Analyzing  100  genes with  50  subjects and  9320  cells.\n"
     ]
    },
    {
     "name": "stderr",
     "output_type": "stream",
     "text": [
      "\u001b[1m\u001b[22m`summarise()` has grouped output by 'id'. You can override using the `.groups` argument.\n",
      "start regression\n",
      "\n"
     ]
    },
    {
     "name": "stdout",
     "output_type": "stream",
     "text": [
      "Remove  0  genes having low expression.\n",
      "Analyzing  100  genes with  50  subjects and  9652  cells.\n"
     ]
    },
    {
     "name": "stderr",
     "output_type": "stream",
     "text": [
      "\u001b[1m\u001b[22m`summarise()` has grouped output by 'id'. You can override using the `.groups` argument.\n",
      "start regression\n",
      "\n"
     ]
    },
    {
     "name": "stdout",
     "output_type": "stream",
     "text": [
      "Remove  0  genes having low expression.\n",
      "Analyzing  100  genes with  50  subjects and  9500  cells.\n"
     ]
    },
    {
     "name": "stderr",
     "output_type": "stream",
     "text": [
      "\u001b[1m\u001b[22m`summarise()` has grouped output by 'id'. You can override using the `.groups` argument.\n",
      "start regression\n",
      "\n"
     ]
    },
    {
     "name": "stdout",
     "output_type": "stream",
     "text": [
      "Remove  0  genes having low expression.\n",
      "Analyzing  100  genes with  50  subjects and  9740  cells.\n"
     ]
    },
    {
     "name": "stderr",
     "output_type": "stream",
     "text": [
      "\u001b[1m\u001b[22m`summarise()` has grouped output by 'id'. You can override using the `.groups` argument.\n",
      "start regression\n",
      "\n"
     ]
    },
    {
     "name": "stdout",
     "output_type": "stream",
     "text": [
      "Remove  0  genes having low expression.\n",
      "Analyzing  100  genes with  50  subjects and  9256  cells.\n"
     ]
    },
    {
     "name": "stderr",
     "output_type": "stream",
     "text": [
      "\u001b[1m\u001b[22m`summarise()` has grouped output by 'id'. You can override using the `.groups` argument.\n",
      "start regression\n",
      "\n"
     ]
    },
    {
     "name": "stdout",
     "output_type": "stream",
     "text": [
      "Remove  0  genes having low expression.\n",
      "Analyzing  100  genes with  50  subjects and  8862  cells.\n"
     ]
    },
    {
     "name": "stderr",
     "output_type": "stream",
     "text": [
      "\u001b[1m\u001b[22m`summarise()` has grouped output by 'id'. You can override using the `.groups` argument.\n",
      "start regression\n",
      "\n"
     ]
    },
    {
     "name": "stdout",
     "output_type": "stream",
     "text": [
      "Remove  0  genes having low expression.\n",
      "Analyzing  100  genes with  50  subjects and  8464  cells.\n"
     ]
    },
    {
     "name": "stderr",
     "output_type": "stream",
     "text": [
      "\u001b[1m\u001b[22m`summarise()` has grouped output by 'id'. You can override using the `.groups` argument.\n",
      "start regression\n",
      "\n"
     ]
    },
    {
     "name": "stdout",
     "output_type": "stream",
     "text": [
      "Remove  0  genes having low expression.\n",
      "Analyzing  100  genes with  50  subjects and  9343  cells.\n"
     ]
    },
    {
     "name": "stderr",
     "output_type": "stream",
     "text": [
      "\u001b[1m\u001b[22m`summarise()` has grouped output by 'id'. You can override using the `.groups` argument.\n",
      "start regression\n",
      "\n"
     ]
    },
    {
     "name": "stdout",
     "output_type": "stream",
     "text": [
      "Remove  0  genes having low expression.\n",
      "Analyzing  100  genes with  50  subjects and  8572  cells.\n"
     ]
    },
    {
     "name": "stderr",
     "output_type": "stream",
     "text": [
      "\u001b[1m\u001b[22m`summarise()` has grouped output by 'id'. You can override using the `.groups` argument.\n",
      "start regression\n",
      "\n"
     ]
    },
    {
     "name": "stdout",
     "output_type": "stream",
     "text": [
      "Remove  0  genes having low expression.\n",
      "Analyzing  100  genes with  50  subjects and  9246  cells.\n"
     ]
    },
    {
     "name": "stderr",
     "output_type": "stream",
     "text": [
      "\u001b[1m\u001b[22m`summarise()` has grouped output by 'id'. You can override using the `.groups` argument.\n",
      "start regression\n",
      "\n"
     ]
    },
    {
     "name": "stdout",
     "output_type": "stream",
     "text": [
      "Remove  0  genes having low expression.\n",
      "Analyzing  100  genes with  50  subjects and  8468  cells.\n"
     ]
    },
    {
     "name": "stderr",
     "output_type": "stream",
     "text": [
      "\u001b[1m\u001b[22m`summarise()` has grouped output by 'id'. You can override using the `.groups` argument.\n",
      "start regression\n",
      "\n"
     ]
    },
    {
     "name": "stdout",
     "output_type": "stream",
     "text": [
      "Remove  0  genes having low expression.\n",
      "Analyzing  100  genes with  50  subjects and  9007  cells.\n"
     ]
    },
    {
     "name": "stderr",
     "output_type": "stream",
     "text": [
      "\u001b[1m\u001b[22m`summarise()` has grouped output by 'id'. You can override using the `.groups` argument.\n",
      "start regression\n",
      "\n"
     ]
    },
    {
     "name": "stdout",
     "output_type": "stream",
     "text": [
      "Remove  0  genes having low expression.\n",
      "Analyzing  100  genes with  50  subjects and  9039  cells.\n"
     ]
    },
    {
     "name": "stderr",
     "output_type": "stream",
     "text": [
      "\u001b[1m\u001b[22m`summarise()` has grouped output by 'id'. You can override using the `.groups` argument.\n",
      "start regression\n",
      "\n"
     ]
    },
    {
     "name": "stdout",
     "output_type": "stream",
     "text": [
      "Remove  0  genes having low expression.\n",
      "Analyzing  100  genes with  50  subjects and  8924  cells.\n"
     ]
    },
    {
     "name": "stderr",
     "output_type": "stream",
     "text": [
      "\u001b[1m\u001b[22m`summarise()` has grouped output by 'id'. You can override using the `.groups` argument.\n",
      "start regression\n",
      "\n"
     ]
    },
    {
     "name": "stdout",
     "output_type": "stream",
     "text": [
      "Remove  0  genes having low expression.\n",
      "Analyzing  100  genes with  50  subjects and  7776  cells.\n"
     ]
    },
    {
     "name": "stderr",
     "output_type": "stream",
     "text": [
      "\u001b[1m\u001b[22m`summarise()` has grouped output by 'id'. You can override using the `.groups` argument.\n",
      "start regression\n",
      "\n"
     ]
    },
    {
     "name": "stdout",
     "output_type": "stream",
     "text": [
      "Remove  0  genes having low expression.\n",
      "Analyzing  100  genes with  50  subjects and  9353  cells.\n"
     ]
    },
    {
     "name": "stderr",
     "output_type": "stream",
     "text": [
      "\u001b[1m\u001b[22m`summarise()` has grouped output by 'id'. You can override using the `.groups` argument.\n",
      "start regression\n",
      "\n"
     ]
    },
    {
     "name": "stdout",
     "output_type": "stream",
     "text": [
      "Remove  0  genes having low expression.\n",
      "Analyzing  100  genes with  50  subjects and  4269  cells.\n"
     ]
    },
    {
     "name": "stderr",
     "output_type": "stream",
     "text": [
      "\u001b[1m\u001b[22m`summarise()` has grouped output by 'id'. You can override using the `.groups` argument.\n",
      "start regression\n",
      "\n"
     ]
    },
    {
     "name": "stdout",
     "output_type": "stream",
     "text": [
      "Remove  0  genes having low expression.\n",
      "Analyzing  100  genes with  50  subjects and  4352  cells.\n"
     ]
    },
    {
     "name": "stderr",
     "output_type": "stream",
     "text": [
      "\u001b[1m\u001b[22m`summarise()` has grouped output by 'id'. You can override using the `.groups` argument.\n",
      "start regression\n",
      "\n"
     ]
    },
    {
     "name": "stdout",
     "output_type": "stream",
     "text": [
      "Remove  0  genes having low expression.\n",
      "Analyzing  100  genes with  50  subjects and  4209  cells.\n"
     ]
    },
    {
     "name": "stderr",
     "output_type": "stream",
     "text": [
      "\u001b[1m\u001b[22m`summarise()` has grouped output by 'id'. You can override using the `.groups` argument.\n",
      "start regression\n",
      "\n"
     ]
    },
    {
     "name": "stdout",
     "output_type": "stream",
     "text": [
      "Remove  0  genes having low expression.\n",
      "Analyzing  100  genes with  50  subjects and  3966  cells.\n"
     ]
    },
    {
     "name": "stderr",
     "output_type": "stream",
     "text": [
      "\u001b[1m\u001b[22m`summarise()` has grouped output by 'id'. You can override using the `.groups` argument.\n",
      "start regression\n",
      "\n"
     ]
    },
    {
     "name": "stdout",
     "output_type": "stream",
     "text": [
      "Remove  0  genes having low expression.\n",
      "Analyzing  100  genes with  50  subjects and  4024  cells.\n"
     ]
    },
    {
     "name": "stderr",
     "output_type": "stream",
     "text": [
      "\u001b[1m\u001b[22m`summarise()` has grouped output by 'id'. You can override using the `.groups` argument.\n",
      "start regression\n",
      "\n"
     ]
    },
    {
     "name": "stdout",
     "output_type": "stream",
     "text": [
      "Remove  0  genes having low expression.\n",
      "Analyzing  100  genes with  50  subjects and  3942  cells.\n"
     ]
    },
    {
     "name": "stderr",
     "output_type": "stream",
     "text": [
      "\u001b[1m\u001b[22m`summarise()` has grouped output by 'id'. You can override using the `.groups` argument.\n",
      "start regression\n",
      "\n"
     ]
    },
    {
     "name": "stdout",
     "output_type": "stream",
     "text": [
      "Remove  0  genes having low expression.\n",
      "Analyzing  100  genes with  50  subjects and  3984  cells.\n"
     ]
    },
    {
     "name": "stderr",
     "output_type": "stream",
     "text": [
      "\u001b[1m\u001b[22m`summarise()` has grouped output by 'id'. You can override using the `.groups` argument.\n",
      "start regression\n",
      "\n"
     ]
    },
    {
     "name": "stdout",
     "output_type": "stream",
     "text": [
      "Remove  0  genes having low expression.\n",
      "Analyzing  100  genes with  50  subjects and  4245  cells.\n"
     ]
    },
    {
     "name": "stderr",
     "output_type": "stream",
     "text": [
      "\u001b[1m\u001b[22m`summarise()` has grouped output by 'id'. You can override using the `.groups` argument.\n",
      "start regression\n",
      "\n"
     ]
    },
    {
     "name": "stdout",
     "output_type": "stream",
     "text": [
      "Remove  0  genes having low expression.\n",
      "Analyzing  100  genes with  50  subjects and  4049  cells.\n"
     ]
    },
    {
     "name": "stderr",
     "output_type": "stream",
     "text": [
      "\u001b[1m\u001b[22m`summarise()` has grouped output by 'id'. You can override using the `.groups` argument.\n",
      "start regression\n",
      "\n"
     ]
    },
    {
     "name": "stdout",
     "output_type": "stream",
     "text": [
      "Remove  0  genes having low expression.\n",
      "Analyzing  100  genes with  50  subjects and  4353  cells.\n"
     ]
    },
    {
     "name": "stderr",
     "output_type": "stream",
     "text": [
      "\u001b[1m\u001b[22m`summarise()` has grouped output by 'id'. You can override using the `.groups` argument.\n",
      "start regression\n",
      "\n"
     ]
    },
    {
     "name": "stdout",
     "output_type": "stream",
     "text": [
      "Remove  0  genes having low expression.\n",
      "Analyzing  100  genes with  50  subjects and  4480  cells.\n"
     ]
    },
    {
     "name": "stderr",
     "output_type": "stream",
     "text": [
      "\u001b[1m\u001b[22m`summarise()` has grouped output by 'id'. You can override using the `.groups` argument.\n",
      "start regression\n",
      "\n"
     ]
    },
    {
     "name": "stdout",
     "output_type": "stream",
     "text": [
      "Remove  0  genes having low expression.\n",
      "Analyzing  100  genes with  50  subjects and  3557  cells.\n"
     ]
    },
    {
     "name": "stderr",
     "output_type": "stream",
     "text": [
      "\u001b[1m\u001b[22m`summarise()` has grouped output by 'id'. You can override using the `.groups` argument.\n",
      "start regression\n",
      "\n"
     ]
    },
    {
     "name": "stdout",
     "output_type": "stream",
     "text": [
      "Remove  0  genes having low expression.\n",
      "Analyzing  100  genes with  50  subjects and  3845  cells.\n"
     ]
    },
    {
     "name": "stderr",
     "output_type": "stream",
     "text": [
      "\u001b[1m\u001b[22m`summarise()` has grouped output by 'id'. You can override using the `.groups` argument.\n",
      "start regression\n",
      "\n"
     ]
    },
    {
     "name": "stdout",
     "output_type": "stream",
     "text": [
      "Remove  0  genes having low expression.\n",
      "Analyzing  100  genes with  50  subjects and  3747  cells.\n"
     ]
    },
    {
     "name": "stderr",
     "output_type": "stream",
     "text": [
      "\u001b[1m\u001b[22m`summarise()` has grouped output by 'id'. You can override using the `.groups` argument.\n",
      "start regression\n",
      "\n"
     ]
    },
    {
     "name": "stdout",
     "output_type": "stream",
     "text": [
      "Remove  0  genes having low expression.\n",
      "Analyzing  100  genes with  50  subjects and  3674  cells.\n"
     ]
    },
    {
     "name": "stderr",
     "output_type": "stream",
     "text": [
      "\u001b[1m\u001b[22m`summarise()` has grouped output by 'id'. You can override using the `.groups` argument.\n",
      "start regression\n",
      "\n"
     ]
    },
    {
     "name": "stdout",
     "output_type": "stream",
     "text": [
      "Remove  0  genes having low expression.\n",
      "Analyzing  100  genes with  50  subjects and  3785  cells.\n"
     ]
    },
    {
     "name": "stderr",
     "output_type": "stream",
     "text": [
      "\u001b[1m\u001b[22m`summarise()` has grouped output by 'id'. You can override using the `.groups` argument.\n",
      "start regression\n",
      "\n"
     ]
    },
    {
     "name": "stdout",
     "output_type": "stream",
     "text": [
      "Remove  0  genes having low expression.\n",
      "Analyzing  100  genes with  50  subjects and  3676  cells.\n"
     ]
    },
    {
     "name": "stderr",
     "output_type": "stream",
     "text": [
      "\u001b[1m\u001b[22m`summarise()` has grouped output by 'id'. You can override using the `.groups` argument.\n",
      "start regression\n",
      "\n"
     ]
    },
    {
     "name": "stdout",
     "output_type": "stream",
     "text": [
      "Remove  0  genes having low expression.\n",
      "Analyzing  100  genes with  50  subjects and  3870  cells.\n"
     ]
    },
    {
     "name": "stderr",
     "output_type": "stream",
     "text": [
      "\u001b[1m\u001b[22m`summarise()` has grouped output by 'id'. You can override using the `.groups` argument.\n",
      "start regression\n",
      "\n"
     ]
    },
    {
     "name": "stdout",
     "output_type": "stream",
     "text": [
      "Remove  0  genes having low expression.\n",
      "Analyzing  100  genes with  50  subjects and  3642  cells.\n"
     ]
    },
    {
     "name": "stderr",
     "output_type": "stream",
     "text": [
      "\u001b[1m\u001b[22m`summarise()` has grouped output by 'id'. You can override using the `.groups` argument.\n",
      "start regression\n",
      "\n"
     ]
    },
    {
     "name": "stdout",
     "output_type": "stream",
     "text": [
      "Remove  0  genes having low expression.\n",
      "Analyzing  100  genes with  50  subjects and  3618  cells.\n"
     ]
    },
    {
     "name": "stderr",
     "output_type": "stream",
     "text": [
      "\u001b[1m\u001b[22m`summarise()` has grouped output by 'id'. You can override using the `.groups` argument.\n",
      "start regression\n",
      "\n"
     ]
    },
    {
     "name": "stdout",
     "output_type": "stream",
     "text": [
      "Remove  0  genes having low expression.\n",
      "Analyzing  100  genes with  50  subjects and  2600  cells.\n"
     ]
    },
    {
     "name": "stderr",
     "output_type": "stream",
     "text": [
      "\u001b[1m\u001b[22m`summarise()` has grouped output by 'id'. You can override using the `.groups` argument.\n",
      "start regression\n",
      "\n"
     ]
    },
    {
     "name": "stdout",
     "output_type": "stream",
     "text": [
      "Remove  0  genes having low expression.\n",
      "Analyzing  100  genes with  50  subjects and  2432  cells.\n"
     ]
    },
    {
     "name": "stderr",
     "output_type": "stream",
     "text": [
      "\u001b[1m\u001b[22m`summarise()` has grouped output by 'id'. You can override using the `.groups` argument.\n",
      "start regression\n",
      "\n"
     ]
    },
    {
     "name": "stdout",
     "output_type": "stream",
     "text": [
      "Remove  0  genes having low expression.\n",
      "Analyzing  100  genes with  50  subjects and  2350  cells.\n"
     ]
    },
    {
     "name": "stderr",
     "output_type": "stream",
     "text": [
      "\u001b[1m\u001b[22m`summarise()` has grouped output by 'id'. You can override using the `.groups` argument.\n",
      "start regression\n",
      "\n"
     ]
    },
    {
     "name": "stdout",
     "output_type": "stream",
     "text": [
      "Remove  0  genes having low expression.\n",
      "Analyzing  100  genes with  50  subjects and  2403  cells.\n"
     ]
    },
    {
     "name": "stderr",
     "output_type": "stream",
     "text": [
      "\u001b[1m\u001b[22m`summarise()` has grouped output by 'id'. You can override using the `.groups` argument.\n",
      "start regression\n",
      "\n"
     ]
    },
    {
     "name": "stdout",
     "output_type": "stream",
     "text": [
      "Remove  0  genes having low expression.\n",
      "Analyzing  100  genes with  50  subjects and  2204  cells.\n"
     ]
    },
    {
     "name": "stderr",
     "output_type": "stream",
     "text": [
      "\u001b[1m\u001b[22m`summarise()` has grouped output by 'id'. You can override using the `.groups` argument.\n",
      "start regression\n",
      "\n"
     ]
    },
    {
     "name": "stdout",
     "output_type": "stream",
     "text": [
      "Remove  0  genes having low expression.\n",
      "Analyzing  100  genes with  50  subjects and  2296  cells.\n"
     ]
    },
    {
     "name": "stderr",
     "output_type": "stream",
     "text": [
      "\u001b[1m\u001b[22m`summarise()` has grouped output by 'id'. You can override using the `.groups` argument.\n",
      "start regression\n",
      "\n"
     ]
    },
    {
     "name": "stdout",
     "output_type": "stream",
     "text": [
      "Remove  0  genes having low expression.\n",
      "Analyzing  100  genes with  50  subjects and  2286  cells.\n"
     ]
    },
    {
     "name": "stderr",
     "output_type": "stream",
     "text": [
      "\u001b[1m\u001b[22m`summarise()` has grouped output by 'id'. You can override using the `.groups` argument.\n",
      "start regression\n",
      "\n"
     ]
    },
    {
     "name": "stdout",
     "output_type": "stream",
     "text": [
      "Remove  0  genes having low expression.\n",
      "Analyzing  100  genes with  50  subjects and  2397  cells.\n"
     ]
    },
    {
     "name": "stderr",
     "output_type": "stream",
     "text": [
      "\u001b[1m\u001b[22m`summarise()` has grouped output by 'id'. You can override using the `.groups` argument.\n",
      "start regression\n",
      "\n"
     ]
    },
    {
     "name": "stdout",
     "output_type": "stream",
     "text": [
      "Remove  0  genes having low expression.\n",
      "Analyzing  100  genes with  50  subjects and  2426  cells.\n"
     ]
    },
    {
     "name": "stderr",
     "output_type": "stream",
     "text": [
      "\u001b[1m\u001b[22m`summarise()` has grouped output by 'id'. You can override using the `.groups` argument.\n",
      "start regression\n",
      "\n"
     ]
    },
    {
     "name": "stdout",
     "output_type": "stream",
     "text": [
      "Remove  0  genes having low expression.\n",
      "Analyzing  100  genes with  50  subjects and  2837  cells.\n"
     ]
    },
    {
     "name": "stderr",
     "output_type": "stream",
     "text": [
      "\u001b[1m\u001b[22m`summarise()` has grouped output by 'id'. You can override using the `.groups` argument.\n",
      "start regression\n",
      "\n"
     ]
    },
    {
     "name": "stdout",
     "output_type": "stream",
     "text": [
      "Remove  0  genes having low expression.\n",
      "Analyzing  100  genes with  50  subjects and  3161  cells.\n"
     ]
    },
    {
     "name": "stderr",
     "output_type": "stream",
     "text": [
      "\u001b[1m\u001b[22m`summarise()` has grouped output by 'id'. You can override using the `.groups` argument.\n",
      "start regression\n",
      "\n"
     ]
    },
    {
     "name": "stdout",
     "output_type": "stream",
     "text": [
      "Remove  0  genes having low expression.\n",
      "Analyzing  100  genes with  50  subjects and  2766  cells.\n"
     ]
    },
    {
     "name": "stderr",
     "output_type": "stream",
     "text": [
      "\u001b[1m\u001b[22m`summarise()` has grouped output by 'id'. You can override using the `.groups` argument.\n",
      "start regression\n",
      "\n"
     ]
    },
    {
     "name": "stdout",
     "output_type": "stream",
     "text": [
      "Remove  0  genes having low expression.\n",
      "Analyzing  100  genes with  50  subjects and  2713  cells.\n"
     ]
    },
    {
     "name": "stderr",
     "output_type": "stream",
     "text": [
      "\u001b[1m\u001b[22m`summarise()` has grouped output by 'id'. You can override using the `.groups` argument.\n",
      "start regression\n",
      "\n"
     ]
    },
    {
     "name": "stdout",
     "output_type": "stream",
     "text": [
      "Remove  0  genes having low expression.\n",
      "Analyzing  100  genes with  50  subjects and  2447  cells.\n"
     ]
    },
    {
     "name": "stderr",
     "output_type": "stream",
     "text": [
      "\u001b[1m\u001b[22m`summarise()` has grouped output by 'id'. You can override using the `.groups` argument.\n",
      "start regression\n",
      "\n"
     ]
    },
    {
     "name": "stdout",
     "output_type": "stream",
     "text": [
      "Remove  0  genes having low expression.\n",
      "Analyzing  100  genes with  50  subjects and  2701  cells.\n"
     ]
    },
    {
     "name": "stderr",
     "output_type": "stream",
     "text": [
      "\u001b[1m\u001b[22m`summarise()` has grouped output by 'id'. You can override using the `.groups` argument.\n",
      "start regression\n",
      "\n"
     ]
    },
    {
     "name": "stdout",
     "output_type": "stream",
     "text": [
      "Remove  0  genes having low expression.\n",
      "Analyzing  100  genes with  50  subjects and  3251  cells.\n"
     ]
    },
    {
     "name": "stderr",
     "output_type": "stream",
     "text": [
      "\u001b[1m\u001b[22m`summarise()` has grouped output by 'id'. You can override using the `.groups` argument.\n",
      "start regression\n",
      "\n"
     ]
    },
    {
     "name": "stdout",
     "output_type": "stream",
     "text": [
      "Remove  0  genes having low expression.\n",
      "Analyzing  100  genes with  50  subjects and  3321  cells.\n"
     ]
    },
    {
     "name": "stderr",
     "output_type": "stream",
     "text": [
      "\u001b[1m\u001b[22m`summarise()` has grouped output by 'id'. You can override using the `.groups` argument.\n",
      "start regression\n",
      "\n"
     ]
    },
    {
     "name": "stdout",
     "output_type": "stream",
     "text": [
      "Remove  0  genes having low expression.\n",
      "Analyzing  100  genes with  50  subjects and  3011  cells.\n"
     ]
    },
    {
     "name": "stderr",
     "output_type": "stream",
     "text": [
      "\u001b[1m\u001b[22m`summarise()` has grouped output by 'id'. You can override using the `.groups` argument.\n",
      "start regression\n",
      "\n"
     ]
    },
    {
     "name": "stdout",
     "output_type": "stream",
     "text": [
      "Remove  0  genes having low expression.\n",
      "Analyzing  100  genes with  50  subjects and  2871  cells.\n"
     ]
    },
    {
     "name": "stderr",
     "output_type": "stream",
     "text": [
      "\u001b[1m\u001b[22m`summarise()` has grouped output by 'id'. You can override using the `.groups` argument.\n",
      "start regression\n",
      "\n"
     ]
    },
    {
     "name": "stdout",
     "output_type": "stream",
     "text": [
      "Remove  0  genes having low expression.\n",
      "Analyzing  100  genes with  50  subjects and  3207  cells.\n"
     ]
    },
    {
     "data": {
      "text/plain": [
       "Time difference of 41.31757 mins"
      ]
     },
     "metadata": {},
     "output_type": "display_data"
    }
   ],
   "source": [
    "author <- 'yazar'\n",
    "n.sample <- 50\n",
    "exp.cut <- 0.5\n",
    "n.gene <- 100\n",
    "n.sim <- 10\n",
    "samp.prob <- 0.5\n",
    "is.pb <- FALSE\n",
    "t1 <- Sys.time()\n",
    "for (int.ct in 1:length(ct.used)){ #\n",
    "    # select celltype\n",
    "    cell.type <- ct.used[[int.ct]]\n",
    "    bool.ct <- col.data.used$cell_type == cell.type\n",
    "    col.data.ct <- col.data.used[bool.ct,]\n",
    "\n",
    "    # select genes with sufficient mean (nblmm doesn't work for small mean)\n",
    "    cnt.ct <- cnt.used[,bool.ct]\n",
    "    cnt.ct.bm <- cnt.ct[rowMeans2(cnt.ct) > 0.1,]\n",
    "    cnt.ct.bm <- cnt.ct.bm[sample(1:nrow(cnt.ct.bm), n.gene),]\n",
    "    \n",
    "    # boolean index of cells\n",
    "    bool.cell.donor <- lapply(\n",
    "        unique(col.data.ct$donor_id),\n",
    "        function(id.donor){\n",
    "            return(col.data.ct$donor_id == id.donor)\n",
    "            }\n",
    "        )\n",
    "    col.data.donor <- lapply(\n",
    "        bool.cell.donor,\n",
    "        function(bool.donor){\n",
    "            return(col.data.ct[bool.donor,])\n",
    "            }\n",
    "        )\n",
    "    cnt.donor <- lapply(\n",
    "        bool.cell.donor,\n",
    "        function(bool.donor){\n",
    "            return(cnt.ct.bm[,bool.donor])\n",
    "            }\n",
    "        )\n",
    "\n",
    "    list.result.null <- list()\n",
    "    list.result.pow <- list()\n",
    "    for (i.iter in 1:n.sim){\n",
    "        \n",
    "        # sample individuals\n",
    "        ind.select <- sample.int(\n",
    "            n=length(unique(col.data.ct$donor_id)), \n",
    "            size=n.sample,\n",
    "            replace=TRUE\n",
    "            )\n",
    "    \n",
    "        # construct col.data & cnt matrix\n",
    "        col.data.select <- data.table::rbindlist(col.data.donor[ind.select], idcol=\"id\")\n",
    "        cnt.select <- do.call(cbind, cnt.donor[ind.select])\n",
    "        colnames(cnt.select) <- rownames(col.data.select)\n",
    "                   \n",
    "        # select cells randomly\n",
    "        n.per.donor <- col.data.select %>% group_by(id, donor_id) %>% summarise(n=n()) %>% pull(n)\n",
    "        cell.select <- as.logical(unlist(sapply(n.per.donor, rbinom, size=1, p=samp.prob)))\n",
    "        col.data.select <- col.data.select[cell.select,]\n",
    "        cnt.select <- cnt.select[,cell.select]\n",
    "\n",
    "        # assign treatment\n",
    "        col.data.select$tx_cell <- rbinom(n=nrow(col.data.select), size=1, p=0.5)\n",
    "        if (is.pb){ \n",
    "            # assign treatment label\n",
    "            n.tx <- as.integer(n.sample/2)\n",
    "            urn <- c(rep(1,n.tx), rep(0,n.sample-n.tx))\n",
    "            tx.ind <- sample(x=urn, size=n.sample, replace=FALSE)\n",
    "        \n",
    "            # assign tx to cells\n",
    "            cell.per.ind <- col.data.select %>%\n",
    "                group_by(id) %>%\n",
    "                summarise(n=n())\n",
    "            col.data.select$tx_cell <- rep(tx.ind, times=cell.per.ind$n)\n",
    "        }\n",
    "    \n",
    "        # for power simulation, cut expression to half (+ force int)\n",
    "        idx.de <- 1:5\n",
    "        idx.tx <- which(col.data.select$tx_cell == 1)\n",
    "        downCells(cnt.select, idx.de, idx.tx, exp.cut)\n",
    "        cnt.select.t <- t(cnt.select)\n",
    "        \n",
    "        # run tests\n",
    "        message('start regression')\n",
    "        list.formula <- list(\n",
    "            as.formula('~tx_cell'),\n",
    "            as.formula('~tx_cell'),\n",
    "            as.formula('~tx_cell'),\n",
    "            as.formula('~tx_cell'),\n",
    "            as.formula(ifelse(is.pb, 'y~tx_cell', 'y~tx_cell | id')),\n",
    "            as.formula('~tx_cell')\n",
    "            )\n",
    "        list.data <- list(\n",
    "            cnt.select,\n",
    "            cnt.select,\n",
    "            cnt.select,\n",
    "            cnt.select,\n",
    "            cnt.select.t,\n",
    "            cnt.select\n",
    "            )\n",
    "        list.result.method <- list()\n",
    "        for (int.test in 1:length(list.func)){\n",
    "            list.result.method[[int.test]] <- list.func[[int.test]](\n",
    "                list.formula[[int.test]],\n",
    "                list.data[[int.test]],\n",
    "                col.data.select\n",
    "                )[,4] \n",
    "            }\n",
    "        df.result <- do.call(rbind, list.result.method)\n",
    "        rownames(df.result) <- c('glmGamPoi (Pb)', 'edgeR (Pb)', 'limma (Pb)', 'glmGamPoi (cell)', 'robust GLM (cell)', 'NB GLMM')\n",
    "        list.result.null[[i.iter]] <- t(df.result)[6:n.gene,]\n",
    "        list.result.pow[[i.iter]] <- t(df.result)[1:5,]\n",
    "        }\n",
    "\n",
    "    \n",
    "    \n",
    "    # results\n",
    "    df.null <- do.call(rbind, list.result.null)\n",
    "    df.pow <- do.call(rbind, list.result.pow)\n",
    "    \n",
    "    # save name\n",
    "    path.tail <- paste(author,'n',n.sample,'ct',int.ct,'fc',exp.cut,'csv',sep='.')\n",
    "    path.pow.head <- ifelse(is.pb, 'pow_subject/', 'pow_cell/')\n",
    "    path.null.head <- ifelse(is.pb, 'null_subject/', 'null_cell/')\n",
    "    \n",
    "    write.csv(df.null, paste0(path.null.head, path.tail))\n",
    "    write.csv(df.pow, paste0(path.pow.head, path.tail))\n",
    "    \n",
    "    }\n",
    "t2 <- Sys.time()\n",
    "t2-t1"
   ]
  },
  {
   "cell_type": "code",
   "execution_count": 354,
   "id": "3b5b5115-d3aa-4b25-8687-8c2ebfb30222",
   "metadata": {
    "scrolled": true
   },
   "outputs": [
    {
     "name": "stderr",
     "output_type": "stream",
     "text": [
      "\u001b[1m\u001b[22m`summarise()` has grouped output by 'id'. You can override using the `.groups` argument.\n",
      "start regression\n",
      "\n"
     ]
    },
    {
     "name": "stdout",
     "output_type": "stream",
     "text": [
      "Remove  0  genes having low expression.\n",
      "Analyzing  100  genes with  50  subjects and  9092  cells.\n"
     ]
    },
    {
     "name": "stderr",
     "output_type": "stream",
     "text": [
      "\u001b[1m\u001b[22m`summarise()` has grouped output by 'id'. You can override using the `.groups` argument.\n",
      "start regression\n",
      "\n"
     ]
    },
    {
     "name": "stdout",
     "output_type": "stream",
     "text": [
      "Remove  0  genes having low expression.\n",
      "Analyzing  100  genes with  50  subjects and  8353  cells.\n"
     ]
    },
    {
     "name": "stderr",
     "output_type": "stream",
     "text": [
      "\u001b[1m\u001b[22m`summarise()` has grouped output by 'id'. You can override using the `.groups` argument.\n",
      "start regression\n",
      "\n"
     ]
    },
    {
     "name": "stdout",
     "output_type": "stream",
     "text": [
      "Remove  0  genes having low expression.\n",
      "Analyzing  100  genes with  50  subjects and  8144  cells.\n"
     ]
    },
    {
     "name": "stderr",
     "output_type": "stream",
     "text": [
      "\u001b[1m\u001b[22m`summarise()` has grouped output by 'id'. You can override using the `.groups` argument.\n",
      "start regression\n",
      "\n"
     ]
    },
    {
     "name": "stdout",
     "output_type": "stream",
     "text": [
      "Remove  0  genes having low expression.\n",
      "Analyzing  100  genes with  50  subjects and  8886  cells.\n"
     ]
    },
    {
     "name": "stderr",
     "output_type": "stream",
     "text": [
      "\u001b[1m\u001b[22m`summarise()` has grouped output by 'id'. You can override using the `.groups` argument.\n",
      "start regression\n",
      "\n"
     ]
    },
    {
     "name": "stdout",
     "output_type": "stream",
     "text": [
      "Remove  0  genes having low expression.\n",
      "Analyzing  100  genes with  50  subjects and  8759  cells.\n"
     ]
    },
    {
     "name": "stderr",
     "output_type": "stream",
     "text": [
      "\u001b[1m\u001b[22m`summarise()` has grouped output by 'id'. You can override using the `.groups` argument.\n",
      "start regression\n",
      "\n"
     ]
    },
    {
     "name": "stdout",
     "output_type": "stream",
     "text": [
      "Remove  0  genes having low expression.\n",
      "Analyzing  100  genes with  50  subjects and  8365  cells.\n"
     ]
    },
    {
     "name": "stderr",
     "output_type": "stream",
     "text": [
      "\u001b[1m\u001b[22m`summarise()` has grouped output by 'id'. You can override using the `.groups` argument.\n",
      "start regression\n",
      "\n"
     ]
    },
    {
     "name": "stdout",
     "output_type": "stream",
     "text": [
      "Remove  0  genes having low expression.\n",
      "Analyzing  100  genes with  50  subjects and  9203  cells.\n"
     ]
    },
    {
     "name": "stderr",
     "output_type": "stream",
     "text": [
      "\u001b[1m\u001b[22m`summarise()` has grouped output by 'id'. You can override using the `.groups` argument.\n",
      "start regression\n",
      "\n"
     ]
    },
    {
     "name": "stdout",
     "output_type": "stream",
     "text": [
      "Remove  0  genes having low expression.\n",
      "Analyzing  100  genes with  50  subjects and  9066  cells.\n"
     ]
    },
    {
     "name": "stderr",
     "output_type": "stream",
     "text": [
      "\u001b[1m\u001b[22m`summarise()` has grouped output by 'id'. You can override using the `.groups` argument.\n",
      "start regression\n",
      "\n"
     ]
    },
    {
     "name": "stdout",
     "output_type": "stream",
     "text": [
      "Remove  0  genes having low expression.\n",
      "Analyzing  100  genes with  50  subjects and  8353  cells.\n"
     ]
    },
    {
     "name": "stderr",
     "output_type": "stream",
     "text": [
      "\u001b[1m\u001b[22m`summarise()` has grouped output by 'id'. You can override using the `.groups` argument.\n",
      "start regression\n",
      "\n"
     ]
    },
    {
     "name": "stdout",
     "output_type": "stream",
     "text": [
      "Remove  0  genes having low expression.\n",
      "Analyzing  100  genes with  50  subjects and  9244  cells.\n"
     ]
    },
    {
     "name": "stderr",
     "output_type": "stream",
     "text": [
      "\u001b[1m\u001b[22m`summarise()` has grouped output by 'id'. You can override using the `.groups` argument.\n",
      "start regression\n",
      "\n"
     ]
    },
    {
     "name": "stdout",
     "output_type": "stream",
     "text": [
      "Remove  0  genes having low expression.\n",
      "Analyzing  100  genes with  50  subjects and  8960  cells.\n"
     ]
    },
    {
     "name": "stderr",
     "output_type": "stream",
     "text": [
      "\u001b[1m\u001b[22m`summarise()` has grouped output by 'id'. You can override using the `.groups` argument.\n",
      "start regression\n",
      "\n"
     ]
    },
    {
     "name": "stdout",
     "output_type": "stream",
     "text": [
      "Remove  0  genes having low expression.\n",
      "Analyzing  100  genes with  50  subjects and  8687  cells.\n"
     ]
    },
    {
     "name": "stderr",
     "output_type": "stream",
     "text": [
      "\u001b[1m\u001b[22m`summarise()` has grouped output by 'id'. You can override using the `.groups` argument.\n",
      "start regression\n",
      "\n"
     ]
    },
    {
     "name": "stdout",
     "output_type": "stream",
     "text": [
      "Remove  0  genes having low expression.\n",
      "Analyzing  100  genes with  50  subjects and  8463  cells.\n"
     ]
    },
    {
     "name": "stderr",
     "output_type": "stream",
     "text": [
      "\u001b[1m\u001b[22m`summarise()` has grouped output by 'id'. You can override using the `.groups` argument.\n",
      "start regression\n",
      "\n"
     ]
    },
    {
     "name": "stdout",
     "output_type": "stream",
     "text": [
      "Remove  0  genes having low expression.\n",
      "Analyzing  100  genes with  50  subjects and  8907  cells.\n"
     ]
    },
    {
     "name": "stderr",
     "output_type": "stream",
     "text": [
      "\u001b[1m\u001b[22m`summarise()` has grouped output by 'id'. You can override using the `.groups` argument.\n",
      "start regression\n",
      "\n"
     ]
    },
    {
     "name": "stdout",
     "output_type": "stream",
     "text": [
      "Remove  0  genes having low expression.\n",
      "Analyzing  100  genes with  50  subjects and  8843  cells.\n"
     ]
    },
    {
     "name": "stderr",
     "output_type": "stream",
     "text": [
      "\u001b[1m\u001b[22m`summarise()` has grouped output by 'id'. You can override using the `.groups` argument.\n",
      "start regression\n",
      "\n"
     ]
    },
    {
     "name": "stdout",
     "output_type": "stream",
     "text": [
      "Remove  0  genes having low expression.\n",
      "Analyzing  100  genes with  50  subjects and  8815  cells.\n"
     ]
    },
    {
     "name": "stderr",
     "output_type": "stream",
     "text": [
      "\u001b[1m\u001b[22m`summarise()` has grouped output by 'id'. You can override using the `.groups` argument.\n",
      "start regression\n",
      "\n"
     ]
    },
    {
     "name": "stdout",
     "output_type": "stream",
     "text": [
      "Remove  0  genes having low expression.\n",
      "Analyzing  100  genes with  50  subjects and  8432  cells.\n"
     ]
    },
    {
     "name": "stderr",
     "output_type": "stream",
     "text": [
      "\u001b[1m\u001b[22m`summarise()` has grouped output by 'id'. You can override using the `.groups` argument.\n",
      "start regression\n",
      "\n"
     ]
    },
    {
     "name": "stdout",
     "output_type": "stream",
     "text": [
      "Remove  0  genes having low expression.\n",
      "Analyzing  100  genes with  50  subjects and  9113  cells.\n"
     ]
    },
    {
     "name": "stderr",
     "output_type": "stream",
     "text": [
      "\u001b[1m\u001b[22m`summarise()` has grouped output by 'id'. You can override using the `.groups` argument.\n",
      "start regression\n",
      "\n"
     ]
    },
    {
     "name": "stdout",
     "output_type": "stream",
     "text": [
      "Remove  0  genes having low expression.\n",
      "Analyzing  100  genes with  50  subjects and  9423  cells.\n"
     ]
    },
    {
     "name": "stderr",
     "output_type": "stream",
     "text": [
      "\u001b[1m\u001b[22m`summarise()` has grouped output by 'id'. You can override using the `.groups` argument.\n",
      "start regression\n",
      "\n"
     ]
    },
    {
     "name": "stdout",
     "output_type": "stream",
     "text": [
      "Remove  0  genes having low expression.\n",
      "Analyzing  100  genes with  50  subjects and  8881  cells.\n"
     ]
    },
    {
     "name": "stderr",
     "output_type": "stream",
     "text": [
      "\u001b[1m\u001b[22m`summarise()` has grouped output by 'id'. You can override using the `.groups` argument.\n",
      "start regression\n",
      "\n"
     ]
    },
    {
     "name": "stdout",
     "output_type": "stream",
     "text": [
      "Remove  0  genes having low expression.\n",
      "Analyzing  100  genes with  50  subjects and  4075  cells.\n"
     ]
    },
    {
     "name": "stderr",
     "output_type": "stream",
     "text": [
      "\u001b[1m\u001b[22m`summarise()` has grouped output by 'id'. You can override using the `.groups` argument.\n",
      "start regression\n",
      "\n"
     ]
    },
    {
     "name": "stdout",
     "output_type": "stream",
     "text": [
      "Remove  0  genes having low expression.\n",
      "Analyzing  100  genes with  50  subjects and  4454  cells.\n"
     ]
    },
    {
     "name": "stderr",
     "output_type": "stream",
     "text": [
      "\u001b[1m\u001b[22m`summarise()` has grouped output by 'id'. You can override using the `.groups` argument.\n",
      "start regression\n",
      "\n"
     ]
    },
    {
     "name": "stdout",
     "output_type": "stream",
     "text": [
      "Remove  0  genes having low expression.\n",
      "Analyzing  100  genes with  50  subjects and  4085  cells.\n"
     ]
    },
    {
     "name": "stderr",
     "output_type": "stream",
     "text": [
      "\u001b[1m\u001b[22m`summarise()` has grouped output by 'id'. You can override using the `.groups` argument.\n",
      "start regression\n",
      "\n"
     ]
    },
    {
     "name": "stdout",
     "output_type": "stream",
     "text": [
      "Remove  0  genes having low expression.\n",
      "Analyzing  100  genes with  50  subjects and  4267  cells.\n"
     ]
    },
    {
     "name": "stderr",
     "output_type": "stream",
     "text": [
      "\u001b[1m\u001b[22m`summarise()` has grouped output by 'id'. You can override using the `.groups` argument.\n",
      "start regression\n",
      "\n"
     ]
    },
    {
     "name": "stdout",
     "output_type": "stream",
     "text": [
      "Remove  0  genes having low expression.\n",
      "Analyzing  100  genes with  50  subjects and  4059  cells.\n"
     ]
    },
    {
     "name": "stderr",
     "output_type": "stream",
     "text": [
      "\u001b[1m\u001b[22m`summarise()` has grouped output by 'id'. You can override using the `.groups` argument.\n",
      "start regression\n",
      "\n"
     ]
    },
    {
     "name": "stdout",
     "output_type": "stream",
     "text": [
      "Remove  0  genes having low expression.\n",
      "Analyzing  100  genes with  50  subjects and  4378  cells.\n"
     ]
    },
    {
     "name": "stderr",
     "output_type": "stream",
     "text": [
      "\u001b[1m\u001b[22m`summarise()` has grouped output by 'id'. You can override using the `.groups` argument.\n",
      "start regression\n",
      "\n"
     ]
    },
    {
     "name": "stdout",
     "output_type": "stream",
     "text": [
      "Remove  0  genes having low expression.\n",
      "Analyzing  100  genes with  50  subjects and  4023  cells.\n"
     ]
    },
    {
     "name": "stderr",
     "output_type": "stream",
     "text": [
      "\u001b[1m\u001b[22m`summarise()` has grouped output by 'id'. You can override using the `.groups` argument.\n",
      "start regression\n",
      "\n"
     ]
    },
    {
     "name": "stdout",
     "output_type": "stream",
     "text": [
      "Remove  0  genes having low expression.\n",
      "Analyzing  100  genes with  50  subjects and  4212  cells.\n"
     ]
    },
    {
     "name": "stderr",
     "output_type": "stream",
     "text": [
      "\u001b[1m\u001b[22m`summarise()` has grouped output by 'id'. You can override using the `.groups` argument.\n",
      "start regression\n",
      "\n"
     ]
    },
    {
     "name": "stdout",
     "output_type": "stream",
     "text": [
      "Remove  0  genes having low expression.\n",
      "Analyzing  100  genes with  50  subjects and  4139  cells.\n"
     ]
    },
    {
     "name": "stderr",
     "output_type": "stream",
     "text": [
      "\u001b[1m\u001b[22m`summarise()` has grouped output by 'id'. You can override using the `.groups` argument.\n",
      "start regression\n",
      "\n"
     ]
    },
    {
     "name": "stdout",
     "output_type": "stream",
     "text": [
      "Remove  0  genes having low expression.\n",
      "Analyzing  100  genes with  50  subjects and  4682  cells.\n"
     ]
    },
    {
     "name": "stderr",
     "output_type": "stream",
     "text": [
      "\u001b[1m\u001b[22m`summarise()` has grouped output by 'id'. You can override using the `.groups` argument.\n",
      "start regression\n",
      "\n"
     ]
    },
    {
     "name": "stdout",
     "output_type": "stream",
     "text": [
      "Remove  0  genes having low expression.\n",
      "Analyzing  100  genes with  50  subjects and  3860  cells.\n"
     ]
    },
    {
     "name": "stderr",
     "output_type": "stream",
     "text": [
      "\u001b[1m\u001b[22m`summarise()` has grouped output by 'id'. You can override using the `.groups` argument.\n",
      "start regression\n",
      "\n"
     ]
    },
    {
     "name": "stdout",
     "output_type": "stream",
     "text": [
      "Remove  0  genes having low expression.\n",
      "Analyzing  100  genes with  50  subjects and  4282  cells.\n"
     ]
    },
    {
     "name": "stderr",
     "output_type": "stream",
     "text": [
      "\u001b[1m\u001b[22m`summarise()` has grouped output by 'id'. You can override using the `.groups` argument.\n",
      "start regression\n",
      "\n"
     ]
    },
    {
     "name": "stdout",
     "output_type": "stream",
     "text": [
      "Remove  0  genes having low expression.\n",
      "Analyzing  100  genes with  50  subjects and  4331  cells.\n"
     ]
    },
    {
     "name": "stderr",
     "output_type": "stream",
     "text": [
      "\u001b[1m\u001b[22m`summarise()` has grouped output by 'id'. You can override using the `.groups` argument.\n",
      "start regression\n",
      "\n"
     ]
    },
    {
     "name": "stdout",
     "output_type": "stream",
     "text": [
      "Remove  0  genes having low expression.\n",
      "Analyzing  100  genes with  50  subjects and  3737  cells.\n"
     ]
    },
    {
     "name": "stderr",
     "output_type": "stream",
     "text": [
      "\u001b[1m\u001b[22m`summarise()` has grouped output by 'id'. You can override using the `.groups` argument.\n",
      "start regression\n",
      "\n"
     ]
    },
    {
     "name": "stdout",
     "output_type": "stream",
     "text": [
      "Remove  0  genes having low expression.\n",
      "Analyzing  100  genes with  50  subjects and  4230  cells.\n"
     ]
    },
    {
     "name": "stderr",
     "output_type": "stream",
     "text": [
      "\u001b[1m\u001b[22m`summarise()` has grouped output by 'id'. You can override using the `.groups` argument.\n",
      "start regression\n",
      "\n"
     ]
    },
    {
     "name": "stdout",
     "output_type": "stream",
     "text": [
      "Remove  0  genes having low expression.\n",
      "Analyzing  100  genes with  50  subjects and  3850  cells.\n"
     ]
    },
    {
     "name": "stderr",
     "output_type": "stream",
     "text": [
      "\u001b[1m\u001b[22m`summarise()` has grouped output by 'id'. You can override using the `.groups` argument.\n",
      "start regression\n",
      "\n"
     ]
    },
    {
     "name": "stdout",
     "output_type": "stream",
     "text": [
      "Remove  0  genes having low expression.\n",
      "Analyzing  100  genes with  50  subjects and  4311  cells.\n"
     ]
    },
    {
     "name": "stderr",
     "output_type": "stream",
     "text": [
      "\u001b[1m\u001b[22m`summarise()` has grouped output by 'id'. You can override using the `.groups` argument.\n",
      "start regression\n",
      "\n"
     ]
    },
    {
     "name": "stdout",
     "output_type": "stream",
     "text": [
      "Remove  0  genes having low expression.\n",
      "Analyzing  100  genes with  50  subjects and  4077  cells.\n"
     ]
    },
    {
     "name": "stderr",
     "output_type": "stream",
     "text": [
      "\u001b[1m\u001b[22m`summarise()` has grouped output by 'id'. You can override using the `.groups` argument.\n",
      "start regression\n",
      "\n"
     ]
    },
    {
     "name": "stdout",
     "output_type": "stream",
     "text": [
      "Remove  0  genes having low expression.\n",
      "Analyzing  100  genes with  50  subjects and  3932  cells.\n"
     ]
    },
    {
     "name": "stderr",
     "output_type": "stream",
     "text": [
      "\u001b[1m\u001b[22m`summarise()` has grouped output by 'id'. You can override using the `.groups` argument.\n",
      "start regression\n",
      "\n"
     ]
    },
    {
     "name": "stdout",
     "output_type": "stream",
     "text": [
      "Remove  0  genes having low expression.\n",
      "Analyzing  100  genes with  50  subjects and  4105  cells.\n"
     ]
    },
    {
     "name": "stderr",
     "output_type": "stream",
     "text": [
      "\u001b[1m\u001b[22m`summarise()` has grouped output by 'id'. You can override using the `.groups` argument.\n",
      "start regression\n",
      "\n"
     ]
    },
    {
     "name": "stdout",
     "output_type": "stream",
     "text": [
      "Remove  0  genes having low expression.\n",
      "Analyzing  100  genes with  50  subjects and  2291  cells.\n"
     ]
    },
    {
     "name": "stderr",
     "output_type": "stream",
     "text": [
      "\u001b[1m\u001b[22m`summarise()` has grouped output by 'id'. You can override using the `.groups` argument.\n",
      "start regression\n",
      "\n"
     ]
    },
    {
     "name": "stdout",
     "output_type": "stream",
     "text": [
      "Remove  0  genes having low expression.\n",
      "Analyzing  100  genes with  50  subjects and  2419  cells.\n"
     ]
    },
    {
     "name": "stderr",
     "output_type": "stream",
     "text": [
      "\u001b[1m\u001b[22m`summarise()` has grouped output by 'id'. You can override using the `.groups` argument.\n",
      "start regression\n",
      "\n"
     ]
    },
    {
     "name": "stdout",
     "output_type": "stream",
     "text": [
      "Remove  0  genes having low expression.\n",
      "Analyzing  100  genes with  50  subjects and  2629  cells.\n"
     ]
    },
    {
     "name": "stderr",
     "output_type": "stream",
     "text": [
      "\u001b[1m\u001b[22m`summarise()` has grouped output by 'id'. You can override using the `.groups` argument.\n",
      "start regression\n",
      "\n"
     ]
    },
    {
     "name": "stdout",
     "output_type": "stream",
     "text": [
      "Remove  0  genes having low expression.\n",
      "Analyzing  100  genes with  50  subjects and  2772  cells.\n"
     ]
    },
    {
     "name": "stderr",
     "output_type": "stream",
     "text": [
      "\u001b[1m\u001b[22m`summarise()` has grouped output by 'id'. You can override using the `.groups` argument.\n",
      "start regression\n",
      "\n"
     ]
    },
    {
     "name": "stdout",
     "output_type": "stream",
     "text": [
      "Remove  0  genes having low expression.\n",
      "Analyzing  100  genes with  50  subjects and  2379  cells.\n"
     ]
    },
    {
     "name": "stderr",
     "output_type": "stream",
     "text": [
      "\u001b[1m\u001b[22m`summarise()` has grouped output by 'id'. You can override using the `.groups` argument.\n",
      "start regression\n",
      "\n"
     ]
    },
    {
     "name": "stdout",
     "output_type": "stream",
     "text": [
      "Remove  0  genes having low expression.\n",
      "Analyzing  100  genes with  50  subjects and  2392  cells.\n"
     ]
    },
    {
     "name": "stderr",
     "output_type": "stream",
     "text": [
      "\u001b[1m\u001b[22m`summarise()` has grouped output by 'id'. You can override using the `.groups` argument.\n",
      "start regression\n",
      "\n"
     ]
    },
    {
     "name": "stdout",
     "output_type": "stream",
     "text": [
      "Remove  0  genes having low expression.\n",
      "Analyzing  100  genes with  50  subjects and  2496  cells.\n"
     ]
    },
    {
     "name": "stderr",
     "output_type": "stream",
     "text": [
      "\u001b[1m\u001b[22m`summarise()` has grouped output by 'id'. You can override using the `.groups` argument.\n",
      "start regression\n",
      "\n"
     ]
    },
    {
     "name": "stdout",
     "output_type": "stream",
     "text": [
      "Remove  0  genes having low expression.\n",
      "Analyzing  100  genes with  50  subjects and  2284  cells.\n"
     ]
    },
    {
     "name": "stderr",
     "output_type": "stream",
     "text": [
      "\u001b[1m\u001b[22m`summarise()` has grouped output by 'id'. You can override using the `.groups` argument.\n",
      "start regression\n",
      "\n"
     ]
    },
    {
     "name": "stdout",
     "output_type": "stream",
     "text": [
      "Remove  0  genes having low expression.\n",
      "Analyzing  100  genes with  50  subjects and  2561  cells.\n"
     ]
    },
    {
     "name": "stderr",
     "output_type": "stream",
     "text": [
      "\u001b[1m\u001b[22m`summarise()` has grouped output by 'id'. You can override using the `.groups` argument.\n",
      "start regression\n",
      "\n"
     ]
    },
    {
     "name": "stdout",
     "output_type": "stream",
     "text": [
      "Remove  0  genes having low expression.\n",
      "Analyzing  100  genes with  50  subjects and  2121  cells.\n"
     ]
    },
    {
     "name": "stderr",
     "output_type": "stream",
     "text": [
      "\u001b[1m\u001b[22m`summarise()` has grouped output by 'id'. You can override using the `.groups` argument.\n",
      "start regression\n",
      "\n"
     ]
    },
    {
     "name": "stdout",
     "output_type": "stream",
     "text": [
      "Remove  0  genes having low expression.\n",
      "Analyzing  100  genes with  50  subjects and  3346  cells.\n"
     ]
    },
    {
     "name": "stderr",
     "output_type": "stream",
     "text": [
      "\u001b[1m\u001b[22m`summarise()` has grouped output by 'id'. You can override using the `.groups` argument.\n",
      "start regression\n",
      "\n"
     ]
    },
    {
     "name": "stdout",
     "output_type": "stream",
     "text": [
      "Remove  0  genes having low expression.\n",
      "Analyzing  100  genes with  50  subjects and  2853  cells.\n"
     ]
    },
    {
     "name": "stderr",
     "output_type": "stream",
     "text": [
      "\u001b[1m\u001b[22m`summarise()` has grouped output by 'id'. You can override using the `.groups` argument.\n",
      "start regression\n",
      "\n"
     ]
    },
    {
     "name": "stdout",
     "output_type": "stream",
     "text": [
      "Remove  0  genes having low expression.\n",
      "Analyzing  100  genes with  50  subjects and  2611  cells.\n"
     ]
    },
    {
     "name": "stderr",
     "output_type": "stream",
     "text": [
      "\u001b[1m\u001b[22m`summarise()` has grouped output by 'id'. You can override using the `.groups` argument.\n",
      "start regression\n",
      "\n"
     ]
    },
    {
     "name": "stdout",
     "output_type": "stream",
     "text": [
      "Remove  0  genes having low expression.\n",
      "Analyzing  100  genes with  50  subjects and  2521  cells.\n"
     ]
    },
    {
     "name": "stderr",
     "output_type": "stream",
     "text": [
      "\u001b[1m\u001b[22m`summarise()` has grouped output by 'id'. You can override using the `.groups` argument.\n",
      "start regression\n",
      "\n"
     ]
    },
    {
     "name": "stdout",
     "output_type": "stream",
     "text": [
      "Remove  0  genes having low expression.\n",
      "Analyzing  100  genes with  50  subjects and  2478  cells.\n"
     ]
    },
    {
     "name": "stderr",
     "output_type": "stream",
     "text": [
      "\u001b[1m\u001b[22m`summarise()` has grouped output by 'id'. You can override using the `.groups` argument.\n",
      "start regression\n",
      "\n"
     ]
    },
    {
     "name": "stdout",
     "output_type": "stream",
     "text": [
      "Remove  0  genes having low expression.\n",
      "Analyzing  100  genes with  50  subjects and  2456  cells.\n"
     ]
    },
    {
     "name": "stderr",
     "output_type": "stream",
     "text": [
      "\u001b[1m\u001b[22m`summarise()` has grouped output by 'id'. You can override using the `.groups` argument.\n",
      "start regression\n",
      "\n"
     ]
    },
    {
     "name": "stdout",
     "output_type": "stream",
     "text": [
      "Remove  0  genes having low expression.\n",
      "Analyzing  100  genes with  50  subjects and  2934  cells.\n"
     ]
    },
    {
     "name": "stderr",
     "output_type": "stream",
     "text": [
      "\u001b[1m\u001b[22m`summarise()` has grouped output by 'id'. You can override using the `.groups` argument.\n",
      "start regression\n",
      "\n"
     ]
    },
    {
     "name": "stdout",
     "output_type": "stream",
     "text": [
      "Remove  0  genes having low expression.\n",
      "Analyzing  100  genes with  50  subjects and  3000  cells.\n"
     ]
    },
    {
     "name": "stderr",
     "output_type": "stream",
     "text": [
      "\u001b[1m\u001b[22m`summarise()` has grouped output by 'id'. You can override using the `.groups` argument.\n",
      "start regression\n",
      "\n"
     ]
    },
    {
     "name": "stdout",
     "output_type": "stream",
     "text": [
      "Remove  0  genes having low expression.\n",
      "Analyzing  100  genes with  50  subjects and  2576  cells.\n"
     ]
    },
    {
     "name": "stderr",
     "output_type": "stream",
     "text": [
      "\u001b[1m\u001b[22m`summarise()` has grouped output by 'id'. You can override using the `.groups` argument.\n",
      "start regression\n",
      "\n"
     ]
    },
    {
     "name": "stdout",
     "output_type": "stream",
     "text": [
      "Remove  0  genes having low expression.\n",
      "Analyzing  100  genes with  50  subjects and  3024  cells.\n"
     ]
    },
    {
     "data": {
      "text/plain": [
       "Time difference of 38.79661 mins"
      ]
     },
     "metadata": {},
     "output_type": "display_data"
    }
   ],
   "source": [
    "author <- 'yazar'\n",
    "n.sample <- 50\n",
    "exp.cut <- 0.5\n",
    "n.gene <- 100\n",
    "n.sim <- 10\n",
    "samp.prob <- 0.5\n",
    "is.pb <- TRUE\n",
    "t1 <- Sys.time()\n",
    "for (int.ct in 1:length(ct.used)){ #\n",
    "    # select celltype\n",
    "    cell.type <- ct.used[[int.ct]]\n",
    "    bool.ct <- col.data.used$cell_type == cell.type\n",
    "    col.data.ct <- col.data.used[bool.ct,]\n",
    "\n",
    "    # select genes with sufficient mean (nblmm doesn't work for small mean)\n",
    "    cnt.ct <- cnt.used[,bool.ct]\n",
    "    cnt.ct.bm <- cnt.ct[rowMeans2(cnt.ct) > 0.1,]\n",
    "    cnt.ct.bm <- cnt.ct.bm[sample(1:nrow(cnt.ct.bm), n.gene),]\n",
    "    \n",
    "    # boolean index of cells\n",
    "    bool.cell.donor <- lapply(\n",
    "        unique(col.data.ct$donor_id),\n",
    "        function(id.donor){\n",
    "            return(col.data.ct$donor_id == id.donor)\n",
    "            }\n",
    "        )\n",
    "    col.data.donor <- lapply(\n",
    "        bool.cell.donor,\n",
    "        function(bool.donor){\n",
    "            return(col.data.ct[bool.donor,])\n",
    "            }\n",
    "        )\n",
    "    cnt.donor <- lapply(\n",
    "        bool.cell.donor,\n",
    "        function(bool.donor){\n",
    "            return(cnt.ct.bm[,bool.donor])\n",
    "            }\n",
    "        )\n",
    "\n",
    "    list.result.null <- list()\n",
    "    list.result.pow <- list()\n",
    "    for (i.iter in 1:n.sim){\n",
    "        \n",
    "        # sample individuals\n",
    "        ind.select <- sample.int(\n",
    "            n=length(unique(col.data.ct$donor_id)), \n",
    "            size=n.sample,\n",
    "            replace=TRUE\n",
    "            )\n",
    "    \n",
    "        # construct col.data & cnt matrix\n",
    "        col.data.select <- data.table::rbindlist(col.data.donor[ind.select], idcol=\"id\")\n",
    "        cnt.select <- do.call(cbind, cnt.donor[ind.select])\n",
    "        colnames(cnt.select) <- rownames(col.data.select)\n",
    "                   \n",
    "        # select cells randomly\n",
    "        n.per.donor <- col.data.select %>% group_by(id, donor_id) %>% summarise(n=n()) %>% pull(n)\n",
    "        cell.select <- as.logical(unlist(sapply(n.per.donor, rbinom, size=1, p=samp.prob)))\n",
    "        col.data.select <- col.data.select[cell.select,]\n",
    "        cnt.select <- cnt.select[,cell.select]\n",
    "\n",
    "        # assign treatment\n",
    "        col.data.select$tx_cell <- rbinom(n=nrow(col.data.select), size=1, p=0.5)\n",
    "        if (is.pb){ \n",
    "            # assign treatment label\n",
    "            n.tx <- as.integer(n.sample/2)\n",
    "            urn <- c(rep(1,n.tx), rep(0,n.sample-n.tx))\n",
    "            tx.ind <- sample(x=urn, size=n.sample, replace=FALSE)\n",
    "        \n",
    "            # assign tx to cells\n",
    "            cell.per.ind <- col.data.select %>%\n",
    "                group_by(id) %>%\n",
    "                summarise(n=n())\n",
    "            col.data.select$tx_cell <- rep(tx.ind, times=cell.per.ind$n)\n",
    "        }\n",
    "    \n",
    "        # for power simulation, cut expression to half (+ force int)\n",
    "        idx.de <- 1:5\n",
    "        idx.tx <- which(col.data.select$tx_cell == 1)\n",
    "        downCells(cnt.select, idx.de, idx.tx, exp.cut)\n",
    "        cnt.select.t <- t(cnt.select)\n",
    "        \n",
    "        # run tests\n",
    "        message('start regression')\n",
    "        list.formula <- list(\n",
    "            as.formula('~tx_cell'),\n",
    "            as.formula('~tx_cell'),\n",
    "            as.formula('~tx_cell'),\n",
    "            as.formula('~tx_cell'),\n",
    "            as.formula(ifelse(is.pb, 'y~tx_cell', 'y~tx_cell | id')),\n",
    "            as.formula('~tx_cell')\n",
    "            )\n",
    "        list.data <- list(\n",
    "            cnt.select,\n",
    "            cnt.select,\n",
    "            cnt.select,\n",
    "            cnt.select,\n",
    "            cnt.select.t,\n",
    "            cnt.select\n",
    "            )\n",
    "        list.result.method <- list()\n",
    "        for (int.test in 1:length(list.func)){\n",
    "            list.result.method[[int.test]] <- list.func[[int.test]](\n",
    "                list.formula[[int.test]],\n",
    "                list.data[[int.test]],\n",
    "                col.data.select\n",
    "                )[,4] \n",
    "            }\n",
    "        df.result <- do.call(rbind, list.result.method)\n",
    "        rownames(df.result) <- c('glmGamPoi (Pb)', 'edgeR (Pb)', 'limma (Pb)', 'glmGamPoi (cell)', 'robust GLM (cell)', 'NB GLMM')\n",
    "        list.result.null[[i.iter]] <- t(df.result)[6:n.gene,]\n",
    "        list.result.pow[[i.iter]] <- t(df.result)[1:5,]\n",
    "        }\n",
    "\n",
    "    \n",
    "    \n",
    "    # results\n",
    "    df.null <- do.call(rbind, list.result.null)\n",
    "    df.pow <- do.call(rbind, list.result.pow)\n",
    "    \n",
    "    # save name\n",
    "    path.tail <- paste(author,'n',n.sample,'ct',int.ct,'fc',exp.cut,'csv',sep='.')\n",
    "    path.pow.head <- ifelse(is.pb, 'pow_subject/', 'pow_cell/')\n",
    "    path.null.head <- ifelse(is.pb, 'null_subject/', 'null_cell/')\n",
    "    \n",
    "    write.csv(df.null, paste0(path.null.head, path.tail))\n",
    "    write.csv(df.pow, paste0(path.pow.head, path.tail))\n",
    "    \n",
    "    }\n",
    "t2 <- Sys.time()\n",
    "t2-t1"
   ]
  }
 ],
 "metadata": {
  "kernelspec": {
   "display_name": "R",
   "language": "R",
   "name": "ir"
  },
  "language_info": {
   "codemirror_mode": "r",
   "file_extension": ".r",
   "mimetype": "text/x-r-source",
   "name": "R",
   "pygments_lexer": "r",
   "version": "4.3.1"
  }
 },
 "nbformat": 4,
 "nbformat_minor": 5
}
