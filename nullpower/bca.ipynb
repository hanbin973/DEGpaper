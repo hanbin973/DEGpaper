{
 "cells": [
  {
   "cell_type": "code",
   "execution_count": 2,
   "id": "07593be5-bdf6-41b4-8726-098273aeb9f1",
   "metadata": {
    "scrolled": true
   },
   "outputs": [
    {
     "name": "stdout",
     "output_type": "stream",
     "text": [
      "Remove  0  genes having low expression.\n",
      "Analyzing  10  genes with  30  subjects and  6176  cells.\n"
     ]
    }
   ],
   "source": [
    "library(Matrix)\n",
    "library(data.table)\n",
    "\n",
    "library(SingleCellExperiment)\n",
    "library(glmGamPoi)\n",
    "library(edgeR)\n",
    "\n",
    "library(Seurat)\n",
    "library(nebula)\n",
    "\n",
    "library(fixest)\n",
    "\n",
    "library(dplyr)\n",
    "library(tidyr)\n",
    "\n",
    "library(limma)\n",
    "library(Rcpp)\n",
    "\n",
    "data(sample_data)\n",
    "df = model.matrix(~X1+X2+cc, data=sample_data$pred)\n",
    "re = nebula(sample_data$count,sample_data$sid,pred=df,ncore=1)\n",
    "\n",
    "offset.mult <- function(formula, count, df){\n",
    "    sce.obj <- SingleCellExperiment::SingleCellExperiment(\n",
    "        list(counts=count),\n",
    "        colData=df\n",
    "        )\n",
    "    sce.pb <- glmGamPoi::pseudobulk(\n",
    "        sce.obj,\n",
    "        group_by=vars(id, tx_cell),\n",
    "        n=n(),\n",
    "        verbose=FALSE\n",
    "        )\n",
    "\n",
    "    fit <- glmGamPoi::glm_gp(sce.pb, design=~1+tx_cell, size_factors=FALSE, offset=log(colData(sce.pb)$n))\n",
    "    test <- glmGamPoi::test_de(fit, reduced_design=~1)\n",
    "    \n",
    "    beta <- fit$Beta[,'tx_cell']\n",
    "    pval <- test$pval\n",
    "    tval <- qnorm(1-pval/2) * sign(beta)\n",
    "    se <- beta/tval\n",
    "    result <- cbind(beta, se, tval, pval)\n",
    "    colnames(result) <- c('Estimate', 'Std. Error', 't value', 'Pr(>|t|)')\n",
    "    return(result)\n",
    "    }"
   ]
  },
  {
   "cell_type": "code",
   "execution_count": 19,
   "id": "84d7fb5e-d42c-4268-95a7-6d0d54a05cc1",
   "metadata": {},
   "outputs": [],
   "source": [
    "selectCol <- function(mat, j.col){    \n",
    "    x.col.dense <- rep(0,nrow(mat))\n",
    "    p.begin <- mat@p[j.col]+1\n",
    "    p.end <- mat@p[j.col+1]\n",
    "    i.col <- mat@i[p.begin:p.end]+1 # i counts from 0\n",
    "    x.col <- mat@x[p.begin:p.end]\n",
    "    x.col.dense[i.col] <- x.col\n",
    "    return(x.col.dense)\n",
    "    }\n",
    "\n",
    "selectCols <- function(mat, j.cols){    \n",
    "    return(sapply(j.cols, selectCol, mat=mat))\n",
    "    }\n",
    "\n",
    "fixest.mult <- function(formula, count, df){\n",
    "    df.result <- data.frame(matrix(nrow=0, ncol=4))\n",
    "    colnames(df.result) <- c('Estimate', 'Std. Error', 't value', 'Pr(>|t|)')\n",
    "    for (j in 1:ncol(count)){\n",
    "        df$y <- count[,j]\n",
    "        fit <- fixest::fepois(formula, vcov='hetero', data=df)\n",
    "        df.result[j,] <- coeftable(fit)['tx_cell',] # fixed effect o/x 에 따라 다르게 들어가야함\n",
    "        } \n",
    "    return(df.result)\n",
    "    }\n",
    "\n",
    "nebula.mult <- function(formula, count, df){\n",
    "    pred <- model.matrix(formula, data=df)\n",
    "    sid <- df$id\n",
    "    fit.nebula <- nebula::nebula(\n",
    "        count,\n",
    "        sid,\n",
    "        pred=pred,\n",
    "        cpc=0,\n",
    "        mincp=0\n",
    "        )\n",
    "    fit.result <- fit.nebula$summary\n",
    "    rownames(fit.result) <- fit.result$gene\n",
    "    return(\n",
    "            fit.result %>%\n",
    "            mutate(\n",
    "                Estimate=logFC_tx_cell,\n",
    "                'Std. Error'=se_tx_cell,\n",
    "                't value'=logFC_tx_cell/se_tx_cell,\n",
    "                'Pr(>|t|)'=p_tx_cell\n",
    "                ) %>%\n",
    "            select(Estimate, 'Std. Error', 't value', 'Pr(>|t|)')\n",
    "        )\n",
    "    }\n",
    "\n",
    "glmgp.mult <- function(formula, count, df){\n",
    "    sce.obj <- SingleCellExperiment::SingleCellExperiment(list(counts=count), colData=df)\n",
    "    sce.pb <- glmGamPoi::pseudobulk(\n",
    "        sce.obj,\n",
    "        group_by=vars(id, tx_cell),\n",
    "        verbose=FALSE\n",
    "        )\n",
    "\n",
    "    fit <- glmGamPoi::glm_gp(sce.pb, design=~1+tx_cell)\n",
    "    test <- glmGamPoi::test_de(fit, reduced_design=~1)\n",
    "    \n",
    "    beta <- fit$Beta[,'tx_cell']\n",
    "    pval <- test$pval\n",
    "    tval <- qnorm(1-pval/2) * sign(beta)\n",
    "    se <- beta/tval\n",
    "    result <- cbind(beta, se, tval, pval)\n",
    "    colnames(result) <- c('Estimate', 'Std. Error', 't value', 'Pr(>|t|)')\n",
    "    return(result)\n",
    "    }\n",
    "\n",
    "glmgp.cell.mult <- function(formula, count, df){\n",
    "    sce.obj <- SingleCellExperiment::SingleCellExperiment(list(counts=count), colData=df)\n",
    "    fit <- glmGamPoi::glm_gp(sce.obj, design=~1+tx_cell, on_disk=FALSE, size_factors=FALSE)\n",
    "    test <- glmGamPoi::test_de(fit, reduced_design=~1)\n",
    "    \n",
    "    beta <- fit$Beta[,'tx_cell']\n",
    "    pval <- test$pval\n",
    "    tval <- qnorm(1-pval/2) * sign(beta)\n",
    "    se <- beta/tval\n",
    "    result <- cbind(beta, se, tval, pval)\n",
    "    colnames(result) <- c('Estimate', 'Std. Error', 't value', 'Pr(>|t|)')\n",
    "    return(result)\n",
    "    }\n",
    "\n",
    "edger.mult <- function(formula, count, df){\n",
    "    sce.obj <- SingleCellExperiment::SingleCellExperiment(list(counts=count), colData=df)\n",
    "    sce.pb <- glmGamPoi::pseudobulk(\n",
    "        sce.obj,\n",
    "        group_by=vars(id, tx_cell),\n",
    "        verbose=FALSE\n",
    "        )\n",
    "\n",
    "    design <- model.matrix(~1+tx_cell, data=colData(sce.pb))\n",
    "    edger.obj <- edgeR::DGEList(counts(sce.pb))\n",
    "    edger.obj <- edgeR::estimateDisp(edger.obj, design)\n",
    "    fit <- edgeR::glmQLFit(y=edger.obj, design=design)\n",
    "    test <- edgeR::glmTreat(fit, coef=2)\n",
    "\n",
    "    beta <- test$coefficients[,'tx_cell']\n",
    "    pval <- test$table[,'PValue']\n",
    "    tval <- qnorm(1-pval/2) * sign(beta)\n",
    "    se <- beta/tval\n",
    "\n",
    "    result <- cbind(beta, se, tval, pval)\n",
    "    colnames(result) <- c('Estimate', 'Std. Error', 't value', 'Pr(>|t|)')\n",
    "    \n",
    "    return(result)\n",
    "    }\n",
    "\n",
    "limma.mult <- function(formula, count, df){\n",
    "    sce.obj <- SingleCellExperiment::SingleCellExperiment(list(counts=count), colData=df)\n",
    "    sce.pb <- glmGamPoi::pseudobulk(\n",
    "        sce.obj,\n",
    "        group_by=vars(id, tx_cell),\n",
    "        verbose=FALSE\n",
    "        )\n",
    "\n",
    "    design <- model.matrix(~1+tx_cell, data=colData(sce.pb))\n",
    "    edger.obj <- edgeR::DGEList(counts(sce.pb))\n",
    "    v <- limma::voom(edger.obj, design)\n",
    "    vfit <- limma::lmFit(v, design)\n",
    "    efit <- limma::eBayes(vfit)\n",
    "    \n",
    "    beta <- efit$coefficients[,'tx_cell'] * log(2)\n",
    "    pval <- efit$p.value[,'tx_cell']\n",
    "    tval <- qnorm(1-pval/2) * sign(beta)\n",
    "    se <- beta/tval\n",
    "\n",
    "    result <- cbind(beta, se, tval, pval)\n",
    "    colnames(result) <- c('Estimate', 'Std. Error', 't value', 'Pr(>|t|)')\n",
    "    \n",
    "    return(result)\n",
    "    }\n",
    "\n",
    "src <-\n",
    "\"\n",
    "#include <Rcpp.h>\n",
    "\n",
    "// [[Rcpp::export]]\n",
    "void vec_down_sample(\n",
    "    Rcpp::NumericVector data,\n",
    "    const Rcpp::LogicalVector which,\n",
    "    int begin,\n",
    "    int end,\n",
    "    double prob\n",
    "    ){\n",
    "    for(int i=begin; i<end; i++){\n",
    "        if(which[i]){\n",
    "            data[i] = R::rbinom(data[i], prob);\n",
    "            }\n",
    "        }\n",
    "    }\n",
    "\"\n",
    "sourceCpp(code = src)\n",
    "\n",
    "downCells <- function(spmat, i.rows, j.cols, p){\n",
    "    data <- spmat@x\n",
    "    i.bool <- spmat@i %in% (i.rows-1) # spmat@i begins from 0, i.rows begins from 1\n",
    "    for (j.col in j.cols){\n",
    "        begin <- spmat@p[j.col]\n",
    "        end <- spmat@p[j.col+1]\n",
    "        vec_down_sample(data, i.bool, begin, end, p)\n",
    "        }\n",
    "    }    \n",
    "\n",
    "list.func <- list(\n",
    "    glmgp.mult,\n",
    "    edger.mult,\n",
    "    limma.mult,\n",
    "    glmgp.cell.mult,\n",
    "    fixest.mult,\n",
    "    nebula.mult\n",
    "    )"
   ]
  },
  {
   "cell_type": "code",
   "execution_count": 5,
   "id": "5dd748dd-9a99-4c60-9f12-8ab7f43a745e",
   "metadata": {},
   "outputs": [],
   "source": [
    "seurat.obj <- readRDS('datasets/bca.seurat.rds')"
   ]
  },
  {
   "cell_type": "code",
   "execution_count": 11,
   "id": "11c5ab96-1d1e-4f41-8324-2a9f1c76f321",
   "metadata": {},
   "outputs": [
    {
     "data": {
      "text/html": [
       "<table class=\"dataframe\">\n",
       "<caption>A data.frame: 6 × 3</caption>\n",
       "<thead>\n",
       "\t<tr><th></th><th scope=col>donor_id</th><th scope=col>cell_type</th><th scope=col>cell_id</th></tr>\n",
       "\t<tr><th></th><th scope=col>&lt;fct&gt;</th><th scope=col>&lt;fct&gt;</th><th scope=col>&lt;chr&gt;</th></tr>\n",
       "</thead>\n",
       "<tbody>\n",
       "\t<tr><th scope=row>ATTCGTTGTAGGGAGG-SLX-20261-20448_SIGAB6</th><td>HBCA_Donor_11</td><td>blood vessel endothelial cell                </td><td>ATTCGTTGTAGGGAGG-SLX-20261-20448_SIGAB6 </td></tr>\n",
       "\t<tr><th scope=row>GTGACGCCAGCTATAC-SLX-20005-20446_SIGAD6</th><td>HBCA_Donor_43</td><td>fibroblast of mammary gland                  </td><td>GTGACGCCAGCTATAC-SLX-20005-20446_SIGAD6 </td></tr>\n",
       "\t<tr><th scope=row>TTGCATTCAAGAATGT-SLX-20005_SIGAH12</th><td>HBCA_Donor_2 </td><td>progenitor cell of mammary luminal epithelium</td><td>TTGCATTCAAGAATGT-SLX-20005_SIGAH12      </td></tr>\n",
       "\t<tr><th scope=row>GTGATGTTCTGCCCTA-SLX-19902-20449_SIGAB11</th><td>HBCA_Donor_44</td><td>luminal epithelial cell of mammary gland     </td><td>GTGATGTTCTGCCCTA-SLX-19902-20449_SIGAB11</td></tr>\n",
       "\t<tr><th scope=row>TAACACGTCTACCACC-SLX-20261-20448_SIGAC1</th><td>HBCA_Donor_49</td><td>blood vessel endothelial cell                </td><td>TAACACGTCTACCACC-SLX-20261-20448_SIGAC1 </td></tr>\n",
       "\t<tr><th scope=row>GGTTCTCAGTACCCTA-SLX-20261-20448_SIGAB3</th><td>HBCA_Donor_38</td><td>luminal epithelial cell of mammary gland     </td><td>GGTTCTCAGTACCCTA-SLX-20261-20448_SIGAB3 </td></tr>\n",
       "</tbody>\n",
       "</table>\n"
      ],
      "text/latex": [
       "A data.frame: 6 × 3\n",
       "\\begin{tabular}{r|lll}\n",
       "  & donor\\_id & cell\\_type & cell\\_id\\\\\n",
       "  & <fct> & <fct> & <chr>\\\\\n",
       "\\hline\n",
       "\tATTCGTTGTAGGGAGG-SLX-20261-20448\\_SIGAB6 & HBCA\\_Donor\\_11 & blood vessel endothelial cell                 & ATTCGTTGTAGGGAGG-SLX-20261-20448\\_SIGAB6 \\\\\n",
       "\tGTGACGCCAGCTATAC-SLX-20005-20446\\_SIGAD6 & HBCA\\_Donor\\_43 & fibroblast of mammary gland                   & GTGACGCCAGCTATAC-SLX-20005-20446\\_SIGAD6 \\\\\n",
       "\tTTGCATTCAAGAATGT-SLX-20005\\_SIGAH12 & HBCA\\_Donor\\_2  & progenitor cell of mammary luminal epithelium & TTGCATTCAAGAATGT-SLX-20005\\_SIGAH12      \\\\\n",
       "\tGTGATGTTCTGCCCTA-SLX-19902-20449\\_SIGAB11 & HBCA\\_Donor\\_44 & luminal epithelial cell of mammary gland      & GTGATGTTCTGCCCTA-SLX-19902-20449\\_SIGAB11\\\\\n",
       "\tTAACACGTCTACCACC-SLX-20261-20448\\_SIGAC1 & HBCA\\_Donor\\_49 & blood vessel endothelial cell                 & TAACACGTCTACCACC-SLX-20261-20448\\_SIGAC1 \\\\\n",
       "\tGGTTCTCAGTACCCTA-SLX-20261-20448\\_SIGAB3 & HBCA\\_Donor\\_38 & luminal epithelial cell of mammary gland      & GGTTCTCAGTACCCTA-SLX-20261-20448\\_SIGAB3 \\\\\n",
       "\\end{tabular}\n"
      ],
      "text/markdown": [
       "\n",
       "A data.frame: 6 × 3\n",
       "\n",
       "| <!--/--> | donor_id &lt;fct&gt; | cell_type &lt;fct&gt; | cell_id &lt;chr&gt; |\n",
       "|---|---|---|---|\n",
       "| ATTCGTTGTAGGGAGG-SLX-20261-20448_SIGAB6 | HBCA_Donor_11 | blood vessel endothelial cell                 | ATTCGTTGTAGGGAGG-SLX-20261-20448_SIGAB6  |\n",
       "| GTGACGCCAGCTATAC-SLX-20005-20446_SIGAD6 | HBCA_Donor_43 | fibroblast of mammary gland                   | GTGACGCCAGCTATAC-SLX-20005-20446_SIGAD6  |\n",
       "| TTGCATTCAAGAATGT-SLX-20005_SIGAH12 | HBCA_Donor_2  | progenitor cell of mammary luminal epithelium | TTGCATTCAAGAATGT-SLX-20005_SIGAH12       |\n",
       "| GTGATGTTCTGCCCTA-SLX-19902-20449_SIGAB11 | HBCA_Donor_44 | luminal epithelial cell of mammary gland      | GTGATGTTCTGCCCTA-SLX-19902-20449_SIGAB11 |\n",
       "| TAACACGTCTACCACC-SLX-20261-20448_SIGAC1 | HBCA_Donor_49 | blood vessel endothelial cell                 | TAACACGTCTACCACC-SLX-20261-20448_SIGAC1  |\n",
       "| GGTTCTCAGTACCCTA-SLX-20261-20448_SIGAB3 | HBCA_Donor_38 | luminal epithelial cell of mammary gland      | GGTTCTCAGTACCCTA-SLX-20261-20448_SIGAB3  |\n",
       "\n"
      ],
      "text/plain": [
       "                                         donor_id     \n",
       "ATTCGTTGTAGGGAGG-SLX-20261-20448_SIGAB6  HBCA_Donor_11\n",
       "GTGACGCCAGCTATAC-SLX-20005-20446_SIGAD6  HBCA_Donor_43\n",
       "TTGCATTCAAGAATGT-SLX-20005_SIGAH12       HBCA_Donor_2 \n",
       "GTGATGTTCTGCCCTA-SLX-19902-20449_SIGAB11 HBCA_Donor_44\n",
       "TAACACGTCTACCACC-SLX-20261-20448_SIGAC1  HBCA_Donor_49\n",
       "GGTTCTCAGTACCCTA-SLX-20261-20448_SIGAB3  HBCA_Donor_38\n",
       "                                         cell_type                                    \n",
       "ATTCGTTGTAGGGAGG-SLX-20261-20448_SIGAB6  blood vessel endothelial cell                \n",
       "GTGACGCCAGCTATAC-SLX-20005-20446_SIGAD6  fibroblast of mammary gland                  \n",
       "TTGCATTCAAGAATGT-SLX-20005_SIGAH12       progenitor cell of mammary luminal epithelium\n",
       "GTGATGTTCTGCCCTA-SLX-19902-20449_SIGAB11 luminal epithelial cell of mammary gland     \n",
       "TAACACGTCTACCACC-SLX-20261-20448_SIGAC1  blood vessel endothelial cell                \n",
       "GGTTCTCAGTACCCTA-SLX-20261-20448_SIGAB3  luminal epithelial cell of mammary gland     \n",
       "                                         cell_id                                 \n",
       "ATTCGTTGTAGGGAGG-SLX-20261-20448_SIGAB6  ATTCGTTGTAGGGAGG-SLX-20261-20448_SIGAB6 \n",
       "GTGACGCCAGCTATAC-SLX-20005-20446_SIGAD6  GTGACGCCAGCTATAC-SLX-20005-20446_SIGAD6 \n",
       "TTGCATTCAAGAATGT-SLX-20005_SIGAH12       TTGCATTCAAGAATGT-SLX-20005_SIGAH12      \n",
       "GTGATGTTCTGCCCTA-SLX-19902-20449_SIGAB11 GTGATGTTCTGCCCTA-SLX-19902-20449_SIGAB11\n",
       "TAACACGTCTACCACC-SLX-20261-20448_SIGAC1  TAACACGTCTACCACC-SLX-20261-20448_SIGAC1 \n",
       "GGTTCTCAGTACCCTA-SLX-20261-20448_SIGAB3  GGTTCTCAGTACCCTA-SLX-20261-20448_SIGAB3 "
      ]
     },
     "metadata": {},
     "output_type": "display_data"
    }
   ],
   "source": [
    "# https://satijalab.org/seurat/articles/essential_commands.html\n",
    "# prepare data\n",
    "cols <- c('donor_id', 'cell_type') \n",
    "col.data <- seurat.obj[[cols]]\n",
    "col.data$cell_id <- rownames(col.data)\n",
    "cnt <- GetAssayData(object = seurat.obj, slot = \"counts\")\n",
    "head(col.data)"
   ]
  },
  {
   "cell_type": "code",
   "execution_count": 15,
   "id": "0c73eb01-9ea3-4039-99dc-1a35747e5caa",
   "metadata": {},
   "outputs": [
    {
     "name": "stderr",
     "output_type": "stream",
     "text": [
      "\u001b[1m\u001b[22mSelecting by n\n",
      "\u001b[1m\u001b[22m`summarise()` has grouped output by 'donor_id'. You can override using the `.groups` argument.\n",
      "\u001b[1m\u001b[22mAdding missing grouping variables: `donor_id`\n",
      "\u001b[1m\u001b[22mSelecting by n\n"
     ]
    },
    {
     "data": {
      "text/html": [
       "<table class=\"dataframe\">\n",
       "<caption>A tibble: 6 × 2</caption>\n",
       "<thead>\n",
       "\t<tr><th scope=col>cell_type</th><th scope=col>n</th></tr>\n",
       "\t<tr><th scope=col>&lt;fct&gt;</th><th scope=col>&lt;int&gt;</th></tr>\n",
       "</thead>\n",
       "<tbody>\n",
       "\t<tr><td>progenitor cell of mammary luminal epithelium</td><td>189790</td></tr>\n",
       "\t<tr><td>fibroblast of mammary gland                  </td><td>179261</td></tr>\n",
       "\t<tr><td>blood vessel endothelial cell                </td><td>133861</td></tr>\n",
       "\t<tr><td>luminal epithelial cell of mammary gland     </td><td>133218</td></tr>\n",
       "\t<tr><td>mural cell                                   </td><td> 92656</td></tr>\n",
       "\t<tr><td>myoepithelial cell of mammary gland          </td><td> 33073</td></tr>\n",
       "</tbody>\n",
       "</table>\n"
      ],
      "text/latex": [
       "A tibble: 6 × 2\n",
       "\\begin{tabular}{ll}\n",
       " cell\\_type & n\\\\\n",
       " <fct> & <int>\\\\\n",
       "\\hline\n",
       "\t progenitor cell of mammary luminal epithelium & 189790\\\\\n",
       "\t fibroblast of mammary gland                   & 179261\\\\\n",
       "\t blood vessel endothelial cell                 & 133861\\\\\n",
       "\t luminal epithelial cell of mammary gland      & 133218\\\\\n",
       "\t mural cell                                    &  92656\\\\\n",
       "\t myoepithelial cell of mammary gland           &  33073\\\\\n",
       "\\end{tabular}\n"
      ],
      "text/markdown": [
       "\n",
       "A tibble: 6 × 2\n",
       "\n",
       "| cell_type &lt;fct&gt; | n &lt;int&gt; |\n",
       "|---|---|\n",
       "| progenitor cell of mammary luminal epithelium | 189790 |\n",
       "| fibroblast of mammary gland                   | 179261 |\n",
       "| blood vessel endothelial cell                 | 133861 |\n",
       "| luminal epithelial cell of mammary gland      | 133218 |\n",
       "| mural cell                                    |  92656 |\n",
       "| myoepithelial cell of mammary gland           |  33073 |\n",
       "\n"
      ],
      "text/plain": [
       "  cell_type                                     n     \n",
       "1 progenitor cell of mammary luminal epithelium 189790\n",
       "2 fibroblast of mammary gland                   179261\n",
       "3 blood vessel endothelial cell                 133861\n",
       "4 luminal epithelial cell of mammary gland      133218\n",
       "5 mural cell                                     92656\n",
       "6 myoepithelial cell of mammary gland            33073"
      ]
     },
     "metadata": {},
     "output_type": "display_data"
    }
   ],
   "source": [
    "# sort cell type by numbers, select top 6\n",
    "ct.used <- col.data %>% \n",
    "    group_by(cell_type) %>%\n",
    "    summarise(n=n()) %>%\n",
    "    arrange(desc(n)) %>%\n",
    "    top_n(6) %>%\n",
    "    pull(cell_type)\n",
    "\n",
    "# select donors with more than 100 cells per selected cell types\n",
    "donor.used <- col.data %>%\n",
    "    group_by(donor_id, cell_type, .drop=FALSE) %>%\n",
    "    summarise(n=n()) %>%\n",
    "    pivot_wider(names_from=cell_type, values_from=n) %>%\n",
    "    select(ct.used) %>%\n",
    "    filter(if_all(ct.used,~.>100)) %>% # ~>.10 is purrr style lambda function\n",
    "    pull(donor_id) \n",
    "col.data %>% \n",
    "    group_by(cell_type) %>%\n",
    "    summarise(n=n()) %>%\n",
    "    arrange(desc(n)) %>%\n",
    "    top_n(6)"
   ]
  },
  {
   "cell_type": "code",
   "execution_count": 17,
   "id": "079830a4-f25e-4219-a979-af4e75c18536",
   "metadata": {},
   "outputs": [],
   "source": [
    "cell.used <- col.data$donor_id %in% donor.used\n",
    "cnt.used <- cnt[rowMeans(cnt) > 0.01, cell.used]\n",
    "col.data.used <- col.data[cell.used,]"
   ]
  },
  {
   "cell_type": "code",
   "execution_count": 41,
   "id": "3e47db82-d2f0-47ea-afb6-d0ee1b27efee",
   "metadata": {
    "scrolled": true
   },
   "outputs": [
    {
     "name": "stderr",
     "output_type": "stream",
     "text": [
      "\u001b[1m\u001b[22m`summarise()` has grouped output by 'id'. You can override using the `.groups` argument.\n",
      "start regression\n",
      "\n",
      "NOTE: 1 fixed-effect (94 observations) removed because of only 0 outcomes.\n",
      "\n"
     ]
    },
    {
     "name": "stdout",
     "output_type": "stream",
     "text": [
      "Remove  0  genes having low expression.\n",
      "Analyzing  100  genes with  10  subjects and  16187  cells.\n"
     ]
    },
    {
     "name": "stderr",
     "output_type": "stream",
     "text": [
      "\u001b[1m\u001b[22m`summarise()` has grouped output by 'id'. You can override using the `.groups` argument.\n",
      "start regression\n",
      "\n"
     ]
    },
    {
     "name": "stdout",
     "output_type": "stream",
     "text": [
      "Remove  0  genes having low expression.\n",
      "Analyzing  100  genes with  10  subjects and  11472  cells.\n"
     ]
    },
    {
     "name": "stderr",
     "output_type": "stream",
     "text": [
      "\u001b[1m\u001b[22m`summarise()` has grouped output by 'id'. You can override using the `.groups` argument.\n",
      "start regression\n",
      "\n",
      "NOTE: 1 fixed-effect (71 observations) removed because of only 0 outcomes.\n",
      "\n"
     ]
    },
    {
     "name": "stdout",
     "output_type": "stream",
     "text": [
      "Remove  0  genes having low expression.\n",
      "Analyzing  100  genes with  10  subjects and  18170  cells.\n"
     ]
    },
    {
     "name": "stderr",
     "output_type": "stream",
     "text": [
      "\u001b[1m\u001b[22m`summarise()` has grouped output by 'id'. You can override using the `.groups` argument.\n",
      "start regression\n",
      "\n"
     ]
    },
    {
     "name": "stdout",
     "output_type": "stream",
     "text": [
      "Remove  0  genes having low expression.\n",
      "Analyzing  100  genes with  10  subjects and  22136  cells.\n"
     ]
    },
    {
     "name": "stderr",
     "output_type": "stream",
     "text": [
      "\u001b[1m\u001b[22m`summarise()` has grouped output by 'id'. You can override using the `.groups` argument.\n",
      "start regression\n",
      "\n"
     ]
    },
    {
     "name": "stdout",
     "output_type": "stream",
     "text": [
      "Remove  0  genes having low expression.\n",
      "Analyzing  100  genes with  10  subjects and  20420  cells.\n"
     ]
    },
    {
     "name": "stderr",
     "output_type": "stream",
     "text": [
      "\u001b[1m\u001b[22m`summarise()` has grouped output by 'id'. You can override using the `.groups` argument.\n",
      "start regression\n",
      "\n"
     ]
    },
    {
     "name": "stdout",
     "output_type": "stream",
     "text": [
      "Remove  0  genes having low expression.\n",
      "Analyzing  100  genes with  10  subjects and  19200  cells.\n"
     ]
    },
    {
     "name": "stderr",
     "output_type": "stream",
     "text": [
      "\u001b[1m\u001b[22m`summarise()` has grouped output by 'id'. You can override using the `.groups` argument.\n",
      "start regression\n",
      "\n",
      "NOTE: 1 fixed-effect (62 observations) removed because of only 0 outcomes.\n",
      "\n",
      "NOTE: 1 fixed-effect (62 observations) removed because of only 0 outcomes.\n",
      "\n"
     ]
    },
    {
     "name": "stdout",
     "output_type": "stream",
     "text": [
      "Remove  0  genes having low expression.\n",
      "Analyzing  100  genes with  10  subjects and  12431  cells.\n"
     ]
    },
    {
     "name": "stderr",
     "output_type": "stream",
     "text": [
      "\u001b[1m\u001b[22m`summarise()` has grouped output by 'id'. You can override using the `.groups` argument.\n",
      "start regression\n",
      "\n"
     ]
    },
    {
     "name": "stdout",
     "output_type": "stream",
     "text": [
      "Remove  0  genes having low expression.\n",
      "Analyzing  100  genes with  10  subjects and  13430  cells.\n"
     ]
    },
    {
     "name": "stderr",
     "output_type": "stream",
     "text": [
      "\u001b[1m\u001b[22m`summarise()` has grouped output by 'id'. You can override using the `.groups` argument.\n",
      "start regression\n",
      "\n",
      "NOTE: 1 fixed-effect (73 observations) removed because of only 0 outcomes.\n",
      "\n"
     ]
    },
    {
     "name": "stdout",
     "output_type": "stream",
     "text": [
      "Remove  0  genes having low expression.\n",
      "Analyzing  100  genes with  10  subjects and  13102  cells.\n"
     ]
    },
    {
     "name": "stderr",
     "output_type": "stream",
     "text": [
      "\u001b[1m\u001b[22m`summarise()` has grouped output by 'id'. You can override using the `.groups` argument.\n",
      "start regression\n",
      "\n"
     ]
    },
    {
     "name": "stdout",
     "output_type": "stream",
     "text": [
      "Remove  0  genes having low expression.\n",
      "Analyzing  100  genes with  10  subjects and  16337  cells.\n"
     ]
    },
    {
     "name": "stderr",
     "output_type": "stream",
     "text": [
      "\u001b[1m\u001b[22m`summarise()` has grouped output by 'id'. You can override using the `.groups` argument.\n",
      "start regression\n",
      "\n"
     ]
    },
    {
     "name": "stdout",
     "output_type": "stream",
     "text": [
      "Remove  0  genes having low expression.\n",
      "Analyzing  100  genes with  10  subjects and  19576  cells.\n"
     ]
    },
    {
     "name": "stderr",
     "output_type": "stream",
     "text": [
      "\u001b[1m\u001b[22m`summarise()` has grouped output by 'id'. You can override using the `.groups` argument.\n",
      "start regression\n",
      "\n"
     ]
    },
    {
     "name": "stdout",
     "output_type": "stream",
     "text": [
      "Remove  0  genes having low expression.\n",
      "Analyzing  100  genes with  10  subjects and  13849  cells.\n"
     ]
    },
    {
     "name": "stderr",
     "output_type": "stream",
     "text": [
      "\u001b[1m\u001b[22m`summarise()` has grouped output by 'id'. You can override using the `.groups` argument.\n",
      "start regression\n",
      "\n"
     ]
    },
    {
     "name": "stdout",
     "output_type": "stream",
     "text": [
      "Remove  0  genes having low expression.\n",
      "Analyzing  100  genes with  10  subjects and  18679  cells.\n"
     ]
    },
    {
     "name": "stderr",
     "output_type": "stream",
     "text": [
      "\u001b[1m\u001b[22m`summarise()` has grouped output by 'id'. You can override using the `.groups` argument.\n",
      "start regression\n",
      "\n"
     ]
    },
    {
     "name": "stdout",
     "output_type": "stream",
     "text": [
      "Remove  0  genes having low expression.\n",
      "Analyzing  100  genes with  10  subjects and  23790  cells.\n"
     ]
    },
    {
     "name": "stderr",
     "output_type": "stream",
     "text": [
      "\u001b[1m\u001b[22m`summarise()` has grouped output by 'id'. You can override using the `.groups` argument.\n",
      "start regression\n",
      "\n"
     ]
    },
    {
     "name": "stdout",
     "output_type": "stream",
     "text": [
      "Remove  0  genes having low expression.\n",
      "Analyzing  100  genes with  10  subjects and  13048  cells.\n"
     ]
    },
    {
     "name": "stderr",
     "output_type": "stream",
     "text": [
      "\u001b[1m\u001b[22m`summarise()` has grouped output by 'id'. You can override using the `.groups` argument.\n",
      "start regression\n",
      "\n"
     ]
    },
    {
     "name": "stdout",
     "output_type": "stream",
     "text": [
      "Remove  0  genes having low expression.\n",
      "Analyzing  100  genes with  10  subjects and  20510  cells.\n"
     ]
    },
    {
     "name": "stderr",
     "output_type": "stream",
     "text": [
      "\u001b[1m\u001b[22m`summarise()` has grouped output by 'id'. You can override using the `.groups` argument.\n",
      "start regression\n",
      "\n"
     ]
    },
    {
     "name": "stdout",
     "output_type": "stream",
     "text": [
      "Remove  0  genes having low expression.\n",
      "Analyzing  100  genes with  10  subjects and  20193  cells.\n"
     ]
    },
    {
     "name": "stderr",
     "output_type": "stream",
     "text": [
      "\u001b[1m\u001b[22m`summarise()` has grouped output by 'id'. You can override using the `.groups` argument.\n",
      "start regression\n",
      "\n"
     ]
    },
    {
     "name": "stdout",
     "output_type": "stream",
     "text": [
      "Remove  0  genes having low expression.\n",
      "Analyzing  100  genes with  10  subjects and  19343  cells.\n"
     ]
    },
    {
     "name": "stderr",
     "output_type": "stream",
     "text": [
      "\u001b[1m\u001b[22m`summarise()` has grouped output by 'id'. You can override using the `.groups` argument.\n",
      "start regression\n",
      "\n"
     ]
    },
    {
     "name": "stdout",
     "output_type": "stream",
     "text": [
      "Remove  0  genes having low expression.\n",
      "Analyzing  100  genes with  10  subjects and  13268  cells.\n"
     ]
    },
    {
     "name": "stderr",
     "output_type": "stream",
     "text": [
      "\u001b[1m\u001b[22m`summarise()` has grouped output by 'id'. You can override using the `.groups` argument.\n",
      "start regression\n",
      "\n"
     ]
    },
    {
     "name": "stdout",
     "output_type": "stream",
     "text": [
      "Remove  0  genes having low expression.\n",
      "Analyzing  100  genes with  10  subjects and  15242  cells.\n"
     ]
    },
    {
     "name": "stderr",
     "output_type": "stream",
     "text": [
      "\u001b[1m\u001b[22m`summarise()` has grouped output by 'id'. You can override using the `.groups` argument.\n",
      "start regression\n",
      "\n"
     ]
    },
    {
     "name": "stdout",
     "output_type": "stream",
     "text": [
      "Remove  0  genes having low expression.\n",
      "Analyzing  100  genes with  10  subjects and  13183  cells.\n"
     ]
    },
    {
     "name": "stderr",
     "output_type": "stream",
     "text": [
      "\u001b[1m\u001b[22m`summarise()` has grouped output by 'id'. You can override using the `.groups` argument.\n",
      "start regression\n",
      "\n"
     ]
    },
    {
     "name": "stdout",
     "output_type": "stream",
     "text": [
      "Remove  0  genes having low expression.\n",
      "Analyzing  100  genes with  10  subjects and  10809  cells.\n"
     ]
    },
    {
     "name": "stderr",
     "output_type": "stream",
     "text": [
      "\u001b[1m\u001b[22m`summarise()` has grouped output by 'id'. You can override using the `.groups` argument.\n",
      "start regression\n",
      "\n",
      "NOTE: 1 fixed-effect (488 observations) removed because of only 0 outcomes.\n",
      "\n"
     ]
    },
    {
     "name": "stdout",
     "output_type": "stream",
     "text": [
      "Remove  0  genes having low expression.\n",
      "Analyzing  100  genes with  10  subjects and  14286  cells.\n"
     ]
    },
    {
     "name": "stderr",
     "output_type": "stream",
     "text": [
      "\u001b[1m\u001b[22m`summarise()` has grouped output by 'id'. You can override using the `.groups` argument.\n",
      "start regression\n",
      "\n",
      "NOTE: 1 fixed-effect (485 observations) removed because of only 0 outcomes.\n",
      "\n"
     ]
    },
    {
     "name": "stdout",
     "output_type": "stream",
     "text": [
      "Remove  0  genes having low expression.\n",
      "Analyzing  100  genes with  10  subjects and  13151  cells.\n"
     ]
    },
    {
     "name": "stderr",
     "output_type": "stream",
     "text": [
      "\u001b[1m\u001b[22m`summarise()` has grouped output by 'id'. You can override using the `.groups` argument.\n",
      "start regression\n",
      "\n",
      "NOTE: 2 fixed-effects (898 observations) removed because of only 0 outcomes.\n",
      "\n"
     ]
    },
    {
     "name": "stdout",
     "output_type": "stream",
     "text": [
      "Remove  0  genes having low expression.\n",
      "Analyzing  100  genes with  10  subjects and  9889  cells.\n"
     ]
    },
    {
     "name": "stderr",
     "output_type": "stream",
     "text": [
      "\u001b[1m\u001b[22m`summarise()` has grouped output by 'id'. You can override using the `.groups` argument.\n",
      "start regression\n",
      "\n",
      "NOTE: 1 fixed-effect (479 observations) removed because of only 0 outcomes.\n",
      "\n"
     ]
    },
    {
     "name": "stdout",
     "output_type": "stream",
     "text": [
      "Remove  0  genes having low expression.\n",
      "Analyzing  100  genes with  10  subjects and  12146  cells.\n"
     ]
    },
    {
     "name": "stderr",
     "output_type": "stream",
     "text": [
      "\u001b[1m\u001b[22m`summarise()` has grouped output by 'id'. You can override using the `.groups` argument.\n",
      "start regression\n",
      "\n"
     ]
    },
    {
     "name": "stdout",
     "output_type": "stream",
     "text": [
      "Remove  0  genes having low expression.\n",
      "Analyzing  100  genes with  10  subjects and  11325  cells.\n"
     ]
    },
    {
     "name": "stderr",
     "output_type": "stream",
     "text": [
      "\u001b[1m\u001b[22m`summarise()` has grouped output by 'id'. You can override using the `.groups` argument.\n",
      "start regression\n",
      "\n"
     ]
    },
    {
     "name": "stdout",
     "output_type": "stream",
     "text": [
      "Remove  0  genes having low expression.\n",
      "Analyzing  100  genes with  10  subjects and  15879  cells.\n"
     ]
    },
    {
     "name": "stderr",
     "output_type": "stream",
     "text": [
      "\u001b[1m\u001b[22m`summarise()` has grouped output by 'id'. You can override using the `.groups` argument.\n",
      "start regression\n",
      "\n"
     ]
    },
    {
     "name": "stdout",
     "output_type": "stream",
     "text": [
      "Remove  0  genes having low expression.\n",
      "Analyzing  100  genes with  10  subjects and  15014  cells.\n"
     ]
    },
    {
     "name": "stderr",
     "output_type": "stream",
     "text": [
      "\u001b[1m\u001b[22m`summarise()` has grouped output by 'id'. You can override using the `.groups` argument.\n",
      "start regression\n",
      "\n",
      "NOTE: 1 fixed-effect (158 observations) removed because of only 0 outcomes.\n",
      "\n",
      "NOTE: 1 fixed-effect (158 observations) removed because of only 0 outcomes.\n",
      "\n"
     ]
    },
    {
     "name": "stdout",
     "output_type": "stream",
     "text": [
      "Remove  0  genes having low expression.\n",
      "Analyzing  100  genes with  10  subjects and  11560  cells.\n"
     ]
    },
    {
     "name": "stderr",
     "output_type": "stream",
     "text": [
      "\u001b[1m\u001b[22m`summarise()` has grouped output by 'id'. You can override using the `.groups` argument.\n",
      "start regression\n",
      "\n"
     ]
    },
    {
     "name": "stdout",
     "output_type": "stream",
     "text": [
      "Remove  0  genes having low expression.\n",
      "Analyzing  100  genes with  10  subjects and  21367  cells.\n"
     ]
    },
    {
     "name": "stderr",
     "output_type": "stream",
     "text": [
      "\u001b[1m\u001b[22m`summarise()` has grouped output by 'id'. You can override using the `.groups` argument.\n",
      "start regression\n",
      "\n"
     ]
    },
    {
     "name": "stdout",
     "output_type": "stream",
     "text": [
      "Remove  0  genes having low expression.\n",
      "Analyzing  100  genes with  10  subjects and  13544  cells.\n"
     ]
    },
    {
     "name": "stderr",
     "output_type": "stream",
     "text": [
      "\u001b[1m\u001b[22m`summarise()` has grouped output by 'id'. You can override using the `.groups` argument.\n",
      "start regression\n",
      "\n"
     ]
    },
    {
     "name": "stdout",
     "output_type": "stream",
     "text": [
      "Remove  0  genes having low expression.\n",
      "Analyzing  100  genes with  10  subjects and  11280  cells.\n"
     ]
    },
    {
     "name": "stderr",
     "output_type": "stream",
     "text": [
      "\u001b[1m\u001b[22m`summarise()` has grouped output by 'id'. You can override using the `.groups` argument.\n",
      "start regression\n",
      "\n"
     ]
    },
    {
     "name": "stdout",
     "output_type": "stream",
     "text": [
      "Remove  0  genes having low expression.\n",
      "Analyzing  100  genes with  10  subjects and  21141  cells.\n"
     ]
    },
    {
     "name": "stderr",
     "output_type": "stream",
     "text": [
      "\u001b[1m\u001b[22m`summarise()` has grouped output by 'id'. You can override using the `.groups` argument.\n",
      "start regression\n",
      "\n"
     ]
    },
    {
     "name": "stdout",
     "output_type": "stream",
     "text": [
      "Remove  0  genes having low expression.\n",
      "Analyzing  100  genes with  10  subjects and  6064  cells.\n"
     ]
    },
    {
     "name": "stderr",
     "output_type": "stream",
     "text": [
      "\u001b[1m\u001b[22m`summarise()` has grouped output by 'id'. You can override using the `.groups` argument.\n",
      "start regression\n",
      "\n"
     ]
    },
    {
     "name": "stdout",
     "output_type": "stream",
     "text": [
      "Remove  0  genes having low expression.\n",
      "Analyzing  100  genes with  10  subjects and  15532  cells.\n"
     ]
    },
    {
     "name": "stderr",
     "output_type": "stream",
     "text": [
      "\u001b[1m\u001b[22m`summarise()` has grouped output by 'id'. You can override using the `.groups` argument.\n",
      "start regression\n",
      "\n"
     ]
    },
    {
     "name": "stdout",
     "output_type": "stream",
     "text": [
      "Remove  0  genes having low expression.\n",
      "Analyzing  100  genes with  10  subjects and  21168  cells.\n"
     ]
    },
    {
     "name": "stderr",
     "output_type": "stream",
     "text": [
      "\u001b[1m\u001b[22m`summarise()` has grouped output by 'id'. You can override using the `.groups` argument.\n",
      "start regression\n",
      "\n"
     ]
    },
    {
     "name": "stdout",
     "output_type": "stream",
     "text": [
      "Remove  0  genes having low expression.\n",
      "Analyzing  100  genes with  10  subjects and  10571  cells.\n"
     ]
    },
    {
     "name": "stderr",
     "output_type": "stream",
     "text": [
      "\u001b[1m\u001b[22m`summarise()` has grouped output by 'id'. You can override using the `.groups` argument.\n",
      "start regression\n",
      "\n"
     ]
    },
    {
     "name": "stdout",
     "output_type": "stream",
     "text": [
      "Remove  0  genes having low expression.\n",
      "Analyzing  100  genes with  10  subjects and  9313  cells.\n"
     ]
    },
    {
     "name": "stderr",
     "output_type": "stream",
     "text": [
      "\u001b[1m\u001b[22m`summarise()` has grouped output by 'id'. You can override using the `.groups` argument.\n",
      "start regression\n",
      "\n"
     ]
    },
    {
     "name": "stdout",
     "output_type": "stream",
     "text": [
      "Remove  0  genes having low expression.\n",
      "Analyzing  100  genes with  10  subjects and  23758  cells.\n"
     ]
    },
    {
     "name": "stderr",
     "output_type": "stream",
     "text": [
      "\u001b[1m\u001b[22m`summarise()` has grouped output by 'id'. You can override using the `.groups` argument.\n",
      "start regression\n",
      "\n"
     ]
    },
    {
     "name": "stdout",
     "output_type": "stream",
     "text": [
      "Remove  0  genes having low expression.\n",
      "Analyzing  100  genes with  10  subjects and  10644  cells.\n"
     ]
    },
    {
     "name": "stderr",
     "output_type": "stream",
     "text": [
      "\u001b[1m\u001b[22m`summarise()` has grouped output by 'id'. You can override using the `.groups` argument.\n",
      "start regression\n",
      "\n"
     ]
    },
    {
     "name": "stdout",
     "output_type": "stream",
     "text": [
      "Remove  0  genes having low expression.\n",
      "Analyzing  100  genes with  10  subjects and  7285  cells.\n"
     ]
    },
    {
     "name": "stderr",
     "output_type": "stream",
     "text": [
      "\u001b[1m\u001b[22m`summarise()` has grouped output by 'id'. You can override using the `.groups` argument.\n",
      "start regression\n",
      "\n"
     ]
    },
    {
     "name": "stdout",
     "output_type": "stream",
     "text": [
      "Remove  0  genes having low expression.\n",
      "Analyzing  100  genes with  10  subjects and  7622  cells.\n"
     ]
    },
    {
     "name": "stderr",
     "output_type": "stream",
     "text": [
      "\u001b[1m\u001b[22m`summarise()` has grouped output by 'id'. You can override using the `.groups` argument.\n",
      "start regression\n",
      "\n"
     ]
    },
    {
     "name": "stdout",
     "output_type": "stream",
     "text": [
      "Remove  0  genes having low expression.\n",
      "Analyzing  100  genes with  10  subjects and  7745  cells.\n"
     ]
    },
    {
     "name": "stderr",
     "output_type": "stream",
     "text": [
      "\u001b[1m\u001b[22m`summarise()` has grouped output by 'id'. You can override using the `.groups` argument.\n",
      "start regression\n",
      "\n"
     ]
    },
    {
     "name": "stdout",
     "output_type": "stream",
     "text": [
      "Remove  0  genes having low expression.\n",
      "Analyzing  100  genes with  10  subjects and  7271  cells.\n"
     ]
    },
    {
     "name": "stderr",
     "output_type": "stream",
     "text": [
      "\u001b[1m\u001b[22m`summarise()` has grouped output by 'id'. You can override using the `.groups` argument.\n",
      "start regression\n",
      "\n"
     ]
    },
    {
     "name": "stdout",
     "output_type": "stream",
     "text": [
      "Remove  0  genes having low expression.\n",
      "Analyzing  100  genes with  10  subjects and  5805  cells.\n"
     ]
    },
    {
     "name": "stderr",
     "output_type": "stream",
     "text": [
      "\u001b[1m\u001b[22m`summarise()` has grouped output by 'id'. You can override using the `.groups` argument.\n",
      "start regression\n",
      "\n"
     ]
    },
    {
     "name": "stdout",
     "output_type": "stream",
     "text": [
      "Remove  0  genes having low expression.\n",
      "Analyzing  100  genes with  10  subjects and  11480  cells.\n"
     ]
    },
    {
     "name": "stderr",
     "output_type": "stream",
     "text": [
      "\u001b[1m\u001b[22m`summarise()` has grouped output by 'id'. You can override using the `.groups` argument.\n",
      "start regression\n",
      "\n"
     ]
    },
    {
     "name": "stdout",
     "output_type": "stream",
     "text": [
      "Remove  0  genes having low expression.\n",
      "Analyzing  100  genes with  10  subjects and  9106  cells.\n"
     ]
    },
    {
     "name": "stderr",
     "output_type": "stream",
     "text": [
      "\u001b[1m\u001b[22m`summarise()` has grouped output by 'id'. You can override using the `.groups` argument.\n",
      "start regression\n",
      "\n"
     ]
    },
    {
     "name": "stdout",
     "output_type": "stream",
     "text": [
      "Remove  0  genes having low expression.\n",
      "Analyzing  100  genes with  10  subjects and  7917  cells.\n"
     ]
    },
    {
     "name": "stderr",
     "output_type": "stream",
     "text": [
      "\u001b[1m\u001b[22m`summarise()` has grouped output by 'id'. You can override using the `.groups` argument.\n",
      "start regression\n",
      "\n"
     ]
    },
    {
     "name": "stdout",
     "output_type": "stream",
     "text": [
      "Remove  0  genes having low expression.\n",
      "Analyzing  100  genes with  10  subjects and  8756  cells.\n"
     ]
    },
    {
     "name": "stderr",
     "output_type": "stream",
     "text": [
      "\u001b[1m\u001b[22m`summarise()` has grouped output by 'id'. You can override using the `.groups` argument.\n",
      "start regression\n",
      "\n"
     ]
    },
    {
     "name": "stdout",
     "output_type": "stream",
     "text": [
      "Remove  0  genes having low expression.\n",
      "Analyzing  100  genes with  10  subjects and  4928  cells.\n"
     ]
    },
    {
     "name": "stderr",
     "output_type": "stream",
     "text": [
      "\u001b[1m\u001b[22m`summarise()` has grouped output by 'id'. You can override using the `.groups` argument.\n",
      "start regression\n",
      "\n"
     ]
    },
    {
     "name": "stdout",
     "output_type": "stream",
     "text": [
      "Remove  0  genes having low expression.\n",
      "Analyzing  100  genes with  10  subjects and  3932  cells.\n"
     ]
    },
    {
     "name": "stderr",
     "output_type": "stream",
     "text": [
      "\u001b[1m\u001b[22m`summarise()` has grouped output by 'id'. You can override using the `.groups` argument.\n",
      "start regression\n",
      "\n"
     ]
    },
    {
     "name": "stdout",
     "output_type": "stream",
     "text": [
      "Remove  0  genes having low expression.\n",
      "Analyzing  100  genes with  10  subjects and  3911  cells.\n"
     ]
    },
    {
     "name": "stderr",
     "output_type": "stream",
     "text": [
      "\u001b[1m\u001b[22m`summarise()` has grouped output by 'id'. You can override using the `.groups` argument.\n",
      "start regression\n",
      "\n"
     ]
    },
    {
     "name": "stdout",
     "output_type": "stream",
     "text": [
      "Remove  0  genes having low expression.\n",
      "Analyzing  100  genes with  10  subjects and  3425  cells.\n"
     ]
    },
    {
     "name": "stderr",
     "output_type": "stream",
     "text": [
      "\u001b[1m\u001b[22m`summarise()` has grouped output by 'id'. You can override using the `.groups` argument.\n",
      "start regression\n",
      "\n"
     ]
    },
    {
     "name": "stdout",
     "output_type": "stream",
     "text": [
      "Remove  0  genes having low expression.\n",
      "Analyzing  100  genes with  10  subjects and  6209  cells.\n"
     ]
    },
    {
     "name": "stderr",
     "output_type": "stream",
     "text": [
      "\u001b[1m\u001b[22m`summarise()` has grouped output by 'id'. You can override using the `.groups` argument.\n",
      "start regression\n",
      "\n"
     ]
    },
    {
     "name": "stdout",
     "output_type": "stream",
     "text": [
      "Remove  0  genes having low expression.\n",
      "Analyzing  100  genes with  10  subjects and  2488  cells.\n"
     ]
    },
    {
     "name": "stderr",
     "output_type": "stream",
     "text": [
      "\u001b[1m\u001b[22m`summarise()` has grouped output by 'id'. You can override using the `.groups` argument.\n",
      "start regression\n",
      "\n"
     ]
    },
    {
     "name": "stdout",
     "output_type": "stream",
     "text": [
      "Remove  0  genes having low expression.\n",
      "Analyzing  100  genes with  10  subjects and  3026  cells.\n"
     ]
    },
    {
     "name": "stderr",
     "output_type": "stream",
     "text": [
      "\u001b[1m\u001b[22m`summarise()` has grouped output by 'id'. You can override using the `.groups` argument.\n",
      "start regression\n",
      "\n",
      "NOTE: 1 fixed-effect (65 observations) removed because of only 0 outcomes.\n",
      "\n",
      "NOTE: 1 fixed-effect (65 observations) removed because of only 0 outcomes.\n",
      "\n",
      "NOTE: 1 fixed-effect (65 observations) removed because of only 0 outcomes.\n",
      "\n",
      "NOTE: 1 fixed-effect (65 observations) removed because of only 0 outcomes.\n",
      "\n",
      "NOTE: 1 fixed-effect (135 observations) removed because of only 0 outcomes.\n",
      "\n"
     ]
    },
    {
     "name": "stdout",
     "output_type": "stream",
     "text": [
      "Remove  0  genes having low expression.\n",
      "Analyzing  100  genes with  10  subjects and  3169  cells.\n"
     ]
    },
    {
     "name": "stderr",
     "output_type": "stream",
     "text": [
      "\u001b[1m\u001b[22m`summarise()` has grouped output by 'id'. You can override using the `.groups` argument.\n",
      "start regression\n",
      "\n"
     ]
    },
    {
     "name": "stdout",
     "output_type": "stream",
     "text": [
      "Remove  0  genes having low expression.\n",
      "Analyzing  100  genes with  10  subjects and  2838  cells.\n"
     ]
    },
    {
     "name": "stderr",
     "output_type": "stream",
     "text": [
      "\u001b[1m\u001b[22m`summarise()` has grouped output by 'id'. You can override using the `.groups` argument.\n",
      "start regression\n",
      "\n",
      "NOTE: 1 fixed-effect (62 observations) removed because of only 0 outcomes.\n",
      "\n",
      "NOTE: 1 fixed-effect (62 observations) removed because of only 0 outcomes.\n",
      "\n",
      "NOTE: 1 fixed-effect (62 observations) removed because of only 0 outcomes.\n",
      "\n",
      "NOTE: 1 fixed-effect (62 observations) removed because of only 0 outcomes.\n",
      "\n",
      "NOTE: 1 fixed-effect (62 observations) removed because of only 0 outcomes.\n",
      "\n",
      "NOTE: 1 fixed-effect (62 observations) removed because of only 0 outcomes.\n",
      "\n",
      "NOTE: 1 fixed-effect (62 observations) removed because of only 0 outcomes.\n",
      "\n"
     ]
    },
    {
     "name": "stdout",
     "output_type": "stream",
     "text": [
      "Remove  0  genes having low expression.\n",
      "Analyzing  100  genes with  10  subjects and  2102  cells.\n"
     ]
    },
    {
     "data": {
      "text/plain": [
       "Time difference of 48.8387 mins"
      ]
     },
     "metadata": {},
     "output_type": "display_data"
    }
   ],
   "source": [
    "author <- 'bca'\n",
    "n.sample <- 10\n",
    "exp.cut <- 0.5\n",
    "n.gene <- 100\n",
    "n.sim <- 10\n",
    "samp.prob <- 0.5\n",
    "is.pb <- FALSE\n",
    "t1 <- Sys.time()\n",
    "for (int.ct in 1:length(ct.used)){ #\n",
    "    # select celltype\n",
    "    cell.type <- ct.used[[int.ct]]\n",
    "    bool.ct <- col.data.used$cell_type == cell.type\n",
    "    col.data.ct <- col.data.used[bool.ct,]\n",
    "\n",
    "    # select genes with sufficient mean (nblmm doesn't work for small mean)\n",
    "    cnt.ct <- cnt.used[,bool.ct]\n",
    "    cnt.ct.bm <- cnt.ct[rowMeans2(cnt.ct) > 0.1,]\n",
    "    cnt.ct.bm <- cnt.ct.bm[sample(1:nrow(cnt.ct.bm), n.gene),]\n",
    "    \n",
    "    # boolean index of cells\n",
    "    bool.cell.donor <- lapply(\n",
    "        unique(col.data.ct$donor_id),\n",
    "        function(id.donor){\n",
    "            return(col.data.ct$donor_id == id.donor)\n",
    "            }\n",
    "        )\n",
    "    col.data.donor <- lapply(\n",
    "        bool.cell.donor,\n",
    "        function(bool.donor){\n",
    "            return(col.data.ct[bool.donor,])\n",
    "            }\n",
    "        )\n",
    "    cnt.donor <- lapply(\n",
    "        bool.cell.donor,\n",
    "        function(bool.donor){\n",
    "            return(cnt.ct.bm[,bool.donor])\n",
    "            }\n",
    "        )\n",
    "\n",
    "    list.result.null <- list()\n",
    "    list.result.pow <- list()\n",
    "    for (i.iter in 1:n.sim){\n",
    "        \n",
    "        # sample individuals\n",
    "        ind.select <- sample.int(\n",
    "            n=length(unique(col.data.ct$donor_id)), \n",
    "            size=n.sample,\n",
    "            replace=TRUE\n",
    "            )\n",
    "    \n",
    "        # construct col.data & cnt matrix\n",
    "        col.data.select <- data.table::rbindlist(col.data.donor[ind.select], idcol=\"id\")\n",
    "        cnt.select <- do.call(cbind, cnt.donor[ind.select])\n",
    "        colnames(cnt.select) <- rownames(col.data.select)\n",
    "                   \n",
    "        # select cells randomly\n",
    "        n.per.donor <- col.data.select %>% group_by(id, donor_id) %>% summarise(n=n()) %>% pull(n)\n",
    "        cell.select <- as.logical(unlist(sapply(n.per.donor, rbinom, size=1, p=samp.prob)))\n",
    "        col.data.select <- col.data.select[cell.select,]\n",
    "        cnt.select <- cnt.select[,cell.select]\n",
    "\n",
    "        # assign treatment\n",
    "        col.data.select$tx_cell <- rbinom(n=nrow(col.data.select), size=1, p=0.5)\n",
    "        if (is.pb){ \n",
    "            # assign treatment label\n",
    "            n.tx <- as.integer(n.sample/2)\n",
    "            urn <- c(rep(1,n.tx), rep(0,n.sample-n.tx))\n",
    "            tx.ind <- sample(x=urn, size=n.sample, replace=FALSE)\n",
    "        \n",
    "            # assign tx to cells\n",
    "            cell.per.ind <- col.data.select %>%\n",
    "                group_by(id) %>%\n",
    "                summarise(n=n())\n",
    "            col.data.select$tx_cell <- rep(tx.ind, times=cell.per.ind$n)\n",
    "        }\n",
    "    \n",
    "        # for power simulation, cut expression to half (+ force int)\n",
    "        idx.de <- 1:5\n",
    "        idx.tx <- which(col.data.select$tx_cell == 1)\n",
    "        downCells(cnt.select, idx.de, idx.tx, exp.cut)\n",
    "        cnt.select.t <- t(cnt.select)\n",
    "        \n",
    "        # run tests\n",
    "        message('start regression')\n",
    "        list.formula <- list(\n",
    "            as.formula('~tx_cell'),\n",
    "            as.formula('~tx_cell'),\n",
    "            as.formula('~tx_cell'),\n",
    "            as.formula('~tx_cell'),\n",
    "            as.formula(ifelse(is.pb, 'y~tx_cell', 'y~tx_cell | id')),\n",
    "            as.formula('~tx_cell')\n",
    "            )\n",
    "        list.data <- list(\n",
    "            cnt.select,\n",
    "            cnt.select,\n",
    "            cnt.select,\n",
    "            cnt.select,\n",
    "            cnt.select.t,\n",
    "            cnt.select\n",
    "            )\n",
    "        list.result.method <- list()\n",
    "        for (int.test in 1:length(list.func)){\n",
    "            list.result.method[[int.test]] <- list.func[[int.test]](\n",
    "                list.formula[[int.test]],\n",
    "                list.data[[int.test]],\n",
    "                col.data.select\n",
    "                )[,4] \n",
    "            }\n",
    "        df.result <- do.call(rbind, list.result.method)\n",
    "        rownames(df.result) <- c('glmGamPoi (Pb)', 'edgeR (Pb)', 'limma (Pb)', 'glmGamPoi (cell)', 'robust GLM (cell)', 'NB GLMM')\n",
    "        list.result.null[[i.iter]] <- t(df.result)[6:n.gene,]\n",
    "        list.result.pow[[i.iter]] <- t(df.result)[1:5,]\n",
    "        }\n",
    "\n",
    "    \n",
    "    \n",
    "    # results\n",
    "    df.null <- do.call(rbind, list.result.null)\n",
    "    df.pow <- do.call(rbind, list.result.pow)\n",
    "    \n",
    "    # save name\n",
    "    path.tail <- paste(author,'n',n.sample,'ct',int.ct,'fc',exp.cut,'csv',sep='.')\n",
    "    path.pow.head <- ifelse(is.pb, 'pow_subject/', 'pow_cell/')\n",
    "    path.null.head <- ifelse(is.pb, 'null_subject/', 'null_cell/')\n",
    "    \n",
    "    write.csv(df.null, paste0(path.null.head, path.tail))\n",
    "    write.csv(df.pow, paste0(path.pow.head, path.tail))\n",
    "    \n",
    "    }\n",
    "t2 <- Sys.time()\n",
    "t2-t1"
   ]
  },
  {
   "cell_type": "code",
   "execution_count": 42,
   "id": "1faa7462-16eb-4b20-b959-931dd71c5ec1",
   "metadata": {
    "scrolled": true
   },
   "outputs": [
    {
     "name": "stderr",
     "output_type": "stream",
     "text": [
      "\u001b[1m\u001b[22m`summarise()` has grouped output by 'id'. You can override using the `.groups` argument.\n",
      "start regression\n",
      "\n"
     ]
    },
    {
     "name": "stdout",
     "output_type": "stream",
     "text": [
      "Remove  0  genes having low expression.\n",
      "Analyzing  100  genes with  10  subjects and  16389  cells.\n"
     ]
    },
    {
     "name": "stderr",
     "output_type": "stream",
     "text": [
      "\u001b[1m\u001b[22m`summarise()` has grouped output by 'id'. You can override using the `.groups` argument.\n",
      "start regression\n",
      "\n"
     ]
    },
    {
     "name": "stdout",
     "output_type": "stream",
     "text": [
      "Remove  0  genes having low expression.\n",
      "Analyzing  100  genes with  10  subjects and  13852  cells.\n"
     ]
    },
    {
     "name": "stderr",
     "output_type": "stream",
     "text": [
      "\u001b[1m\u001b[22m`summarise()` has grouped output by 'id'. You can override using the `.groups` argument.\n",
      "start regression\n",
      "\n"
     ]
    },
    {
     "name": "stdout",
     "output_type": "stream",
     "text": [
      "Remove  0  genes having low expression.\n",
      "Analyzing  100  genes with  10  subjects and  14782  cells.\n"
     ]
    },
    {
     "name": "stderr",
     "output_type": "stream",
     "text": [
      "\u001b[1m\u001b[22m`summarise()` has grouped output by 'id'. You can override using the `.groups` argument.\n",
      "start regression\n",
      "\n"
     ]
    },
    {
     "name": "stdout",
     "output_type": "stream",
     "text": [
      "Remove  0  genes having low expression.\n",
      "Analyzing  100  genes with  10  subjects and  17044  cells.\n"
     ]
    },
    {
     "name": "stderr",
     "output_type": "stream",
     "text": [
      "\u001b[1m\u001b[22m`summarise()` has grouped output by 'id'. You can override using the `.groups` argument.\n",
      "start regression\n",
      "\n"
     ]
    },
    {
     "name": "stdout",
     "output_type": "stream",
     "text": [
      "Remove  0  genes having low expression.\n",
      "Analyzing  100  genes with  10  subjects and  20917  cells.\n"
     ]
    },
    {
     "name": "stderr",
     "output_type": "stream",
     "text": [
      "\u001b[1m\u001b[22m`summarise()` has grouped output by 'id'. You can override using the `.groups` argument.\n",
      "start regression\n",
      "\n"
     ]
    },
    {
     "name": "stdout",
     "output_type": "stream",
     "text": [
      "Remove  0  genes having low expression.\n",
      "Analyzing  100  genes with  10  subjects and  18699  cells.\n"
     ]
    },
    {
     "name": "stderr",
     "output_type": "stream",
     "text": [
      "\u001b[1m\u001b[22m`summarise()` has grouped output by 'id'. You can override using the `.groups` argument.\n",
      "start regression\n",
      "\n"
     ]
    },
    {
     "name": "stdout",
     "output_type": "stream",
     "text": [
      "Remove  0  genes having low expression.\n",
      "Analyzing  100  genes with  10  subjects and  16314  cells.\n"
     ]
    },
    {
     "name": "stderr",
     "output_type": "stream",
     "text": [
      "\u001b[1m\u001b[22m`summarise()` has grouped output by 'id'. You can override using the `.groups` argument.\n",
      "start regression\n",
      "\n"
     ]
    },
    {
     "name": "stdout",
     "output_type": "stream",
     "text": [
      "Remove  0  genes having low expression.\n",
      "Analyzing  100  genes with  10  subjects and  15617  cells.\n"
     ]
    },
    {
     "name": "stderr",
     "output_type": "stream",
     "text": [
      "\u001b[1m\u001b[22m`summarise()` has grouped output by 'id'. You can override using the `.groups` argument.\n",
      "start regression\n",
      "\n"
     ]
    },
    {
     "name": "stdout",
     "output_type": "stream",
     "text": [
      "Remove  0  genes having low expression.\n",
      "Analyzing  100  genes with  10  subjects and  11381  cells.\n"
     ]
    },
    {
     "name": "stderr",
     "output_type": "stream",
     "text": [
      "\u001b[1m\u001b[22m`summarise()` has grouped output by 'id'. You can override using the `.groups` argument.\n",
      "start regression\n",
      "\n"
     ]
    },
    {
     "name": "stdout",
     "output_type": "stream",
     "text": [
      "Remove  0  genes having low expression.\n",
      "Analyzing  100  genes with  10  subjects and  20556  cells.\n"
     ]
    },
    {
     "name": "stderr",
     "output_type": "stream",
     "text": [
      "\u001b[1m\u001b[22m`summarise()` has grouped output by 'id'. You can override using the `.groups` argument.\n",
      "start regression\n",
      "\n"
     ]
    },
    {
     "name": "stdout",
     "output_type": "stream",
     "text": [
      "Remove  0  genes having low expression.\n",
      "Analyzing  100  genes with  10  subjects and  17697  cells.\n"
     ]
    },
    {
     "name": "stderr",
     "output_type": "stream",
     "text": [
      "\u001b[1m\u001b[22m`summarise()` has grouped output by 'id'. You can override using the `.groups` argument.\n",
      "start regression\n",
      "\n"
     ]
    },
    {
     "name": "stdout",
     "output_type": "stream",
     "text": [
      "Remove  0  genes having low expression.\n",
      "Analyzing  100  genes with  10  subjects and  15089  cells.\n"
     ]
    },
    {
     "name": "stderr",
     "output_type": "stream",
     "text": [
      "\u001b[1m\u001b[22m`summarise()` has grouped output by 'id'. You can override using the `.groups` argument.\n",
      "start regression\n",
      "\n"
     ]
    },
    {
     "name": "stdout",
     "output_type": "stream",
     "text": [
      "Remove  0  genes having low expression.\n",
      "Analyzing  100  genes with  10  subjects and  19429  cells.\n"
     ]
    },
    {
     "name": "stderr",
     "output_type": "stream",
     "text": [
      "\u001b[1m\u001b[22m`summarise()` has grouped output by 'id'. You can override using the `.groups` argument.\n",
      "start regression\n",
      "\n"
     ]
    },
    {
     "name": "stdout",
     "output_type": "stream",
     "text": [
      "Remove  0  genes having low expression.\n",
      "Analyzing  100  genes with  10  subjects and  16835  cells.\n"
     ]
    },
    {
     "name": "stderr",
     "output_type": "stream",
     "text": [
      "\u001b[1m\u001b[22m`summarise()` has grouped output by 'id'. You can override using the `.groups` argument.\n",
      "start regression\n",
      "\n"
     ]
    },
    {
     "name": "stdout",
     "output_type": "stream",
     "text": [
      "Remove  0  genes having low expression.\n",
      "Analyzing  100  genes with  10  subjects and  20265  cells.\n"
     ]
    },
    {
     "name": "stderr",
     "output_type": "stream",
     "text": [
      "\u001b[1m\u001b[22m`summarise()` has grouped output by 'id'. You can override using the `.groups` argument.\n",
      "start regression\n",
      "\n"
     ]
    },
    {
     "name": "stdout",
     "output_type": "stream",
     "text": [
      "Remove  0  genes having low expression.\n",
      "Analyzing  100  genes with  10  subjects and  23373  cells.\n"
     ]
    },
    {
     "name": "stderr",
     "output_type": "stream",
     "text": [
      "\u001b[1m\u001b[22m`summarise()` has grouped output by 'id'. You can override using the `.groups` argument.\n",
      "start regression\n",
      "\n"
     ]
    },
    {
     "name": "stdout",
     "output_type": "stream",
     "text": [
      "Remove  0  genes having low expression.\n",
      "Analyzing  100  genes with  10  subjects and  15852  cells.\n"
     ]
    },
    {
     "name": "stderr",
     "output_type": "stream",
     "text": [
      "\u001b[1m\u001b[22m`summarise()` has grouped output by 'id'. You can override using the `.groups` argument.\n",
      "start regression\n",
      "\n"
     ]
    },
    {
     "name": "stdout",
     "output_type": "stream",
     "text": [
      "Remove  0  genes having low expression.\n",
      "Analyzing  100  genes with  10  subjects and  22345  cells.\n"
     ]
    },
    {
     "name": "stderr",
     "output_type": "stream",
     "text": [
      "\u001b[1m\u001b[22m`summarise()` has grouped output by 'id'. You can override using the `.groups` argument.\n",
      "start regression\n",
      "\n"
     ]
    },
    {
     "name": "stdout",
     "output_type": "stream",
     "text": [
      "Remove  0  genes having low expression.\n",
      "Analyzing  100  genes with  10  subjects and  20952  cells.\n"
     ]
    },
    {
     "name": "stderr",
     "output_type": "stream",
     "text": [
      "\u001b[1m\u001b[22m`summarise()` has grouped output by 'id'. You can override using the `.groups` argument.\n",
      "start regression\n",
      "\n"
     ]
    },
    {
     "name": "stdout",
     "output_type": "stream",
     "text": [
      "Remove  0  genes having low expression.\n",
      "Analyzing  100  genes with  10  subjects and  17562  cells.\n"
     ]
    },
    {
     "name": "stderr",
     "output_type": "stream",
     "text": [
      "\u001b[1m\u001b[22m`summarise()` has grouped output by 'id'. You can override using the `.groups` argument.\n",
      "start regression\n",
      "\n"
     ]
    },
    {
     "name": "stdout",
     "output_type": "stream",
     "text": [
      "Remove  0  genes having low expression.\n",
      "Analyzing  100  genes with  10  subjects and  10285  cells.\n"
     ]
    },
    {
     "name": "stderr",
     "output_type": "stream",
     "text": [
      "\u001b[1m\u001b[22m`summarise()` has grouped output by 'id'. You can override using the `.groups` argument.\n",
      "start regression\n",
      "\n"
     ]
    },
    {
     "name": "stdout",
     "output_type": "stream",
     "text": [
      "Remove  0  genes having low expression.\n",
      "Analyzing  100  genes with  10  subjects and  10954  cells.\n"
     ]
    },
    {
     "name": "stderr",
     "output_type": "stream",
     "text": [
      "\u001b[1m\u001b[22m`summarise()` has grouped output by 'id'. You can override using the `.groups` argument.\n",
      "start regression\n",
      "\n"
     ]
    },
    {
     "name": "stdout",
     "output_type": "stream",
     "text": [
      "Remove  0  genes having low expression.\n",
      "Analyzing  100  genes with  10  subjects and  17793  cells.\n"
     ]
    },
    {
     "name": "stderr",
     "output_type": "stream",
     "text": [
      "\u001b[1m\u001b[22m`summarise()` has grouped output by 'id'. You can override using the `.groups` argument.\n",
      "start regression\n",
      "\n"
     ]
    },
    {
     "name": "stdout",
     "output_type": "stream",
     "text": [
      "Remove  0  genes having low expression.\n",
      "Analyzing  100  genes with  10  subjects and  12903  cells.\n"
     ]
    },
    {
     "name": "stderr",
     "output_type": "stream",
     "text": [
      "\u001b[1m\u001b[22m`summarise()` has grouped output by 'id'. You can override using the `.groups` argument.\n",
      "start regression\n",
      "\n"
     ]
    },
    {
     "name": "stdout",
     "output_type": "stream",
     "text": [
      "Remove  0  genes having low expression.\n",
      "Analyzing  100  genes with  10  subjects and  14007  cells.\n"
     ]
    },
    {
     "name": "stderr",
     "output_type": "stream",
     "text": [
      "\u001b[1m\u001b[22m`summarise()` has grouped output by 'id'. You can override using the `.groups` argument.\n",
      "start regression\n",
      "\n"
     ]
    },
    {
     "name": "stdout",
     "output_type": "stream",
     "text": [
      "Remove  0  genes having low expression.\n",
      "Analyzing  100  genes with  10  subjects and  13230  cells.\n"
     ]
    },
    {
     "name": "stderr",
     "output_type": "stream",
     "text": [
      "\u001b[1m\u001b[22m`summarise()` has grouped output by 'id'. You can override using the `.groups` argument.\n",
      "start regression\n",
      "\n"
     ]
    },
    {
     "name": "stdout",
     "output_type": "stream",
     "text": [
      "Remove  0  genes having low expression.\n",
      "Analyzing  100  genes with  10  subjects and  10862  cells.\n"
     ]
    },
    {
     "name": "stderr",
     "output_type": "stream",
     "text": [
      "\u001b[1m\u001b[22m`summarise()` has grouped output by 'id'. You can override using the `.groups` argument.\n",
      "start regression\n",
      "\n"
     ]
    },
    {
     "name": "stdout",
     "output_type": "stream",
     "text": [
      "Remove  0  genes having low expression.\n",
      "Analyzing  100  genes with  10  subjects and  14741  cells.\n"
     ]
    },
    {
     "name": "stderr",
     "output_type": "stream",
     "text": [
      "\u001b[1m\u001b[22m`summarise()` has grouped output by 'id'. You can override using the `.groups` argument.\n",
      "start regression\n",
      "\n"
     ]
    },
    {
     "name": "stdout",
     "output_type": "stream",
     "text": [
      "Remove  0  genes having low expression.\n",
      "Analyzing  100  genes with  10  subjects and  11493  cells.\n"
     ]
    },
    {
     "name": "stderr",
     "output_type": "stream",
     "text": [
      "\u001b[1m\u001b[22m`summarise()` has grouped output by 'id'. You can override using the `.groups` argument.\n",
      "start regression\n",
      "\n"
     ]
    },
    {
     "name": "stdout",
     "output_type": "stream",
     "text": [
      "Remove  0  genes having low expression.\n",
      "Analyzing  100  genes with  10  subjects and  7784  cells.\n"
     ]
    },
    {
     "name": "stderr",
     "output_type": "stream",
     "text": [
      "\u001b[1m\u001b[22m`summarise()` has grouped output by 'id'. You can override using the `.groups` argument.\n",
      "start regression\n",
      "\n"
     ]
    },
    {
     "name": "stdout",
     "output_type": "stream",
     "text": [
      "Remove  0  genes having low expression.\n",
      "Analyzing  100  genes with  10  subjects and  8392  cells.\n"
     ]
    },
    {
     "name": "stderr",
     "output_type": "stream",
     "text": [
      "\u001b[1m\u001b[22m`summarise()` has grouped output by 'id'. You can override using the `.groups` argument.\n",
      "start regression\n",
      "\n"
     ]
    },
    {
     "name": "stdout",
     "output_type": "stream",
     "text": [
      "Remove  0  genes having low expression.\n",
      "Analyzing  100  genes with  10  subjects and  27387  cells.\n"
     ]
    },
    {
     "name": "stderr",
     "output_type": "stream",
     "text": [
      "\u001b[1m\u001b[22m`summarise()` has grouped output by 'id'. You can override using the `.groups` argument.\n",
      "start regression\n",
      "\n"
     ]
    },
    {
     "name": "stdout",
     "output_type": "stream",
     "text": [
      "Remove  0  genes having low expression.\n",
      "Analyzing  100  genes with  10  subjects and  24228  cells.\n"
     ]
    },
    {
     "name": "stderr",
     "output_type": "stream",
     "text": [
      "\u001b[1m\u001b[22m`summarise()` has grouped output by 'id'. You can override using the `.groups` argument.\n",
      "start regression\n",
      "\n"
     ]
    },
    {
     "name": "stdout",
     "output_type": "stream",
     "text": [
      "Remove  0  genes having low expression.\n",
      "Analyzing  100  genes with  10  subjects and  22659  cells.\n"
     ]
    },
    {
     "name": "stderr",
     "output_type": "stream",
     "text": [
      "\u001b[1m\u001b[22m`summarise()` has grouped output by 'id'. You can override using the `.groups` argument.\n",
      "start regression\n",
      "\n"
     ]
    },
    {
     "name": "stdout",
     "output_type": "stream",
     "text": [
      "Remove  0  genes having low expression.\n",
      "Analyzing  100  genes with  10  subjects and  16009  cells.\n"
     ]
    },
    {
     "name": "stderr",
     "output_type": "stream",
     "text": [
      "\u001b[1m\u001b[22m`summarise()` has grouped output by 'id'. You can override using the `.groups` argument.\n",
      "start regression\n",
      "\n"
     ]
    },
    {
     "name": "stdout",
     "output_type": "stream",
     "text": [
      "Remove  0  genes having low expression.\n",
      "Analyzing  100  genes with  10  subjects and  9447  cells.\n"
     ]
    },
    {
     "name": "stderr",
     "output_type": "stream",
     "text": [
      "\u001b[1m\u001b[22m`summarise()` has grouped output by 'id'. You can override using the `.groups` argument.\n",
      "start regression\n",
      "\n"
     ]
    },
    {
     "name": "stdout",
     "output_type": "stream",
     "text": [
      "Remove  0  genes having low expression.\n",
      "Analyzing  100  genes with  10  subjects and  14428  cells.\n"
     ]
    },
    {
     "name": "stderr",
     "output_type": "stream",
     "text": [
      "\u001b[1m\u001b[22m`summarise()` has grouped output by 'id'. You can override using the `.groups` argument.\n",
      "start regression\n",
      "\n"
     ]
    },
    {
     "name": "stdout",
     "output_type": "stream",
     "text": [
      "Remove  0  genes having low expression.\n",
      "Analyzing  100  genes with  10  subjects and  7279  cells.\n"
     ]
    },
    {
     "name": "stderr",
     "output_type": "stream",
     "text": [
      "\u001b[1m\u001b[22m`summarise()` has grouped output by 'id'. You can override using the `.groups` argument.\n",
      "start regression\n",
      "\n"
     ]
    },
    {
     "name": "stdout",
     "output_type": "stream",
     "text": [
      "Remove  0  genes having low expression.\n",
      "Analyzing  100  genes with  10  subjects and  11513  cells.\n"
     ]
    },
    {
     "name": "stderr",
     "output_type": "stream",
     "text": [
      "\u001b[1m\u001b[22m`summarise()` has grouped output by 'id'. You can override using the `.groups` argument.\n",
      "start regression\n",
      "\n"
     ]
    },
    {
     "name": "stdout",
     "output_type": "stream",
     "text": [
      "Remove  0  genes having low expression.\n",
      "Analyzing  100  genes with  10  subjects and  23135  cells.\n"
     ]
    },
    {
     "name": "stderr",
     "output_type": "stream",
     "text": [
      "\u001b[1m\u001b[22m`summarise()` has grouped output by 'id'. You can override using the `.groups` argument.\n",
      "start regression\n",
      "\n"
     ]
    },
    {
     "name": "stdout",
     "output_type": "stream",
     "text": [
      "Remove  0  genes having low expression.\n",
      "Analyzing  100  genes with  10  subjects and  8624  cells.\n"
     ]
    },
    {
     "name": "stderr",
     "output_type": "stream",
     "text": [
      "\u001b[1m\u001b[22m`summarise()` has grouped output by 'id'. You can override using the `.groups` argument.\n",
      "start regression\n",
      "\n"
     ]
    },
    {
     "name": "stdout",
     "output_type": "stream",
     "text": [
      "Remove  0  genes having low expression.\n",
      "Analyzing  100  genes with  10  subjects and  9095  cells.\n"
     ]
    },
    {
     "name": "stderr",
     "output_type": "stream",
     "text": [
      "\u001b[1m\u001b[22m`summarise()` has grouped output by 'id'. You can override using the `.groups` argument.\n",
      "start regression\n",
      "\n"
     ]
    },
    {
     "name": "stdout",
     "output_type": "stream",
     "text": [
      "Remove  0  genes having low expression.\n",
      "Analyzing  100  genes with  10  subjects and  10725  cells.\n"
     ]
    },
    {
     "name": "stderr",
     "output_type": "stream",
     "text": [
      "\u001b[1m\u001b[22m`summarise()` has grouped output by 'id'. You can override using the `.groups` argument.\n",
      "start regression\n",
      "\n"
     ]
    },
    {
     "name": "stdout",
     "output_type": "stream",
     "text": [
      "Remove  0  genes having low expression.\n",
      "Analyzing  100  genes with  10  subjects and  10355  cells.\n"
     ]
    },
    {
     "name": "stderr",
     "output_type": "stream",
     "text": [
      "\u001b[1m\u001b[22m`summarise()` has grouped output by 'id'. You can override using the `.groups` argument.\n",
      "start regression\n",
      "\n"
     ]
    },
    {
     "name": "stdout",
     "output_type": "stream",
     "text": [
      "Remove  0  genes having low expression.\n",
      "Analyzing  100  genes with  10  subjects and  8799  cells.\n"
     ]
    },
    {
     "name": "stderr",
     "output_type": "stream",
     "text": [
      "\u001b[1m\u001b[22m`summarise()` has grouped output by 'id'. You can override using the `.groups` argument.\n",
      "start regression\n",
      "\n"
     ]
    },
    {
     "name": "stdout",
     "output_type": "stream",
     "text": [
      "Remove  0  genes having low expression.\n",
      "Analyzing  100  genes with  10  subjects and  8373  cells.\n"
     ]
    },
    {
     "name": "stderr",
     "output_type": "stream",
     "text": [
      "\u001b[1m\u001b[22m`summarise()` has grouped output by 'id'. You can override using the `.groups` argument.\n",
      "start regression\n",
      "\n"
     ]
    },
    {
     "name": "stdout",
     "output_type": "stream",
     "text": [
      "Remove  0  genes having low expression.\n",
      "Analyzing  100  genes with  10  subjects and  9181  cells.\n"
     ]
    },
    {
     "name": "stderr",
     "output_type": "stream",
     "text": [
      "\u001b[1m\u001b[22m`summarise()` has grouped output by 'id'. You can override using the `.groups` argument.\n",
      "start regression\n",
      "\n"
     ]
    },
    {
     "name": "stdout",
     "output_type": "stream",
     "text": [
      "Remove  0  genes having low expression.\n",
      "Analyzing  100  genes with  10  subjects and  5977  cells.\n"
     ]
    },
    {
     "name": "stderr",
     "output_type": "stream",
     "text": [
      "\u001b[1m\u001b[22m`summarise()` has grouped output by 'id'. You can override using the `.groups` argument.\n",
      "start regression\n",
      "\n"
     ]
    },
    {
     "name": "stdout",
     "output_type": "stream",
     "text": [
      "Remove  0  genes having low expression.\n",
      "Analyzing  100  genes with  10  subjects and  8392  cells.\n"
     ]
    },
    {
     "name": "stderr",
     "output_type": "stream",
     "text": [
      "\u001b[1m\u001b[22m`summarise()` has grouped output by 'id'. You can override using the `.groups` argument.\n",
      "start regression\n",
      "\n"
     ]
    },
    {
     "name": "stdout",
     "output_type": "stream",
     "text": [
      "Remove  0  genes having low expression.\n",
      "Analyzing  100  genes with  10  subjects and  7299  cells.\n"
     ]
    },
    {
     "name": "stderr",
     "output_type": "stream",
     "text": [
      "\u001b[1m\u001b[22m`summarise()` has grouped output by 'id'. You can override using the `.groups` argument.\n",
      "start regression\n",
      "\n"
     ]
    },
    {
     "name": "stdout",
     "output_type": "stream",
     "text": [
      "Remove  0  genes having low expression.\n",
      "Analyzing  100  genes with  10  subjects and  5322  cells.\n"
     ]
    },
    {
     "name": "stderr",
     "output_type": "stream",
     "text": [
      "\u001b[1m\u001b[22m`summarise()` has grouped output by 'id'. You can override using the `.groups` argument.\n",
      "start regression\n",
      "\n"
     ]
    },
    {
     "name": "stdout",
     "output_type": "stream",
     "text": [
      "Remove  0  genes having low expression.\n",
      "Analyzing  100  genes with  10  subjects and  3014  cells.\n"
     ]
    },
    {
     "name": "stderr",
     "output_type": "stream",
     "text": [
      "\u001b[1m\u001b[22m`summarise()` has grouped output by 'id'. You can override using the `.groups` argument.\n",
      "start regression\n",
      "\n"
     ]
    },
    {
     "name": "stdout",
     "output_type": "stream",
     "text": [
      "Remove  0  genes having low expression.\n",
      "Analyzing  100  genes with  10  subjects and  3480  cells.\n"
     ]
    },
    {
     "name": "stderr",
     "output_type": "stream",
     "text": [
      "\u001b[1m\u001b[22m`summarise()` has grouped output by 'id'. You can override using the `.groups` argument.\n",
      "start regression\n",
      "\n"
     ]
    },
    {
     "name": "stdout",
     "output_type": "stream",
     "text": [
      "Remove  0  genes having low expression.\n",
      "Analyzing  100  genes with  10  subjects and  2790  cells.\n"
     ]
    },
    {
     "name": "stderr",
     "output_type": "stream",
     "text": [
      "\u001b[1m\u001b[22m`summarise()` has grouped output by 'id'. You can override using the `.groups` argument.\n",
      "start regression\n",
      "\n"
     ]
    },
    {
     "name": "stdout",
     "output_type": "stream",
     "text": [
      "Remove  0  genes having low expression.\n",
      "Analyzing  100  genes with  10  subjects and  4451  cells.\n"
     ]
    },
    {
     "name": "stderr",
     "output_type": "stream",
     "text": [
      "\u001b[1m\u001b[22m`summarise()` has grouped output by 'id'. You can override using the `.groups` argument.\n",
      "start regression\n",
      "\n"
     ]
    },
    {
     "name": "stdout",
     "output_type": "stream",
     "text": [
      "Remove  0  genes having low expression.\n",
      "Analyzing  100  genes with  10  subjects and  3895  cells.\n"
     ]
    },
    {
     "name": "stderr",
     "output_type": "stream",
     "text": [
      "\u001b[1m\u001b[22m`summarise()` has grouped output by 'id'. You can override using the `.groups` argument.\n",
      "start regression\n",
      "\n"
     ]
    },
    {
     "name": "stdout",
     "output_type": "stream",
     "text": [
      "Remove  0  genes having low expression.\n",
      "Analyzing  100  genes with  10  subjects and  4291  cells.\n"
     ]
    },
    {
     "name": "stderr",
     "output_type": "stream",
     "text": [
      "\u001b[1m\u001b[22m`summarise()` has grouped output by 'id'. You can override using the `.groups` argument.\n",
      "start regression\n",
      "\n"
     ]
    },
    {
     "name": "stdout",
     "output_type": "stream",
     "text": [
      "Remove  0  genes having low expression.\n",
      "Analyzing  100  genes with  10  subjects and  4641  cells.\n"
     ]
    },
    {
     "name": "stderr",
     "output_type": "stream",
     "text": [
      "\u001b[1m\u001b[22m`summarise()` has grouped output by 'id'. You can override using the `.groups` argument.\n",
      "start regression\n",
      "\n"
     ]
    },
    {
     "name": "stdout",
     "output_type": "stream",
     "text": [
      "Remove  0  genes having low expression.\n",
      "Analyzing  100  genes with  10  subjects and  4917  cells.\n"
     ]
    },
    {
     "name": "stderr",
     "output_type": "stream",
     "text": [
      "\u001b[1m\u001b[22m`summarise()` has grouped output by 'id'. You can override using the `.groups` argument.\n",
      "start regression\n",
      "\n"
     ]
    },
    {
     "name": "stdout",
     "output_type": "stream",
     "text": [
      "Remove  0  genes having low expression.\n",
      "Analyzing  100  genes with  10  subjects and  3073  cells.\n"
     ]
    },
    {
     "data": {
      "text/plain": [
       "Time difference of 44.58822 mins"
      ]
     },
     "metadata": {},
     "output_type": "display_data"
    }
   ],
   "source": [
    "author <- 'bca'\n",
    "n.sample <- 10\n",
    "exp.cut <- 0.5\n",
    "n.gene <- 100\n",
    "n.sim <- 10\n",
    "samp.prob <- 0.5\n",
    "is.pb <- TRUE\n",
    "t1 <- Sys.time()\n",
    "for (int.ct in 1:length(ct.used)){ #\n",
    "    # select celltype\n",
    "    cell.type <- ct.used[[int.ct]]\n",
    "    bool.ct <- col.data.used$cell_type == cell.type\n",
    "    col.data.ct <- col.data.used[bool.ct,]\n",
    "\n",
    "    # select genes with sufficient mean (nblmm doesn't work for small mean)\n",
    "    cnt.ct <- cnt.used[,bool.ct]\n",
    "    cnt.ct.bm <- cnt.ct[rowMeans2(cnt.ct) > 0.1,]\n",
    "    cnt.ct.bm <- cnt.ct.bm[sample(1:nrow(cnt.ct.bm), n.gene),]\n",
    "    \n",
    "    # boolean index of cells\n",
    "    bool.cell.donor <- lapply(\n",
    "        unique(col.data.ct$donor_id),\n",
    "        function(id.donor){\n",
    "            return(col.data.ct$donor_id == id.donor)\n",
    "            }\n",
    "        )\n",
    "    col.data.donor <- lapply(\n",
    "        bool.cell.donor,\n",
    "        function(bool.donor){\n",
    "            return(col.data.ct[bool.donor,])\n",
    "            }\n",
    "        )\n",
    "    cnt.donor <- lapply(\n",
    "        bool.cell.donor,\n",
    "        function(bool.donor){\n",
    "            return(cnt.ct.bm[,bool.donor])\n",
    "            }\n",
    "        )\n",
    "\n",
    "    list.result.null <- list()\n",
    "    list.result.pow <- list()\n",
    "    for (i.iter in 1:n.sim){\n",
    "        \n",
    "        # sample individuals\n",
    "        ind.select <- sample.int(\n",
    "            n=length(unique(col.data.ct$donor_id)), \n",
    "            size=n.sample,\n",
    "            replace=TRUE\n",
    "            )\n",
    "    \n",
    "        # construct col.data & cnt matrix\n",
    "        col.data.select <- data.table::rbindlist(col.data.donor[ind.select], idcol=\"id\")\n",
    "        cnt.select <- do.call(cbind, cnt.donor[ind.select])\n",
    "        colnames(cnt.select) <- rownames(col.data.select)\n",
    "                   \n",
    "        # select cells randomly\n",
    "        n.per.donor <- col.data.select %>% group_by(id, donor_id) %>% summarise(n=n()) %>% pull(n)\n",
    "        cell.select <- as.logical(unlist(sapply(n.per.donor, rbinom, size=1, p=samp.prob)))\n",
    "        col.data.select <- col.data.select[cell.select,]\n",
    "        cnt.select <- cnt.select[,cell.select]\n",
    "\n",
    "        # assign treatment\n",
    "        col.data.select$tx_cell <- rbinom(n=nrow(col.data.select), size=1, p=0.5)\n",
    "        if (is.pb){ \n",
    "            # assign treatment label\n",
    "            n.tx <- as.integer(n.sample/2)\n",
    "            urn <- c(rep(1,n.tx), rep(0,n.sample-n.tx))\n",
    "            tx.ind <- sample(x=urn, size=n.sample, replace=FALSE)\n",
    "        \n",
    "            # assign tx to cells\n",
    "            cell.per.ind <- col.data.select %>%\n",
    "                group_by(id) %>%\n",
    "                summarise(n=n())\n",
    "            col.data.select$tx_cell <- rep(tx.ind, times=cell.per.ind$n)\n",
    "        }\n",
    "    \n",
    "        # for power simulation, cut expression to half (+ force int)\n",
    "        idx.de <- 1:5\n",
    "        idx.tx <- which(col.data.select$tx_cell == 1)\n",
    "        downCells(cnt.select, idx.de, idx.tx, exp.cut)\n",
    "        cnt.select.t <- t(cnt.select)\n",
    "        \n",
    "        # run tests\n",
    "        message('start regression')\n",
    "        list.formula <- list(\n",
    "            as.formula('~tx_cell'),\n",
    "            as.formula('~tx_cell'),\n",
    "            as.formula('~tx_cell'),\n",
    "            as.formula('~tx_cell'),\n",
    "            as.formula(ifelse(is.pb, 'y~tx_cell', 'y~tx_cell | id')),\n",
    "            as.formula('~tx_cell')\n",
    "            )\n",
    "        list.data <- list(\n",
    "            cnt.select,\n",
    "            cnt.select,\n",
    "            cnt.select,\n",
    "            cnt.select,\n",
    "            cnt.select.t,\n",
    "            cnt.select\n",
    "            )\n",
    "        list.result.method <- list()\n",
    "        for (int.test in 1:length(list.func)){\n",
    "            list.result.method[[int.test]] <- list.func[[int.test]](\n",
    "                list.formula[[int.test]],\n",
    "                list.data[[int.test]],\n",
    "                col.data.select\n",
    "                )[,4] \n",
    "            }\n",
    "        df.result <- do.call(rbind, list.result.method)\n",
    "        rownames(df.result) <- c('glmGamPoi (Pb)', 'edgeR (Pb)', 'limma (Pb)', 'glmGamPoi (cell)', 'robust GLM (cell)', 'NB GLMM')\n",
    "        list.result.null[[i.iter]] <- t(df.result)[6:n.gene,]\n",
    "        list.result.pow[[i.iter]] <- t(df.result)[1:5,]\n",
    "        }\n",
    "\n",
    "    \n",
    "    \n",
    "    # results\n",
    "    df.null <- do.call(rbind, list.result.null)\n",
    "    df.pow <- do.call(rbind, list.result.pow)\n",
    "    \n",
    "    # save name\n",
    "    path.tail <- paste(author,'n',n.sample,'ct',int.ct,'fc',exp.cut,'csv',sep='.')\n",
    "    path.pow.head <- ifelse(is.pb, 'pow_subject/', 'pow_cell/')\n",
    "    path.null.head <- ifelse(is.pb, 'null_subject/', 'null_cell/')\n",
    "    \n",
    "    write.csv(df.null, paste0(path.null.head, path.tail))\n",
    "    write.csv(df.pow, paste0(path.pow.head, path.tail))\n",
    "    \n",
    "    }\n",
    "t2 <- Sys.time()\n",
    "t2-t1"
   ]
  },
  {
   "cell_type": "code",
   "execution_count": 43,
   "id": "04191d3f-9b51-41f0-a562-2b982ead28e4",
   "metadata": {
    "scrolled": true
   },
   "outputs": [
    {
     "name": "stderr",
     "output_type": "stream",
     "text": [
      "\u001b[1m\u001b[22m`summarise()` has grouped output by 'id'. You can override using the `.groups` argument.\n",
      "start regression\n",
      "\n"
     ]
    },
    {
     "name": "stdout",
     "output_type": "stream",
     "text": [
      "Remove  0  genes having low expression.\n",
      "Analyzing  100  genes with  50  subjects and  83402  cells.\n"
     ]
    },
    {
     "name": "stderr",
     "output_type": "stream",
     "text": [
      "\u001b[1m\u001b[22m`summarise()` has grouped output by 'id'. You can override using the `.groups` argument.\n",
      "start regression\n",
      "\n"
     ]
    },
    {
     "name": "stdout",
     "output_type": "stream",
     "text": [
      "Remove  0  genes having low expression.\n",
      "Analyzing  100  genes with  50  subjects and  93535  cells.\n"
     ]
    },
    {
     "name": "stderr",
     "output_type": "stream",
     "text": [
      "\u001b[1m\u001b[22m`summarise()` has grouped output by 'id'. You can override using the `.groups` argument.\n",
      "start regression\n",
      "\n",
      "NOTE: 2 fixed-effects (85 observations) removed because of only 0 outcomes.\n",
      "\n",
      "NOTE: 1 fixed-effect (60 observations) removed because of only 0 outcomes.\n",
      "\n",
      "NOTE: 1 fixed-effect (79 observations) removed because of only 0 outcomes.\n",
      "\n"
     ]
    },
    {
     "name": "stdout",
     "output_type": "stream",
     "text": [
      "Remove  0  genes having low expression.\n",
      "Analyzing  100  genes with  50  subjects and  100421  cells.\n"
     ]
    },
    {
     "name": "stderr",
     "output_type": "stream",
     "text": [
      "\u001b[1m\u001b[22m`summarise()` has grouped output by 'id'. You can override using the `.groups` argument.\n",
      "start regression\n",
      "\n",
      "NOTE: 1 fixed-effect (64 observations) removed because of only 0 outcomes.\n",
      "\n"
     ]
    },
    {
     "name": "stdout",
     "output_type": "stream",
     "text": [
      "Remove  0  genes having low expression.\n",
      "Analyzing  100  genes with  50  subjects and  81343  cells.\n"
     ]
    },
    {
     "name": "stderr",
     "output_type": "stream",
     "text": [
      "\u001b[1m\u001b[22m`summarise()` has grouped output by 'id'. You can override using the `.groups` argument.\n",
      "start regression\n",
      "\n"
     ]
    },
    {
     "name": "stdout",
     "output_type": "stream",
     "text": [
      "Remove  0  genes having low expression.\n",
      "Analyzing  100  genes with  50  subjects and  97218  cells.\n"
     ]
    },
    {
     "name": "stderr",
     "output_type": "stream",
     "text": [
      "\u001b[1m\u001b[22m`summarise()` has grouped output by 'id'. You can override using the `.groups` argument.\n",
      "start regression\n",
      "\n",
      "NOTE: 1 fixed-effect (60 observations) removed because of only 0 outcomes.\n",
      "\n"
     ]
    },
    {
     "name": "stdout",
     "output_type": "stream",
     "text": [
      "Remove  0  genes having low expression.\n",
      "Analyzing  100  genes with  50  subjects and  85056  cells.\n"
     ]
    },
    {
     "name": "stderr",
     "output_type": "stream",
     "text": [
      "\u001b[1m\u001b[22m`summarise()` has grouped output by 'id'. You can override using the `.groups` argument.\n",
      "start regression\n",
      "\n",
      "NOTE: 2 fixed-effects (584 observations) removed because of only 0 outcomes.\n",
      "\n"
     ]
    },
    {
     "name": "stdout",
     "output_type": "stream",
     "text": [
      "Remove  0  genes having low expression.\n",
      "Analyzing  100  genes with  50  subjects and  100698  cells.\n"
     ]
    },
    {
     "name": "stderr",
     "output_type": "stream",
     "text": [
      "\u001b[1m\u001b[22m`summarise()` has grouped output by 'id'. You can override using the `.groups` argument.\n",
      "start regression\n",
      "\n",
      "NOTE: 1 fixed-effect (47 observations) removed because of only 0 outcomes.\n",
      "\n"
     ]
    },
    {
     "name": "stdout",
     "output_type": "stream",
     "text": [
      "Remove  0  genes having low expression.\n",
      "Analyzing  100  genes with  50  subjects and  88000  cells.\n"
     ]
    },
    {
     "name": "stderr",
     "output_type": "stream",
     "text": [
      "\u001b[1m\u001b[22m`summarise()` has grouped output by 'id'. You can override using the `.groups` argument.\n",
      "start regression\n",
      "\n",
      "NOTE: 1 fixed-effect (44 observations) removed because of only 0 outcomes.\n",
      "\n"
     ]
    },
    {
     "name": "stdout",
     "output_type": "stream",
     "text": [
      "Remove  0  genes having low expression.\n",
      "Analyzing  100  genes with  50  subjects and  78165  cells.\n"
     ]
    },
    {
     "name": "stderr",
     "output_type": "stream",
     "text": [
      "\u001b[1m\u001b[22m`summarise()` has grouped output by 'id'. You can override using the `.groups` argument.\n",
      "start regression\n",
      "\n",
      "NOTE: 1 fixed-effect (500 observations) removed because of only 0 outcomes.\n",
      "\n"
     ]
    },
    {
     "name": "stdout",
     "output_type": "stream",
     "text": [
      "Remove  0  genes having low expression.\n",
      "Analyzing  100  genes with  50  subjects and  88069  cells.\n"
     ]
    },
    {
     "name": "stderr",
     "output_type": "stream",
     "text": [
      "\u001b[1m\u001b[22m`summarise()` has grouped output by 'id'. You can override using the `.groups` argument.\n",
      "start regression\n",
      "\n"
     ]
    },
    {
     "name": "stdout",
     "output_type": "stream",
     "text": [
      "Remove  0  genes having low expression.\n",
      "Analyzing  100  genes with  50  subjects and  79561  cells.\n"
     ]
    },
    {
     "name": "stderr",
     "output_type": "stream",
     "text": [
      "\u001b[1m\u001b[22m`summarise()` has grouped output by 'id'. You can override using the `.groups` argument.\n",
      "start regression\n",
      "\n",
      "NOTE: 1 fixed-effect (93 observations) removed because of only 0 outcomes.\n",
      "\n"
     ]
    },
    {
     "name": "stdout",
     "output_type": "stream",
     "text": [
      "Remove  0  genes having low expression.\n",
      "Analyzing  100  genes with  50  subjects and  106754  cells.\n"
     ]
    },
    {
     "name": "stderr",
     "output_type": "stream",
     "text": [
      "\u001b[1m\u001b[22m`summarise()` has grouped output by 'id'. You can override using the `.groups` argument.\n",
      "start regression\n",
      "\n",
      "NOTE: 1 fixed-effect (266 observations) removed because of only 0 outcomes.\n",
      "\n"
     ]
    },
    {
     "name": "stdout",
     "output_type": "stream",
     "text": [
      "Remove  0  genes having low expression.\n",
      "Analyzing  100  genes with  50  subjects and  91938  cells.\n"
     ]
    },
    {
     "name": "stderr",
     "output_type": "stream",
     "text": [
      "\u001b[1m\u001b[22m`summarise()` has grouped output by 'id'. You can override using the `.groups` argument.\n",
      "start regression\n",
      "\n"
     ]
    },
    {
     "name": "stdout",
     "output_type": "stream",
     "text": [
      "Remove  0  genes having low expression.\n",
      "Analyzing  100  genes with  50  subjects and  95696  cells.\n"
     ]
    },
    {
     "name": "stderr",
     "output_type": "stream",
     "text": [
      "\u001b[1m\u001b[22m`summarise()` has grouped output by 'id'. You can override using the `.groups` argument.\n",
      "start regression\n",
      "\n"
     ]
    },
    {
     "name": "stdout",
     "output_type": "stream",
     "text": [
      "Remove  0  genes having low expression.\n",
      "Analyzing  100  genes with  50  subjects and  89518  cells.\n"
     ]
    },
    {
     "name": "stderr",
     "output_type": "stream",
     "text": [
      "\u001b[1m\u001b[22m`summarise()` has grouped output by 'id'. You can override using the `.groups` argument.\n",
      "start regression\n",
      "\n"
     ]
    },
    {
     "name": "stdout",
     "output_type": "stream",
     "text": [
      "Remove  0  genes having low expression.\n",
      "Analyzing  100  genes with  50  subjects and  97198  cells.\n"
     ]
    },
    {
     "name": "stderr",
     "output_type": "stream",
     "text": [
      "\u001b[1m\u001b[22m`summarise()` has grouped output by 'id'. You can override using the `.groups` argument.\n",
      "start regression\n",
      "\n"
     ]
    },
    {
     "name": "stdout",
     "output_type": "stream",
     "text": [
      "Remove  0  genes having low expression.\n",
      "Analyzing  100  genes with  50  subjects and  92918  cells.\n"
     ]
    },
    {
     "name": "stderr",
     "output_type": "stream",
     "text": [
      "\u001b[1m\u001b[22m`summarise()` has grouped output by 'id'. You can override using the `.groups` argument.\n",
      "start regression\n",
      "\n"
     ]
    },
    {
     "name": "stdout",
     "output_type": "stream",
     "text": [
      "Remove  0  genes having low expression.\n",
      "Analyzing  100  genes with  50  subjects and  77683  cells.\n"
     ]
    },
    {
     "name": "stderr",
     "output_type": "stream",
     "text": [
      "\u001b[1m\u001b[22m`summarise()` has grouped output by 'id'. You can override using the `.groups` argument.\n",
      "start regression\n",
      "\n",
      "NOTE: 1 fixed-effect (245 observations) removed because of only 0 outcomes.\n",
      "\n"
     ]
    },
    {
     "name": "stdout",
     "output_type": "stream",
     "text": [
      "Remove  0  genes having low expression.\n",
      "Analyzing  100  genes with  50  subjects and  100242  cells.\n"
     ]
    },
    {
     "name": "stderr",
     "output_type": "stream",
     "text": [
      "\u001b[1m\u001b[22m`summarise()` has grouped output by 'id'. You can override using the `.groups` argument.\n",
      "start regression\n",
      "\n",
      "NOTE: 1 fixed-effect (260 observations) removed because of only 0 outcomes.\n",
      "\n"
     ]
    },
    {
     "name": "stdout",
     "output_type": "stream",
     "text": [
      "Remove  0  genes having low expression.\n",
      "Analyzing  100  genes with  50  subjects and  98113  cells.\n"
     ]
    },
    {
     "name": "stderr",
     "output_type": "stream",
     "text": [
      "\u001b[1m\u001b[22m`summarise()` has grouped output by 'id'. You can override using the `.groups` argument.\n",
      "start regression\n",
      "\n",
      "NOTE: 1 fixed-effect (166 observations) removed because of only 0 outcomes.\n",
      "\n"
     ]
    },
    {
     "name": "stdout",
     "output_type": "stream",
     "text": [
      "Remove  0  genes having low expression.\n",
      "Analyzing  100  genes with  50  subjects and  57421  cells.\n"
     ]
    },
    {
     "name": "stderr",
     "output_type": "stream",
     "text": [
      "\u001b[1m\u001b[22m`summarise()` has grouped output by 'id'. You can override using the `.groups` argument.\n",
      "start regression\n",
      "\n",
      "NOTE: 1 fixed-effect (153 observations) removed because of only 0 outcomes.\n",
      "\n",
      "NOTE: 1 fixed-effect (153 observations) removed because of only 0 outcomes.\n",
      "\n"
     ]
    },
    {
     "name": "stdout",
     "output_type": "stream",
     "text": [
      "Remove  0  genes having low expression.\n",
      "Analyzing  100  genes with  50  subjects and  71149  cells.\n"
     ]
    },
    {
     "name": "stderr",
     "output_type": "stream",
     "text": [
      "\u001b[1m\u001b[22m`summarise()` has grouped output by 'id'. You can override using the `.groups` argument.\n",
      "start regression\n",
      "\n"
     ]
    },
    {
     "name": "stdout",
     "output_type": "stream",
     "text": [
      "Remove  0  genes having low expression.\n",
      "Analyzing  100  genes with  50  subjects and  67023  cells.\n"
     ]
    },
    {
     "name": "stderr",
     "output_type": "stream",
     "text": [
      "\u001b[1m\u001b[22m`summarise()` has grouped output by 'id'. You can override using the `.groups` argument.\n",
      "start regression\n",
      "\n"
     ]
    },
    {
     "name": "stdout",
     "output_type": "stream",
     "text": [
      "Remove  0  genes having low expression.\n",
      "Analyzing  100  genes with  50  subjects and  83557  cells.\n"
     ]
    },
    {
     "name": "stderr",
     "output_type": "stream",
     "text": [
      "\u001b[1m\u001b[22m`summarise()` has grouped output by 'id'. You can override using the `.groups` argument.\n",
      "start regression\n",
      "\n",
      "NOTE: 2 fixed-effects (342 observations) removed because of only 0 outcomes.\n",
      "\n",
      "NOTE: 1 fixed-effect (170 observations) removed because of only 0 outcomes.\n",
      "\n"
     ]
    },
    {
     "name": "stdout",
     "output_type": "stream",
     "text": [
      "Remove  0  genes having low expression.\n",
      "Analyzing  100  genes with  50  subjects and  63840  cells.\n"
     ]
    },
    {
     "name": "stderr",
     "output_type": "stream",
     "text": [
      "\u001b[1m\u001b[22m`summarise()` has grouped output by 'id'. You can override using the `.groups` argument.\n",
      "start regression\n",
      "\n",
      "NOTE: 3 fixed-effects (486 observations) removed because of only 0 outcomes.\n",
      "\n",
      "NOTE: 3 fixed-effects (486 observations) removed because of only 0 outcomes.\n",
      "\n"
     ]
    },
    {
     "name": "stdout",
     "output_type": "stream",
     "text": [
      "Remove  0  genes having low expression.\n",
      "Analyzing  100  genes with  50  subjects and  79954  cells.\n"
     ]
    },
    {
     "name": "stderr",
     "output_type": "stream",
     "text": [
      "\u001b[1m\u001b[22m`summarise()` has grouped output by 'id'. You can override using the `.groups` argument.\n",
      "start regression\n",
      "\n",
      "NOTE: 2 fixed-effects (333 observations) removed because of only 0 outcomes.\n",
      "\n",
      "NOTE: 1 fixed-effect (156 observations) removed because of only 0 outcomes.\n",
      "\n"
     ]
    },
    {
     "name": "stdout",
     "output_type": "stream",
     "text": [
      "Remove  0  genes having low expression.\n",
      "Analyzing  100  genes with  50  subjects and  64000  cells.\n"
     ]
    },
    {
     "name": "stderr",
     "output_type": "stream",
     "text": [
      "\u001b[1m\u001b[22m`summarise()` has grouped output by 'id'. You can override using the `.groups` argument.\n",
      "start regression\n",
      "\n",
      "NOTE: 4 fixed-effects (662 observations) removed because of only 0 outcomes.\n",
      "\n",
      "NOTE: 4 fixed-effects (662 observations) removed because of only 0 outcomes.\n",
      "\n"
     ]
    },
    {
     "name": "stdout",
     "output_type": "stream",
     "text": [
      "Remove  0  genes having low expression.\n",
      "Analyzing  100  genes with  50  subjects and  55107  cells.\n"
     ]
    },
    {
     "name": "stderr",
     "output_type": "stream",
     "text": [
      "\u001b[1m\u001b[22m`summarise()` has grouped output by 'id'. You can override using the `.groups` argument.\n",
      "start regression\n",
      "\n",
      "NOTE: 1 fixed-effect (161 observations) removed because of only 0 outcomes.\n",
      "\n",
      "NOTE: 1 fixed-effect (676 observations) removed because of only 0 outcomes.\n",
      "\n"
     ]
    },
    {
     "name": "stdout",
     "output_type": "stream",
     "text": [
      "Remove  0  genes having low expression.\n",
      "Analyzing  100  genes with  50  subjects and  63594  cells.\n"
     ]
    },
    {
     "name": "stderr",
     "output_type": "stream",
     "text": [
      "\u001b[1m\u001b[22m`summarise()` has grouped output by 'id'. You can override using the `.groups` argument.\n",
      "start regression\n",
      "\n"
     ]
    },
    {
     "name": "stdout",
     "output_type": "stream",
     "text": [
      "Remove  0  genes having low expression.\n",
      "Analyzing  100  genes with  50  subjects and  66806  cells.\n"
     ]
    },
    {
     "name": "stderr",
     "output_type": "stream",
     "text": [
      "\u001b[1m\u001b[22m`summarise()` has grouped output by 'id'. You can override using the `.groups` argument.\n",
      "start regression\n",
      "\n",
      "NOTE: 3 fixed-effects (283 observations) removed because of only 0 outcomes.\n",
      "\n",
      "NOTE: 1 fixed-effect (43 observations) removed because of only 0 outcomes.\n",
      "\n"
     ]
    },
    {
     "name": "stdout",
     "output_type": "stream",
     "text": [
      "Remove  0  genes having low expression.\n",
      "Analyzing  100  genes with  50  subjects and  65081  cells.\n"
     ]
    },
    {
     "name": "stderr",
     "output_type": "stream",
     "text": [
      "\u001b[1m\u001b[22m`summarise()` has grouped output by 'id'. You can override using the `.groups` argument.\n",
      "start regression\n",
      "\n",
      "NOTE: 2 fixed-effects (310 observations) removed because of only 0 outcomes.\n",
      "\n"
     ]
    },
    {
     "name": "stdout",
     "output_type": "stream",
     "text": [
      "Remove  0  genes having low expression.\n",
      "Analyzing  100  genes with  50  subjects and  61841  cells.\n"
     ]
    },
    {
     "name": "stderr",
     "output_type": "stream",
     "text": [
      "\u001b[1m\u001b[22m`summarise()` has grouped output by 'id'. You can override using the `.groups` argument.\n",
      "start regression\n",
      "\n",
      "NOTE: 2 fixed-effects (248 observations) removed because of only 0 outcomes.\n",
      "\n"
     ]
    },
    {
     "name": "stdout",
     "output_type": "stream",
     "text": [
      "Remove  0  genes having low expression.\n",
      "Analyzing  100  genes with  50  subjects and  83554  cells.\n"
     ]
    },
    {
     "name": "stderr",
     "output_type": "stream",
     "text": [
      "\u001b[1m\u001b[22m`summarise()` has grouped output by 'id'. You can override using the `.groups` argument.\n",
      "start regression\n",
      "\n",
      "NOTE: 3 fixed-effects (223 observations) removed because of only 0 outcomes.\n",
      "\n"
     ]
    },
    {
     "name": "stdout",
     "output_type": "stream",
     "text": [
      "Remove  0  genes having low expression.\n",
      "Analyzing  100  genes with  50  subjects and  54661  cells.\n"
     ]
    },
    {
     "name": "stderr",
     "output_type": "stream",
     "text": [
      "\u001b[1m\u001b[22m`summarise()` has grouped output by 'id'. You can override using the `.groups` argument.\n",
      "start regression\n",
      "\n",
      "NOTE: 1 fixed-effect (57 observations) removed because of only 0 outcomes.\n",
      "\n",
      "NOTE: 1 fixed-effect (46 observations) removed because of only 0 outcomes.\n",
      "\n"
     ]
    },
    {
     "name": "stdout",
     "output_type": "stream",
     "text": [
      "Remove  0  genes having low expression.\n",
      "Analyzing  100  genes with  50  subjects and  75864  cells.\n"
     ]
    },
    {
     "name": "stderr",
     "output_type": "stream",
     "text": [
      "\u001b[1m\u001b[22m`summarise()` has grouped output by 'id'. You can override using the `.groups` argument.\n",
      "start regression\n",
      "\n",
      "NOTE: 3 fixed-effects (1,444 observations) removed because of only 0 outcomes.\n",
      "\n"
     ]
    },
    {
     "name": "stdout",
     "output_type": "stream",
     "text": [
      "Remove  0  genes having low expression.\n",
      "Analyzing  100  genes with  50  subjects and  60472  cells.\n"
     ]
    },
    {
     "name": "stderr",
     "output_type": "stream",
     "text": [
      "\u001b[1m\u001b[22m`summarise()` has grouped output by 'id'. You can override using the `.groups` argument.\n",
      "start regression\n",
      "\n",
      "NOTE: 2 fixed-effects (287 observations) removed because of only 0 outcomes.\n",
      "\n",
      "NOTE: 1 fixed-effect (58 observations) removed because of only 0 outcomes.\n",
      "\n"
     ]
    },
    {
     "name": "stdout",
     "output_type": "stream",
     "text": [
      "Remove  0  genes having low expression.\n",
      "Analyzing  100  genes with  50  subjects and  67413  cells.\n"
     ]
    },
    {
     "name": "stderr",
     "output_type": "stream",
     "text": [
      "\u001b[1m\u001b[22m`summarise()` has grouped output by 'id'. You can override using the `.groups` argument.\n",
      "start regression\n",
      "\n",
      "NOTE: 5 fixed-effects (1,484 observations) removed because of only 0 outcomes.\n",
      "\n",
      "NOTE: 1 fixed-effect (47 observations) removed because of only 0 outcomes.\n",
      "\n",
      "NOTE: 1 fixed-effect (47 observations) removed because of only 0 outcomes.\n",
      "\n"
     ]
    },
    {
     "name": "stdout",
     "output_type": "stream",
     "text": [
      "Remove  0  genes having low expression.\n",
      "Analyzing  100  genes with  50  subjects and  77673  cells.\n"
     ]
    },
    {
     "name": "stderr",
     "output_type": "stream",
     "text": [
      "\u001b[1m\u001b[22m`summarise()` has grouped output by 'id'. You can override using the `.groups` argument.\n",
      "start regression\n",
      "\n",
      "NOTE: 1 fixed-effect (52 observations) removed because of only 0 outcomes.\n",
      "\n"
     ]
    },
    {
     "name": "stdout",
     "output_type": "stream",
     "text": [
      "Remove  0  genes having low expression.\n",
      "Analyzing  100  genes with  50  subjects and  69026  cells.\n"
     ]
    },
    {
     "name": "stderr",
     "output_type": "stream",
     "text": [
      "\u001b[1m\u001b[22m`summarise()` has grouped output by 'id'. You can override using the `.groups` argument.\n",
      "start regression\n",
      "\n",
      "NOTE: 2 fixed-effects (1,155 observations) removed because of only 0 outcomes.\n",
      "\n"
     ]
    },
    {
     "name": "stdout",
     "output_type": "stream",
     "text": [
      "Remove  0  genes having low expression.\n",
      "Analyzing  100  genes with  50  subjects and  73881  cells.\n"
     ]
    },
    {
     "name": "stderr",
     "output_type": "stream",
     "text": [
      "\u001b[1m\u001b[22m`summarise()` has grouped output by 'id'. You can override using the `.groups` argument.\n",
      "start regression\n",
      "\n"
     ]
    },
    {
     "name": "stdout",
     "output_type": "stream",
     "text": [
      "Remove  0  genes having low expression.\n",
      "Analyzing  100  genes with  50  subjects and  50643  cells.\n"
     ]
    },
    {
     "name": "stderr",
     "output_type": "stream",
     "text": [
      "\u001b[1m\u001b[22m`summarise()` has grouped output by 'id'. You can override using the `.groups` argument.\n",
      "start regression\n",
      "\n"
     ]
    },
    {
     "name": "stdout",
     "output_type": "stream",
     "text": [
      "Remove  0  genes having low expression.\n",
      "Analyzing  100  genes with  50  subjects and  44035  cells.\n"
     ]
    },
    {
     "name": "stderr",
     "output_type": "stream",
     "text": [
      "\u001b[1m\u001b[22m`summarise()` has grouped output by 'id'. You can override using the `.groups` argument.\n",
      "start regression\n",
      "\n"
     ]
    },
    {
     "name": "stdout",
     "output_type": "stream",
     "text": [
      "Remove  0  genes having low expression.\n",
      "Analyzing  100  genes with  50  subjects and  47752  cells.\n"
     ]
    },
    {
     "name": "stderr",
     "output_type": "stream",
     "text": [
      "\u001b[1m\u001b[22m`summarise()` has grouped output by 'id'. You can override using the `.groups` argument.\n",
      "start regression\n",
      "\n",
      "NOTE: 1 fixed-effect (64 observations) removed because of only 0 outcomes.\n",
      "\n"
     ]
    },
    {
     "name": "stdout",
     "output_type": "stream",
     "text": [
      "Remove  0  genes having low expression.\n",
      "Analyzing  100  genes with  50  subjects and  42778  cells.\n"
     ]
    },
    {
     "name": "stderr",
     "output_type": "stream",
     "text": [
      "\u001b[1m\u001b[22m`summarise()` has grouped output by 'id'. You can override using the `.groups` argument.\n",
      "start regression\n",
      "\n"
     ]
    },
    {
     "name": "stdout",
     "output_type": "stream",
     "text": [
      "Remove  0  genes having low expression.\n",
      "Analyzing  100  genes with  50  subjects and  47328  cells.\n"
     ]
    },
    {
     "name": "stderr",
     "output_type": "stream",
     "text": [
      "\u001b[1m\u001b[22m`summarise()` has grouped output by 'id'. You can override using the `.groups` argument.\n",
      "start regression\n",
      "\n"
     ]
    },
    {
     "name": "stdout",
     "output_type": "stream",
     "text": [
      "Remove  0  genes having low expression.\n",
      "Analyzing  100  genes with  50  subjects and  45183  cells.\n"
     ]
    },
    {
     "name": "stderr",
     "output_type": "stream",
     "text": [
      "\u001b[1m\u001b[22m`summarise()` has grouped output by 'id'. You can override using the `.groups` argument.\n",
      "start regression\n",
      "\n"
     ]
    },
    {
     "name": "stdout",
     "output_type": "stream",
     "text": [
      "Remove  0  genes having low expression.\n",
      "Analyzing  100  genes with  50  subjects and  45160  cells.\n"
     ]
    },
    {
     "name": "stderr",
     "output_type": "stream",
     "text": [
      "\u001b[1m\u001b[22m`summarise()` has grouped output by 'id'. You can override using the `.groups` argument.\n",
      "start regression\n",
      "\n",
      "NOTE: 1 fixed-effect (214 observations) removed because of only 0 outcomes.\n",
      "\n"
     ]
    },
    {
     "name": "stdout",
     "output_type": "stream",
     "text": [
      "Remove  0  genes having low expression.\n",
      "Analyzing  100  genes with  50  subjects and  44097  cells.\n"
     ]
    },
    {
     "name": "stderr",
     "output_type": "stream",
     "text": [
      "\u001b[1m\u001b[22m`summarise()` has grouped output by 'id'. You can override using the `.groups` argument.\n",
      "start regression\n",
      "\n"
     ]
    },
    {
     "name": "stdout",
     "output_type": "stream",
     "text": [
      "Remove  0  genes having low expression.\n",
      "Analyzing  100  genes with  50  subjects and  51613  cells.\n"
     ]
    },
    {
     "name": "stderr",
     "output_type": "stream",
     "text": [
      "\u001b[1m\u001b[22m`summarise()` has grouped output by 'id'. You can override using the `.groups` argument.\n",
      "start regression\n",
      "\n"
     ]
    },
    {
     "name": "stdout",
     "output_type": "stream",
     "text": [
      "Remove  0  genes having low expression.\n",
      "Analyzing  100  genes with  50  subjects and  50447  cells.\n"
     ]
    },
    {
     "name": "stderr",
     "output_type": "stream",
     "text": [
      "\u001b[1m\u001b[22m`summarise()` has grouped output by 'id'. You can override using the `.groups` argument.\n",
      "start regression\n",
      "\n",
      "NOTE: 1 fixed-effect (139 observations) removed because of only 0 outcomes.\n",
      "\n",
      "NOTE: 1 fixed-effect (69 observations) removed because of only 0 outcomes.\n",
      "\n"
     ]
    },
    {
     "name": "stdout",
     "output_type": "stream",
     "text": [
      "Remove  0  genes having low expression.\n",
      "Analyzing  100  genes with  50  subjects and  25491  cells.\n"
     ]
    },
    {
     "name": "stderr",
     "output_type": "stream",
     "text": [
      "\u001b[1m\u001b[22m`summarise()` has grouped output by 'id'. You can override using the `.groups` argument.\n",
      "start regression\n",
      "\n",
      "NOTE: 1 fixed-effect (57 observations) removed because of only 0 outcomes.\n",
      "\n",
      "NOTE: 1 fixed-effect (57 observations) removed because of only 0 outcomes.\n",
      "\n",
      "NOTE: 4 fixed-effects (374 observations) removed because of only 0 outcomes.\n",
      "\n",
      "NOTE: 1 fixed-effect (57 observations) removed because of only 0 outcomes.\n",
      "\n",
      "NOTE: 2 fixed-effects (115 observations) removed because of only 0 outcomes.\n",
      "\n",
      "NOTE: 1 fixed-effect (57 observations) removed because of only 0 outcomes.\n",
      "\n",
      "NOTE: 2 fixed-effects (115 observations) removed because of only 0 outcomes.\n",
      "\n",
      "NOTE: 1 fixed-effect (57 observations) removed because of only 0 outcomes.\n",
      "\n",
      "NOTE: 1 fixed-effect (58 observations) removed because of only 0 outcomes.\n",
      "\n",
      "NOTE: 1 fixed-effect (57 observations) removed because of only 0 outcomes.\n",
      "\n",
      "NOTE: 1 fixed-effect (57 observations) removed because of only 0 outcomes.\n",
      "\n",
      "NOTE: 1 fixed-effect (58 observations) removed because of only 0 outcomes.\n",
      "\n",
      "NOTE: 1 fixed-effect (173 observations) removed because of only 0 outcomes.\n",
      "\n",
      "NOTE: 1 fixed-effect (58 observations) removed because of only 0 outcomes.\n",
      "\n"
     ]
    },
    {
     "name": "stdout",
     "output_type": "stream",
     "text": [
      "Remove  0  genes having low expression.\n",
      "Analyzing  100  genes with  50  subjects and  20859  cells.\n"
     ]
    },
    {
     "name": "stderr",
     "output_type": "stream",
     "text": [
      "\u001b[1m\u001b[22m`summarise()` has grouped output by 'id'. You can override using the `.groups` argument.\n",
      "start regression\n",
      "\n",
      "NOTE: 1 fixed-effect (57 observations) removed because of only 0 outcomes.\n",
      "\n",
      "NOTE: 3 fixed-effects (262 observations) removed because of only 0 outcomes.\n",
      "\n",
      "NOTE: 2 fixed-effects (125 observations) removed because of only 0 outcomes.\n",
      "\n",
      "NOTE: 1 fixed-effect (56 observations) removed because of only 0 outcomes.\n",
      "\n",
      "NOTE: 2 fixed-effects (125 observations) removed because of only 0 outcomes.\n",
      "\n",
      "NOTE: 1 fixed-effect (57 observations) removed because of only 0 outcomes.\n",
      "\n",
      "NOTE: 2 fixed-effects (125 observations) removed because of only 0 outcomes.\n",
      "\n",
      "NOTE: 1 fixed-effect (57 observations) removed because of only 0 outcomes.\n",
      "\n",
      "NOTE: 1 fixed-effect (68 observations) removed because of only 0 outcomes.\n",
      "\n",
      "NOTE: 1 fixed-effect (68 observations) removed because of only 0 outcomes.\n",
      "\n"
     ]
    },
    {
     "name": "stdout",
     "output_type": "stream",
     "text": [
      "Remove  0  genes having low expression.\n",
      "Analyzing  100  genes with  50  subjects and  19820  cells.\n"
     ]
    },
    {
     "name": "stderr",
     "output_type": "stream",
     "text": [
      "\u001b[1m\u001b[22m`summarise()` has grouped output by 'id'. You can override using the `.groups` argument.\n",
      "start regression\n",
      "\n",
      "NOTE: 1 fixed-effect (148 observations) removed because of only 0 outcomes.\n",
      "\n",
      "NOTE: 2 fixed-effects (132 observations) removed because of only 0 outcomes.\n",
      "\n"
     ]
    },
    {
     "name": "stdout",
     "output_type": "stream",
     "text": [
      "Remove  0  genes having low expression.\n",
      "Analyzing  100  genes with  50  subjects and  18773  cells.\n"
     ]
    },
    {
     "name": "stderr",
     "output_type": "stream",
     "text": [
      "\u001b[1m\u001b[22m`summarise()` has grouped output by 'id'. You can override using the `.groups` argument.\n",
      "start regression\n",
      "\n",
      "NOTE: 1 fixed-effect (54 observations) removed because of only 0 outcomes.\n",
      "\n",
      "NOTE: 1 fixed-effect (54 observations) removed because of only 0 outcomes.\n",
      "\n",
      "NOTE: 1 fixed-effect (54 observations) removed because of only 0 outcomes.\n",
      "\n",
      "NOTE: 1 fixed-effect (54 observations) removed because of only 0 outcomes.\n",
      "\n",
      "NOTE: 1 fixed-effect (60 observations) removed because of only 0 outcomes.\n",
      "\n",
      "NOTE: 1 fixed-effect (54 observations) removed because of only 0 outcomes.\n",
      "\n",
      "NOTE: 1 fixed-effect (54 observations) removed because of only 0 outcomes.\n",
      "\n",
      "NOTE: 1 fixed-effect (54 observations) removed because of only 0 outcomes.\n",
      "\n",
      "NOTE: 1 fixed-effect (54 observations) removed because of only 0 outcomes.\n",
      "\n",
      "NOTE: 1 fixed-effect (54 observations) removed because of only 0 outcomes.\n",
      "\n",
      "NOTE: 1 fixed-effect (54 observations) removed because of only 0 outcomes.\n",
      "\n"
     ]
    },
    {
     "name": "stdout",
     "output_type": "stream",
     "text": [
      "Remove  0  genes having low expression.\n",
      "Analyzing  100  genes with  50  subjects and  24943  cells.\n"
     ]
    },
    {
     "name": "stderr",
     "output_type": "stream",
     "text": [
      "\u001b[1m\u001b[22m`summarise()` has grouped output by 'id'. You can override using the `.groups` argument.\n",
      "start regression\n",
      "\n",
      "NOTE: 1 fixed-effect (60 observations) removed because of only 0 outcomes.\n",
      "\n",
      "NOTE: 1 fixed-effect (55 observations) removed because of only 0 outcomes.\n",
      "\n",
      "NOTE: 1 fixed-effect (55 observations) removed because of only 0 outcomes.\n",
      "\n",
      "NOTE: 2 fixed-effects (115 observations) removed because of only 0 outcomes.\n",
      "\n",
      "NOTE: 1 fixed-effect (55 observations) removed because of only 0 outcomes.\n",
      "\n",
      "NOTE: 1 fixed-effect (68 observations) removed because of only 0 outcomes.\n",
      "\n",
      "NOTE: 2 fixed-effects (115 observations) removed because of only 0 outcomes.\n",
      "\n",
      "NOTE: 1 fixed-effect (60 observations) removed because of only 0 outcomes.\n",
      "\n",
      "NOTE: 1 fixed-effect (129 observations) removed because of only 0 outcomes.\n",
      "\n",
      "NOTE: 1 fixed-effect (55 observations) removed because of only 0 outcomes.\n",
      "\n",
      "NOTE: 1 fixed-effect (60 observations) removed because of only 0 outcomes.\n",
      "\n",
      "NOTE: 1 fixed-effect (60 observations) removed because of only 0 outcomes.\n",
      "\n",
      "NOTE: 2 fixed-effects (222 observations) removed because of only 0 outcomes.\n",
      "\n",
      "NOTE: 2 fixed-effects (115 observations) removed because of only 0 outcomes.\n",
      "\n"
     ]
    },
    {
     "name": "stdout",
     "output_type": "stream",
     "text": [
      "Remove  0  genes having low expression.\n",
      "Analyzing  100  genes with  50  subjects and  20543  cells.\n"
     ]
    },
    {
     "name": "stderr",
     "output_type": "stream",
     "text": [
      "\u001b[1m\u001b[22m`summarise()` has grouped output by 'id'. You can override using the `.groups` argument.\n",
      "start regression\n",
      "\n",
      "NOTE: 1 fixed-effect (152 observations) removed because of only 0 outcomes.\n",
      "\n",
      "NOTE: 1 fixed-effect (65 observations) removed because of only 0 outcomes.\n",
      "\n",
      "NOTE: 1 fixed-effect (153 observations) removed because of only 0 outcomes.\n",
      "\n",
      "NOTE: 1 fixed-effect (156 observations) removed because of only 0 outcomes.\n",
      "\n"
     ]
    },
    {
     "name": "stdout",
     "output_type": "stream",
     "text": [
      "Remove  0  genes having low expression.\n",
      "Analyzing  100  genes with  50  subjects and  15635  cells.\n"
     ]
    },
    {
     "name": "stderr",
     "output_type": "stream",
     "text": [
      "\u001b[1m\u001b[22m`summarise()` has grouped output by 'id'. You can override using the `.groups` argument.\n",
      "start regression\n",
      "\n",
      "NOTE: 1 fixed-effect (62 observations) removed because of only 0 outcomes.\n",
      "\n",
      "NOTE: 1 fixed-effect (62 observations) removed because of only 0 outcomes.\n",
      "\n",
      "NOTE: 1 fixed-effect (72 observations) removed because of only 0 outcomes.\n",
      "\n",
      "NOTE: 1 fixed-effect (62 observations) removed because of only 0 outcomes.\n",
      "\n",
      "NOTE: 1 fixed-effect (62 observations) removed because of only 0 outcomes.\n",
      "\n",
      "NOTE: 5 fixed-effects (982 observations) removed because of only 0 outcomes.\n",
      "\n"
     ]
    },
    {
     "name": "stdout",
     "output_type": "stream",
     "text": [
      "Remove  0  genes having low expression.\n",
      "Analyzing  100  genes with  50  subjects and  27041  cells.\n"
     ]
    },
    {
     "name": "stderr",
     "output_type": "stream",
     "text": [
      "\u001b[1m\u001b[22m`summarise()` has grouped output by 'id'. You can override using the `.groups` argument.\n",
      "start regression\n",
      "\n",
      "NOTE: 1 fixed-effect (152 observations) removed because of only 0 outcomes.\n",
      "\n",
      "NOTE: 1 fixed-effect (75 observations) removed because of only 0 outcomes.\n",
      "\n",
      "NOTE: 1 fixed-effect (98 observations) removed because of only 0 outcomes.\n",
      "\n",
      "NOTE: 1 fixed-effect (136 observations) removed because of only 0 outcomes.\n",
      "\n"
     ]
    },
    {
     "name": "stdout",
     "output_type": "stream",
     "text": [
      "Remove  0  genes having low expression.\n",
      "Analyzing  100  genes with  50  subjects and  16861  cells.\n"
     ]
    },
    {
     "name": "stderr",
     "output_type": "stream",
     "text": [
      "\u001b[1m\u001b[22m`summarise()` has grouped output by 'id'. You can override using the `.groups` argument.\n",
      "start regression\n",
      "\n",
      "NOTE: 1 fixed-effect (63 observations) removed because of only 0 outcomes.\n",
      "\n",
      "NOTE: 1 fixed-effect (136 observations) removed because of only 0 outcomes.\n",
      "\n",
      "NOTE: 1 fixed-effect (136 observations) removed because of only 0 outcomes.\n",
      "\n"
     ]
    },
    {
     "name": "stdout",
     "output_type": "stream",
     "text": [
      "Remove  0  genes having low expression.\n",
      "Analyzing  100  genes with  50  subjects and  17077  cells.\n"
     ]
    },
    {
     "data": {
      "text/plain": [
       "Time difference of 1.266427 hours"
      ]
     },
     "metadata": {},
     "output_type": "display_data"
    }
   ],
   "source": [
    "author <- 'bca'\n",
    "n.sample <- 50\n",
    "exp.cut <- 0.5\n",
    "n.gene <- 100\n",
    "n.sim <- 10\n",
    "samp.prob <- 0.5\n",
    "is.pb <- FALSE\n",
    "t1 <- Sys.time()\n",
    "for (int.ct in 1:length(ct.used)){ #\n",
    "    # select celltype\n",
    "    cell.type <- ct.used[[int.ct]]\n",
    "    bool.ct <- col.data.used$cell_type == cell.type\n",
    "    col.data.ct <- col.data.used[bool.ct,]\n",
    "\n",
    "    # select genes with sufficient mean (nblmm doesn't work for small mean)\n",
    "    cnt.ct <- cnt.used[,bool.ct]\n",
    "    cnt.ct.bm <- cnt.ct[rowMeans2(cnt.ct) > 0.1,]\n",
    "    cnt.ct.bm <- cnt.ct.bm[sample(1:nrow(cnt.ct.bm), n.gene),]\n",
    "    \n",
    "    # boolean index of cells\n",
    "    bool.cell.donor <- lapply(\n",
    "        unique(col.data.ct$donor_id),\n",
    "        function(id.donor){\n",
    "            return(col.data.ct$donor_id == id.donor)\n",
    "            }\n",
    "        )\n",
    "    col.data.donor <- lapply(\n",
    "        bool.cell.donor,\n",
    "        function(bool.donor){\n",
    "            return(col.data.ct[bool.donor,])\n",
    "            }\n",
    "        )\n",
    "    cnt.donor <- lapply(\n",
    "        bool.cell.donor,\n",
    "        function(bool.donor){\n",
    "            return(cnt.ct.bm[,bool.donor])\n",
    "            }\n",
    "        )\n",
    "\n",
    "    list.result.null <- list()\n",
    "    list.result.pow <- list()\n",
    "    for (i.iter in 1:n.sim){\n",
    "        \n",
    "        # sample individuals\n",
    "        ind.select <- sample.int(\n",
    "            n=length(unique(col.data.ct$donor_id)), \n",
    "            size=n.sample,\n",
    "            replace=TRUE\n",
    "            )\n",
    "    \n",
    "        # construct col.data & cnt matrix\n",
    "        col.data.select <- data.table::rbindlist(col.data.donor[ind.select], idcol=\"id\")\n",
    "        cnt.select <- do.call(cbind, cnt.donor[ind.select])\n",
    "        colnames(cnt.select) <- rownames(col.data.select)\n",
    "                   \n",
    "        # select cells randomly\n",
    "        n.per.donor <- col.data.select %>% group_by(id, donor_id) %>% summarise(n=n()) %>% pull(n)\n",
    "        cell.select <- as.logical(unlist(sapply(n.per.donor, rbinom, size=1, p=samp.prob)))\n",
    "        col.data.select <- col.data.select[cell.select,]\n",
    "        cnt.select <- cnt.select[,cell.select]\n",
    "\n",
    "        # assign treatment\n",
    "        col.data.select$tx_cell <- rbinom(n=nrow(col.data.select), size=1, p=0.5)\n",
    "        if (is.pb){ \n",
    "            # assign treatment label\n",
    "            n.tx <- as.integer(n.sample/2)\n",
    "            urn <- c(rep(1,n.tx), rep(0,n.sample-n.tx))\n",
    "            tx.ind <- sample(x=urn, size=n.sample, replace=FALSE)\n",
    "        \n",
    "            # assign tx to cells\n",
    "            cell.per.ind <- col.data.select %>%\n",
    "                group_by(id) %>%\n",
    "                summarise(n=n())\n",
    "            col.data.select$tx_cell <- rep(tx.ind, times=cell.per.ind$n)\n",
    "        }\n",
    "    \n",
    "        # for power simulation, cut expression to half (+ force int)\n",
    "        idx.de <- 1:5\n",
    "        idx.tx <- which(col.data.select$tx_cell == 1)\n",
    "        downCells(cnt.select, idx.de, idx.tx, exp.cut)\n",
    "        cnt.select.t <- t(cnt.select)\n",
    "        \n",
    "        # run tests\n",
    "        message('start regression')\n",
    "        list.formula <- list(\n",
    "            as.formula('~tx_cell'),\n",
    "            as.formula('~tx_cell'),\n",
    "            as.formula('~tx_cell'),\n",
    "            as.formula('~tx_cell'),\n",
    "            as.formula(ifelse(is.pb, 'y~tx_cell', 'y~tx_cell | id')),\n",
    "            as.formula('~tx_cell')\n",
    "            )\n",
    "        list.data <- list(\n",
    "            cnt.select,\n",
    "            cnt.select,\n",
    "            cnt.select,\n",
    "            cnt.select,\n",
    "            cnt.select.t,\n",
    "            cnt.select\n",
    "            )\n",
    "        list.result.method <- list()\n",
    "        for (int.test in 1:length(list.func)){\n",
    "            list.result.method[[int.test]] <- list.func[[int.test]](\n",
    "                list.formula[[int.test]],\n",
    "                list.data[[int.test]],\n",
    "                col.data.select\n",
    "                )[,4] \n",
    "            }\n",
    "        df.result <- do.call(rbind, list.result.method)\n",
    "        rownames(df.result) <- c('glmGamPoi (Pb)', 'edgeR (Pb)', 'limma (Pb)', 'glmGamPoi (cell)', 'robust GLM (cell)', 'NB GLMM')\n",
    "        list.result.null[[i.iter]] <- t(df.result)[6:n.gene,]\n",
    "        list.result.pow[[i.iter]] <- t(df.result)[1:5,]\n",
    "        }\n",
    "\n",
    "    \n",
    "    \n",
    "    # results\n",
    "    df.null <- do.call(rbind, list.result.null)\n",
    "    df.pow <- do.call(rbind, list.result.pow)\n",
    "    \n",
    "    # save name\n",
    "    path.tail <- paste(author,'n',n.sample,'ct',int.ct,'fc',exp.cut,'csv',sep='.')\n",
    "    path.pow.head <- ifelse(is.pb, 'pow_subject/', 'pow_cell/')\n",
    "    path.null.head <- ifelse(is.pb, 'null_subject/', 'null_cell/')\n",
    "    \n",
    "    write.csv(df.null, paste0(path.null.head, path.tail))\n",
    "    write.csv(df.pow, paste0(path.pow.head, path.tail))\n",
    "    \n",
    "    }\n",
    "t2 <- Sys.time()\n",
    "t2-t1"
   ]
  },
  {
   "cell_type": "code",
   "execution_count": 44,
   "id": "4ab6da11-9ae3-4d87-b7f0-0301c814963a",
   "metadata": {},
   "outputs": [
    {
     "name": "stderr",
     "output_type": "stream",
     "text": [
      "\u001b[1m\u001b[22m`summarise()` has grouped output by 'id'. You can override using the `.groups` argument.\n",
      "start regression\n",
      "\n"
     ]
    },
    {
     "name": "stdout",
     "output_type": "stream",
     "text": [
      "Remove  0  genes having low expression.\n",
      "Analyzing  100  genes with  50  subjects and  91902  cells.\n"
     ]
    },
    {
     "name": "stderr",
     "output_type": "stream",
     "text": [
      "\u001b[1m\u001b[22m`summarise()` has grouped output by 'id'. You can override using the `.groups` argument.\n",
      "start regression\n",
      "\n"
     ]
    },
    {
     "name": "stdout",
     "output_type": "stream",
     "text": [
      "Remove  0  genes having low expression.\n",
      "Analyzing  100  genes with  50  subjects and  111722  cells.\n"
     ]
    },
    {
     "name": "stderr",
     "output_type": "stream",
     "text": [
      "\u001b[1m\u001b[22m`summarise()` has grouped output by 'id'. You can override using the `.groups` argument.\n",
      "start regression\n",
      "\n"
     ]
    },
    {
     "name": "stdout",
     "output_type": "stream",
     "text": [
      "Remove  0  genes having low expression.\n",
      "Analyzing  100  genes with  50  subjects and  97804  cells.\n"
     ]
    },
    {
     "name": "stderr",
     "output_type": "stream",
     "text": [
      "\u001b[1m\u001b[22m`summarise()` has grouped output by 'id'. You can override using the `.groups` argument.\n",
      "start regression\n",
      "\n"
     ]
    },
    {
     "name": "stdout",
     "output_type": "stream",
     "text": [
      "Remove  0  genes having low expression.\n",
      "Analyzing  100  genes with  50  subjects and  104685  cells.\n"
     ]
    },
    {
     "name": "stderr",
     "output_type": "stream",
     "text": [
      "\u001b[1m\u001b[22m`summarise()` has grouped output by 'id'. You can override using the `.groups` argument.\n",
      "start regression\n",
      "\n"
     ]
    },
    {
     "name": "stdout",
     "output_type": "stream",
     "text": [
      "Remove  0  genes having low expression.\n",
      "Analyzing  100  genes with  50  subjects and  94473  cells.\n"
     ]
    },
    {
     "name": "stderr",
     "output_type": "stream",
     "text": [
      "\u001b[1m\u001b[22m`summarise()` has grouped output by 'id'. You can override using the `.groups` argument.\n",
      "start regression\n",
      "\n"
     ]
    },
    {
     "name": "stdout",
     "output_type": "stream",
     "text": [
      "Remove  0  genes having low expression.\n",
      "Analyzing  100  genes with  50  subjects and  101149  cells.\n"
     ]
    },
    {
     "name": "stderr",
     "output_type": "stream",
     "text": [
      "\u001b[1m\u001b[22m`summarise()` has grouped output by 'id'. You can override using the `.groups` argument.\n",
      "start regression\n",
      "\n"
     ]
    },
    {
     "name": "stdout",
     "output_type": "stream",
     "text": [
      "Remove  0  genes having low expression.\n",
      "Analyzing  100  genes with  50  subjects and  87757  cells.\n"
     ]
    },
    {
     "name": "stderr",
     "output_type": "stream",
     "text": [
      "\u001b[1m\u001b[22m`summarise()` has grouped output by 'id'. You can override using the `.groups` argument.\n",
      "start regression\n",
      "\n"
     ]
    },
    {
     "name": "stdout",
     "output_type": "stream",
     "text": [
      "Remove  0  genes having low expression.\n",
      "Analyzing  100  genes with  50  subjects and  89527  cells.\n"
     ]
    },
    {
     "name": "stderr",
     "output_type": "stream",
     "text": [
      "\u001b[1m\u001b[22m`summarise()` has grouped output by 'id'. You can override using the `.groups` argument.\n",
      "start regression\n",
      "\n"
     ]
    },
    {
     "name": "stdout",
     "output_type": "stream",
     "text": [
      "Remove  0  genes having low expression.\n",
      "Analyzing  100  genes with  50  subjects and  93742  cells.\n"
     ]
    },
    {
     "name": "stderr",
     "output_type": "stream",
     "text": [
      "\u001b[1m\u001b[22m`summarise()` has grouped output by 'id'. You can override using the `.groups` argument.\n",
      "start regression\n",
      "\n"
     ]
    },
    {
     "name": "stdout",
     "output_type": "stream",
     "text": [
      "Remove  0  genes having low expression.\n",
      "Analyzing  100  genes with  50  subjects and  93255  cells.\n"
     ]
    },
    {
     "name": "stderr",
     "output_type": "stream",
     "text": [
      "\u001b[1m\u001b[22m`summarise()` has grouped output by 'id'. You can override using the `.groups` argument.\n",
      "start regression\n",
      "\n"
     ]
    },
    {
     "name": "stdout",
     "output_type": "stream",
     "text": [
      "Remove  0  genes having low expression.\n",
      "Analyzing  100  genes with  50  subjects and  78258  cells.\n"
     ]
    },
    {
     "name": "stderr",
     "output_type": "stream",
     "text": [
      "\u001b[1m\u001b[22m`summarise()` has grouped output by 'id'. You can override using the `.groups` argument.\n",
      "start regression\n",
      "\n"
     ]
    },
    {
     "name": "stdout",
     "output_type": "stream",
     "text": [
      "Remove  0  genes having low expression.\n",
      "Analyzing  100  genes with  50  subjects and  105980  cells.\n"
     ]
    },
    {
     "name": "stderr",
     "output_type": "stream",
     "text": [
      "\u001b[1m\u001b[22m`summarise()` has grouped output by 'id'. You can override using the `.groups` argument.\n",
      "start regression\n",
      "\n"
     ]
    },
    {
     "name": "stdout",
     "output_type": "stream",
     "text": [
      "Remove  0  genes having low expression.\n",
      "Analyzing  100  genes with  50  subjects and  87650  cells.\n"
     ]
    },
    {
     "name": "stderr",
     "output_type": "stream",
     "text": [
      "\u001b[1m\u001b[22m`summarise()` has grouped output by 'id'. You can override using the `.groups` argument.\n",
      "start regression\n",
      "\n"
     ]
    },
    {
     "name": "stdout",
     "output_type": "stream",
     "text": [
      "Remove  0  genes having low expression.\n",
      "Analyzing  100  genes with  50  subjects and  97656  cells.\n"
     ]
    },
    {
     "name": "stderr",
     "output_type": "stream",
     "text": [
      "\u001b[1m\u001b[22m`summarise()` has grouped output by 'id'. You can override using the `.groups` argument.\n",
      "start regression\n",
      "\n"
     ]
    },
    {
     "name": "stdout",
     "output_type": "stream",
     "text": [
      "Remove  0  genes having low expression.\n",
      "Analyzing  100  genes with  50  subjects and  89234  cells.\n"
     ]
    },
    {
     "name": "stderr",
     "output_type": "stream",
     "text": [
      "\u001b[1m\u001b[22m`summarise()` has grouped output by 'id'. You can override using the `.groups` argument.\n",
      "start regression\n",
      "\n"
     ]
    },
    {
     "name": "stdout",
     "output_type": "stream",
     "text": [
      "Remove  0  genes having low expression.\n",
      "Analyzing  100  genes with  50  subjects and  98556  cells.\n"
     ]
    },
    {
     "name": "stderr",
     "output_type": "stream",
     "text": [
      "\u001b[1m\u001b[22m`summarise()` has grouped output by 'id'. You can override using the `.groups` argument.\n",
      "start regression\n",
      "\n"
     ]
    },
    {
     "name": "stdout",
     "output_type": "stream",
     "text": [
      "Remove  0  genes having low expression.\n",
      "Analyzing  100  genes with  50  subjects and  82137  cells.\n"
     ]
    },
    {
     "name": "stderr",
     "output_type": "stream",
     "text": [
      "\u001b[1m\u001b[22m`summarise()` has grouped output by 'id'. You can override using the `.groups` argument.\n",
      "start regression\n",
      "\n"
     ]
    },
    {
     "name": "stdout",
     "output_type": "stream",
     "text": [
      "Remove  0  genes having low expression.\n",
      "Analyzing  100  genes with  50  subjects and  89790  cells.\n"
     ]
    },
    {
     "name": "stderr",
     "output_type": "stream",
     "text": [
      "\u001b[1m\u001b[22m`summarise()` has grouped output by 'id'. You can override using the `.groups` argument.\n",
      "start regression\n",
      "\n"
     ]
    },
    {
     "name": "stdout",
     "output_type": "stream",
     "text": [
      "Remove  0  genes having low expression.\n",
      "Analyzing  100  genes with  50  subjects and  92398  cells.\n"
     ]
    },
    {
     "name": "stderr",
     "output_type": "stream",
     "text": [
      "\u001b[1m\u001b[22m`summarise()` has grouped output by 'id'. You can override using the `.groups` argument.\n",
      "start regression\n",
      "\n"
     ]
    },
    {
     "name": "stdout",
     "output_type": "stream",
     "text": [
      "Remove  0  genes having low expression.\n",
      "Analyzing  100  genes with  50  subjects and  82217  cells.\n"
     ]
    },
    {
     "name": "stderr",
     "output_type": "stream",
     "text": [
      "\u001b[1m\u001b[22m`summarise()` has grouped output by 'id'. You can override using the `.groups` argument.\n",
      "start regression\n",
      "\n"
     ]
    },
    {
     "name": "stdout",
     "output_type": "stream",
     "text": [
      "Remove  0  genes having low expression.\n",
      "Analyzing  100  genes with  50  subjects and  69577  cells.\n"
     ]
    },
    {
     "name": "stderr",
     "output_type": "stream",
     "text": [
      "\u001b[1m\u001b[22m`summarise()` has grouped output by 'id'. You can override using the `.groups` argument.\n",
      "start regression\n",
      "\n"
     ]
    },
    {
     "name": "stdout",
     "output_type": "stream",
     "text": [
      "Remove  0  genes having low expression.\n",
      "Analyzing  100  genes with  50  subjects and  59512  cells.\n"
     ]
    },
    {
     "name": "stderr",
     "output_type": "stream",
     "text": [
      "\u001b[1m\u001b[22m`summarise()` has grouped output by 'id'. You can override using the `.groups` argument.\n",
      "start regression\n",
      "\n"
     ]
    },
    {
     "name": "stdout",
     "output_type": "stream",
     "text": [
      "Remove  0  genes having low expression.\n",
      "Analyzing  100  genes with  50  subjects and  60383  cells.\n"
     ]
    },
    {
     "name": "stderr",
     "output_type": "stream",
     "text": [
      "\u001b[1m\u001b[22m`summarise()` has grouped output by 'id'. You can override using the `.groups` argument.\n",
      "start regression\n",
      "\n"
     ]
    },
    {
     "name": "stdout",
     "output_type": "stream",
     "text": [
      "Remove  0  genes having low expression.\n",
      "Analyzing  100  genes with  50  subjects and  58008  cells.\n"
     ]
    },
    {
     "name": "stderr",
     "output_type": "stream",
     "text": [
      "\u001b[1m\u001b[22m`summarise()` has grouped output by 'id'. You can override using the `.groups` argument.\n",
      "start regression\n",
      "\n"
     ]
    },
    {
     "name": "stdout",
     "output_type": "stream",
     "text": [
      "Remove  0  genes having low expression.\n",
      "Analyzing  100  genes with  50  subjects and  71219  cells.\n"
     ]
    },
    {
     "name": "stderr",
     "output_type": "stream",
     "text": [
      "\u001b[1m\u001b[22m`summarise()` has grouped output by 'id'. You can override using the `.groups` argument.\n",
      "start regression\n",
      "\n"
     ]
    },
    {
     "name": "stdout",
     "output_type": "stream",
     "text": [
      "Remove  0  genes having low expression.\n",
      "Analyzing  100  genes with  50  subjects and  66648  cells.\n"
     ]
    },
    {
     "name": "stderr",
     "output_type": "stream",
     "text": [
      "\u001b[1m\u001b[22m`summarise()` has grouped output by 'id'. You can override using the `.groups` argument.\n",
      "start regression\n",
      "\n"
     ]
    },
    {
     "name": "stdout",
     "output_type": "stream",
     "text": [
      "Remove  0  genes having low expression.\n",
      "Analyzing  100  genes with  50  subjects and  76373  cells.\n"
     ]
    },
    {
     "name": "stderr",
     "output_type": "stream",
     "text": [
      "\u001b[1m\u001b[22m`summarise()` has grouped output by 'id'. You can override using the `.groups` argument.\n",
      "start regression\n",
      "\n"
     ]
    },
    {
     "name": "stdout",
     "output_type": "stream",
     "text": [
      "Remove  0  genes having low expression.\n",
      "Analyzing  100  genes with  50  subjects and  69546  cells.\n"
     ]
    },
    {
     "name": "stderr",
     "output_type": "stream",
     "text": [
      "\u001b[1m\u001b[22m`summarise()` has grouped output by 'id'. You can override using the `.groups` argument.\n",
      "start regression\n",
      "\n"
     ]
    },
    {
     "name": "stdout",
     "output_type": "stream",
     "text": [
      "Remove  0  genes having low expression.\n",
      "Analyzing  100  genes with  50  subjects and  67216  cells.\n"
     ]
    },
    {
     "name": "stderr",
     "output_type": "stream",
     "text": [
      "\u001b[1m\u001b[22m`summarise()` has grouped output by 'id'. You can override using the `.groups` argument.\n",
      "start regression\n",
      "\n"
     ]
    },
    {
     "name": "stdout",
     "output_type": "stream",
     "text": [
      "Remove  0  genes having low expression.\n",
      "Analyzing  100  genes with  50  subjects and  62225  cells.\n"
     ]
    },
    {
     "name": "stderr",
     "output_type": "stream",
     "text": [
      "\u001b[1m\u001b[22m`summarise()` has grouped output by 'id'. You can override using the `.groups` argument.\n",
      "start regression\n",
      "\n"
     ]
    },
    {
     "name": "stdout",
     "output_type": "stream",
     "text": [
      "Remove  0  genes having low expression.\n",
      "Analyzing  100  genes with  50  subjects and  60041  cells.\n"
     ]
    },
    {
     "name": "stderr",
     "output_type": "stream",
     "text": [
      "\u001b[1m\u001b[22m`summarise()` has grouped output by 'id'. You can override using the `.groups` argument.\n",
      "start regression\n",
      "\n"
     ]
    },
    {
     "name": "stdout",
     "output_type": "stream",
     "text": [
      "Remove  0  genes having low expression.\n",
      "Analyzing  100  genes with  50  subjects and  87023  cells.\n"
     ]
    },
    {
     "name": "stderr",
     "output_type": "stream",
     "text": [
      "\u001b[1m\u001b[22m`summarise()` has grouped output by 'id'. You can override using the `.groups` argument.\n",
      "start regression\n",
      "\n"
     ]
    },
    {
     "name": "stdout",
     "output_type": "stream",
     "text": [
      "Remove  0  genes having low expression.\n",
      "Analyzing  100  genes with  50  subjects and  56037  cells.\n"
     ]
    },
    {
     "name": "stderr",
     "output_type": "stream",
     "text": [
      "\u001b[1m\u001b[22m`summarise()` has grouped output by 'id'. You can override using the `.groups` argument.\n",
      "start regression\n",
      "\n"
     ]
    },
    {
     "name": "stdout",
     "output_type": "stream",
     "text": [
      "Remove  0  genes having low expression.\n",
      "Analyzing  100  genes with  50  subjects and  58144  cells.\n"
     ]
    },
    {
     "name": "stderr",
     "output_type": "stream",
     "text": [
      "\u001b[1m\u001b[22m`summarise()` has grouped output by 'id'. You can override using the `.groups` argument.\n",
      "start regression\n",
      "\n"
     ]
    },
    {
     "name": "stdout",
     "output_type": "stream",
     "text": [
      "Remove  0  genes having low expression.\n",
      "Analyzing  100  genes with  50  subjects and  59695  cells.\n"
     ]
    },
    {
     "name": "stderr",
     "output_type": "stream",
     "text": [
      "\u001b[1m\u001b[22m`summarise()` has grouped output by 'id'. You can override using the `.groups` argument.\n",
      "start regression\n",
      "\n"
     ]
    },
    {
     "name": "stdout",
     "output_type": "stream",
     "text": [
      "Remove  0  genes having low expression.\n",
      "Analyzing  100  genes with  50  subjects and  61580  cells.\n"
     ]
    },
    {
     "name": "stderr",
     "output_type": "stream",
     "text": [
      "\u001b[1m\u001b[22m`summarise()` has grouped output by 'id'. You can override using the `.groups` argument.\n",
      "start regression\n",
      "\n"
     ]
    },
    {
     "name": "stdout",
     "output_type": "stream",
     "text": [
      "Remove  0  genes having low expression.\n",
      "Analyzing  100  genes with  50  subjects and  53068  cells.\n"
     ]
    },
    {
     "name": "stderr",
     "output_type": "stream",
     "text": [
      "\u001b[1m\u001b[22m`summarise()` has grouped output by 'id'. You can override using the `.groups` argument.\n",
      "start regression\n",
      "\n"
     ]
    },
    {
     "name": "stdout",
     "output_type": "stream",
     "text": [
      "Remove  0  genes having low expression.\n",
      "Analyzing  100  genes with  50  subjects and  80477  cells.\n"
     ]
    },
    {
     "name": "stderr",
     "output_type": "stream",
     "text": [
      "\u001b[1m\u001b[22m`summarise()` has grouped output by 'id'. You can override using the `.groups` argument.\n",
      "start regression\n",
      "\n"
     ]
    },
    {
     "name": "stdout",
     "output_type": "stream",
     "text": [
      "Remove  0  genes having low expression.\n",
      "Analyzing  100  genes with  50  subjects and  59995  cells.\n"
     ]
    },
    {
     "name": "stderr",
     "output_type": "stream",
     "text": [
      "\u001b[1m\u001b[22m`summarise()` has grouped output by 'id'. You can override using the `.groups` argument.\n",
      "start regression\n",
      "\n"
     ]
    },
    {
     "name": "stdout",
     "output_type": "stream",
     "text": [
      "Remove  0  genes having low expression.\n",
      "Analyzing  100  genes with  50  subjects and  62961  cells.\n"
     ]
    },
    {
     "name": "stderr",
     "output_type": "stream",
     "text": [
      "\u001b[1m\u001b[22m`summarise()` has grouped output by 'id'. You can override using the `.groups` argument.\n",
      "start regression\n",
      "\n"
     ]
    },
    {
     "name": "stdout",
     "output_type": "stream",
     "text": [
      "Remove  0  genes having low expression.\n",
      "Analyzing  100  genes with  50  subjects and  47723  cells.\n"
     ]
    },
    {
     "name": "stderr",
     "output_type": "stream",
     "text": [
      "\u001b[1m\u001b[22m`summarise()` has grouped output by 'id'. You can override using the `.groups` argument.\n",
      "start regression\n",
      "\n"
     ]
    },
    {
     "name": "stdout",
     "output_type": "stream",
     "text": [
      "Remove  0  genes having low expression.\n",
      "Analyzing  100  genes with  50  subjects and  46113  cells.\n"
     ]
    },
    {
     "name": "stderr",
     "output_type": "stream",
     "text": [
      "\u001b[1m\u001b[22m`summarise()` has grouped output by 'id'. You can override using the `.groups` argument.\n",
      "start regression\n",
      "\n"
     ]
    },
    {
     "name": "stdout",
     "output_type": "stream",
     "text": [
      "Remove  0  genes having low expression.\n",
      "Analyzing  100  genes with  50  subjects and  42638  cells.\n"
     ]
    },
    {
     "name": "stderr",
     "output_type": "stream",
     "text": [
      "\u001b[1m\u001b[22m`summarise()` has grouped output by 'id'. You can override using the `.groups` argument.\n",
      "start regression\n",
      "\n"
     ]
    },
    {
     "name": "stdout",
     "output_type": "stream",
     "text": [
      "Remove  0  genes having low expression.\n",
      "Analyzing  100  genes with  50  subjects and  40395  cells.\n"
     ]
    },
    {
     "name": "stderr",
     "output_type": "stream",
     "text": [
      "\u001b[1m\u001b[22m`summarise()` has grouped output by 'id'. You can override using the `.groups` argument.\n",
      "start regression\n",
      "\n"
     ]
    },
    {
     "name": "stdout",
     "output_type": "stream",
     "text": [
      "Remove  0  genes having low expression.\n",
      "Analyzing  100  genes with  50  subjects and  43072  cells.\n"
     ]
    },
    {
     "name": "stderr",
     "output_type": "stream",
     "text": [
      "\u001b[1m\u001b[22m`summarise()` has grouped output by 'id'. You can override using the `.groups` argument.\n",
      "start regression\n",
      "\n"
     ]
    },
    {
     "name": "stdout",
     "output_type": "stream",
     "text": [
      "Remove  0  genes having low expression.\n",
      "Analyzing  100  genes with  50  subjects and  42667  cells.\n"
     ]
    },
    {
     "name": "stderr",
     "output_type": "stream",
     "text": [
      "\u001b[1m\u001b[22m`summarise()` has grouped output by 'id'. You can override using the `.groups` argument.\n",
      "start regression\n",
      "\n"
     ]
    },
    {
     "name": "stdout",
     "output_type": "stream",
     "text": [
      "Remove  0  genes having low expression.\n",
      "Analyzing  100  genes with  50  subjects and  41238  cells.\n"
     ]
    },
    {
     "name": "stderr",
     "output_type": "stream",
     "text": [
      "\u001b[1m\u001b[22m`summarise()` has grouped output by 'id'. You can override using the `.groups` argument.\n",
      "start regression\n",
      "\n"
     ]
    },
    {
     "name": "stdout",
     "output_type": "stream",
     "text": [
      "Remove  0  genes having low expression.\n",
      "Analyzing  100  genes with  50  subjects and  45659  cells.\n"
     ]
    },
    {
     "name": "stderr",
     "output_type": "stream",
     "text": [
      "\u001b[1m\u001b[22m`summarise()` has grouped output by 'id'. You can override using the `.groups` argument.\n",
      "start regression\n",
      "\n"
     ]
    },
    {
     "name": "stdout",
     "output_type": "stream",
     "text": [
      "Remove  0  genes having low expression.\n",
      "Analyzing  100  genes with  50  subjects and  49005  cells.\n"
     ]
    },
    {
     "name": "stderr",
     "output_type": "stream",
     "text": [
      "\u001b[1m\u001b[22m`summarise()` has grouped output by 'id'. You can override using the `.groups` argument.\n",
      "start regression\n",
      "\n"
     ]
    },
    {
     "name": "stdout",
     "output_type": "stream",
     "text": [
      "Remove  0  genes having low expression.\n",
      "Analyzing  100  genes with  50  subjects and  46366  cells.\n"
     ]
    },
    {
     "name": "stderr",
     "output_type": "stream",
     "text": [
      "\u001b[1m\u001b[22m`summarise()` has grouped output by 'id'. You can override using the `.groups` argument.\n",
      "start regression\n",
      "\n"
     ]
    },
    {
     "name": "stdout",
     "output_type": "stream",
     "text": [
      "Remove  0  genes having low expression.\n",
      "Analyzing  100  genes with  50  subjects and  14580  cells.\n"
     ]
    },
    {
     "name": "stderr",
     "output_type": "stream",
     "text": [
      "\u001b[1m\u001b[22m`summarise()` has grouped output by 'id'. You can override using the `.groups` argument.\n",
      "start regression\n",
      "\n"
     ]
    },
    {
     "name": "stdout",
     "output_type": "stream",
     "text": [
      "Remove  0  genes having low expression.\n",
      "Analyzing  100  genes with  50  subjects and  19997  cells.\n"
     ]
    },
    {
     "name": "stderr",
     "output_type": "stream",
     "text": [
      "\u001b[1m\u001b[22m`summarise()` has grouped output by 'id'. You can override using the `.groups` argument.\n",
      "start regression\n",
      "\n"
     ]
    },
    {
     "name": "stdout",
     "output_type": "stream",
     "text": [
      "Remove  0  genes having low expression.\n",
      "Analyzing  100  genes with  50  subjects and  18016  cells.\n"
     ]
    },
    {
     "name": "stderr",
     "output_type": "stream",
     "text": [
      "\u001b[1m\u001b[22m`summarise()` has grouped output by 'id'. You can override using the `.groups` argument.\n",
      "start regression\n",
      "\n"
     ]
    },
    {
     "name": "stdout",
     "output_type": "stream",
     "text": [
      "Remove  0  genes having low expression.\n",
      "Analyzing  100  genes with  50  subjects and  19330  cells.\n"
     ]
    },
    {
     "name": "stderr",
     "output_type": "stream",
     "text": [
      "\u001b[1m\u001b[22m`summarise()` has grouped output by 'id'. You can override using the `.groups` argument.\n",
      "start regression\n",
      "\n"
     ]
    },
    {
     "name": "stdout",
     "output_type": "stream",
     "text": [
      "Remove  0  genes having low expression.\n",
      "Analyzing  100  genes with  50  subjects and  22996  cells.\n"
     ]
    },
    {
     "name": "stderr",
     "output_type": "stream",
     "text": [
      "\u001b[1m\u001b[22m`summarise()` has grouped output by 'id'. You can override using the `.groups` argument.\n",
      "start regression\n",
      "\n"
     ]
    },
    {
     "name": "stdout",
     "output_type": "stream",
     "text": [
      "Remove  0  genes having low expression.\n",
      "Analyzing  100  genes with  50  subjects and  19644  cells.\n"
     ]
    },
    {
     "name": "stderr",
     "output_type": "stream",
     "text": [
      "\u001b[1m\u001b[22m`summarise()` has grouped output by 'id'. You can override using the `.groups` argument.\n",
      "start regression\n",
      "\n"
     ]
    },
    {
     "name": "stdout",
     "output_type": "stream",
     "text": [
      "Remove  0  genes having low expression.\n",
      "Analyzing  100  genes with  50  subjects and  14832  cells.\n"
     ]
    },
    {
     "name": "stderr",
     "output_type": "stream",
     "text": [
      "\u001b[1m\u001b[22m`summarise()` has grouped output by 'id'. You can override using the `.groups` argument.\n",
      "start regression\n",
      "\n"
     ]
    },
    {
     "name": "stdout",
     "output_type": "stream",
     "text": [
      "Remove  0  genes having low expression.\n",
      "Analyzing  100  genes with  50  subjects and  18038  cells.\n"
     ]
    },
    {
     "name": "stderr",
     "output_type": "stream",
     "text": [
      "\u001b[1m\u001b[22m`summarise()` has grouped output by 'id'. You can override using the `.groups` argument.\n",
      "start regression\n",
      "\n"
     ]
    },
    {
     "name": "stdout",
     "output_type": "stream",
     "text": [
      "Remove  0  genes having low expression.\n",
      "Analyzing  100  genes with  50  subjects and  17348  cells.\n"
     ]
    },
    {
     "name": "stderr",
     "output_type": "stream",
     "text": [
      "\u001b[1m\u001b[22m`summarise()` has grouped output by 'id'. You can override using the `.groups` argument.\n",
      "start regression\n",
      "\n"
     ]
    },
    {
     "name": "stdout",
     "output_type": "stream",
     "text": [
      "Remove  0  genes having low expression.\n",
      "Analyzing  100  genes with  50  subjects and  18554  cells.\n"
     ]
    },
    {
     "data": {
      "text/plain": [
       "Time difference of 1.150679 hours"
      ]
     },
     "metadata": {},
     "output_type": "display_data"
    }
   ],
   "source": [
    "author <- 'bca'\n",
    "n.sample <- 50\n",
    "exp.cut <- 0.5\n",
    "n.gene <- 100\n",
    "n.sim <- 10\n",
    "samp.prob <- 0.5\n",
    "is.pb <- TRUE\n",
    "t1 <- Sys.time()\n",
    "for (int.ct in 1:length(ct.used)){ #\n",
    "    # select celltype\n",
    "    cell.type <- ct.used[[int.ct]]\n",
    "    bool.ct <- col.data.used$cell_type == cell.type\n",
    "    col.data.ct <- col.data.used[bool.ct,]\n",
    "\n",
    "    # select genes with sufficient mean (nblmm doesn't work for small mean)\n",
    "    cnt.ct <- cnt.used[,bool.ct]\n",
    "    cnt.ct.bm <- cnt.ct[rowMeans2(cnt.ct) > 0.1,]\n",
    "    cnt.ct.bm <- cnt.ct.bm[sample(1:nrow(cnt.ct.bm), n.gene),]\n",
    "    \n",
    "    # boolean index of cells\n",
    "    bool.cell.donor <- lapply(\n",
    "        unique(col.data.ct$donor_id),\n",
    "        function(id.donor){\n",
    "            return(col.data.ct$donor_id == id.donor)\n",
    "            }\n",
    "        )\n",
    "    col.data.donor <- lapply(\n",
    "        bool.cell.donor,\n",
    "        function(bool.donor){\n",
    "            return(col.data.ct[bool.donor,])\n",
    "            }\n",
    "        )\n",
    "    cnt.donor <- lapply(\n",
    "        bool.cell.donor,\n",
    "        function(bool.donor){\n",
    "            return(cnt.ct.bm[,bool.donor])\n",
    "            }\n",
    "        )\n",
    "\n",
    "    list.result.null <- list()\n",
    "    list.result.pow <- list()\n",
    "    for (i.iter in 1:n.sim){\n",
    "        \n",
    "        # sample individuals\n",
    "        ind.select <- sample.int(\n",
    "            n=length(unique(col.data.ct$donor_id)), \n",
    "            size=n.sample,\n",
    "            replace=TRUE\n",
    "            )\n",
    "    \n",
    "        # construct col.data & cnt matrix\n",
    "        col.data.select <- data.table::rbindlist(col.data.donor[ind.select], idcol=\"id\")\n",
    "        cnt.select <- do.call(cbind, cnt.donor[ind.select])\n",
    "        colnames(cnt.select) <- rownames(col.data.select)\n",
    "                   \n",
    "        # select cells randomly\n",
    "        n.per.donor <- col.data.select %>% group_by(id, donor_id) %>% summarise(n=n()) %>% pull(n)\n",
    "        cell.select <- as.logical(unlist(sapply(n.per.donor, rbinom, size=1, p=samp.prob)))\n",
    "        col.data.select <- col.data.select[cell.select,]\n",
    "        cnt.select <- cnt.select[,cell.select]\n",
    "\n",
    "        # assign treatment\n",
    "        col.data.select$tx_cell <- rbinom(n=nrow(col.data.select), size=1, p=0.5)\n",
    "        if (is.pb){ \n",
    "            # assign treatment label\n",
    "            n.tx <- as.integer(n.sample/2)\n",
    "            urn <- c(rep(1,n.tx), rep(0,n.sample-n.tx))\n",
    "            tx.ind <- sample(x=urn, size=n.sample, replace=FALSE)\n",
    "        \n",
    "            # assign tx to cells\n",
    "            cell.per.ind <- col.data.select %>%\n",
    "                group_by(id) %>%\n",
    "                summarise(n=n())\n",
    "            col.data.select$tx_cell <- rep(tx.ind, times=cell.per.ind$n)\n",
    "        }\n",
    "    \n",
    "        # for power simulation, cut expression to half (+ force int)\n",
    "        idx.de <- 1:5\n",
    "        idx.tx <- which(col.data.select$tx_cell == 1)\n",
    "        downCells(cnt.select, idx.de, idx.tx, exp.cut)\n",
    "        cnt.select.t <- t(cnt.select)\n",
    "        \n",
    "        # run tests\n",
    "        message('start regression')\n",
    "        list.formula <- list(\n",
    "            as.formula('~tx_cell'),\n",
    "            as.formula('~tx_cell'),\n",
    "            as.formula('~tx_cell'),\n",
    "            as.formula('~tx_cell'),\n",
    "            as.formula(ifelse(is.pb, 'y~tx_cell', 'y~tx_cell | id')),\n",
    "            as.formula('~tx_cell')\n",
    "            )\n",
    "        list.data <- list(\n",
    "            cnt.select,\n",
    "            cnt.select,\n",
    "            cnt.select,\n",
    "            cnt.select,\n",
    "            cnt.select.t,\n",
    "            cnt.select\n",
    "            )\n",
    "        list.result.method <- list()\n",
    "        for (int.test in 1:length(list.func)){\n",
    "            list.result.method[[int.test]] <- list.func[[int.test]](\n",
    "                list.formula[[int.test]],\n",
    "                list.data[[int.test]],\n",
    "                col.data.select\n",
    "                )[,4] \n",
    "            }\n",
    "        df.result <- do.call(rbind, list.result.method)\n",
    "        rownames(df.result) <- c('glmGamPoi (Pb)', 'edgeR (Pb)', 'limma (Pb)', 'glmGamPoi (cell)', 'robust GLM (cell)', 'NB GLMM')\n",
    "        list.result.null[[i.iter]] <- t(df.result)[6:n.gene,]\n",
    "        list.result.pow[[i.iter]] <- t(df.result)[1:5,]\n",
    "        }\n",
    "\n",
    "    \n",
    "    \n",
    "    # results\n",
    "    df.null <- do.call(rbind, list.result.null)\n",
    "    df.pow <- do.call(rbind, list.result.pow)\n",
    "    \n",
    "    # save name\n",
    "    path.tail <- paste(author,'n',n.sample,'ct',int.ct,'fc',exp.cut,'csv',sep='.')\n",
    "    path.pow.head <- ifelse(is.pb, 'pow_subject/', 'pow_cell/')\n",
    "    path.null.head <- ifelse(is.pb, 'null_subject/', 'null_cell/')\n",
    "    \n",
    "    write.csv(df.null, paste0(path.null.head, path.tail))\n",
    "    write.csv(df.pow, paste0(path.pow.head, path.tail))\n",
    "    \n",
    "    }\n",
    "t2 <- Sys.time()\n",
    "t2-t1"
   ]
  }
 ],
 "metadata": {
  "kernelspec": {
   "display_name": "R",
   "language": "R",
   "name": "ir"
  },
  "language_info": {
   "codemirror_mode": "r",
   "file_extension": ".r",
   "mimetype": "text/x-r-source",
   "name": "R",
   "pygments_lexer": "r",
   "version": "4.3.1"
  }
 },
 "nbformat": 4,
 "nbformat_minor": 5
}
