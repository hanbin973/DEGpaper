{
 "cells": [
  {
   "cell_type": "code",
   "execution_count": 1,
   "id": "07593be5-bdf6-41b4-8726-098273aeb9f1",
   "metadata": {
    "scrolled": true
   },
   "outputs": [
    {
     "name": "stderr",
     "output_type": "stream",
     "text": [
      "Loading required package: SummarizedExperiment\n",
      "\n",
      "Loading required package: MatrixGenerics\n",
      "\n",
      "Loading required package: matrixStats\n",
      "\n",
      "\n",
      "Attaching package: ‘MatrixGenerics’\n",
      "\n",
      "\n",
      "The following objects are masked from ‘package:matrixStats’:\n",
      "\n",
      "    colAlls, colAnyNAs, colAnys, colAvgsPerRowSet, colCollapse,\n",
      "    colCounts, colCummaxs, colCummins, colCumprods, colCumsums,\n",
      "    colDiffs, colIQRDiffs, colIQRs, colLogSumExps, colMadDiffs,\n",
      "    colMads, colMaxs, colMeans2, colMedians, colMins, colOrderStats,\n",
      "    colProds, colQuantiles, colRanges, colRanks, colSdDiffs, colSds,\n",
      "    colSums2, colTabulates, colVarDiffs, colVars, colWeightedMads,\n",
      "    colWeightedMeans, colWeightedMedians, colWeightedSds,\n",
      "    colWeightedVars, rowAlls, rowAnyNAs, rowAnys, rowAvgsPerColSet,\n",
      "    rowCollapse, rowCounts, rowCummaxs, rowCummins, rowCumprods,\n",
      "    rowCumsums, rowDiffs, rowIQRDiffs, rowIQRs, rowLogSumExps,\n",
      "    rowMadDiffs, rowMads, rowMaxs, rowMeans2, rowMedians, rowMins,\n",
      "    rowOrderStats, rowProds, rowQuantiles, rowRanges, rowRanks,\n",
      "    rowSdDiffs, rowSds, rowSums2, rowTabulates, rowVarDiffs, rowVars,\n",
      "    rowWeightedMads, rowWeightedMeans, rowWeightedMedians,\n",
      "    rowWeightedSds, rowWeightedVars\n",
      "\n",
      "\n",
      "Loading required package: GenomicRanges\n",
      "\n",
      "Loading required package: stats4\n",
      "\n",
      "Loading required package: BiocGenerics\n",
      "\n",
      "\n",
      "Attaching package: ‘BiocGenerics’\n",
      "\n",
      "\n",
      "The following objects are masked from ‘package:stats’:\n",
      "\n",
      "    IQR, mad, sd, var, xtabs\n",
      "\n",
      "\n",
      "The following objects are masked from ‘package:base’:\n",
      "\n",
      "    anyDuplicated, aperm, append, as.data.frame, basename, cbind,\n",
      "    colnames, dirname, do.call, duplicated, eval, evalq, Filter, Find,\n",
      "    get, grep, grepl, intersect, is.unsorted, lapply, Map, mapply,\n",
      "    match, mget, order, paste, pmax, pmax.int, pmin, pmin.int,\n",
      "    Position, rank, rbind, Reduce, rownames, sapply, setdiff, sort,\n",
      "    table, tapply, union, unique, unsplit, which.max, which.min\n",
      "\n",
      "\n",
      "Loading required package: S4Vectors\n",
      "\n",
      "\n",
      "Attaching package: ‘S4Vectors’\n",
      "\n",
      "\n",
      "The following objects are masked from ‘package:data.table’:\n",
      "\n",
      "    first, second\n",
      "\n",
      "\n",
      "The following objects are masked from ‘package:Matrix’:\n",
      "\n",
      "    expand, unname\n",
      "\n",
      "\n",
      "The following object is masked from ‘package:utils’:\n",
      "\n",
      "    findMatches\n",
      "\n",
      "\n",
      "The following objects are masked from ‘package:base’:\n",
      "\n",
      "    expand.grid, I, unname\n",
      "\n",
      "\n",
      "Loading required package: IRanges\n",
      "\n",
      "\n",
      "Attaching package: ‘IRanges’\n",
      "\n",
      "\n",
      "The following object is masked from ‘package:data.table’:\n",
      "\n",
      "    shift\n",
      "\n",
      "\n",
      "Loading required package: GenomeInfoDb\n",
      "\n",
      "Loading required package: Biobase\n",
      "\n",
      "Welcome to Bioconductor\n",
      "\n",
      "    Vignettes contain introductory material; view with\n",
      "    'browseVignettes()'. To cite Bioconductor, see\n",
      "    'citation(\"Biobase\")', and for packages 'citation(\"pkgname\")'.\n",
      "\n",
      "\n",
      "\n",
      "Attaching package: ‘Biobase’\n",
      "\n",
      "\n",
      "The following object is masked from ‘package:MatrixGenerics’:\n",
      "\n",
      "    rowMedians\n",
      "\n",
      "\n",
      "The following objects are masked from ‘package:matrixStats’:\n",
      "\n",
      "    anyMissing, rowMedians\n",
      "\n",
      "\n",
      "Loading required package: limma\n",
      "\n",
      "\n",
      "Attaching package: ‘limma’\n",
      "\n",
      "\n",
      "The following object is masked from ‘package:BiocGenerics’:\n",
      "\n",
      "    plotMA\n",
      "\n",
      "\n",
      "\n",
      "Attaching package: ‘edgeR’\n",
      "\n",
      "\n",
      "The following object is masked from ‘package:SingleCellExperiment’:\n",
      "\n",
      "    cpm\n",
      "\n",
      "\n",
      "Attaching SeuratObject\n",
      "\n",
      "\n",
      "Attaching package: ‘Seurat’\n",
      "\n",
      "\n",
      "The following object is masked from ‘package:SummarizedExperiment’:\n",
      "\n",
      "    Assays\n",
      "\n",
      "\n",
      "\n",
      "Attaching package: ‘dplyr’\n",
      "\n",
      "\n",
      "The following object is masked from ‘package:glmGamPoi’:\n",
      "\n",
      "    vars\n",
      "\n",
      "\n",
      "The following object is masked from ‘package:Biobase’:\n",
      "\n",
      "    combine\n",
      "\n",
      "\n",
      "The following objects are masked from ‘package:GenomicRanges’:\n",
      "\n",
      "    intersect, setdiff, union\n",
      "\n",
      "\n",
      "The following object is masked from ‘package:GenomeInfoDb’:\n",
      "\n",
      "    intersect\n",
      "\n",
      "\n",
      "The following objects are masked from ‘package:IRanges’:\n",
      "\n",
      "    collapse, desc, intersect, setdiff, slice, union\n",
      "\n",
      "\n",
      "The following objects are masked from ‘package:S4Vectors’:\n",
      "\n",
      "    first, intersect, rename, setdiff, setequal, union\n",
      "\n",
      "\n",
      "The following objects are masked from ‘package:BiocGenerics’:\n",
      "\n",
      "    combine, intersect, setdiff, union\n",
      "\n",
      "\n",
      "The following object is masked from ‘package:matrixStats’:\n",
      "\n",
      "    count\n",
      "\n",
      "\n",
      "The following objects are masked from ‘package:data.table’:\n",
      "\n",
      "    between, first, last\n",
      "\n",
      "\n",
      "The following objects are masked from ‘package:stats’:\n",
      "\n",
      "    filter, lag\n",
      "\n",
      "\n",
      "The following objects are masked from ‘package:base’:\n",
      "\n",
      "    intersect, setdiff, setequal, union\n",
      "\n",
      "\n",
      "\n",
      "Attaching package: ‘tidyr’\n",
      "\n",
      "\n",
      "The following object is masked from ‘package:S4Vectors’:\n",
      "\n",
      "    expand\n",
      "\n",
      "\n",
      "The following objects are masked from ‘package:Matrix’:\n",
      "\n",
      "    expand, pack, unpack\n",
      "\n",
      "\n"
     ]
    },
    {
     "name": "stdout",
     "output_type": "stream",
     "text": [
      "Remove  0  genes having low expression.\n",
      "Analyzing  10  genes with  30  subjects and  6176  cells.\n"
     ]
    },
    {
     "name": "stderr",
     "output_type": "stream",
     "text": [
      "Loading required package: foreach\n",
      "\n",
      "Loading required package: future\n",
      "\n",
      "Loading required package: rngtools\n",
      "\n"
     ]
    }
   ],
   "source": [
    "library(Matrix)\n",
    "library(data.table)\n",
    "\n",
    "library(SingleCellExperiment)\n",
    "library(glmGamPoi)\n",
    "library(edgeR)\n",
    "\n",
    "library(Seurat)\n",
    "library(nebula)\n",
    "\n",
    "library(fixest)\n",
    "\n",
    "library(dplyr)\n",
    "library(tidyr)\n",
    "\n",
    "library(limma)\n",
    "library(Rcpp)\n",
    "\n",
    "data(sample_data)\n",
    "df = model.matrix(~X1+X2+cc, data=sample_data$pred)\n",
    "re = nebula(sample_data$count,sample_data$sid,pred=df,ncore=1)\n",
    "\n",
    "offset.mult <- function(formula, count, df){\n",
    "    sce.obj <- SingleCellExperiment::SingleCellExperiment(\n",
    "        list(counts=count),\n",
    "        colData=df\n",
    "        )\n",
    "    sce.pb <- glmGamPoi::pseudobulk(\n",
    "        sce.obj,\n",
    "        group_by=vars(id, tx_cell),\n",
    "        n=n(),\n",
    "        verbose=FALSE\n",
    "        )\n",
    "\n",
    "    fit <- glmGamPoi::glm_gp(sce.pb, design=~1+tx_cell, size_factors=FALSE, offset=log(colData(sce.pb)$n))\n",
    "    test <- glmGamPoi::test_de(fit, reduced_design=~1)\n",
    "    \n",
    "    beta <- fit$Beta[,'tx_cell']\n",
    "    pval <- test$pval\n",
    "    tval <- qnorm(1-pval/2) * sign(beta)\n",
    "    se <- beta/tval\n",
    "    result <- cbind(beta, se, tval, pval)\n",
    "    colnames(result) <- c('Estimate', 'Std. Error', 't value', 'Pr(>|t|)')\n",
    "    return(result)\n",
    "    }"
   ]
  },
  {
   "cell_type": "code",
   "execution_count": 2,
   "id": "84d7fb5e-d42c-4268-95a7-6d0d54a05cc1",
   "metadata": {},
   "outputs": [],
   "source": [
    "selectCol <- function(mat, j.col){    \n",
    "    x.col.dense <- rep(0,nrow(mat))\n",
    "    p.begin <- mat@p[j.col]+1\n",
    "    p.end <- mat@p[j.col+1]\n",
    "    i.col <- mat@i[p.begin:p.end]+1 # i counts from 0\n",
    "    x.col <- mat@x[p.begin:p.end]\n",
    "    x.col.dense[i.col] <- x.col\n",
    "    return(x.col.dense)\n",
    "    }\n",
    "\n",
    "selectCols <- function(mat, j.cols){    \n",
    "    return(sapply(j.cols, selectCol, mat=mat))\n",
    "    }\n",
    "\n",
    "fixest.mult <- function(formula, count, df){\n",
    "    df.result <- data.frame(matrix(nrow=0, ncol=4))\n",
    "    colnames(df.result) <- c('Estimate', 'Std. Error', 't value', 'Pr(>|t|)')\n",
    "    for (j in 1:ncol(count)){\n",
    "        df$y <- count[,j]\n",
    "        fit <- fixest::fepois(formula, vcov='hetero', data=df, fixef.rm='none')\n",
    "        df.result[j,] <- coeftable(fit)['tx_cell',] # fixed effect o/x 에 따라 다르게 들어가야함\n",
    "        } \n",
    "    return(df.result)\n",
    "    }\n",
    "\n",
    "nebula.mult <- function(formula, count, df){\n",
    "    pred <- model.matrix(formula, data=df)\n",
    "    sid <- df$id\n",
    "    fit.nebula <- nebula::nebula(\n",
    "        count,\n",
    "        sid,\n",
    "        pred=pred,\n",
    "        cpc=0,\n",
    "        mincp=0\n",
    "        )\n",
    "    fit.result <- fit.nebula$summary\n",
    "    rownames(fit.result) <- fit.result$gene\n",
    "    return(\n",
    "            fit.result %>%\n",
    "            mutate(\n",
    "                Estimate=logFC_tx_cell,\n",
    "                'Std. Error'=se_tx_cell,\n",
    "                't value'=logFC_tx_cell/se_tx_cell,\n",
    "                'Pr(>|t|)'=p_tx_cell\n",
    "                ) %>%\n",
    "            select(Estimate, 'Std. Error', 't value', 'Pr(>|t|)')\n",
    "        )\n",
    "    }\n",
    "\n",
    "glmgp.mult <- function(formula, count, df){\n",
    "    sce.obj <- SingleCellExperiment::SingleCellExperiment(list(counts=count), colData=df)\n",
    "    sce.pb <- glmGamPoi::pseudobulk(\n",
    "        sce.obj,\n",
    "        group_by=vars(id, tx_cell),\n",
    "        verbose=FALSE\n",
    "        )\n",
    "\n",
    "    fit <- glmGamPoi::glm_gp(sce.pb, design=~1+tx_cell)\n",
    "    test <- glmGamPoi::test_de(fit, reduced_design=~1)\n",
    "    \n",
    "    beta <- fit$Beta[,'tx_cell']\n",
    "    pval <- test$pval\n",
    "    tval <- qnorm(1-pval/2) * sign(beta)\n",
    "    se <- beta/tval\n",
    "    result <- cbind(beta, se, tval, pval)\n",
    "    colnames(result) <- c('Estimate', 'Std. Error', 't value', 'Pr(>|t|)')\n",
    "    return(result)\n",
    "    }\n",
    "\n",
    "glmgp.cell.mult <- function(formula, count, df){\n",
    "    sce.obj <- SingleCellExperiment::SingleCellExperiment(list(counts=count), colData=df)\n",
    "    fit <- glmGamPoi::glm_gp(sce.obj, design=~1+tx_cell, on_disk=FALSE, size_factors=FALSE)\n",
    "    test <- glmGamPoi::test_de(fit, reduced_design=~1)\n",
    "    \n",
    "    beta <- fit$Beta[,'tx_cell']\n",
    "    pval <- test$pval\n",
    "    tval <- qnorm(1-pval/2) * sign(beta)\n",
    "    se <- beta/tval\n",
    "    result <- cbind(beta, se, tval, pval)\n",
    "    colnames(result) <- c('Estimate', 'Std. Error', 't value', 'Pr(>|t|)')\n",
    "    return(result)\n",
    "    }\n",
    "\n",
    "edger.mult <- function(formula, count, df){\n",
    "    sce.obj <- SingleCellExperiment::SingleCellExperiment(list(counts=count), colData=df)\n",
    "    sce.pb <- glmGamPoi::pseudobulk(\n",
    "        sce.obj,\n",
    "        group_by=vars(id, tx_cell),\n",
    "        verbose=FALSE\n",
    "        )\n",
    "\n",
    "    design <- model.matrix(~1+tx_cell, data=colData(sce.pb))\n",
    "    edger.obj <- edgeR::DGEList(counts(sce.pb))\n",
    "    edger.obj <- edgeR::estimateDisp(edger.obj, design)\n",
    "    fit <- edgeR::glmQLFit(y=edger.obj, design=design)\n",
    "    test <- edgeR::glmTreat(fit, coef=2)\n",
    "\n",
    "    beta <- test$coefficients[,'tx_cell']\n",
    "    pval <- test$table[,'PValue']\n",
    "    tval <- qnorm(1-pval/2) * sign(beta)\n",
    "    se <- beta/tval\n",
    "\n",
    "    result <- cbind(beta, se, tval, pval)\n",
    "    colnames(result) <- c('Estimate', 'Std. Error', 't value', 'Pr(>|t|)')\n",
    "    \n",
    "    return(result)\n",
    "    }\n",
    "\n",
    "limma.mult <- function(formula, count, df){\n",
    "    sce.obj <- SingleCellExperiment::SingleCellExperiment(list(counts=count), colData=df)\n",
    "    sce.pb <- glmGamPoi::pseudobulk(\n",
    "        sce.obj,\n",
    "        group_by=vars(id, tx_cell),\n",
    "        verbose=FALSE\n",
    "        )\n",
    "\n",
    "    design <- model.matrix(~1+tx_cell, data=colData(sce.pb))\n",
    "    edger.obj <- edgeR::DGEList(counts(sce.pb))\n",
    "    v <- limma::voom(edger.obj, design)\n",
    "    vfit <- limma::lmFit(v, design)\n",
    "    efit <- limma::eBayes(vfit)\n",
    "    \n",
    "    beta <- efit$coefficients[,'tx_cell'] * log(2)\n",
    "    pval <- efit$p.value[,'tx_cell']\n",
    "    tval <- qnorm(1-pval/2) * sign(beta)\n",
    "    se <- beta/tval\n",
    "\n",
    "    result <- cbind(beta, se, tval, pval)\n",
    "    colnames(result) <- c('Estimate', 'Std. Error', 't value', 'Pr(>|t|)')\n",
    "    \n",
    "    return(result)\n",
    "    }\n",
    "\n",
    "src <-\n",
    "\"\n",
    "#include <Rcpp.h>\n",
    "\n",
    "// [[Rcpp::export]]\n",
    "void vec_down_sample(\n",
    "    Rcpp::NumericVector data,\n",
    "    const Rcpp::LogicalVector which,\n",
    "    int begin,\n",
    "    int end,\n",
    "    double prob\n",
    "    ){\n",
    "    for(int i=begin; i<end; i++){\n",
    "        if(which[i]){\n",
    "            data[i] = R::rbinom(data[i], prob);\n",
    "            }\n",
    "        }\n",
    "    }\n",
    "\"\n",
    "sourceCpp(code = src)\n",
    "\n",
    "downCells <- function(spmat, i.rows, j.cols, p){\n",
    "    data <- spmat@x\n",
    "    i.bool <- spmat@i %in% (i.rows-1) # spmat@i begins from 0, i.rows begins from 1\n",
    "    for (j.col in j.cols){\n",
    "        begin <- spmat@p[j.col]\n",
    "        end <- spmat@p[j.col+1]\n",
    "        vec_down_sample(data, i.bool, begin, end, p)\n",
    "        }\n",
    "    }    \n",
    "\n",
    "list.func <- list(\n",
    "    glmgp.mult,\n",
    "    edger.mult,\n",
    "    limma.mult,\n",
    "    glmgp.cell.mult,\n",
    "    fixest.mult,\n",
    "    nebula.mult\n",
    "    )"
   ]
  },
  {
   "cell_type": "code",
   "execution_count": 3,
   "id": "5dd748dd-9a99-4c60-9f12-8ab7f43a745e",
   "metadata": {},
   "outputs": [],
   "source": [
    "seurat.obj <- readRDS('datasets/reichart.seurat.rds')"
   ]
  },
  {
   "cell_type": "code",
   "execution_count": 4,
   "id": "11c5ab96-1d1e-4f41-8324-2a9f1c76f321",
   "metadata": {},
   "outputs": [
    {
     "data": {
      "text/html": [
       "<table class=\"dataframe\">\n",
       "<caption>A data.frame: 6 × 3</caption>\n",
       "<thead>\n",
       "\t<tr><th></th><th scope=col>donor_id</th><th scope=col>cell_type</th><th scope=col>cell_id</th></tr>\n",
       "\t<tr><th></th><th scope=col>&lt;fct&gt;</th><th scope=col>&lt;fct&gt;</th><th scope=col>&lt;chr&gt;</th></tr>\n",
       "</thead>\n",
       "<tbody>\n",
       "\t<tr><th scope=row>0</th><td>DP2</td><td>mural cell                  </td><td>0</td></tr>\n",
       "\t<tr><th scope=row>1</th><td>DP2</td><td>endothelial cell            </td><td>1</td></tr>\n",
       "\t<tr><th scope=row>2</th><td>DP2</td><td>mural cell                  </td><td>2</td></tr>\n",
       "\t<tr><th scope=row>3</th><td>DP2</td><td>endothelial cell            </td><td>3</td></tr>\n",
       "\t<tr><th scope=row>4</th><td>DP2</td><td>fibroblast of cardiac tissue</td><td>4</td></tr>\n",
       "\t<tr><th scope=row>5</th><td>DP2</td><td>cardiac muscle cell         </td><td>5</td></tr>\n",
       "</tbody>\n",
       "</table>\n"
      ],
      "text/latex": [
       "A data.frame: 6 × 3\n",
       "\\begin{tabular}{r|lll}\n",
       "  & donor\\_id & cell\\_type & cell\\_id\\\\\n",
       "  & <fct> & <fct> & <chr>\\\\\n",
       "\\hline\n",
       "\t0 & DP2 & mural cell                   & 0\\\\\n",
       "\t1 & DP2 & endothelial cell             & 1\\\\\n",
       "\t2 & DP2 & mural cell                   & 2\\\\\n",
       "\t3 & DP2 & endothelial cell             & 3\\\\\n",
       "\t4 & DP2 & fibroblast of cardiac tissue & 4\\\\\n",
       "\t5 & DP2 & cardiac muscle cell          & 5\\\\\n",
       "\\end{tabular}\n"
      ],
      "text/markdown": [
       "\n",
       "A data.frame: 6 × 3\n",
       "\n",
       "| <!--/--> | donor_id &lt;fct&gt; | cell_type &lt;fct&gt; | cell_id &lt;chr&gt; |\n",
       "|---|---|---|---|\n",
       "| 0 | DP2 | mural cell                   | 0 |\n",
       "| 1 | DP2 | endothelial cell             | 1 |\n",
       "| 2 | DP2 | mural cell                   | 2 |\n",
       "| 3 | DP2 | endothelial cell             | 3 |\n",
       "| 4 | DP2 | fibroblast of cardiac tissue | 4 |\n",
       "| 5 | DP2 | cardiac muscle cell          | 5 |\n",
       "\n"
      ],
      "text/plain": [
       "  donor_id cell_type                    cell_id\n",
       "0 DP2      mural cell                   0      \n",
       "1 DP2      endothelial cell             1      \n",
       "2 DP2      mural cell                   2      \n",
       "3 DP2      endothelial cell             3      \n",
       "4 DP2      fibroblast of cardiac tissue 4      \n",
       "5 DP2      cardiac muscle cell          5      "
      ]
     },
     "metadata": {},
     "output_type": "display_data"
    }
   ],
   "source": [
    "# https://satijalab.org/seurat/articles/essential_commands.html\n",
    "# prepare data\n",
    "cols <- c('donor_id', 'cell_type') \n",
    "col.data <- seurat.obj[[cols]]\n",
    "col.data$cell_id <- rownames(col.data)\n",
    "cnt <- GetAssayData(object = seurat.obj, slot = \"counts\")\n",
    "head(col.data)"
   ]
  },
  {
   "cell_type": "code",
   "execution_count": 5,
   "id": "665e9ca9-ce91-41ff-9187-e1fccb437dbc",
   "metadata": {},
   "outputs": [
    {
     "name": "stderr",
     "output_type": "stream",
     "text": [
      "\u001b[1m\u001b[22mSelecting by n\n",
      "\u001b[1m\u001b[22m`summarise()` has grouped output by 'donor_id'. You can override using the `.groups` argument.\n",
      "Warning message:\n",
      "“\u001b[1m\u001b[22mUsing an external vector in selections was deprecated in tidyselect 1.1.0.\n",
      "\u001b[36mℹ\u001b[39m Please use `all_of()` or `any_of()` instead.\n",
      "  # Was:\n",
      "  data %>% select(ct.used)\n",
      "\n",
      "  # Now:\n",
      "  data %>% select(all_of(ct.used))\n",
      "\n",
      "See <https://tidyselect.r-lib.org/reference/faq-external-vector.html>.”\n",
      "\u001b[1m\u001b[22mAdding missing grouping variables: `donor_id`\n",
      "\u001b[1m\u001b[22mSelecting by n\n"
     ]
    },
    {
     "data": {
      "text/html": [
       "<table class=\"dataframe\">\n",
       "<caption>A tibble: 6 × 2</caption>\n",
       "<thead>\n",
       "\t<tr><th scope=col>cell_type</th><th scope=col>n</th></tr>\n",
       "\t<tr><th scope=col>&lt;fct&gt;</th><th scope=col>&lt;int&gt;</th></tr>\n",
       "</thead>\n",
       "<tbody>\n",
       "\t<tr><td>cardiac muscle cell         </td><td>311418</td></tr>\n",
       "\t<tr><td>mural cell                  </td><td>170281</td></tr>\n",
       "\t<tr><td>fibroblast of cardiac tissue</td><td>142816</td></tr>\n",
       "\t<tr><td>endothelial cell            </td><td>115548</td></tr>\n",
       "\t<tr><td>myeloid cell                </td><td> 57036</td></tr>\n",
       "\t<tr><td>native cell                 </td><td> 52981</td></tr>\n",
       "</tbody>\n",
       "</table>\n"
      ],
      "text/latex": [
       "A tibble: 6 × 2\n",
       "\\begin{tabular}{ll}\n",
       " cell\\_type & n\\\\\n",
       " <fct> & <int>\\\\\n",
       "\\hline\n",
       "\t cardiac muscle cell          & 311418\\\\\n",
       "\t mural cell                   & 170281\\\\\n",
       "\t fibroblast of cardiac tissue & 142816\\\\\n",
       "\t endothelial cell             & 115548\\\\\n",
       "\t myeloid cell                 &  57036\\\\\n",
       "\t native cell                  &  52981\\\\\n",
       "\\end{tabular}\n"
      ],
      "text/markdown": [
       "\n",
       "A tibble: 6 × 2\n",
       "\n",
       "| cell_type &lt;fct&gt; | n &lt;int&gt; |\n",
       "|---|---|\n",
       "| cardiac muscle cell          | 311418 |\n",
       "| mural cell                   | 170281 |\n",
       "| fibroblast of cardiac tissue | 142816 |\n",
       "| endothelial cell             | 115548 |\n",
       "| myeloid cell                 |  57036 |\n",
       "| native cell                  |  52981 |\n",
       "\n"
      ],
      "text/plain": [
       "  cell_type                    n     \n",
       "1 cardiac muscle cell          311418\n",
       "2 mural cell                   170281\n",
       "3 fibroblast of cardiac tissue 142816\n",
       "4 endothelial cell             115548\n",
       "5 myeloid cell                  57036\n",
       "6 native cell                   52981"
      ]
     },
     "metadata": {},
     "output_type": "display_data"
    }
   ],
   "source": [
    "# sort cell type by numbers, select top 6\n",
    "ct.used <- col.data %>% \n",
    "    group_by(cell_type) %>%\n",
    "    summarise(n=n()) %>%\n",
    "    arrange(desc(n)) %>%\n",
    "    top_n(6) %>%\n",
    "    pull(cell_type)\n",
    "\n",
    "# select donors with more than 100 cells per selected cell types\n",
    "donor.used <- col.data %>%\n",
    "    group_by(donor_id, cell_type, .drop=FALSE) %>%\n",
    "    summarise(n=n()) %>%\n",
    "    pivot_wider(names_from=cell_type, values_from=n) %>%\n",
    "    select(ct.used) %>%\n",
    "    filter(if_all(ct.used,~.>50)) %>% # ~>.10 is purrr style lambda function\n",
    "    pull(donor_id) \n",
    "col.data %>% \n",
    "    group_by(cell_type) %>%\n",
    "    summarise(n=n()) %>%\n",
    "    arrange(desc(n)) %>%\n",
    "    top_n(6)"
   ]
  },
  {
   "cell_type": "code",
   "execution_count": 7,
   "id": "b51e57b9-5eec-4a98-9209-ef332e6afeca",
   "metadata": {},
   "outputs": [],
   "source": [
    "cell.used <- col.data$donor_id %in% donor.used\n",
    "cnt.used <- cnt[rowMeans(cnt) > 0.01, cell.used]\n",
    "col.data.used <- col.data[cell.used,]"
   ]
  },
  {
   "cell_type": "code",
   "execution_count": 8,
   "id": "3e47db82-d2f0-47ea-afb6-d0ee1b27efee",
   "metadata": {
    "scrolled": true
   },
   "outputs": [
    {
     "name": "stderr",
     "output_type": "stream",
     "text": [
      "\u001b[1m\u001b[22m`summarise()` has grouped output by 'id'. You can override using the `.groups` argument.\n",
      "start regression\n",
      "\n"
     ]
    },
    {
     "name": "stdout",
     "output_type": "stream",
     "text": [
      "Remove  0  genes having low expression.\n",
      "Analyzing  100  genes with  10  subjects and  19311  cells.\n"
     ]
    },
    {
     "name": "stderr",
     "output_type": "stream",
     "text": [
      "\u001b[1m\u001b[22m`summarise()` has grouped output by 'id'. You can override using the `.groups` argument.\n",
      "start regression\n",
      "\n"
     ]
    },
    {
     "name": "stdout",
     "output_type": "stream",
     "text": [
      "Remove  0  genes having low expression.\n",
      "Analyzing  100  genes with  10  subjects and  20363  cells.\n"
     ]
    },
    {
     "name": "stderr",
     "output_type": "stream",
     "text": [
      "\u001b[1m\u001b[22m`summarise()` has grouped output by 'id'. You can override using the `.groups` argument.\n",
      "start regression\n",
      "\n"
     ]
    },
    {
     "name": "stdout",
     "output_type": "stream",
     "text": [
      "Remove  0  genes having low expression.\n",
      "Analyzing  100  genes with  10  subjects and  20168  cells.\n"
     ]
    },
    {
     "name": "stderr",
     "output_type": "stream",
     "text": [
      "\u001b[1m\u001b[22m`summarise()` has grouped output by 'id'. You can override using the `.groups` argument.\n",
      "start regression\n",
      "\n"
     ]
    },
    {
     "name": "stdout",
     "output_type": "stream",
     "text": [
      "Remove  0  genes having low expression.\n",
      "Analyzing  100  genes with  10  subjects and  15732  cells.\n"
     ]
    },
    {
     "name": "stderr",
     "output_type": "stream",
     "text": [
      "\u001b[1m\u001b[22m`summarise()` has grouped output by 'id'. You can override using the `.groups` argument.\n",
      "start regression\n",
      "\n"
     ]
    },
    {
     "name": "stdout",
     "output_type": "stream",
     "text": [
      "Remove  0  genes having low expression.\n",
      "Analyzing  100  genes with  10  subjects and  23139  cells.\n"
     ]
    },
    {
     "name": "stderr",
     "output_type": "stream",
     "text": [
      "\u001b[1m\u001b[22m`summarise()` has grouped output by 'id'. You can override using the `.groups` argument.\n",
      "start regression\n",
      "\n"
     ]
    },
    {
     "name": "stdout",
     "output_type": "stream",
     "text": [
      "Remove  0  genes having low expression.\n",
      "Analyzing  100  genes with  10  subjects and  35666  cells.\n"
     ]
    },
    {
     "name": "stderr",
     "output_type": "stream",
     "text": [
      "\u001b[1m\u001b[22m`summarise()` has grouped output by 'id'. You can override using the `.groups` argument.\n",
      "start regression\n",
      "\n"
     ]
    },
    {
     "name": "stdout",
     "output_type": "stream",
     "text": [
      "Remove  0  genes having low expression.\n",
      "Analyzing  100  genes with  10  subjects and  15126  cells.\n"
     ]
    },
    {
     "name": "stderr",
     "output_type": "stream",
     "text": [
      "\u001b[1m\u001b[22m`summarise()` has grouped output by 'id'. You can override using the `.groups` argument.\n",
      "start regression\n",
      "\n"
     ]
    },
    {
     "name": "stdout",
     "output_type": "stream",
     "text": [
      "Remove  0  genes having low expression.\n",
      "Analyzing  100  genes with  10  subjects and  16182  cells.\n"
     ]
    },
    {
     "name": "stderr",
     "output_type": "stream",
     "text": [
      "\u001b[1m\u001b[22m`summarise()` has grouped output by 'id'. You can override using the `.groups` argument.\n",
      "start regression\n",
      "\n"
     ]
    },
    {
     "name": "stdout",
     "output_type": "stream",
     "text": [
      "Remove  0  genes having low expression.\n",
      "Analyzing  100  genes with  10  subjects and  14445  cells.\n"
     ]
    },
    {
     "name": "stderr",
     "output_type": "stream",
     "text": [
      "\u001b[1m\u001b[22m`summarise()` has grouped output by 'id'. You can override using the `.groups` argument.\n",
      "start regression\n",
      "\n"
     ]
    },
    {
     "name": "stdout",
     "output_type": "stream",
     "text": [
      "Remove  0  genes having low expression.\n",
      "Analyzing  100  genes with  10  subjects and  18645  cells.\n"
     ]
    },
    {
     "name": "stderr",
     "output_type": "stream",
     "text": [
      "\u001b[1m\u001b[22m`summarise()` has grouped output by 'id'. You can override using the `.groups` argument.\n",
      "start regression\n",
      "\n"
     ]
    },
    {
     "name": "stdout",
     "output_type": "stream",
     "text": [
      "Remove  0  genes having low expression.\n",
      "Analyzing  100  genes with  10  subjects and  13063  cells.\n"
     ]
    },
    {
     "name": "stderr",
     "output_type": "stream",
     "text": [
      "\u001b[1m\u001b[22m`summarise()` has grouped output by 'id'. You can override using the `.groups` argument.\n",
      "start regression\n",
      "\n"
     ]
    },
    {
     "name": "stdout",
     "output_type": "stream",
     "text": [
      "Remove  0  genes having low expression.\n",
      "Analyzing  100  genes with  10  subjects and  9072  cells.\n"
     ]
    },
    {
     "name": "stderr",
     "output_type": "stream",
     "text": [
      "\u001b[1m\u001b[22m`summarise()` has grouped output by 'id'. You can override using the `.groups` argument.\n",
      "start regression\n",
      "\n"
     ]
    },
    {
     "name": "stdout",
     "output_type": "stream",
     "text": [
      "Remove  0  genes having low expression.\n",
      "Analyzing  100  genes with  10  subjects and  14592  cells.\n"
     ]
    },
    {
     "name": "stderr",
     "output_type": "stream",
     "text": [
      "\u001b[1m\u001b[22m`summarise()` has grouped output by 'id'. You can override using the `.groups` argument.\n",
      "start regression\n",
      "\n"
     ]
    },
    {
     "name": "stdout",
     "output_type": "stream",
     "text": [
      "Remove  0  genes having low expression.\n",
      "Analyzing  100  genes with  10  subjects and  14350  cells.\n"
     ]
    },
    {
     "name": "stderr",
     "output_type": "stream",
     "text": [
      "\u001b[1m\u001b[22m`summarise()` has grouped output by 'id'. You can override using the `.groups` argument.\n",
      "start regression\n",
      "\n"
     ]
    },
    {
     "name": "stdout",
     "output_type": "stream",
     "text": [
      "Remove  0  genes having low expression.\n",
      "Analyzing  100  genes with  10  subjects and  11792  cells.\n"
     ]
    },
    {
     "name": "stderr",
     "output_type": "stream",
     "text": [
      "\u001b[1m\u001b[22m`summarise()` has grouped output by 'id'. You can override using the `.groups` argument.\n",
      "start regression\n",
      "\n"
     ]
    },
    {
     "name": "stdout",
     "output_type": "stream",
     "text": [
      "Remove  0  genes having low expression.\n",
      "Analyzing  100  genes with  10  subjects and  9414  cells.\n"
     ]
    },
    {
     "name": "stderr",
     "output_type": "stream",
     "text": [
      "\u001b[1m\u001b[22m`summarise()` has grouped output by 'id'. You can override using the `.groups` argument.\n",
      "start regression\n",
      "\n"
     ]
    },
    {
     "name": "stdout",
     "output_type": "stream",
     "text": [
      "Remove  0  genes having low expression.\n",
      "Analyzing  100  genes with  10  subjects and  11596  cells.\n"
     ]
    },
    {
     "name": "stderr",
     "output_type": "stream",
     "text": [
      "\u001b[1m\u001b[22m`summarise()` has grouped output by 'id'. You can override using the `.groups` argument.\n",
      "start regression\n",
      "\n"
     ]
    },
    {
     "name": "stdout",
     "output_type": "stream",
     "text": [
      "Remove  0  genes having low expression.\n",
      "Analyzing  100  genes with  10  subjects and  11810  cells.\n"
     ]
    },
    {
     "name": "stderr",
     "output_type": "stream",
     "text": [
      "\u001b[1m\u001b[22m`summarise()` has grouped output by 'id'. You can override using the `.groups` argument.\n",
      "start regression\n",
      "\n"
     ]
    },
    {
     "name": "stdout",
     "output_type": "stream",
     "text": [
      "Remove  0  genes having low expression.\n",
      "Analyzing  100  genes with  10  subjects and  12253  cells.\n"
     ]
    },
    {
     "name": "stderr",
     "output_type": "stream",
     "text": [
      "\u001b[1m\u001b[22m`summarise()` has grouped output by 'id'. You can override using the `.groups` argument.\n",
      "start regression\n",
      "\n"
     ]
    },
    {
     "name": "stdout",
     "output_type": "stream",
     "text": [
      "Remove  0  genes having low expression.\n",
      "Analyzing  100  genes with  10  subjects and  9405  cells.\n"
     ]
    },
    {
     "name": "stderr",
     "output_type": "stream",
     "text": [
      "\u001b[1m\u001b[22m`summarise()` has grouped output by 'id'. You can override using the `.groups` argument.\n",
      "start regression\n",
      "\n"
     ]
    },
    {
     "name": "stdout",
     "output_type": "stream",
     "text": [
      "Remove  0  genes having low expression.\n",
      "Analyzing  100  genes with  10  subjects and  7891  cells.\n"
     ]
    },
    {
     "name": "stderr",
     "output_type": "stream",
     "text": [
      "\u001b[1m\u001b[22m`summarise()` has grouped output by 'id'. You can override using the `.groups` argument.\n",
      "start regression\n",
      "\n"
     ]
    },
    {
     "name": "stdout",
     "output_type": "stream",
     "text": [
      "Remove  0  genes having low expression.\n",
      "Analyzing  100  genes with  10  subjects and  11405  cells.\n"
     ]
    },
    {
     "name": "stderr",
     "output_type": "stream",
     "text": [
      "\u001b[1m\u001b[22m`summarise()` has grouped output by 'id'. You can override using the `.groups` argument.\n",
      "start regression\n",
      "\n"
     ]
    },
    {
     "name": "stdout",
     "output_type": "stream",
     "text": [
      "Remove  0  genes having low expression.\n",
      "Analyzing  100  genes with  10  subjects and  9344  cells.\n"
     ]
    },
    {
     "name": "stderr",
     "output_type": "stream",
     "text": [
      "\u001b[1m\u001b[22m`summarise()` has grouped output by 'id'. You can override using the `.groups` argument.\n",
      "start regression\n",
      "\n"
     ]
    },
    {
     "name": "stdout",
     "output_type": "stream",
     "text": [
      "Remove  0  genes having low expression.\n",
      "Analyzing  100  genes with  10  subjects and  7652  cells.\n"
     ]
    },
    {
     "name": "stderr",
     "output_type": "stream",
     "text": [
      "\u001b[1m\u001b[22m`summarise()` has grouped output by 'id'. You can override using the `.groups` argument.\n",
      "start regression\n",
      "\n"
     ]
    },
    {
     "name": "stdout",
     "output_type": "stream",
     "text": [
      "Remove  0  genes having low expression.\n",
      "Analyzing  100  genes with  10  subjects and  11960  cells.\n"
     ]
    },
    {
     "name": "stderr",
     "output_type": "stream",
     "text": [
      "\u001b[1m\u001b[22m`summarise()` has grouped output by 'id'. You can override using the `.groups` argument.\n",
      "start regression\n",
      "\n"
     ]
    },
    {
     "name": "stdout",
     "output_type": "stream",
     "text": [
      "Remove  0  genes having low expression.\n",
      "Analyzing  100  genes with  10  subjects and  10120  cells.\n"
     ]
    },
    {
     "name": "stderr",
     "output_type": "stream",
     "text": [
      "\u001b[1m\u001b[22m`summarise()` has grouped output by 'id'. You can override using the `.groups` argument.\n",
      "start regression\n",
      "\n"
     ]
    },
    {
     "name": "stdout",
     "output_type": "stream",
     "text": [
      "Remove  0  genes having low expression.\n",
      "Analyzing  100  genes with  10  subjects and  9406  cells.\n"
     ]
    },
    {
     "name": "stderr",
     "output_type": "stream",
     "text": [
      "\u001b[1m\u001b[22m`summarise()` has grouped output by 'id'. You can override using the `.groups` argument.\n",
      "start regression\n",
      "\n"
     ]
    },
    {
     "name": "stdout",
     "output_type": "stream",
     "text": [
      "Remove  0  genes having low expression.\n",
      "Analyzing  100  genes with  10  subjects and  9429  cells.\n"
     ]
    },
    {
     "name": "stderr",
     "output_type": "stream",
     "text": [
      "\u001b[1m\u001b[22m`summarise()` has grouped output by 'id'. You can override using the `.groups` argument.\n",
      "start regression\n",
      "\n"
     ]
    },
    {
     "name": "stdout",
     "output_type": "stream",
     "text": [
      "Remove  0  genes having low expression.\n",
      "Analyzing  100  genes with  10  subjects and  9619  cells.\n"
     ]
    },
    {
     "name": "stderr",
     "output_type": "stream",
     "text": [
      "\u001b[1m\u001b[22m`summarise()` has grouped output by 'id'. You can override using the `.groups` argument.\n",
      "start regression\n",
      "\n"
     ]
    },
    {
     "name": "stdout",
     "output_type": "stream",
     "text": [
      "Remove  0  genes having low expression.\n",
      "Analyzing  100  genes with  10  subjects and  9829  cells.\n"
     ]
    },
    {
     "name": "stderr",
     "output_type": "stream",
     "text": [
      "\u001b[1m\u001b[22m`summarise()` has grouped output by 'id'. You can override using the `.groups` argument.\n",
      "start regression\n",
      "\n"
     ]
    },
    {
     "name": "stdout",
     "output_type": "stream",
     "text": [
      "Remove  0  genes having low expression.\n",
      "Analyzing  100  genes with  10  subjects and  6734  cells.\n"
     ]
    },
    {
     "name": "stderr",
     "output_type": "stream",
     "text": [
      "\u001b[1m\u001b[22m`summarise()` has grouped output by 'id'. You can override using the `.groups` argument.\n",
      "start regression\n",
      "\n"
     ]
    },
    {
     "name": "stdout",
     "output_type": "stream",
     "text": [
      "Remove  0  genes having low expression.\n",
      "Analyzing  100  genes with  10  subjects and  6690  cells.\n"
     ]
    },
    {
     "name": "stderr",
     "output_type": "stream",
     "text": [
      "\u001b[1m\u001b[22m`summarise()` has grouped output by 'id'. You can override using the `.groups` argument.\n",
      "start regression\n",
      "\n"
     ]
    },
    {
     "name": "stdout",
     "output_type": "stream",
     "text": [
      "Remove  0  genes having low expression.\n",
      "Analyzing  100  genes with  10  subjects and  7612  cells.\n"
     ]
    },
    {
     "name": "stderr",
     "output_type": "stream",
     "text": [
      "\u001b[1m\u001b[22m`summarise()` has grouped output by 'id'. You can override using the `.groups` argument.\n",
      "start regression\n",
      "\n"
     ]
    },
    {
     "name": "stdout",
     "output_type": "stream",
     "text": [
      "Remove  0  genes having low expression.\n",
      "Analyzing  100  genes with  10  subjects and  5850  cells.\n"
     ]
    },
    {
     "name": "stderr",
     "output_type": "stream",
     "text": [
      "\u001b[1m\u001b[22m`summarise()` has grouped output by 'id'. You can override using the `.groups` argument.\n",
      "start regression\n",
      "\n"
     ]
    },
    {
     "name": "stdout",
     "output_type": "stream",
     "text": [
      "Remove  0  genes having low expression.\n",
      "Analyzing  100  genes with  10  subjects and  6551  cells.\n"
     ]
    },
    {
     "name": "stderr",
     "output_type": "stream",
     "text": [
      "\u001b[1m\u001b[22m`summarise()` has grouped output by 'id'. You can override using the `.groups` argument.\n",
      "start regression\n",
      "\n"
     ]
    },
    {
     "name": "stdout",
     "output_type": "stream",
     "text": [
      "Remove  0  genes having low expression.\n",
      "Analyzing  100  genes with  10  subjects and  6261  cells.\n"
     ]
    },
    {
     "name": "stderr",
     "output_type": "stream",
     "text": [
      "\u001b[1m\u001b[22m`summarise()` has grouped output by 'id'. You can override using the `.groups` argument.\n",
      "start regression\n",
      "\n"
     ]
    },
    {
     "name": "stdout",
     "output_type": "stream",
     "text": [
      "Remove  0  genes having low expression.\n",
      "Analyzing  100  genes with  10  subjects and  6052  cells.\n"
     ]
    },
    {
     "name": "stderr",
     "output_type": "stream",
     "text": [
      "\u001b[1m\u001b[22m`summarise()` has grouped output by 'id'. You can override using the `.groups` argument.\n",
      "start regression\n",
      "\n"
     ]
    },
    {
     "name": "stdout",
     "output_type": "stream",
     "text": [
      "Remove  0  genes having low expression.\n",
      "Analyzing  100  genes with  10  subjects and  8692  cells.\n"
     ]
    },
    {
     "name": "stderr",
     "output_type": "stream",
     "text": [
      "\u001b[1m\u001b[22m`summarise()` has grouped output by 'id'. You can override using the `.groups` argument.\n",
      "start regression\n",
      "\n"
     ]
    },
    {
     "name": "stdout",
     "output_type": "stream",
     "text": [
      "Remove  0  genes having low expression.\n",
      "Analyzing  100  genes with  10  subjects and  8614  cells.\n"
     ]
    },
    {
     "name": "stderr",
     "output_type": "stream",
     "text": [
      "\u001b[1m\u001b[22m`summarise()` has grouped output by 'id'. You can override using the `.groups` argument.\n",
      "start regression\n",
      "\n"
     ]
    },
    {
     "name": "stdout",
     "output_type": "stream",
     "text": [
      "Remove  0  genes having low expression.\n",
      "Analyzing  100  genes with  10  subjects and  7360  cells.\n"
     ]
    },
    {
     "name": "stderr",
     "output_type": "stream",
     "text": [
      "\u001b[1m\u001b[22m`summarise()` has grouped output by 'id'. You can override using the `.groups` argument.\n",
      "start regression\n",
      "\n"
     ]
    },
    {
     "name": "stdout",
     "output_type": "stream",
     "text": [
      "Remove  0  genes having low expression.\n",
      "Analyzing  100  genes with  10  subjects and  3732  cells.\n"
     ]
    },
    {
     "name": "stderr",
     "output_type": "stream",
     "text": [
      "\u001b[1m\u001b[22m`summarise()` has grouped output by 'id'. You can override using the `.groups` argument.\n",
      "start regression\n",
      "\n"
     ]
    },
    {
     "name": "stdout",
     "output_type": "stream",
     "text": [
      "Remove  0  genes having low expression.\n",
      "Analyzing  100  genes with  10  subjects and  3666  cells.\n"
     ]
    },
    {
     "name": "stderr",
     "output_type": "stream",
     "text": [
      "\u001b[1m\u001b[22m`summarise()` has grouped output by 'id'. You can override using the `.groups` argument.\n",
      "start regression\n",
      "\n"
     ]
    },
    {
     "name": "stdout",
     "output_type": "stream",
     "text": [
      "Remove  0  genes having low expression.\n",
      "Analyzing  100  genes with  10  subjects and  4805  cells.\n"
     ]
    },
    {
     "name": "stderr",
     "output_type": "stream",
     "text": [
      "\u001b[1m\u001b[22m`summarise()` has grouped output by 'id'. You can override using the `.groups` argument.\n",
      "start regression\n",
      "\n"
     ]
    },
    {
     "name": "stdout",
     "output_type": "stream",
     "text": [
      "Remove  0  genes having low expression.\n",
      "Analyzing  100  genes with  10  subjects and  4000  cells.\n"
     ]
    },
    {
     "name": "stderr",
     "output_type": "stream",
     "text": [
      "\u001b[1m\u001b[22m`summarise()` has grouped output by 'id'. You can override using the `.groups` argument.\n",
      "start regression\n",
      "\n"
     ]
    },
    {
     "name": "stdout",
     "output_type": "stream",
     "text": [
      "Remove  0  genes having low expression.\n",
      "Analyzing  100  genes with  10  subjects and  3447  cells.\n"
     ]
    },
    {
     "name": "stderr",
     "output_type": "stream",
     "text": [
      "\u001b[1m\u001b[22m`summarise()` has grouped output by 'id'. You can override using the `.groups` argument.\n",
      "start regression\n",
      "\n"
     ]
    },
    {
     "name": "stdout",
     "output_type": "stream",
     "text": [
      "Remove  0  genes having low expression.\n",
      "Analyzing  100  genes with  10  subjects and  4247  cells.\n"
     ]
    },
    {
     "name": "stderr",
     "output_type": "stream",
     "text": [
      "\u001b[1m\u001b[22m`summarise()` has grouped output by 'id'. You can override using the `.groups` argument.\n",
      "start regression\n",
      "\n"
     ]
    },
    {
     "name": "stdout",
     "output_type": "stream",
     "text": [
      "Remove  0  genes having low expression.\n",
      "Analyzing  100  genes with  10  subjects and  3966  cells.\n"
     ]
    },
    {
     "name": "stderr",
     "output_type": "stream",
     "text": [
      "\u001b[1m\u001b[22m`summarise()` has grouped output by 'id'. You can override using the `.groups` argument.\n",
      "start regression\n",
      "\n"
     ]
    },
    {
     "name": "stdout",
     "output_type": "stream",
     "text": [
      "Remove  0  genes having low expression.\n",
      "Analyzing  100  genes with  10  subjects and  4250  cells.\n"
     ]
    },
    {
     "name": "stderr",
     "output_type": "stream",
     "text": [
      "\u001b[1m\u001b[22m`summarise()` has grouped output by 'id'. You can override using the `.groups` argument.\n",
      "start regression\n",
      "\n"
     ]
    },
    {
     "name": "stdout",
     "output_type": "stream",
     "text": [
      "Remove  0  genes having low expression.\n",
      "Analyzing  100  genes with  10  subjects and  3276  cells.\n"
     ]
    },
    {
     "name": "stderr",
     "output_type": "stream",
     "text": [
      "\u001b[1m\u001b[22m`summarise()` has grouped output by 'id'. You can override using the `.groups` argument.\n",
      "start regression\n",
      "\n"
     ]
    },
    {
     "name": "stdout",
     "output_type": "stream",
     "text": [
      "Remove  0  genes having low expression.\n",
      "Analyzing  100  genes with  10  subjects and  4230  cells.\n"
     ]
    },
    {
     "name": "stderr",
     "output_type": "stream",
     "text": [
      "\u001b[1m\u001b[22m`summarise()` has grouped output by 'id'. You can override using the `.groups` argument.\n",
      "start regression\n",
      "\n"
     ]
    },
    {
     "name": "stdout",
     "output_type": "stream",
     "text": [
      "Remove  0  genes having low expression.\n",
      "Analyzing  100  genes with  10  subjects and  4412  cells.\n"
     ]
    },
    {
     "name": "stderr",
     "output_type": "stream",
     "text": [
      "\u001b[1m\u001b[22m`summarise()` has grouped output by 'id'. You can override using the `.groups` argument.\n",
      "start regression\n",
      "\n"
     ]
    },
    {
     "name": "stdout",
     "output_type": "stream",
     "text": [
      "Remove  0  genes having low expression.\n",
      "Analyzing  100  genes with  10  subjects and  2161  cells.\n"
     ]
    },
    {
     "name": "stderr",
     "output_type": "stream",
     "text": [
      "\u001b[1m\u001b[22m`summarise()` has grouped output by 'id'. You can override using the `.groups` argument.\n",
      "start regression\n",
      "\n"
     ]
    },
    {
     "name": "stdout",
     "output_type": "stream",
     "text": [
      "Remove  0  genes having low expression.\n",
      "Analyzing  100  genes with  10  subjects and  3914  cells.\n"
     ]
    },
    {
     "name": "stderr",
     "output_type": "stream",
     "text": [
      "\u001b[1m\u001b[22m`summarise()` has grouped output by 'id'. You can override using the `.groups` argument.\n",
      "start regression\n",
      "\n"
     ]
    },
    {
     "name": "stdout",
     "output_type": "stream",
     "text": [
      "Remove  0  genes having low expression.\n",
      "Analyzing  100  genes with  10  subjects and  3759  cells.\n"
     ]
    },
    {
     "name": "stderr",
     "output_type": "stream",
     "text": [
      "\u001b[1m\u001b[22m`summarise()` has grouped output by 'id'. You can override using the `.groups` argument.\n",
      "start regression\n",
      "\n"
     ]
    },
    {
     "name": "stdout",
     "output_type": "stream",
     "text": [
      "Remove  0  genes having low expression.\n",
      "Analyzing  100  genes with  10  subjects and  3427  cells.\n"
     ]
    },
    {
     "name": "stderr",
     "output_type": "stream",
     "text": [
      "\u001b[1m\u001b[22m`summarise()` has grouped output by 'id'. You can override using the `.groups` argument.\n",
      "start regression\n",
      "\n"
     ]
    },
    {
     "name": "stdout",
     "output_type": "stream",
     "text": [
      "Remove  0  genes having low expression.\n",
      "Analyzing  100  genes with  10  subjects and  3367  cells.\n"
     ]
    },
    {
     "name": "stderr",
     "output_type": "stream",
     "text": [
      "\u001b[1m\u001b[22m`summarise()` has grouped output by 'id'. You can override using the `.groups` argument.\n",
      "start regression\n",
      "\n"
     ]
    },
    {
     "name": "stdout",
     "output_type": "stream",
     "text": [
      "Remove  0  genes having low expression.\n",
      "Analyzing  100  genes with  10  subjects and  3020  cells.\n"
     ]
    },
    {
     "name": "stderr",
     "output_type": "stream",
     "text": [
      "\u001b[1m\u001b[22m`summarise()` has grouped output by 'id'. You can override using the `.groups` argument.\n",
      "start regression\n",
      "\n"
     ]
    },
    {
     "name": "stdout",
     "output_type": "stream",
     "text": [
      "Remove  0  genes having low expression.\n",
      "Analyzing  100  genes with  10  subjects and  3297  cells.\n"
     ]
    },
    {
     "name": "stderr",
     "output_type": "stream",
     "text": [
      "\u001b[1m\u001b[22m`summarise()` has grouped output by 'id'. You can override using the `.groups` argument.\n",
      "start regression\n",
      "\n"
     ]
    },
    {
     "name": "stdout",
     "output_type": "stream",
     "text": [
      "Remove  0  genes having low expression.\n",
      "Analyzing  100  genes with  10  subjects and  2221  cells.\n"
     ]
    },
    {
     "name": "stderr",
     "output_type": "stream",
     "text": [
      "\u001b[1m\u001b[22m`summarise()` has grouped output by 'id'. You can override using the `.groups` argument.\n",
      "start regression\n",
      "\n"
     ]
    },
    {
     "name": "stdout",
     "output_type": "stream",
     "text": [
      "Remove  0  genes having low expression.\n",
      "Analyzing  100  genes with  10  subjects and  3963  cells.\n"
     ]
    },
    {
     "data": {
      "text/plain": [
       "Time difference of 45.34034 mins"
      ]
     },
     "metadata": {},
     "output_type": "display_data"
    }
   ],
   "source": [
    "author <- 'reichart'\n",
    "n.sample <- 10\n",
    "exp.cut <- 0.5\n",
    "n.gene <- 100\n",
    "n.sim <- 10\n",
    "samp.prob <- 0.5\n",
    "is.pb <- FALSE\n",
    "t1 <- Sys.time()\n",
    "for (int.ct in 1:length(ct.used)){ #\n",
    "    # select celltype\n",
    "    cell.type <- ct.used[[int.ct]]\n",
    "    bool.ct <- col.data.used$cell_type == cell.type\n",
    "    col.data.ct <- col.data.used[bool.ct,]\n",
    "\n",
    "    # select genes with sufficient mean (nblmm doesn't work for small mean)\n",
    "    cnt.ct <- cnt.used[,bool.ct]\n",
    "    cnt.ct.bm <- cnt.ct[rowMeans2(cnt.ct) > 0.1,]\n",
    "    cnt.ct.bm <- cnt.ct.bm[sample(1:nrow(cnt.ct.bm), n.gene),]\n",
    "    \n",
    "    # boolean index of cells\n",
    "    bool.cell.donor <- lapply(\n",
    "        unique(col.data.ct$donor_id),\n",
    "        function(id.donor){\n",
    "            return(col.data.ct$donor_id == id.donor)\n",
    "            }\n",
    "        )\n",
    "    col.data.donor <- lapply(\n",
    "        bool.cell.donor,\n",
    "        function(bool.donor){\n",
    "            return(col.data.ct[bool.donor,])\n",
    "            }\n",
    "        )\n",
    "    cnt.donor <- lapply(\n",
    "        bool.cell.donor,\n",
    "        function(bool.donor){\n",
    "            return(cnt.ct.bm[,bool.donor])\n",
    "            }\n",
    "        )\n",
    "\n",
    "    list.result.null <- list()\n",
    "    list.result.pow <- list()\n",
    "    for (i.iter in 1:n.sim){\n",
    "        \n",
    "        # sample individuals\n",
    "        ind.select <- sample.int(\n",
    "            n=length(unique(col.data.ct$donor_id)), \n",
    "            size=n.sample,\n",
    "            replace=TRUE\n",
    "            )\n",
    "    \n",
    "        # construct col.data & cnt matrix\n",
    "        col.data.select <- data.table::rbindlist(col.data.donor[ind.select], idcol=\"id\")\n",
    "        cnt.select <- do.call(cbind, cnt.donor[ind.select])\n",
    "        colnames(cnt.select) <- rownames(col.data.select)\n",
    "                   \n",
    "        # select cells randomly\n",
    "        n.per.donor <- col.data.select %>% group_by(id, donor_id) %>% summarise(n=n()) %>% pull(n)\n",
    "        cell.select <- as.logical(unlist(sapply(n.per.donor, rbinom, size=1, p=samp.prob)))\n",
    "        col.data.select <- col.data.select[cell.select,]\n",
    "        cnt.select <- cnt.select[,cell.select]\n",
    "\n",
    "        # assign treatment\n",
    "        col.data.select$tx_cell <- rbinom(n=nrow(col.data.select), size=1, p=0.5)\n",
    "        if (is.pb){ \n",
    "            # assign treatment label\n",
    "            n.tx <- as.integer(n.sample/2)\n",
    "            urn <- c(rep(1,n.tx), rep(0,n.sample-n.tx))\n",
    "            tx.ind <- sample(x=urn, size=n.sample, replace=FALSE)\n",
    "        \n",
    "            # assign tx to cells\n",
    "            cell.per.ind <- col.data.select %>%\n",
    "                group_by(id) %>%\n",
    "                summarise(n=n())\n",
    "            col.data.select$tx_cell <- rep(tx.ind, times=cell.per.ind$n)\n",
    "        }\n",
    "    \n",
    "        # for power simulation, cut expression to half (+ force int)\n",
    "        idx.de <- 1:5\n",
    "        idx.tx <- which(col.data.select$tx_cell == 1)\n",
    "        downCells(cnt.select, idx.de, idx.tx, exp.cut)\n",
    "        cnt.select.t <- t(cnt.select)\n",
    "        \n",
    "        # run tests\n",
    "        message('start regression')\n",
    "        list.formula <- list(\n",
    "            as.formula('~tx_cell'),\n",
    "            as.formula('~tx_cell'),\n",
    "            as.formula('~tx_cell'),\n",
    "            as.formula('~tx_cell'),\n",
    "            as.formula(ifelse(is.pb, 'y~tx_cell', 'y~tx_cell | id')),\n",
    "            as.formula('~tx_cell')\n",
    "            )\n",
    "        list.data <- list(\n",
    "            cnt.select,\n",
    "            cnt.select,\n",
    "            cnt.select,\n",
    "            cnt.select,\n",
    "            cnt.select.t,\n",
    "            cnt.select\n",
    "            )\n",
    "        list.result.method <- list()\n",
    "        for (int.test in 1:length(list.func)){\n",
    "            list.result.method[[int.test]] <- list.func[[int.test]](\n",
    "                list.formula[[int.test]],\n",
    "                list.data[[int.test]],\n",
    "                col.data.select\n",
    "                )[,4] \n",
    "            }\n",
    "        df.result <- do.call(rbind, list.result.method)\n",
    "        rownames(df.result) <- c('glmGamPoi (Pb)', 'edgeR (Pb)', 'limma (Pb)', 'glmGamPoi (cell)', 'robust GLM (cell)', 'NB GLMM')\n",
    "        list.result.null[[i.iter]] <- t(df.result)[6:n.gene,]\n",
    "        list.result.pow[[i.iter]] <- t(df.result)[1:5,]\n",
    "        }\n",
    "\n",
    "    \n",
    "    \n",
    "    # results\n",
    "    df.null <- do.call(rbind, list.result.null)\n",
    "    df.pow <- do.call(rbind, list.result.pow)\n",
    "    \n",
    "    # save name\n",
    "    path.tail <- paste(author,'n',n.sample,'ct',int.ct,'fc',exp.cut,'csv',sep='.')\n",
    "    path.pow.head <- ifelse(is.pb, 'pow_subject/', 'pow_cell/')\n",
    "    path.null.head <- ifelse(is.pb, 'null_subject/', 'null_cell/')\n",
    "    \n",
    "    write.csv(df.null, paste0(path.null.head, path.tail))\n",
    "    write.csv(df.pow, paste0(path.pow.head, path.tail))\n",
    "    \n",
    "    }\n",
    "t2 <- Sys.time()\n",
    "t2-t1"
   ]
  },
  {
   "cell_type": "code",
   "execution_count": 9,
   "id": "42d6d658-1781-425d-a9a1-e9b147c43e17",
   "metadata": {
    "scrolled": true
   },
   "outputs": [
    {
     "name": "stderr",
     "output_type": "stream",
     "text": [
      "\u001b[1m\u001b[22m`summarise()` has grouped output by 'id'. You can override using the `.groups` argument.\n",
      "start regression\n",
      "\n"
     ]
    },
    {
     "name": "stdout",
     "output_type": "stream",
     "text": [
      "Remove  0  genes having low expression.\n",
      "Analyzing  100  genes with  10  subjects and  20404  cells.\n"
     ]
    },
    {
     "name": "stderr",
     "output_type": "stream",
     "text": [
      "\u001b[1m\u001b[22m`summarise()` has grouped output by 'id'. You can override using the `.groups` argument.\n",
      "start regression\n",
      "\n"
     ]
    },
    {
     "name": "stdout",
     "output_type": "stream",
     "text": [
      "Remove  0  genes having low expression.\n",
      "Analyzing  100  genes with  10  subjects and  21689  cells.\n"
     ]
    },
    {
     "name": "stderr",
     "output_type": "stream",
     "text": [
      "\u001b[1m\u001b[22m`summarise()` has grouped output by 'id'. You can override using the `.groups` argument.\n",
      "start regression\n",
      "\n"
     ]
    },
    {
     "name": "stdout",
     "output_type": "stream",
     "text": [
      "Remove  0  genes having low expression.\n",
      "Analyzing  100  genes with  10  subjects and  26645  cells.\n"
     ]
    },
    {
     "name": "stderr",
     "output_type": "stream",
     "text": [
      "\u001b[1m\u001b[22m`summarise()` has grouped output by 'id'. You can override using the `.groups` argument.\n",
      "start regression\n",
      "\n"
     ]
    },
    {
     "name": "stdout",
     "output_type": "stream",
     "text": [
      "Remove  0  genes having low expression.\n",
      "Analyzing  100  genes with  10  subjects and  16762  cells.\n"
     ]
    },
    {
     "name": "stderr",
     "output_type": "stream",
     "text": [
      "\u001b[1m\u001b[22m`summarise()` has grouped output by 'id'. You can override using the `.groups` argument.\n",
      "start regression\n",
      "\n"
     ]
    },
    {
     "name": "stdout",
     "output_type": "stream",
     "text": [
      "Remove  0  genes having low expression.\n",
      "Analyzing  100  genes with  10  subjects and  25129  cells.\n"
     ]
    },
    {
     "name": "stderr",
     "output_type": "stream",
     "text": [
      "\u001b[1m\u001b[22m`summarise()` has grouped output by 'id'. You can override using the `.groups` argument.\n",
      "start regression\n",
      "\n"
     ]
    },
    {
     "name": "stdout",
     "output_type": "stream",
     "text": [
      "Remove  0  genes having low expression.\n",
      "Analyzing  100  genes with  10  subjects and  20048  cells.\n"
     ]
    },
    {
     "name": "stderr",
     "output_type": "stream",
     "text": [
      "\u001b[1m\u001b[22m`summarise()` has grouped output by 'id'. You can override using the `.groups` argument.\n",
      "start regression\n",
      "\n"
     ]
    },
    {
     "name": "stdout",
     "output_type": "stream",
     "text": [
      "Remove  0  genes having low expression.\n",
      "Analyzing  100  genes with  10  subjects and  18302  cells.\n"
     ]
    },
    {
     "name": "stderr",
     "output_type": "stream",
     "text": [
      "\u001b[1m\u001b[22m`summarise()` has grouped output by 'id'. You can override using the `.groups` argument.\n",
      "start regression\n",
      "\n"
     ]
    },
    {
     "name": "stdout",
     "output_type": "stream",
     "text": [
      "Remove  0  genes having low expression.\n",
      "Analyzing  100  genes with  10  subjects and  14876  cells.\n"
     ]
    },
    {
     "name": "stderr",
     "output_type": "stream",
     "text": [
      "\u001b[1m\u001b[22m`summarise()` has grouped output by 'id'. You can override using the `.groups` argument.\n",
      "start regression\n",
      "\n"
     ]
    },
    {
     "name": "stdout",
     "output_type": "stream",
     "text": [
      "Remove  0  genes having low expression.\n",
      "Analyzing  100  genes with  10  subjects and  20491  cells.\n"
     ]
    },
    {
     "name": "stderr",
     "output_type": "stream",
     "text": [
      "\u001b[1m\u001b[22m`summarise()` has grouped output by 'id'. You can override using the `.groups` argument.\n",
      "start regression\n",
      "\n"
     ]
    },
    {
     "name": "stdout",
     "output_type": "stream",
     "text": [
      "Remove  0  genes having low expression.\n",
      "Analyzing  100  genes with  10  subjects and  16300  cells.\n"
     ]
    },
    {
     "name": "stderr",
     "output_type": "stream",
     "text": [
      "\u001b[1m\u001b[22m`summarise()` has grouped output by 'id'. You can override using the `.groups` argument.\n",
      "start regression\n",
      "\n"
     ]
    },
    {
     "name": "stdout",
     "output_type": "stream",
     "text": [
      "Remove  0  genes having low expression.\n",
      "Analyzing  100  genes with  10  subjects and  12393  cells.\n"
     ]
    },
    {
     "name": "stderr",
     "output_type": "stream",
     "text": [
      "\u001b[1m\u001b[22m`summarise()` has grouped output by 'id'. You can override using the `.groups` argument.\n",
      "start regression\n",
      "\n"
     ]
    },
    {
     "name": "stdout",
     "output_type": "stream",
     "text": [
      "Remove  0  genes having low expression.\n",
      "Analyzing  100  genes with  10  subjects and  9274  cells.\n"
     ]
    },
    {
     "name": "stderr",
     "output_type": "stream",
     "text": [
      "\u001b[1m\u001b[22m`summarise()` has grouped output by 'id'. You can override using the `.groups` argument.\n",
      "start regression\n",
      "\n"
     ]
    },
    {
     "name": "stdout",
     "output_type": "stream",
     "text": [
      "Remove  0  genes having low expression.\n",
      "Analyzing  100  genes with  10  subjects and  17764  cells.\n"
     ]
    },
    {
     "name": "stderr",
     "output_type": "stream",
     "text": [
      "\u001b[1m\u001b[22m`summarise()` has grouped output by 'id'. You can override using the `.groups` argument.\n",
      "start regression\n",
      "\n"
     ]
    },
    {
     "name": "stdout",
     "output_type": "stream",
     "text": [
      "Remove  0  genes having low expression.\n",
      "Analyzing  100  genes with  10  subjects and  16394  cells.\n"
     ]
    },
    {
     "name": "stderr",
     "output_type": "stream",
     "text": [
      "\u001b[1m\u001b[22m`summarise()` has grouped output by 'id'. You can override using the `.groups` argument.\n",
      "start regression\n",
      "\n"
     ]
    },
    {
     "name": "stdout",
     "output_type": "stream",
     "text": [
      "Remove  0  genes having low expression.\n",
      "Analyzing  100  genes with  10  subjects and  7876  cells.\n"
     ]
    },
    {
     "name": "stderr",
     "output_type": "stream",
     "text": [
      "\u001b[1m\u001b[22m`summarise()` has grouped output by 'id'. You can override using the `.groups` argument.\n",
      "start regression\n",
      "\n"
     ]
    },
    {
     "name": "stdout",
     "output_type": "stream",
     "text": [
      "Remove  0  genes having low expression.\n",
      "Analyzing  100  genes with  10  subjects and  8340  cells.\n"
     ]
    },
    {
     "name": "stderr",
     "output_type": "stream",
     "text": [
      "\u001b[1m\u001b[22m`summarise()` has grouped output by 'id'. You can override using the `.groups` argument.\n",
      "start regression\n",
      "\n"
     ]
    },
    {
     "name": "stdout",
     "output_type": "stream",
     "text": [
      "Remove  0  genes having low expression.\n",
      "Analyzing  100  genes with  10  subjects and  10759  cells.\n"
     ]
    },
    {
     "name": "stderr",
     "output_type": "stream",
     "text": [
      "\u001b[1m\u001b[22m`summarise()` has grouped output by 'id'. You can override using the `.groups` argument.\n",
      "start regression\n",
      "\n"
     ]
    },
    {
     "name": "stdout",
     "output_type": "stream",
     "text": [
      "Remove  0  genes having low expression.\n",
      "Analyzing  100  genes with  10  subjects and  9853  cells.\n"
     ]
    },
    {
     "name": "stderr",
     "output_type": "stream",
     "text": [
      "\u001b[1m\u001b[22m`summarise()` has grouped output by 'id'. You can override using the `.groups` argument.\n",
      "start regression\n",
      "\n"
     ]
    },
    {
     "name": "stdout",
     "output_type": "stream",
     "text": [
      "Remove  0  genes having low expression.\n",
      "Analyzing  100  genes with  10  subjects and  15878  cells.\n"
     ]
    },
    {
     "name": "stderr",
     "output_type": "stream",
     "text": [
      "\u001b[1m\u001b[22m`summarise()` has grouped output by 'id'. You can override using the `.groups` argument.\n",
      "start regression\n",
      "\n"
     ]
    },
    {
     "name": "stdout",
     "output_type": "stream",
     "text": [
      "Remove  0  genes having low expression.\n",
      "Analyzing  100  genes with  10  subjects and  12720  cells.\n"
     ]
    },
    {
     "name": "stderr",
     "output_type": "stream",
     "text": [
      "\u001b[1m\u001b[22m`summarise()` has grouped output by 'id'. You can override using the `.groups` argument.\n",
      "start regression\n",
      "\n"
     ]
    },
    {
     "name": "stdout",
     "output_type": "stream",
     "text": [
      "Remove  0  genes having low expression.\n",
      "Analyzing  100  genes with  10  subjects and  7647  cells.\n"
     ]
    },
    {
     "name": "stderr",
     "output_type": "stream",
     "text": [
      "\u001b[1m\u001b[22m`summarise()` has grouped output by 'id'. You can override using the `.groups` argument.\n",
      "start regression\n",
      "\n"
     ]
    },
    {
     "name": "stdout",
     "output_type": "stream",
     "text": [
      "Remove  0  genes having low expression.\n",
      "Analyzing  100  genes with  10  subjects and  11578  cells.\n"
     ]
    },
    {
     "name": "stderr",
     "output_type": "stream",
     "text": [
      "\u001b[1m\u001b[22m`summarise()` has grouped output by 'id'. You can override using the `.groups` argument.\n",
      "start regression\n",
      "\n"
     ]
    },
    {
     "name": "stdout",
     "output_type": "stream",
     "text": [
      "Remove  0  genes having low expression.\n",
      "Analyzing  100  genes with  10  subjects and  8971  cells.\n"
     ]
    },
    {
     "name": "stderr",
     "output_type": "stream",
     "text": [
      "\u001b[1m\u001b[22m`summarise()` has grouped output by 'id'. You can override using the `.groups` argument.\n",
      "start regression\n",
      "\n"
     ]
    },
    {
     "name": "stdout",
     "output_type": "stream",
     "text": [
      "Remove  0  genes having low expression.\n",
      "Analyzing  100  genes with  10  subjects and  10083  cells.\n"
     ]
    },
    {
     "name": "stderr",
     "output_type": "stream",
     "text": [
      "\u001b[1m\u001b[22m`summarise()` has grouped output by 'id'. You can override using the `.groups` argument.\n",
      "start regression\n",
      "\n"
     ]
    },
    {
     "name": "stdout",
     "output_type": "stream",
     "text": [
      "Remove  0  genes having low expression.\n",
      "Analyzing  100  genes with  10  subjects and  10457  cells.\n"
     ]
    },
    {
     "name": "stderr",
     "output_type": "stream",
     "text": [
      "\u001b[1m\u001b[22m`summarise()` has grouped output by 'id'. You can override using the `.groups` argument.\n",
      "start regression\n",
      "\n"
     ]
    },
    {
     "name": "stdout",
     "output_type": "stream",
     "text": [
      "Remove  0  genes having low expression.\n",
      "Analyzing  100  genes with  10  subjects and  8310  cells.\n"
     ]
    },
    {
     "name": "stderr",
     "output_type": "stream",
     "text": [
      "\u001b[1m\u001b[22m`summarise()` has grouped output by 'id'. You can override using the `.groups` argument.\n",
      "start regression\n",
      "\n"
     ]
    },
    {
     "name": "stdout",
     "output_type": "stream",
     "text": [
      "Remove  0  genes having low expression.\n",
      "Analyzing  100  genes with  10  subjects and  8273  cells.\n"
     ]
    },
    {
     "name": "stderr",
     "output_type": "stream",
     "text": [
      "\u001b[1m\u001b[22m`summarise()` has grouped output by 'id'. You can override using the `.groups` argument.\n",
      "start regression\n",
      "\n"
     ]
    },
    {
     "name": "stdout",
     "output_type": "stream",
     "text": [
      "Remove  0  genes having low expression.\n",
      "Analyzing  100  genes with  10  subjects and  6616  cells.\n"
     ]
    },
    {
     "name": "stderr",
     "output_type": "stream",
     "text": [
      "\u001b[1m\u001b[22m`summarise()` has grouped output by 'id'. You can override using the `.groups` argument.\n",
      "start regression\n",
      "\n"
     ]
    },
    {
     "name": "stdout",
     "output_type": "stream",
     "text": [
      "Remove  0  genes having low expression.\n",
      "Analyzing  100  genes with  10  subjects and  10306  cells.\n"
     ]
    },
    {
     "name": "stderr",
     "output_type": "stream",
     "text": [
      "\u001b[1m\u001b[22m`summarise()` has grouped output by 'id'. You can override using the `.groups` argument.\n",
      "start regression\n",
      "\n"
     ]
    },
    {
     "name": "stdout",
     "output_type": "stream",
     "text": [
      "Remove  0  genes having low expression.\n",
      "Analyzing  100  genes with  10  subjects and  5992  cells.\n"
     ]
    },
    {
     "name": "stderr",
     "output_type": "stream",
     "text": [
      "\u001b[1m\u001b[22m`summarise()` has grouped output by 'id'. You can override using the `.groups` argument.\n",
      "start regression\n",
      "\n"
     ]
    },
    {
     "name": "stdout",
     "output_type": "stream",
     "text": [
      "Remove  0  genes having low expression.\n",
      "Analyzing  100  genes with  10  subjects and  8474  cells.\n"
     ]
    },
    {
     "name": "stderr",
     "output_type": "stream",
     "text": [
      "\u001b[1m\u001b[22m`summarise()` has grouped output by 'id'. You can override using the `.groups` argument.\n",
      "start regression\n",
      "\n"
     ]
    },
    {
     "name": "stdout",
     "output_type": "stream",
     "text": [
      "Remove  0  genes having low expression.\n",
      "Analyzing  100  genes with  10  subjects and  7609  cells.\n"
     ]
    },
    {
     "name": "stderr",
     "output_type": "stream",
     "text": [
      "\u001b[1m\u001b[22m`summarise()` has grouped output by 'id'. You can override using the `.groups` argument.\n",
      "start regression\n",
      "\n"
     ]
    },
    {
     "name": "stdout",
     "output_type": "stream",
     "text": [
      "Remove  0  genes having low expression.\n",
      "Analyzing  100  genes with  10  subjects and  6977  cells.\n"
     ]
    },
    {
     "name": "stderr",
     "output_type": "stream",
     "text": [
      "\u001b[1m\u001b[22m`summarise()` has grouped output by 'id'. You can override using the `.groups` argument.\n",
      "start regression\n",
      "\n"
     ]
    },
    {
     "name": "stdout",
     "output_type": "stream",
     "text": [
      "Remove  0  genes having low expression.\n",
      "Analyzing  100  genes with  10  subjects and  6918  cells.\n"
     ]
    },
    {
     "name": "stderr",
     "output_type": "stream",
     "text": [
      "\u001b[1m\u001b[22m`summarise()` has grouped output by 'id'. You can override using the `.groups` argument.\n",
      "start regression\n",
      "\n"
     ]
    },
    {
     "name": "stdout",
     "output_type": "stream",
     "text": [
      "Remove  0  genes having low expression.\n",
      "Analyzing  100  genes with  10  subjects and  7221  cells.\n"
     ]
    },
    {
     "name": "stderr",
     "output_type": "stream",
     "text": [
      "\u001b[1m\u001b[22m`summarise()` has grouped output by 'id'. You can override using the `.groups` argument.\n",
      "start regression\n",
      "\n"
     ]
    },
    {
     "name": "stdout",
     "output_type": "stream",
     "text": [
      "Remove  0  genes having low expression.\n",
      "Analyzing  100  genes with  10  subjects and  9795  cells.\n"
     ]
    },
    {
     "name": "stderr",
     "output_type": "stream",
     "text": [
      "\u001b[1m\u001b[22m`summarise()` has grouped output by 'id'. You can override using the `.groups` argument.\n",
      "start regression\n",
      "\n"
     ]
    },
    {
     "name": "stdout",
     "output_type": "stream",
     "text": [
      "Remove  0  genes having low expression.\n",
      "Analyzing  100  genes with  10  subjects and  6718  cells.\n"
     ]
    },
    {
     "name": "stderr",
     "output_type": "stream",
     "text": [
      "\u001b[1m\u001b[22m`summarise()` has grouped output by 'id'. You can override using the `.groups` argument.\n",
      "start regression\n",
      "\n"
     ]
    },
    {
     "name": "stdout",
     "output_type": "stream",
     "text": [
      "Remove  0  genes having low expression.\n",
      "Analyzing  100  genes with  10  subjects and  7370  cells.\n"
     ]
    },
    {
     "name": "stderr",
     "output_type": "stream",
     "text": [
      "\u001b[1m\u001b[22m`summarise()` has grouped output by 'id'. You can override using the `.groups` argument.\n",
      "start regression\n",
      "\n"
     ]
    },
    {
     "name": "stdout",
     "output_type": "stream",
     "text": [
      "Remove  0  genes having low expression.\n",
      "Analyzing  100  genes with  10  subjects and  6931  cells.\n"
     ]
    },
    {
     "name": "stderr",
     "output_type": "stream",
     "text": [
      "\u001b[1m\u001b[22m`summarise()` has grouped output by 'id'. You can override using the `.groups` argument.\n",
      "start regression\n",
      "\n"
     ]
    },
    {
     "name": "stdout",
     "output_type": "stream",
     "text": [
      "Remove  0  genes having low expression.\n",
      "Analyzing  100  genes with  10  subjects and  7708  cells.\n"
     ]
    },
    {
     "name": "stderr",
     "output_type": "stream",
     "text": [
      "\u001b[1m\u001b[22m`summarise()` has grouped output by 'id'. You can override using the `.groups` argument.\n",
      "start regression\n",
      "\n"
     ]
    },
    {
     "name": "stdout",
     "output_type": "stream",
     "text": [
      "Remove  0  genes having low expression.\n",
      "Analyzing  100  genes with  10  subjects and  3839  cells.\n"
     ]
    },
    {
     "name": "stderr",
     "output_type": "stream",
     "text": [
      "\u001b[1m\u001b[22m`summarise()` has grouped output by 'id'. You can override using the `.groups` argument.\n",
      "start regression\n",
      "\n"
     ]
    },
    {
     "name": "stdout",
     "output_type": "stream",
     "text": [
      "Remove  0  genes having low expression.\n",
      "Analyzing  100  genes with  10  subjects and  4741  cells.\n"
     ]
    },
    {
     "name": "stderr",
     "output_type": "stream",
     "text": [
      "\u001b[1m\u001b[22m`summarise()` has grouped output by 'id'. You can override using the `.groups` argument.\n",
      "start regression\n",
      "\n"
     ]
    },
    {
     "name": "stdout",
     "output_type": "stream",
     "text": [
      "Remove  0  genes having low expression.\n",
      "Analyzing  100  genes with  10  subjects and  3835  cells.\n"
     ]
    },
    {
     "name": "stderr",
     "output_type": "stream",
     "text": [
      "\u001b[1m\u001b[22m`summarise()` has grouped output by 'id'. You can override using the `.groups` argument.\n",
      "start regression\n",
      "\n"
     ]
    },
    {
     "name": "stdout",
     "output_type": "stream",
     "text": [
      "Remove  0  genes having low expression.\n",
      "Analyzing  100  genes with  10  subjects and  4141  cells.\n"
     ]
    },
    {
     "name": "stderr",
     "output_type": "stream",
     "text": [
      "\u001b[1m\u001b[22m`summarise()` has grouped output by 'id'. You can override using the `.groups` argument.\n",
      "start regression\n",
      "\n"
     ]
    },
    {
     "name": "stdout",
     "output_type": "stream",
     "text": [
      "Remove  0  genes having low expression.\n",
      "Analyzing  100  genes with  10  subjects and  3050  cells.\n"
     ]
    },
    {
     "name": "stderr",
     "output_type": "stream",
     "text": [
      "\u001b[1m\u001b[22m`summarise()` has grouped output by 'id'. You can override using the `.groups` argument.\n",
      "start regression\n",
      "\n"
     ]
    },
    {
     "name": "stdout",
     "output_type": "stream",
     "text": [
      "Remove  0  genes having low expression.\n",
      "Analyzing  100  genes with  10  subjects and  3483  cells.\n"
     ]
    },
    {
     "name": "stderr",
     "output_type": "stream",
     "text": [
      "\u001b[1m\u001b[22m`summarise()` has grouped output by 'id'. You can override using the `.groups` argument.\n",
      "start regression\n",
      "\n"
     ]
    },
    {
     "name": "stdout",
     "output_type": "stream",
     "text": [
      "Remove  0  genes having low expression.\n",
      "Analyzing  100  genes with  10  subjects and  3411  cells.\n"
     ]
    },
    {
     "name": "stderr",
     "output_type": "stream",
     "text": [
      "\u001b[1m\u001b[22m`summarise()` has grouped output by 'id'. You can override using the `.groups` argument.\n",
      "start regression\n",
      "\n"
     ]
    },
    {
     "name": "stdout",
     "output_type": "stream",
     "text": [
      "Remove  0  genes having low expression.\n",
      "Analyzing  100  genes with  10  subjects and  4010  cells.\n"
     ]
    },
    {
     "name": "stderr",
     "output_type": "stream",
     "text": [
      "\u001b[1m\u001b[22m`summarise()` has grouped output by 'id'. You can override using the `.groups` argument.\n",
      "start regression\n",
      "\n"
     ]
    },
    {
     "name": "stdout",
     "output_type": "stream",
     "text": [
      "Remove  0  genes having low expression.\n",
      "Analyzing  100  genes with  10  subjects and  3559  cells.\n"
     ]
    },
    {
     "name": "stderr",
     "output_type": "stream",
     "text": [
      "\u001b[1m\u001b[22m`summarise()` has grouped output by 'id'. You can override using the `.groups` argument.\n",
      "start regression\n",
      "\n"
     ]
    },
    {
     "name": "stdout",
     "output_type": "stream",
     "text": [
      "Remove  0  genes having low expression.\n",
      "Analyzing  100  genes with  10  subjects and  3923  cells.\n"
     ]
    },
    {
     "name": "stderr",
     "output_type": "stream",
     "text": [
      "\u001b[1m\u001b[22m`summarise()` has grouped output by 'id'. You can override using the `.groups` argument.\n",
      "start regression\n",
      "\n"
     ]
    },
    {
     "name": "stdout",
     "output_type": "stream",
     "text": [
      "Remove  0  genes having low expression.\n",
      "Analyzing  100  genes with  10  subjects and  3718  cells.\n"
     ]
    },
    {
     "name": "stderr",
     "output_type": "stream",
     "text": [
      "\u001b[1m\u001b[22m`summarise()` has grouped output by 'id'. You can override using the `.groups` argument.\n",
      "start regression\n",
      "\n"
     ]
    },
    {
     "name": "stdout",
     "output_type": "stream",
     "text": [
      "Remove  0  genes having low expression.\n",
      "Analyzing  100  genes with  10  subjects and  3027  cells.\n"
     ]
    },
    {
     "name": "stderr",
     "output_type": "stream",
     "text": [
      "\u001b[1m\u001b[22m`summarise()` has grouped output by 'id'. You can override using the `.groups` argument.\n",
      "start regression\n",
      "\n"
     ]
    },
    {
     "name": "stdout",
     "output_type": "stream",
     "text": [
      "Remove  0  genes having low expression.\n",
      "Analyzing  100  genes with  10  subjects and  4687  cells.\n"
     ]
    },
    {
     "name": "stderr",
     "output_type": "stream",
     "text": [
      "\u001b[1m\u001b[22m`summarise()` has grouped output by 'id'. You can override using the `.groups` argument.\n",
      "start regression\n",
      "\n"
     ]
    },
    {
     "name": "stdout",
     "output_type": "stream",
     "text": [
      "Remove  0  genes having low expression.\n",
      "Analyzing  100  genes with  10  subjects and  3357  cells.\n"
     ]
    },
    {
     "name": "stderr",
     "output_type": "stream",
     "text": [
      "\u001b[1m\u001b[22m`summarise()` has grouped output by 'id'. You can override using the `.groups` argument.\n",
      "start regression\n",
      "\n"
     ]
    },
    {
     "name": "stdout",
     "output_type": "stream",
     "text": [
      "Remove  0  genes having low expression.\n",
      "Analyzing  100  genes with  10  subjects and  3919  cells.\n"
     ]
    },
    {
     "name": "stderr",
     "output_type": "stream",
     "text": [
      "\u001b[1m\u001b[22m`summarise()` has grouped output by 'id'. You can override using the `.groups` argument.\n",
      "start regression\n",
      "\n"
     ]
    },
    {
     "name": "stdout",
     "output_type": "stream",
     "text": [
      "Remove  0  genes having low expression.\n",
      "Analyzing  100  genes with  10  subjects and  3586  cells.\n"
     ]
    },
    {
     "name": "stderr",
     "output_type": "stream",
     "text": [
      "\u001b[1m\u001b[22m`summarise()` has grouped output by 'id'. You can override using the `.groups` argument.\n",
      "start regression\n",
      "\n"
     ]
    },
    {
     "name": "stdout",
     "output_type": "stream",
     "text": [
      "Remove  0  genes having low expression.\n",
      "Analyzing  100  genes with  10  subjects and  2800  cells.\n"
     ]
    },
    {
     "name": "stderr",
     "output_type": "stream",
     "text": [
      "\u001b[1m\u001b[22m`summarise()` has grouped output by 'id'. You can override using the `.groups` argument.\n",
      "start regression\n",
      "\n"
     ]
    },
    {
     "name": "stdout",
     "output_type": "stream",
     "text": [
      "Remove  0  genes having low expression.\n",
      "Analyzing  100  genes with  10  subjects and  2937  cells.\n"
     ]
    },
    {
     "name": "stderr",
     "output_type": "stream",
     "text": [
      "\u001b[1m\u001b[22m`summarise()` has grouped output by 'id'. You can override using the `.groups` argument.\n",
      "start regression\n",
      "\n"
     ]
    },
    {
     "name": "stdout",
     "output_type": "stream",
     "text": [
      "Remove  0  genes having low expression.\n",
      "Analyzing  100  genes with  10  subjects and  2658  cells.\n"
     ]
    },
    {
     "name": "stderr",
     "output_type": "stream",
     "text": [
      "\u001b[1m\u001b[22m`summarise()` has grouped output by 'id'. You can override using the `.groups` argument.\n",
      "start regression\n",
      "\n"
     ]
    },
    {
     "name": "stdout",
     "output_type": "stream",
     "text": [
      "Remove  0  genes having low expression.\n",
      "Analyzing  100  genes with  10  subjects and  3419  cells.\n"
     ]
    },
    {
     "data": {
      "text/plain": [
       "Time difference of 40.39318 mins"
      ]
     },
     "metadata": {},
     "output_type": "display_data"
    }
   ],
   "source": [
    "author <- 'reichart'\n",
    "n.sample <- 10\n",
    "exp.cut <- 0.5\n",
    "n.gene <- 100\n",
    "n.sim <- 10\n",
    "samp.prob <- 0.5\n",
    "is.pb <- TRUE\n",
    "t1 <- Sys.time()\n",
    "for (int.ct in 1:length(ct.used)){ #\n",
    "    # select celltype\n",
    "    cell.type <- ct.used[[int.ct]]\n",
    "    bool.ct <- col.data.used$cell_type == cell.type\n",
    "    col.data.ct <- col.data.used[bool.ct,]\n",
    "\n",
    "    # select genes with sufficient mean (nblmm doesn't work for small mean)\n",
    "    cnt.ct <- cnt.used[,bool.ct]\n",
    "    cnt.ct.bm <- cnt.ct[rowMeans2(cnt.ct) > 0.1,]\n",
    "    cnt.ct.bm <- cnt.ct.bm[sample(1:nrow(cnt.ct.bm), n.gene),]\n",
    "    \n",
    "    # boolean index of cells\n",
    "    bool.cell.donor <- lapply(\n",
    "        unique(col.data.ct$donor_id),\n",
    "        function(id.donor){\n",
    "            return(col.data.ct$donor_id == id.donor)\n",
    "            }\n",
    "        )\n",
    "    col.data.donor <- lapply(\n",
    "        bool.cell.donor,\n",
    "        function(bool.donor){\n",
    "            return(col.data.ct[bool.donor,])\n",
    "            }\n",
    "        )\n",
    "    cnt.donor <- lapply(\n",
    "        bool.cell.donor,\n",
    "        function(bool.donor){\n",
    "            return(cnt.ct.bm[,bool.donor])\n",
    "            }\n",
    "        )\n",
    "\n",
    "    list.result.null <- list()\n",
    "    list.result.pow <- list()\n",
    "    for (i.iter in 1:n.sim){\n",
    "        \n",
    "        # sample individuals\n",
    "        ind.select <- sample.int(\n",
    "            n=length(unique(col.data.ct$donor_id)), \n",
    "            size=n.sample,\n",
    "            replace=TRUE\n",
    "            )\n",
    "    \n",
    "        # construct col.data & cnt matrix\n",
    "        col.data.select <- data.table::rbindlist(col.data.donor[ind.select], idcol=\"id\")\n",
    "        cnt.select <- do.call(cbind, cnt.donor[ind.select])\n",
    "        colnames(cnt.select) <- rownames(col.data.select)\n",
    "                   \n",
    "        # select cells randomly\n",
    "        n.per.donor <- col.data.select %>% group_by(id, donor_id) %>% summarise(n=n()) %>% pull(n)\n",
    "        cell.select <- as.logical(unlist(sapply(n.per.donor, rbinom, size=1, p=samp.prob)))\n",
    "        col.data.select <- col.data.select[cell.select,]\n",
    "        cnt.select <- cnt.select[,cell.select]\n",
    "\n",
    "        # assign treatment\n",
    "        col.data.select$tx_cell <- rbinom(n=nrow(col.data.select), size=1, p=0.5)\n",
    "        if (is.pb){ \n",
    "            # assign treatment label\n",
    "            n.tx <- as.integer(n.sample/2)\n",
    "            urn <- c(rep(1,n.tx), rep(0,n.sample-n.tx))\n",
    "            tx.ind <- sample(x=urn, size=n.sample, replace=FALSE)\n",
    "        \n",
    "            # assign tx to cells\n",
    "            cell.per.ind <- col.data.select %>%\n",
    "                group_by(id) %>%\n",
    "                summarise(n=n())\n",
    "            col.data.select$tx_cell <- rep(tx.ind, times=cell.per.ind$n)\n",
    "        }\n",
    "    \n",
    "        # for power simulation, cut expression to half (+ force int)\n",
    "        idx.de <- 1:5\n",
    "        idx.tx <- which(col.data.select$tx_cell == 1)\n",
    "        downCells(cnt.select, idx.de, idx.tx, exp.cut)\n",
    "        cnt.select.t <- t(cnt.select)\n",
    "        \n",
    "        # run tests\n",
    "        message('start regression')\n",
    "        list.formula <- list(\n",
    "            as.formula('~tx_cell'),\n",
    "            as.formula('~tx_cell'),\n",
    "            as.formula('~tx_cell'),\n",
    "            as.formula('~tx_cell'),\n",
    "            as.formula(ifelse(is.pb, 'y~tx_cell', 'y~tx_cell | id')),\n",
    "            as.formula('~tx_cell')\n",
    "            )\n",
    "        list.data <- list(\n",
    "            cnt.select,\n",
    "            cnt.select,\n",
    "            cnt.select,\n",
    "            cnt.select,\n",
    "            cnt.select.t,\n",
    "            cnt.select\n",
    "            )\n",
    "        list.result.method <- list()\n",
    "        for (int.test in 1:length(list.func)){\n",
    "            list.result.method[[int.test]] <- list.func[[int.test]](\n",
    "                list.formula[[int.test]],\n",
    "                list.data[[int.test]],\n",
    "                col.data.select\n",
    "                )[,4] \n",
    "            }\n",
    "        df.result <- do.call(rbind, list.result.method)\n",
    "        rownames(df.result) <- c('glmGamPoi (Pb)', 'edgeR (Pb)', 'limma (Pb)', 'glmGamPoi (cell)', 'robust GLM (cell)', 'NB GLMM')\n",
    "        list.result.null[[i.iter]] <- t(df.result)[6:n.gene,]\n",
    "        list.result.pow[[i.iter]] <- t(df.result)[1:5,]\n",
    "        }\n",
    "\n",
    "    \n",
    "    \n",
    "    # results\n",
    "    df.null <- do.call(rbind, list.result.null)\n",
    "    df.pow <- do.call(rbind, list.result.pow)\n",
    "    \n",
    "    # save name\n",
    "    path.tail <- paste(author,'n',n.sample,'ct',int.ct,'fc',exp.cut,'csv',sep='.')\n",
    "    path.pow.head <- ifelse(is.pb, 'pow_subject/', 'pow_cell/')\n",
    "    path.null.head <- ifelse(is.pb, 'null_subject/', 'null_cell/')\n",
    "    \n",
    "    write.csv(df.null, paste0(path.null.head, path.tail))\n",
    "    write.csv(df.pow, paste0(path.pow.head, path.tail))\n",
    "    \n",
    "    }\n",
    "t2 <- Sys.time()\n",
    "t2-t1"
   ]
  },
  {
   "cell_type": "code",
   "execution_count": 10,
   "id": "21b10dca-b625-4c5b-902b-10f65eaab387",
   "metadata": {
    "scrolled": true
   },
   "outputs": [
    {
     "name": "stderr",
     "output_type": "stream",
     "text": [
      "\u001b[1m\u001b[22m`summarise()` has grouped output by 'id'. You can override using the `.groups` argument.\n",
      "start regression\n",
      "\n"
     ]
    },
    {
     "name": "stdout",
     "output_type": "stream",
     "text": [
      "Remove  0  genes having low expression.\n",
      "Analyzing  100  genes with  50  subjects and  82807  cells.\n"
     ]
    },
    {
     "name": "stderr",
     "output_type": "stream",
     "text": [
      "\u001b[1m\u001b[22m`summarise()` has grouped output by 'id'. You can override using the `.groups` argument.\n",
      "start regression\n",
      "\n"
     ]
    },
    {
     "name": "stdout",
     "output_type": "stream",
     "text": [
      "Remove  0  genes having low expression.\n",
      "Analyzing  100  genes with  50  subjects and  118649  cells.\n"
     ]
    },
    {
     "name": "stderr",
     "output_type": "stream",
     "text": [
      "\u001b[1m\u001b[22m`summarise()` has grouped output by 'id'. You can override using the `.groups` argument.\n",
      "start regression\n",
      "\n"
     ]
    },
    {
     "name": "stdout",
     "output_type": "stream",
     "text": [
      "Remove  0  genes having low expression.\n",
      "Analyzing  100  genes with  50  subjects and  100611  cells.\n"
     ]
    },
    {
     "name": "stderr",
     "output_type": "stream",
     "text": [
      "\u001b[1m\u001b[22m`summarise()` has grouped output by 'id'. You can override using the `.groups` argument.\n",
      "start regression\n",
      "\n"
     ]
    },
    {
     "name": "stdout",
     "output_type": "stream",
     "text": [
      "Remove  0  genes having low expression.\n",
      "Analyzing  100  genes with  50  subjects and  120839  cells.\n"
     ]
    },
    {
     "name": "stderr",
     "output_type": "stream",
     "text": [
      "\u001b[1m\u001b[22m`summarise()` has grouped output by 'id'. You can override using the `.groups` argument.\n",
      "start regression\n",
      "\n"
     ]
    },
    {
     "name": "stdout",
     "output_type": "stream",
     "text": [
      "Remove  0  genes having low expression.\n",
      "Analyzing  100  genes with  50  subjects and  125208  cells.\n"
     ]
    },
    {
     "name": "stderr",
     "output_type": "stream",
     "text": [
      "\u001b[1m\u001b[22m`summarise()` has grouped output by 'id'. You can override using the `.groups` argument.\n",
      "start regression\n",
      "\n"
     ]
    },
    {
     "name": "stdout",
     "output_type": "stream",
     "text": [
      "Remove  0  genes having low expression.\n",
      "Analyzing  100  genes with  50  subjects and  100640  cells.\n"
     ]
    },
    {
     "name": "stderr",
     "output_type": "stream",
     "text": [
      "\u001b[1m\u001b[22m`summarise()` has grouped output by 'id'. You can override using the `.groups` argument.\n",
      "start regression\n",
      "\n"
     ]
    },
    {
     "name": "stdout",
     "output_type": "stream",
     "text": [
      "Remove  0  genes having low expression.\n",
      "Analyzing  100  genes with  50  subjects and  96216  cells.\n"
     ]
    },
    {
     "name": "stderr",
     "output_type": "stream",
     "text": [
      "\u001b[1m\u001b[22m`summarise()` has grouped output by 'id'. You can override using the `.groups` argument.\n",
      "start regression\n",
      "\n"
     ]
    },
    {
     "name": "stdout",
     "output_type": "stream",
     "text": [
      "Remove  0  genes having low expression.\n",
      "Analyzing  100  genes with  50  subjects and  78451  cells.\n"
     ]
    },
    {
     "name": "stderr",
     "output_type": "stream",
     "text": [
      "\u001b[1m\u001b[22m`summarise()` has grouped output by 'id'. You can override using the `.groups` argument.\n",
      "start regression\n",
      "\n"
     ]
    },
    {
     "name": "stdout",
     "output_type": "stream",
     "text": [
      "Remove  0  genes having low expression.\n",
      "Analyzing  100  genes with  50  subjects and  102791  cells.\n"
     ]
    },
    {
     "name": "stderr",
     "output_type": "stream",
     "text": [
      "\u001b[1m\u001b[22m`summarise()` has grouped output by 'id'. You can override using the `.groups` argument.\n",
      "start regression\n",
      "\n"
     ]
    },
    {
     "name": "stdout",
     "output_type": "stream",
     "text": [
      "Remove  0  genes having low expression.\n",
      "Analyzing  100  genes with  50  subjects and  97589  cells.\n"
     ]
    },
    {
     "name": "stderr",
     "output_type": "stream",
     "text": [
      "\u001b[1m\u001b[22m`summarise()` has grouped output by 'id'. You can override using the `.groups` argument.\n",
      "start regression\n",
      "\n"
     ]
    },
    {
     "name": "stdout",
     "output_type": "stream",
     "text": [
      "Remove  0  genes having low expression.\n",
      "Analyzing  100  genes with  50  subjects and  57136  cells.\n"
     ]
    },
    {
     "name": "stderr",
     "output_type": "stream",
     "text": [
      "\u001b[1m\u001b[22m`summarise()` has grouped output by 'id'. You can override using the `.groups` argument.\n",
      "start regression\n",
      "\n"
     ]
    },
    {
     "name": "stdout",
     "output_type": "stream",
     "text": [
      "Remove  0  genes having low expression.\n",
      "Analyzing  100  genes with  50  subjects and  53627  cells.\n"
     ]
    },
    {
     "name": "stderr",
     "output_type": "stream",
     "text": [
      "\u001b[1m\u001b[22m`summarise()` has grouped output by 'id'. You can override using the `.groups` argument.\n",
      "start regression\n",
      "\n"
     ]
    },
    {
     "name": "stdout",
     "output_type": "stream",
     "text": [
      "Remove  0  genes having low expression.\n",
      "Analyzing  100  genes with  50  subjects and  50330  cells.\n"
     ]
    },
    {
     "name": "stderr",
     "output_type": "stream",
     "text": [
      "\u001b[1m\u001b[22m`summarise()` has grouped output by 'id'. You can override using the `.groups` argument.\n",
      "start regression\n",
      "\n"
     ]
    },
    {
     "name": "stdout",
     "output_type": "stream",
     "text": [
      "Remove  0  genes having low expression.\n",
      "Analyzing  100  genes with  50  subjects and  50946  cells.\n"
     ]
    },
    {
     "name": "stderr",
     "output_type": "stream",
     "text": [
      "\u001b[1m\u001b[22m`summarise()` has grouped output by 'id'. You can override using the `.groups` argument.\n",
      "start regression\n",
      "\n"
     ]
    },
    {
     "name": "stdout",
     "output_type": "stream",
     "text": [
      "Remove  0  genes having low expression.\n",
      "Analyzing  100  genes with  50  subjects and  55403  cells.\n"
     ]
    },
    {
     "name": "stderr",
     "output_type": "stream",
     "text": [
      "\u001b[1m\u001b[22m`summarise()` has grouped output by 'id'. You can override using the `.groups` argument.\n",
      "start regression\n",
      "\n"
     ]
    },
    {
     "name": "stdout",
     "output_type": "stream",
     "text": [
      "Remove  0  genes having low expression.\n",
      "Analyzing  100  genes with  50  subjects and  61479  cells.\n"
     ]
    },
    {
     "name": "stderr",
     "output_type": "stream",
     "text": [
      "\u001b[1m\u001b[22m`summarise()` has grouped output by 'id'. You can override using the `.groups` argument.\n",
      "start regression\n",
      "\n"
     ]
    },
    {
     "name": "stdout",
     "output_type": "stream",
     "text": [
      "Remove  0  genes having low expression.\n",
      "Analyzing  100  genes with  50  subjects and  51873  cells.\n"
     ]
    },
    {
     "name": "stderr",
     "output_type": "stream",
     "text": [
      "\u001b[1m\u001b[22m`summarise()` has grouped output by 'id'. You can override using the `.groups` argument.\n",
      "start regression\n",
      "\n"
     ]
    },
    {
     "name": "stdout",
     "output_type": "stream",
     "text": [
      "Remove  0  genes having low expression.\n",
      "Analyzing  100  genes with  50  subjects and  47274  cells.\n"
     ]
    },
    {
     "name": "stderr",
     "output_type": "stream",
     "text": [
      "\u001b[1m\u001b[22m`summarise()` has grouped output by 'id'. You can override using the `.groups` argument.\n",
      "start regression\n",
      "\n"
     ]
    },
    {
     "name": "stdout",
     "output_type": "stream",
     "text": [
      "Remove  0  genes having low expression.\n",
      "Analyzing  100  genes with  50  subjects and  55520  cells.\n"
     ]
    },
    {
     "name": "stderr",
     "output_type": "stream",
     "text": [
      "\u001b[1m\u001b[22m`summarise()` has grouped output by 'id'. You can override using the `.groups` argument.\n",
      "start regression\n",
      "\n"
     ]
    },
    {
     "name": "stdout",
     "output_type": "stream",
     "text": [
      "Remove  0  genes having low expression.\n",
      "Analyzing  100  genes with  50  subjects and  50227  cells.\n"
     ]
    },
    {
     "name": "stderr",
     "output_type": "stream",
     "text": [
      "\u001b[1m\u001b[22m`summarise()` has grouped output by 'id'. You can override using the `.groups` argument.\n",
      "start regression\n",
      "\n"
     ]
    },
    {
     "name": "stdout",
     "output_type": "stream",
     "text": [
      "Remove  0  genes having low expression.\n",
      "Analyzing  100  genes with  50  subjects and  49497  cells.\n"
     ]
    },
    {
     "name": "stderr",
     "output_type": "stream",
     "text": [
      "\u001b[1m\u001b[22m`summarise()` has grouped output by 'id'. You can override using the `.groups` argument.\n",
      "start regression\n",
      "\n"
     ]
    },
    {
     "name": "stdout",
     "output_type": "stream",
     "text": [
      "Remove  0  genes having low expression.\n",
      "Analyzing  100  genes with  50  subjects and  42070  cells.\n"
     ]
    },
    {
     "name": "stderr",
     "output_type": "stream",
     "text": [
      "\u001b[1m\u001b[22m`summarise()` has grouped output by 'id'. You can override using the `.groups` argument.\n",
      "start regression\n",
      "\n"
     ]
    },
    {
     "name": "stdout",
     "output_type": "stream",
     "text": [
      "Remove  0  genes having low expression.\n",
      "Analyzing  100  genes with  50  subjects and  39879  cells.\n"
     ]
    },
    {
     "name": "stderr",
     "output_type": "stream",
     "text": [
      "\u001b[1m\u001b[22m`summarise()` has grouped output by 'id'. You can override using the `.groups` argument.\n",
      "start regression\n",
      "\n"
     ]
    },
    {
     "name": "stdout",
     "output_type": "stream",
     "text": [
      "Remove  0  genes having low expression.\n",
      "Analyzing  100  genes with  50  subjects and  42054  cells.\n"
     ]
    },
    {
     "name": "stderr",
     "output_type": "stream",
     "text": [
      "\u001b[1m\u001b[22m`summarise()` has grouped output by 'id'. You can override using the `.groups` argument.\n",
      "start regression\n",
      "\n"
     ]
    },
    {
     "name": "stdout",
     "output_type": "stream",
     "text": [
      "Remove  0  genes having low expression.\n",
      "Analyzing  100  genes with  50  subjects and  45513  cells.\n"
     ]
    },
    {
     "name": "stderr",
     "output_type": "stream",
     "text": [
      "\u001b[1m\u001b[22m`summarise()` has grouped output by 'id'. You can override using the `.groups` argument.\n",
      "start regression\n",
      "\n"
     ]
    },
    {
     "name": "stdout",
     "output_type": "stream",
     "text": [
      "Remove  0  genes having low expression.\n",
      "Analyzing  100  genes with  50  subjects and  51445  cells.\n"
     ]
    },
    {
     "name": "stderr",
     "output_type": "stream",
     "text": [
      "\u001b[1m\u001b[22m`summarise()` has grouped output by 'id'. You can override using the `.groups` argument.\n",
      "start regression\n",
      "\n"
     ]
    },
    {
     "name": "stdout",
     "output_type": "stream",
     "text": [
      "Remove  0  genes having low expression.\n",
      "Analyzing  100  genes with  50  subjects and  47474  cells.\n"
     ]
    },
    {
     "name": "stderr",
     "output_type": "stream",
     "text": [
      "\u001b[1m\u001b[22m`summarise()` has grouped output by 'id'. You can override using the `.groups` argument.\n",
      "start regression\n",
      "\n"
     ]
    },
    {
     "name": "stdout",
     "output_type": "stream",
     "text": [
      "Remove  0  genes having low expression.\n",
      "Analyzing  100  genes with  50  subjects and  51722  cells.\n"
     ]
    },
    {
     "name": "stderr",
     "output_type": "stream",
     "text": [
      "\u001b[1m\u001b[22m`summarise()` has grouped output by 'id'. You can override using the `.groups` argument.\n",
      "start regression\n",
      "\n"
     ]
    },
    {
     "name": "stdout",
     "output_type": "stream",
     "text": [
      "Remove  0  genes having low expression.\n",
      "Analyzing  100  genes with  50  subjects and  47083  cells.\n"
     ]
    },
    {
     "name": "stderr",
     "output_type": "stream",
     "text": [
      "\u001b[1m\u001b[22m`summarise()` has grouped output by 'id'. You can override using the `.groups` argument.\n",
      "start regression\n",
      "\n"
     ]
    },
    {
     "name": "stdout",
     "output_type": "stream",
     "text": [
      "Remove  0  genes having low expression.\n",
      "Analyzing  100  genes with  50  subjects and  45993  cells.\n"
     ]
    },
    {
     "name": "stderr",
     "output_type": "stream",
     "text": [
      "\u001b[1m\u001b[22m`summarise()` has grouped output by 'id'. You can override using the `.groups` argument.\n",
      "start regression\n",
      "\n"
     ]
    },
    {
     "name": "stdout",
     "output_type": "stream",
     "text": [
      "Remove  0  genes having low expression.\n",
      "Analyzing  100  genes with  50  subjects and  40196  cells.\n"
     ]
    },
    {
     "name": "stderr",
     "output_type": "stream",
     "text": [
      "\u001b[1m\u001b[22m`summarise()` has grouped output by 'id'. You can override using the `.groups` argument.\n",
      "start regression\n",
      "\n"
     ]
    },
    {
     "name": "stdout",
     "output_type": "stream",
     "text": [
      "Remove  0  genes having low expression.\n",
      "Analyzing  100  genes with  50  subjects and  36453  cells.\n"
     ]
    },
    {
     "name": "stderr",
     "output_type": "stream",
     "text": [
      "\u001b[1m\u001b[22m`summarise()` has grouped output by 'id'. You can override using the `.groups` argument.\n",
      "start regression\n",
      "\n"
     ]
    },
    {
     "name": "stdout",
     "output_type": "stream",
     "text": [
      "Remove  0  genes having low expression.\n",
      "Analyzing  100  genes with  50  subjects and  37084  cells.\n"
     ]
    },
    {
     "name": "stderr",
     "output_type": "stream",
     "text": [
      "\u001b[1m\u001b[22m`summarise()` has grouped output by 'id'. You can override using the `.groups` argument.\n",
      "start regression\n",
      "\n"
     ]
    },
    {
     "name": "stdout",
     "output_type": "stream",
     "text": [
      "Remove  0  genes having low expression.\n",
      "Analyzing  100  genes with  50  subjects and  38595  cells.\n"
     ]
    },
    {
     "name": "stderr",
     "output_type": "stream",
     "text": [
      "\u001b[1m\u001b[22m`summarise()` has grouped output by 'id'. You can override using the `.groups` argument.\n",
      "start regression\n",
      "\n"
     ]
    },
    {
     "name": "stdout",
     "output_type": "stream",
     "text": [
      "Remove  0  genes having low expression.\n",
      "Analyzing  100  genes with  50  subjects and  44904  cells.\n"
     ]
    },
    {
     "name": "stderr",
     "output_type": "stream",
     "text": [
      "\u001b[1m\u001b[22m`summarise()` has grouped output by 'id'. You can override using the `.groups` argument.\n",
      "start regression\n",
      "\n"
     ]
    },
    {
     "name": "stdout",
     "output_type": "stream",
     "text": [
      "Remove  0  genes having low expression.\n",
      "Analyzing  100  genes with  50  subjects and  28960  cells.\n"
     ]
    },
    {
     "name": "stderr",
     "output_type": "stream",
     "text": [
      "\u001b[1m\u001b[22m`summarise()` has grouped output by 'id'. You can override using the `.groups` argument.\n",
      "start regression\n",
      "\n"
     ]
    },
    {
     "name": "stdout",
     "output_type": "stream",
     "text": [
      "Remove  0  genes having low expression.\n",
      "Analyzing  100  genes with  50  subjects and  35126  cells.\n"
     ]
    },
    {
     "name": "stderr",
     "output_type": "stream",
     "text": [
      "\u001b[1m\u001b[22m`summarise()` has grouped output by 'id'. You can override using the `.groups` argument.\n",
      "start regression\n",
      "\n"
     ]
    },
    {
     "name": "stdout",
     "output_type": "stream",
     "text": [
      "Remove  0  genes having low expression.\n",
      "Analyzing  100  genes with  50  subjects and  40865  cells.\n"
     ]
    },
    {
     "name": "stderr",
     "output_type": "stream",
     "text": [
      "\u001b[1m\u001b[22m`summarise()` has grouped output by 'id'. You can override using the `.groups` argument.\n",
      "start regression\n",
      "\n"
     ]
    },
    {
     "name": "stdout",
     "output_type": "stream",
     "text": [
      "Remove  0  genes having low expression.\n",
      "Analyzing  100  genes with  50  subjects and  36368  cells.\n"
     ]
    },
    {
     "name": "stderr",
     "output_type": "stream",
     "text": [
      "\u001b[1m\u001b[22m`summarise()` has grouped output by 'id'. You can override using the `.groups` argument.\n",
      "start regression\n",
      "\n"
     ]
    },
    {
     "name": "stdout",
     "output_type": "stream",
     "text": [
      "Remove  0  genes having low expression.\n",
      "Analyzing  100  genes with  50  subjects and  39514  cells.\n"
     ]
    },
    {
     "name": "stderr",
     "output_type": "stream",
     "text": [
      "\u001b[1m\u001b[22m`summarise()` has grouped output by 'id'. You can override using the `.groups` argument.\n",
      "start regression\n",
      "\n"
     ]
    },
    {
     "name": "stdout",
     "output_type": "stream",
     "text": [
      "Remove  0  genes having low expression.\n",
      "Analyzing  100  genes with  50  subjects and  17330  cells.\n"
     ]
    },
    {
     "name": "stderr",
     "output_type": "stream",
     "text": [
      "\u001b[1m\u001b[22m`summarise()` has grouped output by 'id'. You can override using the `.groups` argument.\n",
      "start regression\n",
      "\n"
     ]
    },
    {
     "name": "stdout",
     "output_type": "stream",
     "text": [
      "Remove  0  genes having low expression.\n",
      "Analyzing  100  genes with  50  subjects and  18119  cells.\n"
     ]
    },
    {
     "name": "stderr",
     "output_type": "stream",
     "text": [
      "\u001b[1m\u001b[22m`summarise()` has grouped output by 'id'. You can override using the `.groups` argument.\n",
      "start regression\n",
      "\n"
     ]
    },
    {
     "name": "stdout",
     "output_type": "stream",
     "text": [
      "Remove  0  genes having low expression.\n",
      "Analyzing  100  genes with  50  subjects and  15830  cells.\n"
     ]
    },
    {
     "name": "stderr",
     "output_type": "stream",
     "text": [
      "\u001b[1m\u001b[22m`summarise()` has grouped output by 'id'. You can override using the `.groups` argument.\n",
      "start regression\n",
      "\n"
     ]
    },
    {
     "name": "stdout",
     "output_type": "stream",
     "text": [
      "Remove  0  genes having low expression.\n",
      "Analyzing  100  genes with  50  subjects and  20412  cells.\n"
     ]
    },
    {
     "name": "stderr",
     "output_type": "stream",
     "text": [
      "\u001b[1m\u001b[22m`summarise()` has grouped output by 'id'. You can override using the `.groups` argument.\n",
      "start regression\n",
      "\n"
     ]
    },
    {
     "name": "stdout",
     "output_type": "stream",
     "text": [
      "Remove  0  genes having low expression.\n",
      "Analyzing  100  genes with  50  subjects and  18886  cells.\n"
     ]
    },
    {
     "name": "stderr",
     "output_type": "stream",
     "text": [
      "\u001b[1m\u001b[22m`summarise()` has grouped output by 'id'. You can override using the `.groups` argument.\n",
      "start regression\n",
      "\n"
     ]
    },
    {
     "name": "stdout",
     "output_type": "stream",
     "text": [
      "Remove  0  genes having low expression.\n",
      "Analyzing  100  genes with  50  subjects and  18695  cells.\n"
     ]
    },
    {
     "name": "stderr",
     "output_type": "stream",
     "text": [
      "\u001b[1m\u001b[22m`summarise()` has grouped output by 'id'. You can override using the `.groups` argument.\n",
      "start regression\n",
      "\n"
     ]
    },
    {
     "name": "stdout",
     "output_type": "stream",
     "text": [
      "Remove  0  genes having low expression.\n",
      "Analyzing  100  genes with  50  subjects and  18061  cells.\n"
     ]
    },
    {
     "name": "stderr",
     "output_type": "stream",
     "text": [
      "\u001b[1m\u001b[22m`summarise()` has grouped output by 'id'. You can override using the `.groups` argument.\n",
      "start regression\n",
      "\n"
     ]
    },
    {
     "name": "stdout",
     "output_type": "stream",
     "text": [
      "Remove  0  genes having low expression.\n",
      "Analyzing  100  genes with  50  subjects and  18719  cells.\n"
     ]
    },
    {
     "name": "stderr",
     "output_type": "stream",
     "text": [
      "\u001b[1m\u001b[22m`summarise()` has grouped output by 'id'. You can override using the `.groups` argument.\n",
      "start regression\n",
      "\n"
     ]
    },
    {
     "name": "stdout",
     "output_type": "stream",
     "text": [
      "Remove  0  genes having low expression.\n",
      "Analyzing  100  genes with  50  subjects and  16428  cells.\n"
     ]
    },
    {
     "name": "stderr",
     "output_type": "stream",
     "text": [
      "\u001b[1m\u001b[22m`summarise()` has grouped output by 'id'. You can override using the `.groups` argument.\n",
      "start regression\n",
      "\n"
     ]
    },
    {
     "name": "stdout",
     "output_type": "stream",
     "text": [
      "Remove  0  genes having low expression.\n",
      "Analyzing  100  genes with  50  subjects and  19555  cells.\n"
     ]
    },
    {
     "name": "stderr",
     "output_type": "stream",
     "text": [
      "\u001b[1m\u001b[22m`summarise()` has grouped output by 'id'. You can override using the `.groups` argument.\n",
      "start regression\n",
      "\n"
     ]
    },
    {
     "name": "stdout",
     "output_type": "stream",
     "text": [
      "Remove  0  genes having low expression.\n",
      "Analyzing  100  genes with  50  subjects and  16097  cells.\n"
     ]
    },
    {
     "name": "stderr",
     "output_type": "stream",
     "text": [
      "\u001b[1m\u001b[22m`summarise()` has grouped output by 'id'. You can override using the `.groups` argument.\n",
      "start regression\n",
      "\n"
     ]
    },
    {
     "name": "stdout",
     "output_type": "stream",
     "text": [
      "Remove  0  genes having low expression.\n",
      "Analyzing  100  genes with  50  subjects and  19367  cells.\n"
     ]
    },
    {
     "name": "stderr",
     "output_type": "stream",
     "text": [
      "\u001b[1m\u001b[22m`summarise()` has grouped output by 'id'. You can override using the `.groups` argument.\n",
      "start regression\n",
      "\n"
     ]
    },
    {
     "name": "stdout",
     "output_type": "stream",
     "text": [
      "Remove  0  genes having low expression.\n",
      "Analyzing  100  genes with  50  subjects and  16316  cells.\n"
     ]
    },
    {
     "name": "stderr",
     "output_type": "stream",
     "text": [
      "\u001b[1m\u001b[22m`summarise()` has grouped output by 'id'. You can override using the `.groups` argument.\n",
      "start regression\n",
      "\n"
     ]
    },
    {
     "name": "stdout",
     "output_type": "stream",
     "text": [
      "Remove  0  genes having low expression.\n",
      "Analyzing  100  genes with  50  subjects and  15703  cells.\n"
     ]
    },
    {
     "name": "stderr",
     "output_type": "stream",
     "text": [
      "\u001b[1m\u001b[22m`summarise()` has grouped output by 'id'. You can override using the `.groups` argument.\n",
      "start regression\n",
      "\n"
     ]
    },
    {
     "name": "stdout",
     "output_type": "stream",
     "text": [
      "Remove  0  genes having low expression.\n",
      "Analyzing  100  genes with  50  subjects and  18866  cells.\n"
     ]
    },
    {
     "name": "stderr",
     "output_type": "stream",
     "text": [
      "\u001b[1m\u001b[22m`summarise()` has grouped output by 'id'. You can override using the `.groups` argument.\n",
      "start regression\n",
      "\n"
     ]
    },
    {
     "name": "stdout",
     "output_type": "stream",
     "text": [
      "Remove  0  genes having low expression.\n",
      "Analyzing  100  genes with  50  subjects and  18561  cells.\n"
     ]
    },
    {
     "name": "stderr",
     "output_type": "stream",
     "text": [
      "\u001b[1m\u001b[22m`summarise()` has grouped output by 'id'. You can override using the `.groups` argument.\n",
      "start regression\n",
      "\n"
     ]
    },
    {
     "name": "stdout",
     "output_type": "stream",
     "text": [
      "Remove  0  genes having low expression.\n",
      "Analyzing  100  genes with  50  subjects and  16011  cells.\n"
     ]
    },
    {
     "name": "stderr",
     "output_type": "stream",
     "text": [
      "\u001b[1m\u001b[22m`summarise()` has grouped output by 'id'. You can override using the `.groups` argument.\n",
      "start regression\n",
      "\n"
     ]
    },
    {
     "name": "stdout",
     "output_type": "stream",
     "text": [
      "Remove  0  genes having low expression.\n",
      "Analyzing  100  genes with  50  subjects and  19976  cells.\n"
     ]
    },
    {
     "name": "stderr",
     "output_type": "stream",
     "text": [
      "\u001b[1m\u001b[22m`summarise()` has grouped output by 'id'. You can override using the `.groups` argument.\n",
      "start regression\n",
      "\n"
     ]
    },
    {
     "name": "stdout",
     "output_type": "stream",
     "text": [
      "Remove  0  genes having low expression.\n",
      "Analyzing  100  genes with  50  subjects and  17010  cells.\n"
     ]
    },
    {
     "name": "stderr",
     "output_type": "stream",
     "text": [
      "\u001b[1m\u001b[22m`summarise()` has grouped output by 'id'. You can override using the `.groups` argument.\n",
      "start regression\n",
      "\n"
     ]
    },
    {
     "name": "stdout",
     "output_type": "stream",
     "text": [
      "Remove  0  genes having low expression.\n",
      "Analyzing  100  genes with  50  subjects and  17150  cells.\n"
     ]
    },
    {
     "data": {
      "text/plain": [
       "Time difference of 1.032396 hours"
      ]
     },
     "metadata": {},
     "output_type": "display_data"
    }
   ],
   "source": [
    "author <- 'reichart'\n",
    "n.sample <- 50\n",
    "exp.cut <- 0.5\n",
    "n.gene <- 100\n",
    "n.sim <- 10\n",
    "samp.prob <- 0.5\n",
    "is.pb <- FALSE\n",
    "t1 <- Sys.time()\n",
    "for (int.ct in 1:length(ct.used)){ #\n",
    "    # select celltype\n",
    "    cell.type <- ct.used[[int.ct]]\n",
    "    bool.ct <- col.data.used$cell_type == cell.type\n",
    "    col.data.ct <- col.data.used[bool.ct,]\n",
    "\n",
    "    # select genes with sufficient mean (nblmm doesn't work for small mean)\n",
    "    cnt.ct <- cnt.used[,bool.ct]\n",
    "    cnt.ct.bm <- cnt.ct[rowMeans2(cnt.ct) > 0.1,]\n",
    "    cnt.ct.bm <- cnt.ct.bm[sample(1:nrow(cnt.ct.bm), n.gene),]\n",
    "    \n",
    "    # boolean index of cells\n",
    "    bool.cell.donor <- lapply(\n",
    "        unique(col.data.ct$donor_id),\n",
    "        function(id.donor){\n",
    "            return(col.data.ct$donor_id == id.donor)\n",
    "            }\n",
    "        )\n",
    "    col.data.donor <- lapply(\n",
    "        bool.cell.donor,\n",
    "        function(bool.donor){\n",
    "            return(col.data.ct[bool.donor,])\n",
    "            }\n",
    "        )\n",
    "    cnt.donor <- lapply(\n",
    "        bool.cell.donor,\n",
    "        function(bool.donor){\n",
    "            return(cnt.ct.bm[,bool.donor])\n",
    "            }\n",
    "        )\n",
    "\n",
    "    list.result.null <- list()\n",
    "    list.result.pow <- list()\n",
    "    for (i.iter in 1:n.sim){\n",
    "        \n",
    "        # sample individuals\n",
    "        ind.select <- sample.int(\n",
    "            n=length(unique(col.data.ct$donor_id)), \n",
    "            size=n.sample,\n",
    "            replace=TRUE\n",
    "            )\n",
    "    \n",
    "        # construct col.data & cnt matrix\n",
    "        col.data.select <- data.table::rbindlist(col.data.donor[ind.select], idcol=\"id\")\n",
    "        cnt.select <- do.call(cbind, cnt.donor[ind.select])\n",
    "        colnames(cnt.select) <- rownames(col.data.select)\n",
    "                   \n",
    "        # select cells randomly\n",
    "        n.per.donor <- col.data.select %>% group_by(id, donor_id) %>% summarise(n=n()) %>% pull(n)\n",
    "        cell.select <- as.logical(unlist(sapply(n.per.donor, rbinom, size=1, p=samp.prob)))\n",
    "        col.data.select <- col.data.select[cell.select,]\n",
    "        cnt.select <- cnt.select[,cell.select]\n",
    "\n",
    "        # assign treatment\n",
    "        col.data.select$tx_cell <- rbinom(n=nrow(col.data.select), size=1, p=0.5)\n",
    "        if (is.pb){ \n",
    "            # assign treatment label\n",
    "            n.tx <- as.integer(n.sample/2)\n",
    "            urn <- c(rep(1,n.tx), rep(0,n.sample-n.tx))\n",
    "            tx.ind <- sample(x=urn, size=n.sample, replace=FALSE)\n",
    "        \n",
    "            # assign tx to cells\n",
    "            cell.per.ind <- col.data.select %>%\n",
    "                group_by(id) %>%\n",
    "                summarise(n=n())\n",
    "            col.data.select$tx_cell <- rep(tx.ind, times=cell.per.ind$n)\n",
    "        }\n",
    "    \n",
    "        # for power simulation, cut expression to half (+ force int)\n",
    "        idx.de <- 1:5\n",
    "        idx.tx <- which(col.data.select$tx_cell == 1)\n",
    "        downCells(cnt.select, idx.de, idx.tx, exp.cut)\n",
    "        cnt.select.t <- t(cnt.select)\n",
    "        \n",
    "        # run tests\n",
    "        message('start regression')\n",
    "        list.formula <- list(\n",
    "            as.formula('~tx_cell'),\n",
    "            as.formula('~tx_cell'),\n",
    "            as.formula('~tx_cell'),\n",
    "            as.formula('~tx_cell'),\n",
    "            as.formula(ifelse(is.pb, 'y~tx_cell', 'y~tx_cell | id')),\n",
    "            as.formula('~tx_cell')\n",
    "            )\n",
    "        list.data <- list(\n",
    "            cnt.select,\n",
    "            cnt.select,\n",
    "            cnt.select,\n",
    "            cnt.select,\n",
    "            cnt.select.t,\n",
    "            cnt.select\n",
    "            )\n",
    "        list.result.method <- list()\n",
    "        for (int.test in 1:length(list.func)){\n",
    "            list.result.method[[int.test]] <- list.func[[int.test]](\n",
    "                list.formula[[int.test]],\n",
    "                list.data[[int.test]],\n",
    "                col.data.select\n",
    "                )[,4] \n",
    "            }\n",
    "        df.result <- do.call(rbind, list.result.method)\n",
    "        rownames(df.result) <- c('glmGamPoi (Pb)', 'edgeR (Pb)', 'limma (Pb)', 'glmGamPoi (cell)', 'robust GLM (cell)', 'NB GLMM')\n",
    "        list.result.null[[i.iter]] <- t(df.result)[6:n.gene,]\n",
    "        list.result.pow[[i.iter]] <- t(df.result)[1:5,]\n",
    "        }\n",
    "\n",
    "    \n",
    "    \n",
    "    # results\n",
    "    df.null <- do.call(rbind, list.result.null)\n",
    "    df.pow <- do.call(rbind, list.result.pow)\n",
    "    \n",
    "    # save name\n",
    "    path.tail <- paste(author,'n',n.sample,'ct',int.ct,'fc',exp.cut,'csv',sep='.')\n",
    "    path.pow.head <- ifelse(is.pb, 'pow_subject/', 'pow_cell/')\n",
    "    path.null.head <- ifelse(is.pb, 'null_subject/', 'null_cell/')\n",
    "    \n",
    "    write.csv(df.null, paste0(path.null.head, path.tail))\n",
    "    write.csv(df.pow, paste0(path.pow.head, path.tail))\n",
    "    \n",
    "    }\n",
    "t2 <- Sys.time()\n",
    "t2-t1"
   ]
  },
  {
   "cell_type": "code",
   "execution_count": null,
   "id": "322419f3-219f-4d79-84f8-6cdeb91892dd",
   "metadata": {},
   "outputs": [
    {
     "name": "stderr",
     "output_type": "stream",
     "text": [
      "\u001b[1m\u001b[22m`summarise()` has grouped output by 'id'. You can override using the `.groups` argument.\n",
      "start regression\n",
      "\n"
     ]
    },
    {
     "name": "stdout",
     "output_type": "stream",
     "text": [
      "Remove  0  genes having low expression.\n",
      "Analyzing  100  genes with  50  subjects and  101631  cells.\n"
     ]
    },
    {
     "name": "stderr",
     "output_type": "stream",
     "text": [
      "\u001b[1m\u001b[22m`summarise()` has grouped output by 'id'. You can override using the `.groups` argument.\n",
      "start regression\n",
      "\n"
     ]
    },
    {
     "name": "stdout",
     "output_type": "stream",
     "text": [
      "Remove  0  genes having low expression.\n",
      "Analyzing  100  genes with  50  subjects and  91073  cells.\n"
     ]
    },
    {
     "name": "stderr",
     "output_type": "stream",
     "text": [
      "\u001b[1m\u001b[22m`summarise()` has grouped output by 'id'. You can override using the `.groups` argument.\n",
      "start regression\n",
      "\n"
     ]
    }
   ],
   "source": [
    "author <- 'reichart'\n",
    "n.sample <- 50\n",
    "exp.cut <- 0.5\n",
    "n.gene <- 100\n",
    "n.sim <- 10\n",
    "samp.prob <- 0.5\n",
    "is.pb <- TRUE\n",
    "t1 <- Sys.time()\n",
    "for (int.ct in 1:length(ct.used)){ #\n",
    "    # select celltype\n",
    "    cell.type <- ct.used[[int.ct]]\n",
    "    bool.ct <- col.data.used$cell_type == cell.type\n",
    "    col.data.ct <- col.data.used[bool.ct,]\n",
    "\n",
    "    # select genes with sufficient mean (nblmm doesn't work for small mean)\n",
    "    cnt.ct <- cnt.used[,bool.ct]\n",
    "    cnt.ct.bm <- cnt.ct[rowMeans2(cnt.ct) > 0.1,]\n",
    "    cnt.ct.bm <- cnt.ct.bm[sample(1:nrow(cnt.ct.bm), n.gene),]\n",
    "    \n",
    "    # boolean index of cells\n",
    "    bool.cell.donor <- lapply(\n",
    "        unique(col.data.ct$donor_id),\n",
    "        function(id.donor){\n",
    "            return(col.data.ct$donor_id == id.donor)\n",
    "            }\n",
    "        )\n",
    "    col.data.donor <- lapply(\n",
    "        bool.cell.donor,\n",
    "        function(bool.donor){\n",
    "            return(col.data.ct[bool.donor,])\n",
    "            }\n",
    "        )\n",
    "    cnt.donor <- lapply(\n",
    "        bool.cell.donor,\n",
    "        function(bool.donor){\n",
    "            return(cnt.ct.bm[,bool.donor])\n",
    "            }\n",
    "        )\n",
    "\n",
    "    list.result.null <- list()\n",
    "    list.result.pow <- list()\n",
    "    for (i.iter in 1:n.sim){\n",
    "        \n",
    "        # sample individuals\n",
    "        ind.select <- sample.int(\n",
    "            n=length(unique(col.data.ct$donor_id)), \n",
    "            size=n.sample,\n",
    "            replace=TRUE\n",
    "            )\n",
    "    \n",
    "        # construct col.data & cnt matrix\n",
    "        col.data.select <- data.table::rbindlist(col.data.donor[ind.select], idcol=\"id\")\n",
    "        cnt.select <- do.call(cbind, cnt.donor[ind.select])\n",
    "        colnames(cnt.select) <- rownames(col.data.select)\n",
    "                   \n",
    "        # select cells randomly\n",
    "        n.per.donor <- col.data.select %>% group_by(id, donor_id) %>% summarise(n=n()) %>% pull(n)\n",
    "        cell.select <- as.logical(unlist(sapply(n.per.donor, rbinom, size=1, p=samp.prob)))\n",
    "        col.data.select <- col.data.select[cell.select,]\n",
    "        cnt.select <- cnt.select[,cell.select]\n",
    "\n",
    "        # assign treatment\n",
    "        col.data.select$tx_cell <- rbinom(n=nrow(col.data.select), size=1, p=0.5)\n",
    "        if (is.pb){ \n",
    "            # assign treatment label\n",
    "            n.tx <- as.integer(n.sample/2)\n",
    "            urn <- c(rep(1,n.tx), rep(0,n.sample-n.tx))\n",
    "            tx.ind <- sample(x=urn, size=n.sample, replace=FALSE)\n",
    "        \n",
    "            # assign tx to cells\n",
    "            cell.per.ind <- col.data.select %>%\n",
    "                group_by(id) %>%\n",
    "                summarise(n=n())\n",
    "            col.data.select$tx_cell <- rep(tx.ind, times=cell.per.ind$n)\n",
    "        }\n",
    "    \n",
    "        # for power simulation, cut expression to half (+ force int)\n",
    "        idx.de <- 1:5\n",
    "        idx.tx <- which(col.data.select$tx_cell == 1)\n",
    "        downCells(cnt.select, idx.de, idx.tx, exp.cut)\n",
    "        cnt.select.t <- t(cnt.select)\n",
    "        \n",
    "        # run tests\n",
    "        message('start regression')\n",
    "        list.formula <- list(\n",
    "            as.formula('~tx_cell'),\n",
    "            as.formula('~tx_cell'),\n",
    "            as.formula('~tx_cell'),\n",
    "            as.formula('~tx_cell'),\n",
    "            as.formula(ifelse(is.pb, 'y~tx_cell', 'y~tx_cell | id')),\n",
    "            as.formula('~tx_cell')\n",
    "            )\n",
    "        list.data <- list(\n",
    "            cnt.select,\n",
    "            cnt.select,\n",
    "            cnt.select,\n",
    "            cnt.select,\n",
    "            cnt.select.t,\n",
    "            cnt.select\n",
    "            )\n",
    "        list.result.method <- list()\n",
    "        for (int.test in 1:length(list.func)){\n",
    "            list.result.method[[int.test]] <- list.func[[int.test]](\n",
    "                list.formula[[int.test]],\n",
    "                list.data[[int.test]],\n",
    "                col.data.select\n",
    "                )[,4] \n",
    "            }\n",
    "        df.result <- do.call(rbind, list.result.method)\n",
    "        rownames(df.result) <- c('glmGamPoi (Pb)', 'edgeR (Pb)', 'limma (Pb)', 'glmGamPoi (cell)', 'robust GLM (cell)', 'NB GLMM')\n",
    "        list.result.null[[i.iter]] <- t(df.result)[6:n.gene,]\n",
    "        list.result.pow[[i.iter]] <- t(df.result)[1:5,]\n",
    "        }\n",
    "\n",
    "    \n",
    "    \n",
    "    # results\n",
    "    df.null <- do.call(rbind, list.result.null)\n",
    "    df.pow <- do.call(rbind, list.result.pow)\n",
    "    \n",
    "    # save name\n",
    "    path.tail <- paste(author,'n',n.sample,'ct',int.ct,'fc',exp.cut,'csv',sep='.')\n",
    "    path.pow.head <- ifelse(is.pb, 'pow_subject/', 'pow_cell/')\n",
    "    path.null.head <- ifelse(is.pb, 'null_subject/', 'null_cell/')\n",
    "    \n",
    "    write.csv(df.null, paste0(path.null.head, path.tail))\n",
    "    write.csv(df.pow, paste0(path.pow.head, path.tail))\n",
    "    \n",
    "    }\n",
    "t2 <- Sys.time()\n",
    "t2-t1"
   ]
  }
 ],
 "metadata": {
  "kernelspec": {
   "display_name": "R",
   "language": "R",
   "name": "ir"
  },
  "language_info": {
   "codemirror_mode": "r",
   "file_extension": ".r",
   "mimetype": "text/x-r-source",
   "name": "R",
   "pygments_lexer": "r",
   "version": "4.3.1"
  }
 },
 "nbformat": 4,
 "nbformat_minor": 5
}
