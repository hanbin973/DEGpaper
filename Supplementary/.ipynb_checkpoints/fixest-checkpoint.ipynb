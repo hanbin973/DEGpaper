{
 "cells": [
  {
   "cell_type": "markdown",
   "id": "bc01394d",
   "metadata": {},
   "source": [
    "## How to use fixest for DEG\n",
    "\n",
    "This notebook provides the use of `fixest` for single-cell DEG."
   ]
  },
  {
   "cell_type": "code",
   "execution_count": 5,
   "id": "df320ff7",
   "metadata": {},
   "outputs": [
    {
     "name": "stderr",
     "output_type": "stream",
     "text": [
      "Attaching SeuratObject\n",
      "\n"
     ]
    }
   ],
   "source": [
    "library(fixest)\n",
    "library(Matrix)\n",
    "library(Seurat)"
   ]
  },
  {
   "cell_type": "markdown",
   "id": "0be31e9e",
   "metadata": {},
   "source": [
    "### Load data\n",
    "We use the Seurat object for analysis in python.\n",
    "The `obj@meta.data` contains the observation (cell) information."
   ]
  },
  {
   "cell_type": "code",
   "execution_count": 7,
   "id": "cde976c6",
   "metadata": {},
   "outputs": [
    {
     "ename": "ERROR",
     "evalue": "Error: 'ReadH5AD' is not an exported object from 'namespace:Seurat'\n",
     "output_type": "error",
     "traceback": [
      "Error: 'ReadH5AD' is not an exported object from 'namespace:Seurat'\nTraceback:\n"
     ]
    }
   ],
   "source": [
    "obj <- Seurat::ReadH5AD(file = \"../data/Kang.h5ad\")\n",
    "head(obj@meta.data)"
   ]
  }
 ],
 "metadata": {
  "kernelspec": {
   "display_name": "R",
   "language": "R",
   "name": "ir"
  },
  "language_info": {
   "codemirror_mode": "r",
   "file_extension": ".r",
   "mimetype": "text/x-r-source",
   "name": "R",
   "pygments_lexer": "r",
   "version": "4.2.2"
  }
 },
 "nbformat": 4,
 "nbformat_minor": 5
}
