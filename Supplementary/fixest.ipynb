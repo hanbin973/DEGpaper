{
 "cells": [
  {
   "cell_type": "markdown",
   "id": "b5c76dcf",
   "metadata": {},
   "source": [
    "## How to use fixest for DEG\n",
    "\n",
    "This notebook provides the use of `fixest` for single-cell DEG."
   ]
  },
  {
   "cell_type": "code",
   "execution_count": 5,
   "id": "09885b9b",
   "metadata": {},
   "outputs": [
    {
     "name": "stderr",
     "output_type": "stream",
     "text": [
      "Attaching SeuratObject\n",
      "\n"
     ]
    }
   ],
   "source": [
    "library(fixest)\n",
    "library(Matrix)\n",
    "library(Seurat)"
   ]
  },
  {
   "cell_type": "markdown",
   "id": "182a95d8",
   "metadata": {},
   "source": [
    "### Load data\n",
    "We use the Seurat object for analysis in python.\n",
    "The `obj@meta.data` contains the observation (cell) information."
   ]
  },
  {
   "cell_type": "code",
   "execution_count": 9,
   "id": "54651166",
   "metadata": {},
   "outputs": [
    {
     "ename": "ERROR",
     "evalue": "Error in LoadH5AD(file = \"../data/Kang.h5ad\"): could not find function \"LoadH5AD\"\n",
     "output_type": "error",
     "traceback": [
      "Error in LoadH5AD(file = \"../data/Kang.h5ad\"): could not find function \"LoadH5AD\"\nTraceback:\n"
     ]
    }
   ],
   "source": [
    "obj <- LoadH5AD(file = \"../data/Kang.h5ad\")\n",
    "head(obj@meta.data)"
   ]
  }
 ],
 "metadata": {
  "kernelspec": {
   "display_name": "R",
   "language": "R",
   "name": "ir"
  },
  "language_info": {
   "codemirror_mode": "r",
   "file_extension": ".r",
   "mimetype": "text/x-r-source",
   "name": "R",
   "pygments_lexer": "r",
   "version": "4.2.2"
  }
 },
 "nbformat": 4,
 "nbformat_minor": 5
}
