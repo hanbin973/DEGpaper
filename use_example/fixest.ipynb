{
 "cells": [
  {
   "cell_type": "markdown",
   "id": "93b92820",
   "metadata": {},
   "source": [
    "## How to use fixest for DEG\n",
    "\n",
    "This notebook provides the use of `fixest` for single-cell DEG."
   ]
  },
  {
   "cell_type": "code",
   "execution_count": 1,
   "id": "adba0fa7",
   "metadata": {},
   "outputs": [],
   "source": [
    "# load libraries\n",
    "import numpy as np\n",
    "import pandas as pd\n",
    "import scipy.sparse as sparse\n",
    "\n",
    "import matplotlib.pyplot as plt\n",
    "import scanpy as sc\n",
    "import statsmodels.api as sm\n",
    "\n",
    "import anndata2ri\n",
    "import rpy2.rinterface_lib.callbacks\n",
    "from rpy2.robjects import pandas2ri\n",
    "from rpy2.robjects import r\n",
    "\n",
    "pandas2ri.activate()\n",
    "anndata2ri.activate()\n",
    "\n",
    "%load_ext rpy2.ipython"
   ]
  },
  {
   "cell_type": "code",
   "execution_count": 2,
   "id": "28925f0b",
   "metadata": {},
   "outputs": [],
   "source": [
    "%%R\n",
    "# Load R packages\n",
    "library(Matrix)\n",
    "library(fixest)"
   ]
  },
  {
   "cell_type": "markdown",
   "id": "704166a0",
   "metadata": {},
   "source": [
    "### Load data\n",
    "We use the scanpy anndata format for analysis in python.\n",
    "The `adata.obs` contains the observation (cell) information."
   ]
  },
  {
   "cell_type": "code",
   "execution_count": 3,
   "id": "d3344810",
   "metadata": {},
   "outputs": [
    {
     "data": {
      "text/html": [
       "<div>\n",
       "<style scoped>\n",
       "    .dataframe tbody tr th:only-of-type {\n",
       "        vertical-align: middle;\n",
       "    }\n",
       "\n",
       "    .dataframe tbody tr th {\n",
       "        vertical-align: top;\n",
       "    }\n",
       "\n",
       "    .dataframe thead th {\n",
       "        text-align: right;\n",
       "    }\n",
       "</style>\n",
       "<table border=\"1\" class=\"dataframe\">\n",
       "  <thead>\n",
       "    <tr style=\"text-align: right;\">\n",
       "      <th></th>\n",
       "      <th>n_genes</th>\n",
       "      <th>n_counts</th>\n",
       "      <th>orig_ident</th>\n",
       "      <th>stim</th>\n",
       "      <th>cluster</th>\n",
       "      <th>Donor</th>\n",
       "    </tr>\n",
       "    <tr>\n",
       "      <th>index</th>\n",
       "      <th></th>\n",
       "      <th></th>\n",
       "      <th></th>\n",
       "      <th></th>\n",
       "      <th></th>\n",
       "      <th></th>\n",
       "    </tr>\n",
       "  </thead>\n",
       "  <tbody>\n",
       "    <tr>\n",
       "      <th>CTRL_AAACATACATTTCC.1</th>\n",
       "      <td>878.0</td>\n",
       "      <td>3018.0</td>\n",
       "      <td>CTRL</td>\n",
       "      <td>CTRL</td>\n",
       "      <td>CD14 Mono</td>\n",
       "      <td>SNG-1016</td>\n",
       "    </tr>\n",
       "    <tr>\n",
       "      <th>CTRL_AAACATACCAGAAA.1</th>\n",
       "      <td>713.0</td>\n",
       "      <td>2481.0</td>\n",
       "      <td>CTRL</td>\n",
       "      <td>CTRL</td>\n",
       "      <td>CD14 Mono</td>\n",
       "      <td>SNG-1256</td>\n",
       "    </tr>\n",
       "    <tr>\n",
       "      <th>CTRL_AAACATACCTCGCT.1</th>\n",
       "      <td>850.0</td>\n",
       "      <td>3420.0</td>\n",
       "      <td>CTRL</td>\n",
       "      <td>CTRL</td>\n",
       "      <td>CD14 Mono</td>\n",
       "      <td>SNG-1256</td>\n",
       "    </tr>\n",
       "    <tr>\n",
       "      <th>CTRL_AAACATACGGCATT.1</th>\n",
       "      <td>558.0</td>\n",
       "      <td>1582.0</td>\n",
       "      <td>CTRL</td>\n",
       "      <td>CTRL</td>\n",
       "      <td>CD14 Mono</td>\n",
       "      <td>SNG-1015</td>\n",
       "    </tr>\n",
       "    <tr>\n",
       "      <th>CTRL_AAACATTGCTTCGC.1</th>\n",
       "      <td>669.0</td>\n",
       "      <td>2536.0</td>\n",
       "      <td>CTRL</td>\n",
       "      <td>CTRL</td>\n",
       "      <td>CD14 Mono</td>\n",
       "      <td>SNG-1256</td>\n",
       "    </tr>\n",
       "    <tr>\n",
       "      <th>...</th>\n",
       "      <td>...</td>\n",
       "      <td>...</td>\n",
       "      <td>...</td>\n",
       "      <td>...</td>\n",
       "      <td>...</td>\n",
       "      <td>...</td>\n",
       "    </tr>\n",
       "    <tr>\n",
       "      <th>STIM_TCCCGAACTTCGTT.1</th>\n",
       "      <td>702.0</td>\n",
       "      <td>4222.0</td>\n",
       "      <td>STIM</td>\n",
       "      <td>STIM</td>\n",
       "      <td>Eryth</td>\n",
       "      <td>SNG-1015</td>\n",
       "    </tr>\n",
       "    <tr>\n",
       "      <th>STIM_TCGGACCTATCAGC.1</th>\n",
       "      <td>502.0</td>\n",
       "      <td>2050.0</td>\n",
       "      <td>STIM</td>\n",
       "      <td>STIM</td>\n",
       "      <td>Eryth</td>\n",
       "      <td>SNG-101</td>\n",
       "    </tr>\n",
       "    <tr>\n",
       "      <th>STIM_TGACGCCTCTTGTT.1</th>\n",
       "      <td>899.0</td>\n",
       "      <td>7168.0</td>\n",
       "      <td>STIM</td>\n",
       "      <td>STIM</td>\n",
       "      <td>Eryth</td>\n",
       "      <td>SNG-1015</td>\n",
       "    </tr>\n",
       "    <tr>\n",
       "      <th>STIM_TGGTCAGACAAGCT.1</th>\n",
       "      <td>550.0</td>\n",
       "      <td>4225.0</td>\n",
       "      <td>STIM</td>\n",
       "      <td>STIM</td>\n",
       "      <td>Eryth</td>\n",
       "      <td>SNG-1039</td>\n",
       "    </tr>\n",
       "    <tr>\n",
       "      <th>STIM_TGTGAGTGTCTTAC.1</th>\n",
       "      <td>607.0</td>\n",
       "      <td>2804.0</td>\n",
       "      <td>STIM</td>\n",
       "      <td>STIM</td>\n",
       "      <td>Eryth</td>\n",
       "      <td>SNG-1256</td>\n",
       "    </tr>\n",
       "  </tbody>\n",
       "</table>\n",
       "<p>13836 rows × 6 columns</p>\n",
       "</div>"
      ],
      "text/plain": [
       "                       n_genes  n_counts orig_ident  stim    cluster     Donor\n",
       "index                                                                         \n",
       "CTRL_AAACATACATTTCC.1    878.0    3018.0       CTRL  CTRL  CD14 Mono  SNG-1016\n",
       "CTRL_AAACATACCAGAAA.1    713.0    2481.0       CTRL  CTRL  CD14 Mono  SNG-1256\n",
       "CTRL_AAACATACCTCGCT.1    850.0    3420.0       CTRL  CTRL  CD14 Mono  SNG-1256\n",
       "CTRL_AAACATACGGCATT.1    558.0    1582.0       CTRL  CTRL  CD14 Mono  SNG-1015\n",
       "CTRL_AAACATTGCTTCGC.1    669.0    2536.0       CTRL  CTRL  CD14 Mono  SNG-1256\n",
       "...                        ...       ...        ...   ...        ...       ...\n",
       "STIM_TCCCGAACTTCGTT.1    702.0    4222.0       STIM  STIM      Eryth  SNG-1015\n",
       "STIM_TCGGACCTATCAGC.1    502.0    2050.0       STIM  STIM      Eryth   SNG-101\n",
       "STIM_TGACGCCTCTTGTT.1    899.0    7168.0       STIM  STIM      Eryth  SNG-1015\n",
       "STIM_TGGTCAGACAAGCT.1    550.0    4225.0       STIM  STIM      Eryth  SNG-1039\n",
       "STIM_TGTGAGTGTCTTAC.1    607.0    2804.0       STIM  STIM      Eryth  SNG-1256\n",
       "\n",
       "[13836 rows x 6 columns]"
      ]
     },
     "execution_count": 3,
     "metadata": {},
     "output_type": "execute_result"
    }
   ],
   "source": [
    "adata = sc.read_h5ad('../data/Kang.h5ad')\n",
    "adata.obs"
   ]
  },
  {
   "cell_type": "markdown",
   "id": "cd03ac75",
   "metadata": {},
   "source": [
    "### Subset count data\n",
    "`adata.raw.X` stores a cell-by-gene UMI count matrix in a scipy `CSR` (comprssed sparse row) sparse matrix format."
   ]
  },
  {
   "cell_type": "code",
   "execution_count": 4,
   "id": "101c3485",
   "metadata": {},
   "outputs": [
    {
     "data": {
      "text/plain": [
       "<13836x14053 sparse matrix of type '<class 'numpy.float64'>'\n",
       "\twith 9655137 stored elements in Compressed Sparse Row format>"
      ]
     },
     "execution_count": 4,
     "metadata": {},
     "output_type": "execute_result"
    }
   ],
   "source": [
    "adata.raw.X"
   ]
  },
  {
   "cell_type": "markdown",
   "id": "b94b6284",
   "metadata": {},
   "source": [
    "We only want genes that have sufficiently large number of expression for replicable results.\n",
    "In our paper, we used the threshold of at least 10 counts."
   ]
  },
  {
   "cell_type": "code",
   "execution_count": 5,
   "id": "fedf28c2",
   "metadata": {},
   "outputs": [
    {
     "data": {
      "text/plain": [
       "<13836x12503 sparse matrix of type '<class 'numpy.float64'>'\n",
       "\twith 9646602 stored elements in Compressed Sparse Row format>"
      ]
     },
     "execution_count": 5,
     "metadata": {},
     "output_type": "execute_result"
    }
   ],
   "source": [
    "gene_idx_threshold = np.asarray(np.sum(adata.raw.X, axis=0) > 10).ravel()\n",
    "matrix_count = adata.raw.X[:, gene_idx_threshold]\n",
    "matrix_count"
   ]
  },
  {
   "cell_type": "markdown",
   "id": "0ad5c742",
   "metadata": {},
   "source": [
    "Approximately `2000` genes were filtered out."
   ]
  },
  {
   "cell_type": "markdown",
   "id": "7861267e",
   "metadata": {},
   "source": [
    "### Create design matrix\n",
    "The design matrix is the explanatory variable for the regression.\n",
    "For example, the first column contain only `1` as intercept and the second column contains treatment labels (`0` or `1`).\n",
    "The treatment labels can be obtained from the `adata.obs` object stored in the `stim` column."
   ]
  },
  {
   "cell_type": "code",
   "execution_count": 6,
   "id": "537dacf9",
   "metadata": {},
   "outputs": [
    {
     "data": {
      "text/plain": [
       "array([[1., 0.],\n",
       "       [1., 0.],\n",
       "       [1., 0.],\n",
       "       ...,\n",
       "       [1., 1.],\n",
       "       [1., 1.],\n",
       "       [1., 1.]])"
      ]
     },
     "execution_count": 6,
     "metadata": {},
     "output_type": "execute_result"
    }
   ],
   "source": [
    "matrix_design = sm.add_constant(\n",
    "    pd.get_dummies(\n",
    "        adata.obs['stim'], \n",
    "        drop_first=True\n",
    "    )\n",
    ").values\n",
    "matrix_design"
   ]
  },
  {
   "cell_type": "markdown",
   "id": "303b24a3",
   "metadata": {},
   "source": [
    "### Get size factor\n",
    "One advantage of cell-level statistics is that it can adjust cell size factors.\n",
    "Size factor represents the total expression level of a cell.\n",
    "There are many methods for size factor inference but we use the sum of all expressions."
   ]
  },
  {
   "cell_type": "code",
   "execution_count": 7,
   "id": "7c64fd61",
   "metadata": {},
   "outputs": [
    {
     "data": {
      "text/plain": [
       "array([3017., 2481., 3420., ..., 7168., 4225., 2804.])"
      ]
     },
     "execution_count": 7,
     "metadata": {},
     "output_type": "execute_result"
    }
   ],
   "source": [
    "cell_sizefactor = np.asarray(np.sum(adata.raw.X, axis=1)).ravel()\n",
    "cell_sizefactor"
   ]
  },
  {
   "cell_type": "markdown",
   "id": "4b84e676",
   "metadata": {},
   "source": [
    "### Convert count matrix to CSC (compressed sparse column) format\n",
    "In DEG analysis, we run regression per gene.\n",
    "In other words, each gene is subsetted from the UMI count matrix each time.\n",
    "Hence, we perform column(gene)-wise indexing on the sparse matrix.\n",
    "\n",
    "However, CSR matrix saves the data row(cell)-wise so column indexing becomes extremely slow.\n",
    "To avoid this complication, we convert the count matrix to the CSC (compressed sparse column) format for efficient indexing.\n",
    "As a illustration we plot the time required for gene-wise indexing in both CSR and CSC matrix."
   ]
  },
  {
   "cell_type": "code",
   "execution_count": 8,
   "id": "f250c219",
   "metadata": {},
   "outputs": [
    {
     "name": "stdout",
     "output_type": "stream",
     "text": [
      "50.8 ms ± 4.38 ms per loop (mean ± std. dev. of 7 runs, 10 loops each)\n"
     ]
    }
   ],
   "source": [
    "%%timeit \n",
    "matrix_count[:,0]"
   ]
  },
  {
   "cell_type": "code",
   "execution_count": 9,
   "id": "8b0cc943",
   "metadata": {},
   "outputs": [
    {
     "data": {
      "text/plain": [
       "<13836x12503 sparse matrix of type '<class 'numpy.float64'>'\n",
       "\twith 9646602 stored elements in Compressed Sparse Column format>"
      ]
     },
     "execution_count": 9,
     "metadata": {},
     "output_type": "execute_result"
    }
   ],
   "source": [
    "matrix_count = matrix_count.tocsc()\n",
    "matrix_count"
   ]
  },
  {
   "cell_type": "code",
   "execution_count": 10,
   "id": "5e6887ab",
   "metadata": {},
   "outputs": [
    {
     "name": "stdout",
     "output_type": "stream",
     "text": [
      "72.3 µs ± 3.5 µs per loop (mean ± std. dev. of 7 runs, 10,000 loops each)\n"
     ]
    }
   ],
   "source": [
    "%%timeit \n",
    "matrix_count[:,0]"
   ]
  },
  {
   "cell_type": "markdown",
   "id": "f4bc6bbe",
   "metadata": {},
   "source": [
    "Gene-wise indexing in CSC format is approximately 1000 times faster than in CSR format.\n",
    "Although this difference might be negligible wtih few genes, the difference is huge with dozens of thousands of genes.\n"
   ]
  },
  {
   "cell_type": "markdown",
   "id": "43258320",
   "metadata": {},
   "source": [
    "## DEG with fixest\n",
    "\n",
    "The following code iterates through the columns (genes) of the count matrix and stores the coefficient, standard error and the p-values for each iteration.\n",
    "\n",
    "The naive indexing of R `Matrix` sparse matrix is extremely slow.\n",
    "To mitigate the problem, we provide a custom indexing scheme for CSC format matrices (`dgCMatrix` in R)."
   ]
  },
  {
   "cell_type": "code",
   "execution_count": 22,
   "id": "b45eea6a",
   "metadata": {},
   "outputs": [
    {
     "name": "stdout",
     "output_type": "stream",
     "text": [
      "CPU times: user 2h 10min 48s, sys: 3min 43s, total: 2h 14min 31s\n",
      "Wall time: 5min 53s\n"
     ]
    }
   ],
   "source": [
    "%%time\n",
    "%%R -i matrix_count -i matrix_design -i cell_sizefactor -o gene_beta_rpr -o gene_p_rpr\n",
    "\n",
    "data <- matrix_count@x\n",
    "row_indices <- matrix_count@i # i,p both 0-base like base R\n",
    "indptr <- matrix_count@p\n",
    "\n",
    "gene_beta_rpr <- rep(0, ncol(matrix_count))\n",
    "gene_p_rpr <- rep(1, ncol(matrix_count))\n",
    "\n",
    "for (gene_idx_int in 1:ncol(matrix_count)){\n",
    "    # select gene from count matrix: manual indexing for speed\n",
    "    y <- rep(0, nrow(matrix_count))\n",
    "    y[row_indices[(indptr[gene_idx_int]+1):indptr[gene_idx_int+1]]+1] <- data[(indptr[gene_idx_int]+1):indptr[gene_idx_int+1]]\n",
    "    \n",
    "    # design matrix for fixest\n",
    "    df_matrix_design <- as.data.frame(matrix_design)\n",
    "    df <- cbind(y, df_matrix_design)\n",
    "    \n",
    "    # fixest fit\n",
    "    fit <- fepois(y ~ V2, data=df, vcov='hetero')\n",
    "    \n",
    "    gene_beta_rpr[gene_idx_int] <- coeftable(fit)[2,1]\n",
    "    gene_p_rpr[gene_idx_int] <- coeftable(fit)[2,4]   \n",
    "}"
   ]
  },
  {
   "cell_type": "markdown",
   "id": "6fe1126e",
   "metadata": {},
   "source": [
    "## Wrapper\n",
    "Since the above indexing is cumbersome for users, we provide a function that takes a `dgCMatrix` and a column index and returns the column vector."
   ]
  },
  {
   "cell_type": "code",
   "execution_count": 21,
   "id": "085fe604",
   "metadata": {},
   "outputs": [],
   "source": [
    "%%R\n",
    "getColVector <- function(sparseMatrix, colIdx){\n",
    "    data <- sparseMatrix@x\n",
    "    rowIndices <- sparseMatrix@i\n",
    "    indPtr <- sparseMatrix@p\n",
    "    \n",
    "    colVec <- rep(0, nrow(sparseMatrix))\n",
    "    colVec[rowIndices[(indPtr[colIdx]+1):indPtr[colIdx+1]]+1] <- data[(indPtr[colIdx]+1):indPtr[colIdx+1]]\n",
    "    \n",
    "    colVec\n",
    "}"
   ]
  },
  {
   "cell_type": "markdown",
   "id": "dc43e846",
   "metadata": {},
   "source": [
    "Now we visualize the result using a volcano plot."
   ]
  },
  {
   "cell_type": "code",
   "execution_count": 32,
   "id": "4439c85d",
   "metadata": {},
   "outputs": [
    {
     "name": "stderr",
     "output_type": "stream",
     "text": [
      "/tmp/ipykernel_161735/1024458705.py:7: RuntimeWarning: divide by zero encountered in log\n",
      "  ax.scatter(x=gene_beta_rpr, y=-np.log(gene_p_rpr), s=1)\n"
     ]
    },
    {
     "data": {
      "text/plain": [
       "<matplotlib.collections.PathCollection at 0x7fa9f5af8820>"
      ]
     },
     "execution_count": 32,
     "metadata": {},
     "output_type": "execute_result"
    },
    {
     "data": {
      "image/png": "[encoded data removed]",
      "text/plain": [
       "<Figure size 640x480 with 1 Axes>"
      ]
     },
     "metadata": {},
     "output_type": "display_data"
    }
   ],
   "source": [
    "# fill zero p-value to 1e-800\n",
    "gene_p_rpr[gene_p_rpr == 0] = 1e-800\n",
    "\n",
    "# create volcano plot\n",
    "fig, ax = plt.subplots()\n",
    "\n",
    "ax.scatter(x=gene_beta_rpr, y=-np.log(gene_p_rpr), s=1)"
   ]
  }
 ],
 "metadata": {
  "kernelspec": {
   "display_name": "Python 3 (ipykernel)",
   "language": "python",
   "name": "python3"
  },
  "language_info": {
   "codemirror_mode": {
    "name": "ipython",
    "version": 3
   },
   "file_extension": ".py",
   "mimetype": "text/x-python",
   "name": "python",
   "nbconvert_exporter": "python",
   "pygments_lexer": "ipython3",
   "version": "3.10.8"
  }
 },
 "nbformat": 4,
 "nbformat_minor": 5
}
